{
 "cells": [
  {
   "cell_type": "code",
   "execution_count": 1,
   "id": "915f2bbb-69ed-4e23-878c-0444d765bf35",
   "metadata": {},
   "outputs": [],
   "source": [
    "# Imports\n",
    "import os\n",
    "from dotenv import load_dotenv\n",
    "load_dotenv()\n",
    "from mnemonic import Mnemonic\n",
    "from bip44 import Wallet\n",
    "from web3 import Account"
   ]
  },
  {
   "cell_type": "code",
   "execution_count": 2,
   "id": "fd4c0e84-24fe-44cc-9b5e-01c42371e043",
   "metadata": {},
   "outputs": [
    {
     "data": {
      "text/plain": [
       "'drift snow alone direct aunt angry reject wrap limb label embark subject'"
      ]
     },
     "metadata": {},
     "output_type": "display_data"
    }
   ],
   "source": [
    "# Call os.getenv(\"MNEMONIC\") and save it's value as a variable named mnemonic\n",
    "mnemonic = os.getenv(\"MNEMONIC\")\n",
    "\n",
    "# Use an if-statement to check if the mnemonic variable is None\n",
    "if mnemonic is None:\n",
    "\n",
    "    # If the mnemonic variable is none, initialize a new instance of Mnemonic\n",
    "    # pass it a string value of english to use the english word list\n",
    "    # Save the instance as a variable named mnemo\n",
    "    mnemo = Mnemonic(\"english\")  \n",
    "    \n",
    "    # Call mnemo.generate(strength=256) and set it equal to the variable mnemonic \n",
    "    mnemonic = mnemo.generate(strength=256)\n",
    "    \n",
    "# Review the mnemonic seed phrase\n",
    "display(mnemonic)"
   ]
  },
  {
   "cell_type": "code",
   "execution_count": 3,
   "id": "d000a0a9-50eb-44c4-9496-f81828f62187",
   "metadata": {},
   "outputs": [
    {
     "data": {
      "text/plain": [
       "<bip44.wallet.Wallet at 0x7fe28da99cd0>"
      ]
     },
     "execution_count": 3,
     "metadata": {},
     "output_type": "execute_result"
    }
   ],
   "source": [
    "# Instantiate a new instance of Wallet and pass it the mnemonic variable\n",
    "wallet = Wallet(mnemonic)\n",
    "\n",
    "# Review your wallet instance\n",
    "wallet"
   ]
  },
  {
   "cell_type": "markdown",
   "id": "f5920359-b39f-4dd0-80d3-74829bf32335",
   "metadata": {},
   "source": [
    "---\n",
    "\n",
    "### Step 4: Derive public and private keys from your wallet instance. To do so, complete the following steps:\n",
    "* Create two variables, public and private, and set their values by calling the derive_account method on your wallet instance. In order to associate the account with Ethereum, pass the string “eth” to the derive_account method.\n",
    "\n",
    "* Create a new variable named account, and construct the Ethereum account by calling Account.privateKeyToAccount and passing it your private key variable.\n",
    "\n",
    "* Call account.address to access the address associated with your new Ethereum account. By using this address, other participants can send you ether on the Ethereum blockchain.\n",
    "---"
   ]
  },
  {
   "cell_type": "code",
   "execution_count": 4,
   "id": "b6e848ce-e1d1-4506-bdb4-610dd0bca412",
   "metadata": {},
   "outputs": [
    {
     "data": {
      "text/plain": [
       "b'\\xe6\\xf6\\xca\\xa2\\xf8\\xb4\\xeeh\\xe5\\x87\\xbc\\xae\\xc4\\xc3\\xd0&I\\xd46\\xee9\\xd9\\x9a\\xd8\\r\\x1b\\xf3\\xb2.\\x8a\\xcdJ'"
      ]
     },
     "execution_count": 4,
     "metadata": {},
     "output_type": "execute_result"
    }
   ],
   "source": [
    "# Calling the derive_account method on your wallet instance\n",
    "# Pass the string eth to the method\n",
    "private, public = wallet.derive_account(\"eth\")\n",
    "\n",
    "# Review the byte string of your private key\n",
    "private"
   ]
  },
  {
   "cell_type": "code",
   "execution_count": 5,
   "id": "859db35f-6ded-4907-a272-db0b66a57c66",
   "metadata": {},
   "outputs": [],
   "source": [
    "# Construct the Ethereum account by calling Account.privateKeyToAccount\n",
    "# Pass it your private key variable\n",
    "account = Account.privateKeyToAccount(private)"
   ]
  },
  {
   "cell_type": "code",
   "execution_count": 6,
   "id": "320cbc29-33d4-4bd3-9840-faaf46ca32b3",
   "metadata": {},
   "outputs": [
    {
     "data": {
      "text/plain": [
       "'0x169D455abC416D1E55d1dCA485D837097743d10f'"
      ]
     },
     "execution_count": 6,
     "metadata": {},
     "output_type": "execute_result"
    }
   ],
   "source": [
    "# Call account.address to access the address associated with your new Ethereum account\n",
    "account.address"
   ]
  },
  {
   "cell_type": "code",
   "execution_count": 7,
   "id": "a1723463-d2f2-4ab2-88b0-e62ca989f507",
   "metadata": {},
   "outputs": [
    {
     "data": {
      "text/plain": [
       "HexBytes('0xe6f6caa2f8b4ee68e587bcaec4c3d02649d436ee39d99ad80d1bf3b22e8acd4a')"
      ]
     },
     "execution_count": 7,
     "metadata": {},
     "output_type": "execute_result"
    }
   ],
   "source": [
    "# Call account.privateKey to access the private key associated with your new Ethereum account\n",
    "account.privateKey"
   ]
  },
  {
   "cell_type": "code",
   "execution_count": null,
   "id": "0b19def8-2aab-48fe-a24c-4d32b3d7aef2",
   "metadata": {},
   "outputs": [],
   "source": []
  }
 ],
 "metadata": {
  "kernelspec": {
   "display_name": "Python 3 (ipykernel)",
   "language": "python",
   "name": "python3"
  },
  "language_info": {
   "codemirror_mode": {
    "name": "ipython",
    "version": 3
   },
   "file_extension": ".py",
   "mimetype": "text/x-python",
   "name": "python",
   "nbconvert_exporter": "python",
   "pygments_lexer": "ipython3",
   "version": "3.9.13"
  }
 },
 "nbformat": 4,
 "nbformat_minor": 5
}
