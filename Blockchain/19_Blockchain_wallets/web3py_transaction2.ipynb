{
 "cells": [
  {
   "cell_type": "code",
   "execution_count": 1,
   "id": "2c2e33c3-d0e1-4937-9417-f972e2aa6928",
   "metadata": {},
   "outputs": [],
   "source": [
    "# Imports\n",
    "from web3 import Web3, EthereumTesterProvider"
   ]
  },
  {
   "cell_type": "code",
   "execution_count": 2,
   "id": "ab220c35-6f88-4d21-af72-cf4d0df91d11",
   "metadata": {},
   "outputs": [],
   "source": [
    "# Create an instance of Web3\n",
    "w3 = Web3()"
   ]
  },
  {
   "cell_type": "code",
   "execution_count": 3,
   "id": "21f01c13-2a22-4b48-909b-045e99f8c0b3",
   "metadata": {},
   "outputs": [
    {
     "name": "stderr",
     "output_type": "stream",
     "text": [
      "/Users/mikewenner/opt/anaconda3/envs/dev/lib/python3.9/site-packages/eth_tester/backends/__init__.py:30: UserWarning: Ethereum Tester: No backend was explicitely set, and no *full* backends were available.  Falling back to the `MockBackend` which does not support all EVM functionality.  Please refer to the `eth-tester` documentation for information on what backends are available and how to set them.\n",
      "  warnings.warn(UserWarning(\n"
     ]
    }
   ],
   "source": [
    "# Create an instance of the EthereumTesterProvider\n",
    "provider = EthereumTesterProvider()\n",
    "\n",
    "# Pass the provider as a parameter to the Web3 instance\n",
    "w3 = Web3(provider)"
   ]
  },
  {
   "cell_type": "code",
   "execution_count": 4,
   "id": "9fcc136e-f324-4569-b819-1dd4c7ec137a",
   "metadata": {},
   "outputs": [
    {
     "name": "stdout",
     "output_type": "stream",
     "text": [
      "['0xaBbACadABa000000000000000000000000000000', '0xaBbACaDaBA000000000000000000000000000001', '0xAbbAcaDaBA000000000000000000000000000002', '0xabBACadaBA000000000000000000000000000003', '0xabbAcADABa000000000000000000000000000004', '0xaBBACADABA000000000000000000000000000005', '0xaBbaCadaBA000000000000000000000000000006', '0xAbbAcAdaBA000000000000000000000000000007', '0xaBBAcadabA000000000000000000000000000008', '0xABbacaDabA000000000000000000000000000009']\n"
     ]
    }
   ],
   "source": [
    "# Print a list of accounts on the blockchain\n",
    "print(w3.eth.accounts)"
   ]
  },
  {
   "cell_type": "code",
   "execution_count": 5,
   "id": "29b559f1-4e94-42be-90fb-fb6770d9aee9",
   "metadata": {},
   "outputs": [],
   "source": [
    "# Set the sender address\n",
    "sender = '0xaBbACadABa000000000000000000000000000000'\n",
    "\n",
    "# Set the receiver address\n",
    "receiver = '0xaBbACaDaBA000000000000000000000000000001'\n"
   ]
  },
  {
   "cell_type": "code",
   "execution_count": 6,
   "id": "a9293afb-526a-4b09-b625-762770349bdf",
   "metadata": {},
   "outputs": [],
   "source": [
    "# Set the variable gas equal to 21000 units\n",
    "gas = 21000"
   ]
  },
  {
   "cell_type": "code",
   "execution_count": 7,
   "id": "f0845b04-aea6-4ebf-8bb3-4726d99fafa0",
   "metadata": {},
   "outputs": [
    {
     "data": {
      "text/plain": [
       "333000000000000000000"
      ]
     },
     "execution_count": 7,
     "metadata": {},
     "output_type": "execute_result"
    }
   ],
   "source": [
    "# Convert balance from ether to wei\n",
    "value = w3.toWei(333, 'ether')\n",
    "\n",
    "# Review the value in wei\n",
    "value\n"
   ]
  },
  {
   "cell_type": "code",
   "execution_count": 8,
   "id": "595982eb-3c1a-4c50-a71f-7555b544f9c1",
   "metadata": {},
   "outputs": [
    {
     "data": {
      "text/plain": [
       "HexBytes('0x813a28ea882e0cea5925a2d73936be1f6535ddd942c6a8adc604f5722b5c8f0e')"
      ]
     },
     "execution_count": 8,
     "metadata": {},
     "output_type": "execute_result"
    }
   ],
   "source": [
    "# Send the transaction to the blockchain\n",
    "transaction_hash_code = w3.eth.send_transaction({\n",
    "    'to': receiver, \n",
    "    'from': sender, \n",
    "    'gas': gas, \n",
    "    'value': value\n",
    "})\n",
    "\n",
    "# Review the tranaction hash code\n",
    "transaction_hash_code"
   ]
  },
  {
   "cell_type": "code",
   "execution_count": 9,
   "id": "39054f60-b62c-4a4f-b587-e86ae3cbbe89",
   "metadata": {},
   "outputs": [
    {
     "data": {
      "text/plain": [
       "AttributeDict({'gasUsed': 21000,\n",
       " 'cumulativeGasUsed': 21000,\n",
       " 'contractAddress': '0xa0Beb7081fDaF3ed157370836A85eeC20CEc9e04',\n",
       " 'logs': [],\n",
       " 'transactionHash': HexBytes('0x813a28ea882e0cea5925a2d73936be1f6535ddd942c6a8adc604f5722b5c8f0e'),\n",
       " 'blockNumber': 1,\n",
       " 'blockHash': HexBytes('0x4c2bb15a26a9a635eb07a948e2411dbade4ef0f753fd8126b561e3842276de21'),\n",
       " 'transactionIndex': 0,\n",
       " 'status': 0})"
      ]
     },
     "execution_count": 9,
     "metadata": {},
     "output_type": "execute_result"
    }
   ],
   "source": [
    "# Review the transaction receipt using the HexBytes hash code returned from sending the tranaction\n",
    "w3.eth.getTransactionReceipt(transaction_hash_code)"
   ]
  },
  {
   "cell_type": "code",
   "execution_count": 10,
   "id": "acde0357-ddec-4d45-a612-fb5a803e3a96",
   "metadata": {},
   "outputs": [
    {
     "data": {
      "text/plain": [
       "AttributeDict({'number': 1,\n",
       " 'parentHash': HexBytes('0x7b978a2345f0e68eeae0b430c992dd7e54e0e4567264fe3d6cb5568c06deb98e'),\n",
       " 'nonce': HexBytes('0x000000000000002a'),\n",
       " 'sha3Uncles': HexBytes('0x1dcc4de8dec75d7aab85b567b6ccd41ad312451b948a7413f0a142fd40d49347'),\n",
       " 'logs_bloom': 0,\n",
       " 'transactionsRoot': HexBytes('0x56e81f171bcc55a6ff8345e692c0f86e5b48e01b996cadc001622fb5e363b421'),\n",
       " 'receipts_root': '0x56e81f171bcc55a6ff8345e692c0f86e5b48e01b996cadc001622fb5e363b421',\n",
       " 'stateRoot': HexBytes('0x56e81f171bcc55a6ff8345e692c0f86e5b48e01b996cadc001622fb5e363b421'),\n",
       " 'miner': '0x0000000000000000000000000000000000000000',\n",
       " 'difficulty': 131072,\n",
       " 'totalDifficulty': 262144,\n",
       " 'size': 0,\n",
       " 'extraData': HexBytes('0x0000000000000000000000000000000000000000000000000000000000000000'),\n",
       " 'gasLimit': 3141592,\n",
       " 'gasUsed': 21000,\n",
       " 'timestamp': 1683074958,\n",
       " 'transactions': [HexBytes('0x813a28ea882e0cea5925a2d73936be1f6535ddd942c6a8adc604f5722b5c8f0e')],\n",
       " 'uncles': [],\n",
       " 'hash': HexBytes('0x4c2bb15a26a9a635eb07a948e2411dbade4ef0f753fd8126b561e3842276de21')})"
      ]
     },
     "execution_count": 10,
     "metadata": {},
     "output_type": "execute_result"
    }
   ],
   "source": [
    "# Review the information from the latest block to confirm your transaction's inclusion\n",
    "latest = w3.eth.get_block('latest')\n",
    "\n",
    "# Review the latest block\n",
    "latest"
   ]
  },
  {
   "cell_type": "code",
   "execution_count": null,
   "id": "842f5c67-71dc-41d5-af4c-16d515a4357a",
   "metadata": {},
   "outputs": [],
   "source": []
  }
 ],
 "metadata": {
  "kernelspec": {
   "display_name": "Python 3 (ipykernel)",
   "language": "python",
   "name": "python3"
  },
  "language_info": {
   "codemirror_mode": {
    "name": "ipython",
    "version": 3
   },
   "file_extension": ".py",
   "mimetype": "text/x-python",
   "name": "python",
   "nbconvert_exporter": "python",
   "pygments_lexer": "ipython3",
   "version": "3.9.13"
  }
 },
 "nbformat": 4,
 "nbformat_minor": 5
}
