{
 "cells": [
  {
   "cell_type": "code",
   "execution_count": 1,
   "id": "915f2bbb-69ed-4e23-878c-0444d765bf35",
   "metadata": {},
   "outputs": [],
   "source": [
    "# Imports\n",
    "import os\n",
    "from dotenv import load_dotenv\n",
    "load_dotenv()\n",
    "from mnemonic import Mnemonic\n",
    "from bip44 import Wallet\n",
    "from web3 import Account"
   ]
  },
  {
   "cell_type": "code",
   "execution_count": 2,
   "id": "fd4c0e84-24fe-44cc-9b5e-01c42371e043",
   "metadata": {},
   "outputs": [
    {
     "data": {
      "text/plain": [
       "'drift snow alone direct aunt angry reject wrap limb label embark subject'"
      ]
     },
     "metadata": {},
     "output_type": "display_data"
    }
   ],
   "source": [
    "# Call os.getenv(\"MNEMONIC\") and save it's value as a variable named mnemonic\n",
    "mnemonic = os.getenv(\"MNEMONIC\")\n",
    "\n",
    "# Use an if-statement to check if the mnemonic variable is None\n",
    "if mnemonic is None:\n",
    "\n",
    "    # If the mnemonic variable is none, initialize a new instance of Mnemonic\n",
    "    # pass it a string value of english to use the english word list\n",
    "    # Save the instance as a variable named mnemo\n",
    "    mnemo = Mnemonic(\"english\")  \n",
    "    \n",
    "    # Call mnemo.generate(strength=256) and set it equal to the variable mnemonic \n",
    "    mnemonic = mnemo.generate(strength=256)\n",
    "    \n",
    "# Review the mnemonic seed phrase\n",
    "display(mnemonic)"
   ]
  },
  {
   "cell_type": "code",
   "execution_count": 3,
   "id": "d000a0a9-50eb-44c4-9496-f81828f62187",
   "metadata": {},
   "outputs": [
    {
     "data": {
      "text/plain": [
       "<bip44.wallet.Wallet at 0x7fe28da99cd0>"
      ]
     },
     "execution_count": 3,
     "metadata": {},
     "output_type": "execute_result"
    }
   ],
   "source": [
    "# Instantiate a new instance of Wallet and pass it the mnemonic variable\n",
    "wallet = Wallet(mnemonic)\n",
    "\n",
    "# Review your wallet instance\n",
    "wallet"
   ]
  },
  {
   "cell_type": "markdown",
   "id": "f5920359-b39f-4dd0-80d3-74829bf32335",
   "metadata": {},
   "source": [
    "Step 4: Derive public and private keys from your wallet instance. To do so, complete the following steps:\n",
    "Create two variables, public and private, and set their values by calling the derive_account method on your wallet instance. In order to associate the account with Ethereum, pass the string “eth” to the derive_account method.\n",
    "\n",
    "Create a new variable named account, and construct the Ethereum account by calling Account.privateKeyToAccount and passing it your private key variable.\n",
    "\n",
    "Call account.address to access the address associated with your new Ethereum account. By using this address, other participants can send you ether on the Ethereum blockchain."
   ]
  },
  {
   "cell_type": "code",
   "execution_count": null,
   "id": "b6e848ce-e1d1-4506-bdb4-610dd0bca412",
   "metadata": {},
   "outputs": [],
   "source": []
  }
 ],
 "metadata": {
  "kernelspec": {
   "display_name": "Python 3 (ipykernel)",
   "language": "python",
   "name": "python3"
  },
  "language_info": {
   "codemirror_mode": {
    "name": "ipython",
    "version": 3
   },
   "file_extension": ".py",
   "mimetype": "text/x-python",
   "name": "python",
   "nbconvert_exporter": "python",
   "pygments_lexer": "ipython3",
   "version": "3.9.13"
  }
 },
 "nbformat": 4,
 "nbformat_minor": 5
}
