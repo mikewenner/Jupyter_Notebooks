{
 "cells": [
  {
   "cell_type": "code",
   "execution_count": 1,
   "id": "652ee4f3-8944-4c92-8fe3-7f19c2a9f7de",
   "metadata": {},
   "outputs": [],
   "source": [
    "# Imports\n",
    "import os\n",
    "from dotenv import load_dotenv\n",
    "load_dotenv()\n",
    "from bip44 import Wallet\n",
    "from eth_account import Account\n",
    "from web3.auto import w3\n",
    "from eth_account.messages import encode_defunct"
   ]
  },
  {
   "cell_type": "code",
   "execution_count": 2,
   "id": "b5cc0294-55f3-47db-a631-9949b59b27e9",
   "metadata": {},
   "outputs": [
    {
     "data": {
      "text/plain": [
       "str"
      ]
     },
     "execution_count": 2,
     "metadata": {},
     "output_type": "execute_result"
    }
   ],
   "source": [
    "# Call os.getenv(\"MNEMONIC\") and save it's value as a variable named mnemonic\n",
    "mnemonic = os.getenv(\"MNEMONIC\")\n",
    "\n",
    "# View the data type of mnemonic to confirm its availability\n",
    "type(mnemonic)"
   ]
  },
  {
   "cell_type": "code",
   "execution_count": 3,
   "id": "55e4689b-6621-41cd-9576-a1d547e60bc8",
   "metadata": {},
   "outputs": [
    {
     "data": {
      "text/plain": [
       "<bip44.wallet.Wallet at 0x7fa1b41a0160>"
      ]
     },
     "execution_count": 3,
     "metadata": {},
     "output_type": "execute_result"
    }
   ],
   "source": [
    "# Instantiate a new instance of Wallet and pass it the mnemonic variable\n",
    "wallet = Wallet(mnemonic)\n",
    "\n",
    "# Review your wallet instance\n",
    "wallet"
   ]
  },
  {
   "cell_type": "code",
   "execution_count": 4,
   "id": "2c399cbb-a3da-41bb-9698-643af433f462",
   "metadata": {},
   "outputs": [
    {
     "data": {
      "text/plain": [
       "b'\\xe6\\xf6\\xca\\xa2\\xf8\\xb4\\xeeh\\xe5\\x87\\xbc\\xae\\xc4\\xc3\\xd0&I\\xd46\\xee9\\xd9\\x9a\\xd8\\r\\x1b\\xf3\\xb2.\\x8a\\xcdJ'"
      ]
     },
     "execution_count": 4,
     "metadata": {},
     "output_type": "execute_result"
    }
   ],
   "source": [
    "#Derive public and private keys\n",
    "# Calling the derive_account method on your wallet instance\n",
    "# Pass the string eth to the method\n",
    "private, public = wallet.derive_account(\"eth\")\n",
    "\n",
    "# Review the byte string of your private key\n",
    "private"
   ]
  },
  {
   "cell_type": "code",
   "execution_count": 5,
   "id": "cd7c4cea-cf64-46f7-a090-8b2decfebc10",
   "metadata": {},
   "outputs": [
    {
     "data": {
      "text/plain": [
       "'0x169D455abC416D1E55d1dCA485D837097743d10f'"
      ]
     },
     "execution_count": 5,
     "metadata": {},
     "output_type": "execute_result"
    }
   ],
   "source": [
    "# Construct the Ethereum account by calling Account.privateKeyToAccount\n",
    "# Pass it your private key variable\n",
    "account = Account.privateKeyToAccount(private)\n",
    "\n",
    "# Print the account's address\n",
    "account.address"
   ]
  },
  {
   "cell_type": "code",
   "execution_count": 6,
   "id": "7ffcfbd6-2b68-4400-b751-bb1854ba633c",
   "metadata": {},
   "outputs": [],
   "source": [
    "# Create a string message \n",
    "msg = \"Zach owes Glenna $40\""
   ]
  },
  {
   "cell_type": "code",
   "execution_count": 7,
   "id": "b7343a28-a34a-4d30-a89d-1f5938de5e60",
   "metadata": {},
   "outputs": [],
   "source": [
    "# Use the encode_defunct message to encode your message string\n",
    "message = encode_defunct(text=msg)"
   ]
  },
  {
   "cell_type": "code",
   "execution_count": 8,
   "id": "9c40748a-6101-4325-a472-179cd6694d96",
   "metadata": {},
   "outputs": [
    {
     "data": {
      "text/plain": [
       "SignedMessage(messageHash=HexBytes('0xd47972ea801919608a5e93032c07f111693ad78694b37e224e78a468eb53b113'), r=43230851153227950307889064237142245434125446426909103544332293211316258948600, s=15014762214831790172431335095171641108194713733965965314046849920830801008015, v=28, signature=HexBytes('0x5f93cb6df8558928c6643c71e350eba8dfe4e331f2946e5220ee7a83b66d45f821320de39568e26b6008a8a754a01ac4af66ccf222b9bfac1a97f382e851558f1c'))"
      ]
     },
     "execution_count": 8,
     "metadata": {},
     "output_type": "execute_result"
    }
   ],
   "source": [
    "# Use w3.eth.account.sign_message to create a signed message\n",
    "# Pass the method your encoded message and private key\n",
    "signed_message = w3.eth.account.sign_message(message, private_key=private)\n",
    "\n",
    "# Review your signed message\n",
    "signed_message"
   ]
  },
  {
   "cell_type": "code",
   "execution_count": 9,
   "id": "d60ca7d9-fd17-4162-bdc9-ca8e6e616d3e",
   "metadata": {},
   "outputs": [
    {
     "data": {
      "text/plain": [
       "'0x169D455abC416D1E55d1dCA485D837097743d10f'"
      ]
     },
     "execution_count": 9,
     "metadata": {},
     "output_type": "execute_result"
    }
   ],
   "source": [
    "# Call the `w3.eth.account.recover_message` method\n",
    "# Pass your encoded message variable and the message’s signature \n",
    "w3.eth.account.recover_message(message, signature=signed_message.signature)"
   ]
  },
  {
   "cell_type": "code",
   "execution_count": null,
   "id": "103ee0c7-ebeb-4c10-8dfa-8a546b7fe6c1",
   "metadata": {},
   "outputs": [],
   "source": []
  }
 ],
 "metadata": {
  "kernelspec": {
   "display_name": "Python 3 (ipykernel)",
   "language": "python",
   "name": "python3"
  },
  "language_info": {
   "codemirror_mode": {
    "name": "ipython",
    "version": 3
   },
   "file_extension": ".py",
   "mimetype": "text/x-python",
   "name": "python",
   "nbconvert_exporter": "python",
   "pygments_lexer": "ipython3",
   "version": "3.9.13"
  }
 },
 "nbformat": 4,
 "nbformat_minor": 5
}
