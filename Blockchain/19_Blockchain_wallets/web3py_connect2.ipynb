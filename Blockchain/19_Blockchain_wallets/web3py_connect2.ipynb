{
 "cells": [
  {
   "cell_type": "code",
   "execution_count": 1,
   "id": "fb04f8d0-c697-493e-9e05-0a48e2aa89d5",
   "metadata": {},
   "outputs": [],
   "source": [
    "# Imports\n",
    "from web3 import Web3, EthereumTesterProvider"
   ]
  },
  {
   "cell_type": "code",
   "execution_count": 2,
   "id": "2cb74313-111e-4a44-93cd-c0112601e6ba",
   "metadata": {},
   "outputs": [],
   "source": [
    "# Create an instance of Web3\n",
    "w3 = Web3()"
   ]
  },
  {
   "cell_type": "code",
   "execution_count": 3,
   "id": "5adab52a-3a9a-471e-89ee-69a3b68d10ac",
   "metadata": {},
   "outputs": [
    {
     "name": "stderr",
     "output_type": "stream",
     "text": [
      "/Users/mikewenner/opt/anaconda3/envs/dev/lib/python3.9/site-packages/eth_tester/backends/__init__.py:30: UserWarning: Ethereum Tester: No backend was explicitely set, and no *full* backends were available.  Falling back to the `MockBackend` which does not support all EVM functionality.  Please refer to the `eth-tester` documentation for information on what backends are available and how to set them.\n",
      "  warnings.warn(UserWarning(\n"
     ]
    }
   ],
   "source": [
    "# Create an instance of the EthereumTesterProvider\n",
    "provider = EthereumTesterProvider()\n",
    "\n",
    "# Pass the provider as a parameter to the Web3 instance\n",
    "w3 = Web3(provider)"
   ]
  },
  {
   "cell_type": "code",
   "execution_count": 4,
   "id": "6532d1c7-41d7-4c32-9390-f1e3aed7abcd",
   "metadata": {},
   "outputs": [
    {
     "name": "stdout",
     "output_type": "stream",
     "text": [
      "AttributeDict({'number': 0, 'parentHash': HexBytes('0x0000000000000000000000000000000000000000000000000000000000000000'), 'nonce': HexBytes('0x000000000000002a'), 'sha3Uncles': HexBytes('0x1dcc4de8dec75d7aab85b567b6ccd41ad312451b948a7413f0a142fd40d49347'), 'logs_bloom': 0, 'transactionsRoot': HexBytes('0x56e81f171bcc55a6ff8345e692c0f86e5b48e01b996cadc001622fb5e363b421'), 'receipts_root': '0x56e81f171bcc55a6ff8345e692c0f86e5b48e01b996cadc001622fb5e363b421', 'stateRoot': HexBytes('0x56e81f171bcc55a6ff8345e692c0f86e5b48e01b996cadc001622fb5e363b421'), 'miner': '0x0000000000000000000000000000000000000000', 'difficulty': 131072, 'totalDifficulty': 131072, 'size': 0, 'extraData': HexBytes('0x0000000000000000000000000000000000000000000000000000000000000000'), 'gasLimit': 3141592, 'gasUsed': 0, 'timestamp': 1683071626, 'transactions': [], 'uncles': [], 'hash': HexBytes('0xd2dabe761ec9f5ecb52587ebb15262bc1359db1ac9c8742f116a125ab37dcaa2')})\n"
     ]
    }
   ],
   "source": [
    "# Access information for the most recent block created on the mock blockchain\n",
    "print(w3.eth.get_block(\"latest\"))"
   ]
  },
  {
   "cell_type": "code",
   "execution_count": 5,
   "id": "e48f3da0-40b3-49b7-a10f-3ed7a1bab129",
   "metadata": {},
   "outputs": [
    {
     "name": "stdout",
     "output_type": "stream",
     "text": [
      "['0xaBbACadABa000000000000000000000000000000', '0xaBbACaDaBA000000000000000000000000000001', '0xAbbAcaDaBA000000000000000000000000000002', '0xabBACadaBA000000000000000000000000000003', '0xabbAcADABa000000000000000000000000000004', '0xaBBACADABA000000000000000000000000000005', '0xaBbaCadaBA000000000000000000000000000006', '0xAbbAcAdaBA000000000000000000000000000007', '0xaBBAcadabA000000000000000000000000000008', '0xABbacaDabA000000000000000000000000000009']\n"
     ]
    }
   ],
   "source": [
    "# Print a list of accounts on the mock blockchain\n",
    "print(w3.eth.accounts)"
   ]
  },
  {
   "cell_type": "code",
   "execution_count": 6,
   "id": "352fc7a8-0cfe-4cd4-85f6-a233063ca156",
   "metadata": {},
   "outputs": [
    {
     "name": "stdout",
     "output_type": "stream",
     "text": [
      "1000000000000000000000000\n"
     ]
    }
   ],
   "source": [
    "# Access the balance of an account using an address from above\n",
    "wei_balance = w3.eth.get_balance(\"0xabbAcADABa000000000000000000000000000004\")\n",
    "\n",
    "# Print the balance of the account in wei\n",
    "print(wei_balance)"
   ]
  },
  {
   "cell_type": "code",
   "execution_count": 7,
   "id": "f6194b52-96cc-4b33-b86e-2d58e5e3fb32",
   "metadata": {},
   "outputs": [
    {
     "name": "stdout",
     "output_type": "stream",
     "text": [
      "1000000\n"
     ]
    }
   ],
   "source": [
    "# Convert the balance from wei to ether\n",
    "eth_balance = w3.fromWei(wei_balance, \"ether\")\n",
    "\n",
    "print(eth_balance)"
   ]
  },
  {
   "cell_type": "code",
   "execution_count": null,
   "id": "e2f230a8-5901-42eb-8987-dd9c4e120581",
   "metadata": {},
   "outputs": [],
   "source": []
  }
 ],
 "metadata": {
  "kernelspec": {
   "display_name": "Python 3 (ipykernel)",
   "language": "python",
   "name": "python3"
  },
  "language_info": {
   "codemirror_mode": {
    "name": "ipython",
    "version": 3
   },
   "file_extension": ".py",
   "mimetype": "text/x-python",
   "name": "python",
   "nbconvert_exporter": "python",
   "pygments_lexer": "ipython3",
   "version": "3.9.13"
  }
 },
 "nbformat": 4,
 "nbformat_minor": 5
}
