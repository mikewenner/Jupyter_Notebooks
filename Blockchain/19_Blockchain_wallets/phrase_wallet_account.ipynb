{
 "cells": [
  {
   "cell_type": "code",
   "execution_count": 1,
   "id": "18cbdb68-9b0f-438c-ae7f-f146c08e6886",
   "metadata": {},
   "outputs": [],
   "source": [
    "# Imports\n",
    "import os\n",
    "from dotenv import load_dotenv\n",
    "load_dotenv()\n",
    "from mnemonic import Mnemonic\n",
    "from bip44 import Wallet\n",
    "from web3 import Account"
   ]
  },
  {
   "cell_type": "code",
   "execution_count": 5,
   "id": "0d7a9073-6e1d-4c22-9b6f-31ebddd31116",
   "metadata": {},
   "outputs": [
    {
     "data": {
      "text/plain": [
       "'drift snow alone direct aunt angry reject wrap limb label embark subject'"
      ]
     },
     "metadata": {},
     "output_type": "display_data"
    }
   ],
   "source": [
    "# Load the value of the MNEMONIC variable from the .env file\n",
    "mnemonic = os.getenv(\"MNEMONIC\")\n",
    "\n",
    "# Evaluate the contents of the mnemonic variable\n",
    "# Create a new mnemonic seed phrase if the value of mnemonic equals None\n",
    "if mnemonic is None:\n",
    "  mnemo = Mnemonic(\"english\")   \n",
    "  mnemonic = mnemo.generate(strength=128)  #128=12 word seed, strength =256 would give 24 word phrase\n",
    "\n",
    "# Display the value of the mnemonic variable\n",
    "display(mnemonic)"
   ]
  },
  {
   "cell_type": "code",
   "execution_count": 6,
   "id": "56eceb26-f25f-41fe-9b05-04abbc736013",
   "metadata": {},
   "outputs": [
    {
     "data": {
      "text/plain": [
       "<bip44.wallet.Wallet at 0x7f911f2ad070>"
      ]
     },
     "execution_count": 6,
     "metadata": {},
     "output_type": "execute_result"
    }
   ],
   "source": [
    "#instantiate wallet\n",
    "wallet = Wallet(mnemonic)\n",
    "wallet"
   ]
  },
  {
   "cell_type": "code",
   "execution_count": 7,
   "id": "dd64465b-99b8-4d68-926f-fe15373a06ce",
   "metadata": {},
   "outputs": [
    {
     "data": {
      "text/plain": [
       "b'\\xe6\\xf6\\xca\\xa2\\xf8\\xb4\\xeeh\\xe5\\x87\\xbc\\xae\\xc4\\xc3\\xd0&I\\xd46\\xee9\\xd9\\x9a\\xd8\\r\\x1b\\xf3\\xb2.\\x8a\\xcdJ'"
      ]
     },
     "execution_count": 7,
     "metadata": {},
     "output_type": "execute_result"
    }
   ],
   "source": [
    "# Create the public and private keys associated with a new Ethereum account\n",
    "private, public = wallet.derive_account(\"eth\")\n",
    "\n",
    "# Display the private key\n",
    "private"
   ]
  },
  {
   "cell_type": "code",
   "execution_count": 8,
   "id": "c4bb3fb8-2849-454b-988e-29f37b879103",
   "metadata": {},
   "outputs": [],
   "source": [
    "#create account\n",
    "account = Account.privateKeyToAccount(private)"
   ]
  },
  {
   "cell_type": "code",
   "execution_count": 9,
   "id": "735f1cce-b723-42fd-8510-4f13e668db1d",
   "metadata": {},
   "outputs": [
    {
     "name": "stdout",
     "output_type": "stream",
     "text": [
      "<eth_account.signers.local.LocalAccount object at 0x7f911f2ad190>\n"
     ]
    }
   ],
   "source": [
    "#show account\n",
    "print(account)"
   ]
  },
  {
   "cell_type": "code",
   "execution_count": 10,
   "id": "419d9f4f-f938-4f73-98af-3f1b2daf8061",
   "metadata": {},
   "outputs": [
    {
     "name": "stdout",
     "output_type": "stream",
     "text": [
      "0x169D455abC416D1E55d1dCA485D837097743d10f\n"
     ]
    }
   ],
   "source": [
    "#this is the address that allows others to deposit into the account \n",
    "print(account.address)"
   ]
  },
  {
   "cell_type": "code",
   "execution_count": 11,
   "id": "aab491cf-081a-4121-884a-90af6115b64b",
   "metadata": {},
   "outputs": [
    {
     "data": {
      "text/plain": [
       "HexBytes('0xe6f6caa2f8b4ee68e587bcaec4c3d02649d436ee39d99ad80d1bf3b22e8acd4a')"
      ]
     },
     "execution_count": 11,
     "metadata": {},
     "output_type": "execute_result"
    }
   ],
   "source": [
    "account.privateKey"
   ]
  },
  {
   "cell_type": "code",
   "execution_count": null,
   "id": "a4fb2716-b500-41f0-8f9e-4bcf1fced88a",
   "metadata": {},
   "outputs": [],
   "source": []
  }
 ],
 "metadata": {
  "kernelspec": {
   "display_name": "Python 3 (ipykernel)",
   "language": "python",
   "name": "python3"
  },
  "language_info": {
   "codemirror_mode": {
    "name": "ipython",
    "version": 3
   },
   "file_extension": ".py",
   "mimetype": "text/x-python",
   "name": "python",
   "nbconvert_exporter": "python",
   "pygments_lexer": "ipython3",
   "version": "3.9.13"
  }
 },
 "nbformat": 4,
 "nbformat_minor": 5
}
