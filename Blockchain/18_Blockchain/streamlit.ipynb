{
 "cells": [
  {
   "cell_type": "code",
   "execution_count": 1,
   "id": "21799227-7169-420d-82cb-a637c4878872",
   "metadata": {},
   "outputs": [],
   "source": [
    "import streamlit as st\n",
    "import pandas as pd"
   ]
  },
  {
   "cell_type": "code",
   "execution_count": 2,
   "id": "6f3dac1b-fde9-4da6-af04-f7d3bb6383ec",
   "metadata": {},
   "outputs": [
    {
     "name": "stderr",
     "output_type": "stream",
     "text": [
      "2023-04-24 20:39:11.935 \n",
      "  \u001b[33m\u001b[1mWarning:\u001b[0m to view this Streamlit app on a browser, run it with the following\n",
      "  command:\n",
      "\n",
      "    streamlit run /Users/mikewenner/opt/anaconda3/envs/dev/lib/python3.9/site-packages/ipykernel_launcher.py [ARGUMENTS]\n"
     ]
    }
   ],
   "source": [
    "st.write(\"# Python Web App\")\n",
    "\n",
    "st.write(\"Hi, this is our first web app in Python! :sunglasses:\")\n",
    "\n",
    "df = pd.DataFrame({'col1': [1, 2], 'col2': [3, 4]})\n",
    "st.write(df)\n",
    "\n",
    "input_value = st.text_input(\"Enter a Message\")\n",
    "\n",
    "if st.button(\"Display Message\"):\n",
    "    st.write(input_value)"
   ]
  },
  {
   "cell_type": "code",
   "execution_count": null,
   "id": "69e9230e-54fe-4514-8cd0-0a7aba30ebf0",
   "metadata": {},
   "outputs": [],
   "source": []
  }
 ],
 "metadata": {
  "kernelspec": {
   "display_name": "Python 3 (ipykernel)",
   "language": "python",
   "name": "python3"
  },
  "language_info": {
   "codemirror_mode": {
    "name": "ipython",
    "version": 3
   },
   "file_extension": ".py",
   "mimetype": "text/x-python",
   "name": "python",
   "nbconvert_exporter": "python",
   "pygments_lexer": "ipython3",
   "version": "3.9.13"
  }
 },
 "nbformat": 4,
 "nbformat_minor": 5
}
