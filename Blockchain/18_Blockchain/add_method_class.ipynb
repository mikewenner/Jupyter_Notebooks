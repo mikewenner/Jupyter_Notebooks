{
 "cells": [
  {
   "cell_type": "code",
   "execution_count": 1,
   "id": "e23095fe-18cc-4da7-9cb8-a85f641cccbb",
   "metadata": {},
   "outputs": [],
   "source": [
    "# Method is a function inside a class"
   ]
  },
  {
   "cell_type": "code",
   "execution_count": 2,
   "id": "5ff0729f-42a7-497a-ad5d-dc621b369d94",
   "metadata": {},
   "outputs": [],
   "source": [
    "from dataclasses import dataclass\n",
    "from datetime import datetime\n",
    "from typing import Any\n",
    "import hashlib"
   ]
  },
  {
   "cell_type": "code",
   "execution_count": 3,
   "id": "d58d0511-ed53-491c-8375-aaf40372bc1a",
   "metadata": {},
   "outputs": [],
   "source": [
    "# The Block class including a hash_block method\n",
    "@dataclass\n",
    "class Block:\n",
    "    data: Any\n",
    "    creator_id: int\n",
    "    timestamp: str = datetime.utcnow().strftime(\"%H:%M:%S\")\n",
    "\n",
    "    # Create a method called hash_block\n",
    "    def hash_block(self):\n",
    "        sha = hashlib.sha256()\n",
    "\n",
    "        # Turn the block data into an encoded string\n",
    "        data = str(self.data).encode()\n",
    "        sha.update(data)\n",
    "\n",
    "        # Turn the block creator_id into an encoded string\n",
    "        creator_id = str(self.creator_id).encode()\n",
    "        sha.update(creator_id)\n",
    "\n",
    "        # Turn the block timestamp into an encoded string\n",
    "        timestamp = str(self.timestamp).encode()\n",
    "        sha.update(timestamp)\n",
    "\n",
    "        return sha.hexdigest()"
   ]
  },
  {
   "cell_type": "code",
   "execution_count": 4,
   "id": "afd8a9a6-6e40-45f6-a209-8a99f9a8b949",
   "metadata": {},
   "outputs": [
    {
     "name": "stdout",
     "output_type": "stream",
     "text": [
      "212c769d22ee2da607fbf3ea7705658ef12c57b1e9e4126537c6ea6e4f3af4bf\n"
     ]
    }
   ],
   "source": [
    "# Create a new block instance using some test data\n",
    "new_block = Block(data=\"test\", creator_id=0)\n",
    "\n",
    "# Calculate the block hash using the new method\n",
    "block_hash = new_block.hash_block()\n",
    "\n",
    "# Print the block's hash\n",
    "print(block_hash)"
   ]
  },
  {
   "cell_type": "code",
   "execution_count": null,
   "id": "2d516bad-b789-45cb-9634-230a4e6f16f1",
   "metadata": {},
   "outputs": [],
   "source": []
  },
  {
   "cell_type": "code",
   "execution_count": 5,
   "id": "f9505a39-7116-483f-9f42-5e39361d5bee",
   "metadata": {},
   "outputs": [],
   "source": [
    "# Create the data class called Counter\n",
    "# Include a method called update_count\n",
    "@dataclass\n",
    "class Counter:\n",
    "    count: int = 2\n",
    "    def update_count(self):\n",
    "        self.count = self.count + 1"
   ]
  },
  {
   "cell_type": "code",
   "execution_count": 8,
   "id": "8051c0cd-8c4a-49c8-ae61-f5563e382223",
   "metadata": {},
   "outputs": [
    {
     "name": "stdout",
     "output_type": "stream",
     "text": [
      "4\n"
     ]
    }
   ],
   "source": [
    "# Create a new instance of Counter\n",
    "new_counter = Counter()\n",
    "\n",
    "# Update the count by calling update_count\n",
    "new_counter.update_count()\n",
    "new_counter.update_count()\n",
    "print(new_counter.count)"
   ]
  },
  {
   "cell_type": "code",
   "execution_count": null,
   "id": "fcf96027-6112-4ea6-bd12-80edffa78961",
   "metadata": {},
   "outputs": [],
   "source": []
  }
 ],
 "metadata": {
  "kernelspec": {
   "display_name": "Python 3 (ipykernel)",
   "language": "python",
   "name": "python3"
  },
  "language_info": {
   "codemirror_mode": {
    "name": "ipython",
    "version": 3
   },
   "file_extension": ".py",
   "mimetype": "text/x-python",
   "name": "python",
   "nbconvert_exporter": "python",
   "pygments_lexer": "ipython3",
   "version": "3.9.13"
  }
 },
 "nbformat": 4,
 "nbformat_minor": 5
}
