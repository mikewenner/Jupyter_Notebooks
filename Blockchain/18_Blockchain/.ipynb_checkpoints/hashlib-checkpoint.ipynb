{
 "cells": [
  {
   "cell_type": "code",
   "execution_count": 1,
   "id": "824889f3-3a0e-490f-b4e2-cb6918806a57",
   "metadata": {},
   "outputs": [],
   "source": [
    "# Imports\n",
    "import hashlib"
   ]
  },
  {
   "cell_type": "code",
   "execution_count": 2,
   "id": "0d4dc262-39a4-4a85-9419-0eb7ef75479f",
   "metadata": {},
   "outputs": [],
   "source": [
    "# 1. Create an instance of the sha256 hashing funcion\n",
    "sha = hashlib.sha256()  #sha256 encodes to 64 length"
   ]
  },
  {
   "cell_type": "code",
   "execution_count": 3,
   "id": "582f0c4b-1602-4dc8-b457-0d0d66b4bb21",
   "metadata": {},
   "outputs": [
    {
     "data": {
      "text/plain": [
       "b'Lorem ipsum dolor sit amet, consectetur adipiscing elit. Pellentesque a nisi et nunc sollicitudin laoreet in sed neque. Proin convallis varius odio, id euismod justo tristique at. Cras at ultricies nisi, sed vulputate ante. Praesent faucibus odio in tortor tincidunt tincidunt. Vivamus interdum, tortor ac semper laoreet, nisl nibh tincidunt ante, vitae iaculis arcu sapien quis turpis. Nunc in ullamcorper enim. Sed in est egestas, pulvinar orci in, laoreet nisl.'"
      ]
     },
     "execution_count": 3,
     "metadata": {},
     "output_type": "execute_result"
    }
   ],
   "source": [
    "# Create the data input to be hashed\n",
    "my_data = \"Lorem ipsum dolor sit amet, consectetur adipiscing elit. Pellentesque a nisi et nunc sollicitudin laoreet in sed neque. Proin convallis varius odio, id euismod justo tristique at. Cras at ultricies nisi, sed vulputate ante. Praesent faucibus odio in tortor tincidunt tincidunt. Vivamus interdum, tortor ac semper laoreet, nisl nibh tincidunt ante, vitae iaculis arcu sapien quis turpis. Nunc in ullamcorper enim. Sed in est egestas, pulvinar orci in, laoreet nisl.\"\n",
    "\n",
    "# 2. Encode the data using the encode function\n",
    "encoded_data = my_data.encode()\n",
    "\n",
    "# sha = hashlib.sha256() -- you would do it here in jupyter nb so it doesnt add each time you run\n",
    "\n",
    "encoded_data\n"
   ]
  },
  {
   "cell_type": "code",
   "execution_count": 4,
   "id": "936fbb76-eaec-46e2-b57b-94eb0bebf16c",
   "metadata": {},
   "outputs": [],
   "source": [
    "# 3. Update the encoded data\n",
    "sha.update(encoded_data)"
   ]
  },
  {
   "cell_type": "code",
   "execution_count": 5,
   "id": "54db06bb-3a8b-4bb2-949c-f5138f889dad",
   "metadata": {},
   "outputs": [
    {
     "name": "stdout",
     "output_type": "stream",
     "text": [
      "99d76fef961c38bfe8bc8fb2e80e99b0638cf5420d1d0ff7ef5027551fc52b53\n"
     ]
    }
   ],
   "source": [
    "# 4. Print the hash code resulting from the hexdigest function\n",
    "print(sha.hexdigest())"
   ]
  },
  {
   "cell_type": "code",
   "execution_count": null,
   "id": "1751b0b7-b608-4cb4-91ba-5a263194f809",
   "metadata": {},
   "outputs": [],
   "source": []
  }
 ],
 "metadata": {
  "kernelspec": {
   "display_name": "Python 3 (ipykernel)",
   "language": "python",
   "name": "python3"
  },
  "language_info": {
   "codemirror_mode": {
    "name": "ipython",
    "version": 3
   },
   "file_extension": ".py",
   "mimetype": "text/x-python",
   "name": "python",
   "nbconvert_exporter": "python",
   "pygments_lexer": "ipython3",
   "version": "3.9.13"
  }
 },
 "nbformat": 4,
 "nbformat_minor": 5
}
