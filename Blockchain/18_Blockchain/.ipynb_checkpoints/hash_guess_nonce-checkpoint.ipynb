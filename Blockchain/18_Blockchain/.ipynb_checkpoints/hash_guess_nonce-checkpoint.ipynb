{
 "cells": [
  {
   "cell_type": "code",
   "execution_count": 1,
   "id": "50aa75f7-2f5e-4532-9ceb-ee23b64d5cbe",
   "metadata": {},
   "outputs": [],
   "source": [
    "import hashlib"
   ]
  },
  {
   "cell_type": "code",
   "execution_count": 2,
   "id": "5878cb9d-434b-4137-81e0-48bf5bc40d0a",
   "metadata": {},
   "outputs": [],
   "source": [
    "def hash_number(number):\n",
    "    sha = hashlib.sha256()\n",
    "    value = str(number).encode()\n",
    "    sha.update(value)\n",
    "    return sha.hexdigest()"
   ]
  },
  {
   "cell_type": "code",
   "execution_count": 7,
   "id": "dbf11d45-e3ab-4db0-94fe-0bdcbd545160",
   "metadata": {},
   "outputs": [
    {
     "name": "stdout",
     "output_type": "stream",
     "text": [
      "The first hash is 5feceb66ffc86f38d952786c6d696c79c2dbc239dd4e91b46729d73a27fb57e9\n"
     ]
    }
   ],
   "source": [
    "count = 0\n",
    "hash = hash_number(count)\n",
    "print(f\"The first hash is {hash}\")"
   ]
  },
  {
   "cell_type": "code",
   "execution_count": 9,
   "id": "a40046ef-6dcd-454e-9529-e5b873281732",
   "metadata": {},
   "outputs": [
    {
     "name": "stdout",
     "output_type": "stream",
     "text": [
      "Found a hash with four zeros after 88484 attempts\n",
      "0000a456e7b5a5eb059e721fb431436883143101275c4077f83fe70298f5623d\n"
     ]
    }
   ],
   "source": [
    "#check if hash starts with 0's\n",
    "while not hash.startswith(\"0000\"):\n",
    "    count += 1\n",
    "    hash = hash_number(count)\n",
    "\n",
    "print(f\"Found a hash with four zeros after {count} attempts\")\n",
    "print(hash)"
   ]
  },
  {
   "cell_type": "code",
   "execution_count": null,
   "id": "70e3583d-5ef1-453a-bc1d-1cacf3158daf",
   "metadata": {},
   "outputs": [],
   "source": []
  }
 ],
 "metadata": {
  "kernelspec": {
   "display_name": "Python 3 (ipykernel)",
   "language": "python",
   "name": "python3"
  },
  "language_info": {
   "codemirror_mode": {
    "name": "ipython",
    "version": 3
   },
   "file_extension": ".py",
   "mimetype": "text/x-python",
   "name": "python",
   "nbconvert_exporter": "python",
   "pygments_lexer": "ipython3",
   "version": "3.9.13"
  }
 },
 "nbformat": 4,
 "nbformat_minor": 5
}
