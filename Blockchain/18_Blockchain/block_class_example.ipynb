{
 "cells": [
  {
   "cell_type": "code",
   "execution_count": 1,
   "id": "c663d9ac-6704-423f-b4cf-8807e49e61ba",
   "metadata": {},
   "outputs": [],
   "source": [
    "from dataclasses import dataclass\n",
    "from datetime import datetime\n",
    "from typing import Any"
   ]
  },
  {
   "cell_type": "code",
   "execution_count": 3,
   "id": "6580d0c7-7bc2-4ee3-bd39-7fe72bccb23e",
   "metadata": {},
   "outputs": [],
   "source": [
    "# Creating the Block data class\n",
    "\n",
    "@dataclass #decorator--> extends the functionality of the class w/o modifying the structure\n",
    "class Block:   #defines the class --> start class with caps\n",
    "    data: Any   #data is the attribute, any is the type of data allows user to input anything\n",
    "    creator_id: int   #attribute\n",
    "    timestamp: str = datetime.utcnow().strftime(\"%H:%M:%S\")   #attribute --> this would be the default value\n",
    "    "
   ]
  },
  {
   "cell_type": "code",
   "execution_count": 4,
   "id": "e137b97e-e24f-4799-8fe6-5fc11cee7eab",
   "metadata": {},
   "outputs": [],
   "source": [
    "# Creating a new block -- creating an instance of the class created above\n",
    "\n",
    "new_block = Block(data=\"My First Block!\", creator_id=42)"
   ]
  },
  {
   "cell_type": "code",
   "execution_count": 5,
   "id": "ba4dfb28-6fb0-4649-886d-745297a8bad6",
   "metadata": {},
   "outputs": [
    {
     "name": "stdout",
     "output_type": "stream",
     "text": [
      "Block(data='My First Block!', creator_id=42, timestamp='23:03:50')\n"
     ]
    }
   ],
   "source": [
    "# Print the new block\n",
    "print(new_block)"
   ]
  },
  {
   "cell_type": "code",
   "execution_count": null,
   "id": "bd8b71e0-f96a-439a-9b0d-82fdcdbbd035",
   "metadata": {},
   "outputs": [],
   "source": []
  }
 ],
 "metadata": {
  "kernelspec": {
   "display_name": "Python 3 (ipykernel)",
   "language": "python",
   "name": "python3"
  },
  "language_info": {
   "codemirror_mode": {
    "name": "ipython",
    "version": 3
   },
   "file_extension": ".py",
   "mimetype": "text/x-python",
   "name": "python",
   "nbconvert_exporter": "python",
   "pygments_lexer": "ipython3",
   "version": "3.9.13"
  }
 },
 "nbformat": 4,
 "nbformat_minor": 5
}
