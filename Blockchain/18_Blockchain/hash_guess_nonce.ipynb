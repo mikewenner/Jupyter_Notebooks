{
 "cells": [
  {
   "cell_type": "code",
   "execution_count": 1,
   "id": "50aa75f7-2f5e-4532-9ceb-ee23b64d5cbe",
   "metadata": {},
   "outputs": [],
   "source": [
    "import hashlib"
   ]
  },
  {
   "cell_type": "code",
   "execution_count": 2,
   "id": "5878cb9d-434b-4137-81e0-48bf5bc40d0a",
   "metadata": {},
   "outputs": [],
   "source": [
    "def hash_number(number):\n",
    "    sha = hashlib.sha256()\n",
    "    value = str(number).encode()\n",
    "    sha.update(value)\n",
    "    return sha.hexdigest()"
   ]
  },
  {
   "cell_type": "code",
   "execution_count": 23,
   "id": "dbf11d45-e3ab-4db0-94fe-0bdcbd545160",
   "metadata": {},
   "outputs": [
    {
     "name": "stdout",
     "output_type": "stream",
     "text": [
      "The first hash is 5feceb66ffc86f38d952786c6d696c79c2dbc239dd4e91b46729d73a27fb57e9\n"
     ]
    }
   ],
   "source": [
    "count = 0\n",
    "hash = hash_number(count)\n",
    "print(f\"The first hash is {hash}\")"
   ]
  },
  {
   "cell_type": "code",
   "execution_count": 24,
   "id": "a40046ef-6dcd-454e-9529-e5b873281732",
   "metadata": {},
   "outputs": [
    {
     "name": "stdout",
     "output_type": "stream",
     "text": [
      "Found a hash with four zeros after 88484 attempts\n",
      "0000a456e7b5a5eb059e721fb431436883143101275c4077f83fe70298f5623d\n"
     ]
    }
   ],
   "source": [
    "#check if hash starts with 0's\n",
    "while not hash.startswith(\"0000\"):\n",
    "    count += 1\n",
    "    hash = hash_number(count)\n",
    "\n",
    "print(f\"Found a hash with four zeros after {count} attempts\")\n",
    "print(hash)"
   ]
  },
  {
   "cell_type": "code",
   "execution_count": null,
   "id": "70e3583d-5ef1-453a-bc1d-1cacf3158daf",
   "metadata": {},
   "outputs": [],
   "source": []
  },
  {
   "cell_type": "code",
   "execution_count": 25,
   "id": "569a3312-e40e-4ac4-a65c-cc0068fabef3",
   "metadata": {},
   "outputs": [],
   "source": [
    "#02 - adding hash to block\n",
    "from dataclasses import dataclass\n",
    "from typing import Any\n",
    "import datetime as datetime\n",
    "import hashlib"
   ]
  },
  {
   "cell_type": "code",
   "execution_count": 26,
   "id": "95f86e17-dc36-428f-a8b4-e08aee273cb0",
   "metadata": {},
   "outputs": [],
   "source": [
    "@dataclass\n",
    "class Block:\n",
    "    data: Any\n",
    "    creator_id: int\n",
    "    prev_hash: str = \"0\"\n",
    "    timestamp: str = datetime.datetime.utcnow().strftime(\"%H:%M:%S\")\n",
    "    nonce: int = 0 #changes the blocks has without chnging the data in the block --> like the counter in above example\n",
    "\n",
    "# each attribute in the block class is in the hash_block function  \n",
    "    def hash_block(self):\n",
    "        sha = hashlib.sha256()\n",
    "\n",
    "        data = str(self.data).encode()\n",
    "        sha.update(data)\n",
    "\n",
    "        creator_id = str(self.creator_id).encode()\n",
    "        sha.update(data)\n",
    "\n",
    "        prev_hash = str(self.prev_hash).encode()\n",
    "        sha.update(prev_hash)\n",
    "\n",
    "        timestamp = str(self.timestamp).encode()\n",
    "        sha.update(timestamp)\n",
    "\n",
    "        nonce = str(self.nonce).encode()\n",
    "        sha.update(nonce)\n",
    "\n",
    "        return sha.hexdigest()"
   ]
  },
  {
   "cell_type": "code",
   "execution_count": 27,
   "id": "1f81a5a5-6207-49dc-b80b-f8175d7de903",
   "metadata": {},
   "outputs": [
    {
     "name": "stdout",
     "output_type": "stream",
     "text": [
      "The original nonce is: 0\n",
      "The original block hash is: c2b5d07942d352f2711cc581d962f4cb47980f829c0d84ac79a59348132e6c3c\n"
     ]
    }
   ],
   "source": [
    "# Create a test block and view the nonce and hash\n",
    "block = Block(\"test\", 1)\n",
    "print(f\"The original nonce is: {block.nonce}\")\n",
    "print(f\"The original block hash is: {block.hash_block()}\")"
   ]
  },
  {
   "cell_type": "code",
   "execution_count": 28,
   "id": "bb6b5ce8-3c89-4634-92d5-20fc5d149e66",
   "metadata": {},
   "outputs": [
    {
     "name": "stdout",
     "output_type": "stream",
     "text": [
      "The new nonce is now: 1\n",
      "The new block hash is now: df4af856425c45288e4c87bf090aa5652c6aff9e5997fd9779c4574ae26ce4e6\n"
     ]
    }
   ],
   "source": [
    "# Update the test block and view the nonce and hash\n",
    "block.nonce += 1\n",
    "print(f\"The new nonce is now: {block.nonce}\")\n",
    "print(f\"The new block hash is now: {block.hash_block()}\")"
   ]
  },
  {
   "cell_type": "code",
   "execution_count": null,
   "id": "7790e4af-67c9-49fa-b329-f84363c0d054",
   "metadata": {},
   "outputs": [],
   "source": []
  }
 ],
 "metadata": {
  "kernelspec": {
   "display_name": "Python 3 (ipykernel)",
   "language": "python",
   "name": "python3"
  },
  "language_info": {
   "codemirror_mode": {
    "name": "ipython",
    "version": 3
   },
   "file_extension": ".py",
   "mimetype": "text/x-python",
   "name": "python",
   "nbconvert_exporter": "python",
   "pygments_lexer": "ipython3",
   "version": "3.9.13"
  }
 },
 "nbformat": 4,
 "nbformat_minor": 5
}
