{
 "cells": [
  {
   "cell_type": "code",
   "execution_count": 1,
   "id": "090d403e-a47f-4a2a-9826-3c1b8afeb98c",
   "metadata": {},
   "outputs": [],
   "source": [
    "# Using a while loop, ask the user \"How many numbers?\" and then print out a chain of ascending numbers starting at 0.\n",
    "# After the results have printed, ask the user if they would like to continue.\n",
    "# If \"y\", restart the process, starting at 0 again.\n",
    "# If \"n\", exit the chain."
   ]
  },
  {
   "cell_type": "code",
   "execution_count": 5,
   "id": "0d038a9f-fa54-4e8a-a0ff-97b2276f86a2",
   "metadata": {},
   "outputs": [],
   "source": [
    "# Initial variable to track game play\n",
    "user_play = \"y\"\n",
    "\n",
    "#set start\n",
    "start_number = 0"
   ]
  },
  {
   "cell_type": "code",
   "execution_count": 6,
   "id": "4ff2978b-9fc9-4ace-9524-76b5499e5fe6",
   "metadata": {},
   "outputs": [
    {
     "name": "stdin",
     "output_type": "stream",
     "text": [
      "How many numbers?  5\n"
     ]
    },
    {
     "name": "stdout",
     "output_type": "stream",
     "text": [
      "0\n",
      "1\n",
      "2\n",
      "3\n",
      "4\n"
     ]
    },
    {
     "name": "stdin",
     "output_type": "stream",
     "text": [
      "Continue the chain: (y)es or (n)o?  n\n"
     ]
    }
   ],
   "source": [
    "# While we are still playing...\n",
    "while user_play == \"y\":\n",
    "\n",
    "    # Ask the user how many numbers to loop through\n",
    "    user_number = input(\"How many numbers? \")\n",
    "\n",
    "    # Loop through the numbers. (Be sure to cast the string into an integer.)\n",
    "    for x in range(start_number, int(user_number) + start_number):\n",
    "\n",
    "        # Print each number in the range\n",
    "        print(x)\n",
    "\n",
    "    # Set the next start number as the last number of the loop\n",
    "    start_number = start_number + int(user_number)\n",
    "\n",
    "    # Once complete...\n",
    "    user_play = input(\"Continue the chain: (y)es or (n)o? \")\n"
   ]
  },
  {
   "cell_type": "code",
   "execution_count": null,
   "id": "549667e3-4482-4920-bd56-9641cedf730b",
   "metadata": {},
   "outputs": [],
   "source": []
  },
  {
   "cell_type": "code",
   "execution_count": null,
   "id": "7453a621-1817-4a59-a0bd-5fa45450e7a4",
   "metadata": {},
   "outputs": [],
   "source": []
  }
 ],
 "metadata": {
  "kernelspec": {
   "display_name": "Python 3 (ipykernel)",
   "language": "python",
   "name": "python3"
  },
  "language_info": {
   "codemirror_mode": {
    "name": "ipython",
    "version": 3
   },
   "file_extension": ".py",
   "mimetype": "text/x-python",
   "name": "python",
   "nbconvert_exporter": "python",
   "pygments_lexer": "ipython3",
   "version": "3.7.13"
  }
 },
 "nbformat": 4,
 "nbformat_minor": 5
}
