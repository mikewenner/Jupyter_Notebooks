{
 "cells": [
  {
   "cell_type": "code",
   "execution_count": 1,
   "id": "1ac94766-3c75-44b8-adf2-0c460815ccbd",
   "metadata": {},
   "outputs": [],
   "source": [
    "# In this activity, you will create a validation function for checking the strength of a password. \n",
    "# The focus of this activity is the logic behind the checker.\n",
    "# Password strengths are as follows:\n",
    "# A very weak password contains 6 or fewer characters consisting only of numbers.\n",
    "# A very strong password has more than 6 characters consisting of at least one number and at least one letter.\n",
    "# Any other type of password is of average strength."
   ]
  },
  {
   "cell_type": "code",
   "execution_count": 2,
   "id": "672fa57c-f11a-4946-b9c6-31a416f75e0f",
   "metadata": {},
   "outputs": [],
   "source": [
    "import string\n",
    "\n",
    "# initialize string variables representing all valid letters and digits, respectively.\n",
    "valid_characters = string.ascii_letters\n",
    "valid_numbers = string.digits"
   ]
  },
  {
   "cell_type": "code",
   "execution_count": 22,
   "id": "8037c803-e50c-4984-bd28-46bfdc6a21f7",
   "metadata": {},
   "outputs": [],
   "source": [
    "# Define a function called `check_strength` that takes in a string parameter called `password`.\n",
    "def check_strength(password):\n",
    "    # Create two boolean variables called `contains_number` and `contains_letter`. Set them to False.\n",
    "    contains_number = False\n",
    "    contains_letter = False\n",
    "\n",
    "    # Initialize a `count` variable and set it to 0.\n",
    "    count = 0\n",
    "\n",
    "    # Loop through each character in the `password` and increment the `count` variable by 1 for each character.\n",
    "    for character in password:\n",
    "        count += 1\n",
    "\n",
    "        # Create an if-else statement that loops through each character in `password` and updates `contains_number` or `contains_letter` to True.\n",
    "        if character in valid_characters:\n",
    "            contains_letter = True\n",
    "        elif character in valid_numbers:\n",
    "            contains_number = True\n",
    "\n",
    "    # check count and letters and numbers and print corresponding reply\n",
    "    if count <= 6 and contains_number == True and contains_letter == False:\n",
    "        print(\"Your password is too weak.\")\n",
    "    elif count > 6 and contains_number == True and contains_letter == True:\n",
    "        print(\"Your password is a strong password.\")\n",
    "    else:\n",
    "        print(\"Your password is of average strength.\")\n"
   ]
  },
  {
   "cell_type": "code",
   "execution_count": 23,
   "id": "8a971d9a-e931-475c-8099-3d79d2d6fd28",
   "metadata": {},
   "outputs": [
    {
     "name": "stdin",
     "output_type": "stream",
     "text": [
      "input your password mm0121ww\n"
     ]
    },
    {
     "name": "stdout",
     "output_type": "stream",
     "text": [
      "Your password is a strong password.\n"
     ]
    }
   ],
   "source": [
    "# Declare a variable as `user_input_password` with an input stating \"Input your password: \".\n",
    "user_password = input(\"input your password\")\n",
    "# Call the check_strength function with the `user_input_password`.\n",
    "check_strength(user_password)"
   ]
  },
  {
   "cell_type": "code",
   "execution_count": null,
   "id": "5275494b-287d-4e9f-b41b-d1885f038668",
   "metadata": {},
   "outputs": [],
   "source": []
  }
 ],
 "metadata": {
  "kernelspec": {
   "display_name": "Python 3 (ipykernel)",
   "language": "python",
   "name": "python3"
  },
  "language_info": {
   "codemirror_mode": {
    "name": "ipython",
    "version": 3
   },
   "file_extension": ".py",
   "mimetype": "text/x-python",
   "name": "python",
   "nbconvert_exporter": "python",
   "pygments_lexer": "ipython3",
   "version": "3.7.13"
  }
 },
 "nbformat": 4,
 "nbformat_minor": 5
}
