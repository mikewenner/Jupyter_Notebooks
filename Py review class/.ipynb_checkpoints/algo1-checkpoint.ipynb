{
 "cells": [
  {
   "cell_type": "code",
   "execution_count": 1,
   "id": "5c042c18-40c2-49f3-b847-df2dcc6f4a34",
   "metadata": {},
   "outputs": [],
   "source": [
    "# Import the `random` library.\n",
    "import random"
   ]
  },
  {
   "cell_type": "code",
   "execution_count": 2,
   "id": "11c9becf-b904-4c4a-a5c5-1a81c74a34d4",
   "metadata": {},
   "outputs": [],
   "source": [
    "# QUESTION 1: Create a function called `number_guess` that takes in an integer as an argument.\n",
    "# If the number is 42, print(true). If it isn't 42, print(false)\n",
    "\n",
    "def number_guess(integer):\n",
    "    if integer == 42:\n",
    "        print(\"true\")\n",
    "    else:\n",
    "        print(\"false\")"
   ]
  },
  {
   "cell_type": "code",
   "execution_count": 4,
   "id": "20dbac0d-4f2b-4f72-9da2-e5ca6f85a48d",
   "metadata": {},
   "outputs": [
    {
     "name": "stdout",
     "output_type": "stream",
     "text": [
      "Number 40\n",
      "false\n"
     ]
    }
   ],
   "source": [
    "# This code is to help you test your function\n",
    "test_num = random.randint(40, 45)\n",
    "print(f\"Number {test_num}\")\n",
    "number_guess(test_num)"
   ]
  },
  {
   "cell_type": "code",
   "execution_count": 1,
   "id": "11a7336c-6462-414e-9c25-da2126b06630",
   "metadata": {},
   "outputs": [],
   "source": [
    "# QUESTION 2: Write a function that takes in a list of numbers. \n",
    "# the function should print the smallest number in the given list\n",
    "def smallest_num(list_of_nums):\n",
    "    minimum = 0\n",
    "    \n",
    "    for num in list_of_nums:\n",
    "        if minimum == 0:\n",
    "            minimum = num\n",
    "        elif num < minimum:\n",
    "            minimum = num\n",
    "            \n",
    "    print(f\"the smallest number is: {minimum}\")"
   ]
  },
  {
   "cell_type": "code",
   "execution_count": 2,
   "id": "e8927882-a795-4c98-acb1-7804cfdb179b",
   "metadata": {},
   "outputs": [
    {
     "name": "stdout",
     "output_type": "stream",
     "text": [
      "the smallest number is: 3\n"
     ]
    }
   ],
   "source": [
    "# This code is to help you test your function\n",
    "nums = [10, 11, 3, 123, 54, 6, 67]\n",
    "smallest_num(nums)"
   ]
  },
  {
   "cell_type": "code",
   "execution_count": 3,
   "id": "d0dc9075-c9aa-462c-8cca-bcf442e0df45",
   "metadata": {},
   "outputs": [],
   "source": [
    "# QUESTION 3: Write a function which takes in a list of strings. The function should print the shortest string in the list.\n",
    "    "
   ]
  },
  {
   "cell_type": "code",
   "execution_count": 4,
   "id": "f4c82bd8-39ef-485b-935d-0dceeeb6c148",
   "metadata": {},
   "outputs": [],
   "source": [
    "#QUESTION 4: Write a function that takes in three arguments: a high value, a low value and a list of numbers.\n",
    "# The function should print a new list of numbers where the elements are greater than the low value and less than the high value\n",
    "\n",
    "def new_list(high_value, low_value, list_of_nums):\n",
    "    new_list = []\n",
    "    for num in list_of_nums:\n",
    "        if low_value < num < high_value:\n",
    "            new_list.append(num)\n",
    "    return new_list"
   ]
  },
  {
   "cell_type": "code",
   "execution_count": 29,
   "id": "d3f060ee-3b30-4926-978d-46f75bb17788",
   "metadata": {},
   "outputs": [
    {
     "data": {
      "text/plain": [
       "[15, 18, 11]"
      ]
     },
     "execution_count": 29,
     "metadata": {},
     "output_type": "execute_result"
    }
   ],
   "source": [
    "# This code is to help you test your function\n",
    "high = 20\n",
    "low = 10\n",
    "arr = [2,5,99,15,23,18,11,21]\n",
    "\n",
    "new_list(high, low, arr)"
   ]
  },
  {
   "cell_type": "code",
   "execution_count": null,
   "id": "522122cb-6d20-4c5d-8032-1bb925a72bd8",
   "metadata": {},
   "outputs": [],
   "source": []
  }
 ],
 "metadata": {
  "kernelspec": {
   "display_name": "Python 3 (ipykernel)",
   "language": "python",
   "name": "python3"
  },
  "language_info": {
   "codemirror_mode": {
    "name": "ipython",
    "version": 3
   },
   "file_extension": ".py",
   "mimetype": "text/x-python",
   "name": "python",
   "nbconvert_exporter": "python",
   "pygments_lexer": "ipython3",
   "version": "3.7.13"
  }
 },
 "nbformat": 4,
 "nbformat_minor": 5
}
