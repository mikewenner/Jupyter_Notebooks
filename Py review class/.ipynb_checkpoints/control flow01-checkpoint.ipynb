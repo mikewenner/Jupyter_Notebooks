{
 "cells": [
  {
   "cell_type": "code",
   "execution_count": 1,
   "id": "51d52d45-6c6f-415f-b866-62929b5694f5",
   "metadata": {},
   "outputs": [],
   "source": [
    "# Create a list called 'farm' with the elements \"pig\", \"cow\", \"chicken\", \"dog\", \"horse\", \"sheep\".\n",
    "farm = [\"pig\", \"cow\", \"chicken\", \"dog\", \"horse\", \"sheep\"]"
   ]
  },
  {
   "cell_type": "code",
   "execution_count": 4,
   "id": "c32d089a-98f2-4373-bfbd-31cad91bdbc1",
   "metadata": {},
   "outputs": [
    {
     "name": "stdout",
     "output_type": "stream",
     "text": [
      "RWAR\n"
     ]
    }
   ],
   "source": [
    "# Write an if statement that prints the string \"RWAR!\" if the first element of farm is NOT \"Godzilla\".\n",
    "if farm[0] != \"Godzilla\":\n",
    "    print(\"RWAR\")\n",
    "# Write an else if statement that prints the string \"SCREECH!\" if the last element of farm is \"Mothra\".\n",
    "elif farm[-1] == \"Mothra\":\n",
    "    print(\"SCREECH\")\n",
    "# Else, print the string \"This animal is neither Godzilla nor Mothra!\".\n",
    "else:\n",
    "    print(\"this animal is neither godzilla or mothra\")"
   ]
  },
  {
   "cell_type": "code",
   "execution_count": 5,
   "id": "00a17544-9dc3-4d86-ab23-6c4fa5456db6",
   "metadata": {},
   "outputs": [],
   "source": [
    "# Declare a variable named 'dog' with a string of \"Spot\".\n",
    "dog = \"Spot\"\n",
    "# Declare 3 variables `cat`, `city`, `car` without assigning them values.\n",
    "cat = \"\"\n",
    "city = \"\"\n",
    "car = \"\""
   ]
  },
  {
   "cell_type": "code",
   "execution_count": 6,
   "id": "e5db23e8-761a-4d19-a5b2-395b2666eb86",
   "metadata": {},
   "outputs": [],
   "source": [
    "# Assign the string \"Farley\" to `cat`.\n",
    "# Assign the string \"San Francisco\" to `city`.\n",
    "# Assign the string \"Prius\" to `car`.\n",
    "cat = \"Farley\"\n",
    "city = \"San Francisco\"\n",
    "car = \"Prius\""
   ]
  },
  {
   "cell_type": "code",
   "execution_count": 7,
   "id": "7560c7ef-5ed7-4d82-b4dc-0a2d6d4dbf41",
   "metadata": {},
   "outputs": [
    {
     "name": "stdout",
     "output_type": "stream",
     "text": [
      "See Spot run\n"
     ]
    }
   ],
   "source": [
    "# Using string concatenation, print out the sentence \"See Spot run!\".\n",
    "print(f\"See {dog} run\")"
   ]
  },
  {
   "cell_type": "code",
   "execution_count": 8,
   "id": "5c5b5832-d0c4-4353-9bf3-113176ae47da",
   "metadata": {},
   "outputs": [
    {
     "name": "stdout",
     "output_type": "stream",
     "text": [
      "I drive Farley arounf San Francisco in my Prius\n"
     ]
    }
   ],
   "source": [
    "# Using string concatenation, print out the sentence \"I drive Farley around San Francisco in my Prius\".\n",
    "print(f\"I drive {cat} arounf {city} in my {car}\")"
   ]
  },
  {
   "cell_type": "code",
   "execution_count": 9,
   "id": "676eef3d-bd51-4019-adb9-08fc5ea6d96b",
   "metadata": {},
   "outputs": [],
   "source": [
    "# Declare a variable budget and assign it a value of 5000.\n",
    "# Declare a variable rent_cost and assign it a value of 1500.\n",
    "# Declare a variable utilities_cost and assign it a value of 150.\n",
    "# Declare a variable food_cost and assign it a value of 250.\n",
    "# Declare a variable transportation_cost and assign it a value of 350.\n",
    "# Declare a variable computer_cost and assign it a value of 2000.\n",
    "budget = 5000\n",
    "rent_cost = 1500\n",
    "utilities_cost = 150\n",
    "food_cost = 250\n",
    "transportation_cost = 350\n",
    "computer_cost = 2000"
   ]
  },
  {
   "cell_type": "code",
   "execution_count": 10,
   "id": "3e6b37e8-8af8-4ff7-87d3-012944fd3619",
   "metadata": {},
   "outputs": [],
   "source": [
    "# Declare a variable called total_cost that takes the sum of all costs above (excluding budget).\n",
    "total_cost = budget + rent_cost + utilities_cost + food_cost + transportation_cost + computer_cost"
   ]
  },
  {
   "cell_type": "code",
   "execution_count": 11,
   "id": "e17991bf-e138-4949-9057-0c3b698de646",
   "metadata": {},
   "outputs": [
    {
     "name": "stdout",
     "output_type": "stream",
     "text": [
      "Your over budget by 4250\n"
     ]
    }
   ],
   "source": [
    "# Write an if statement that checks whether the sum of all our costs is within the budget.\n",
    "# If so, print \"You're total cost is \" concatentated with the `total_cost` variable.\n",
    "# Else, print \"You're over budget by \" concatenated with the difference between `budget` and `total_cost`.\n",
    "if total_cost < budget:\n",
    "    print(f\"Your total cost is {total_cost}\")\n",
    "else:\n",
    "    print(f\"Your over budget by {total_cost - budget}\")"
   ]
  },
  {
   "cell_type": "code",
   "execution_count": 12,
   "id": "c8903633-43b9-4a2b-bb3c-9dd147064ea8",
   "metadata": {},
   "outputs": [
    {
     "name": "stdout",
     "output_type": "stream",
     "text": [
      "The rent of 1500 is too high!\n"
     ]
    }
   ],
   "source": [
    "# Write an if statement that checks whether the rent_cost is larger than the sum of the `utilities_cost`, `food_cost`,\n",
    "# and `transportation_cost`. If so, print a string that says \"The rent is too damn high!\".\n",
    "# Else, print a string that says \"Ahhh just right!\"\n",
    "if rent_cost > utilities_cost + food_cost + transportation_cost:\n",
    "    print(f\"The rent of {rent_cost} is too high!\")\n",
    "else:\n",
    "    print(f\"Ahh just right\")"
   ]
  },
  {
   "cell_type": "code",
   "execution_count": null,
   "id": "5f407002-e47e-4aaf-ad15-13f833187e45",
   "metadata": {},
   "outputs": [],
   "source": []
  }
 ],
 "metadata": {
  "kernelspec": {
   "display_name": "Python 3 (ipykernel)",
   "language": "python",
   "name": "python3"
  },
  "language_info": {
   "codemirror_mode": {
    "name": "ipython",
    "version": 3
   },
   "file_extension": ".py",
   "mimetype": "text/x-python",
   "name": "python",
   "nbconvert_exporter": "python",
   "pygments_lexer": "ipython3",
   "version": "3.7.13"
  }
 },
 "nbformat": 4,
 "nbformat_minor": 5
}
