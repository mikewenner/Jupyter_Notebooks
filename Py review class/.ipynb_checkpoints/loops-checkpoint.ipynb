{
 "cells": [
  {
   "cell_type": "code",
   "execution_count": 1,
   "id": "e4bb6cce-3307-48d2-b227-9a186cc719b6",
   "metadata": {},
   "outputs": [],
   "source": [
    "# Declare an empty list named `our_list`.\n",
    "our_list = []"
   ]
  },
  {
   "cell_type": "code",
   "execution_count": 4,
   "id": "71dc0448-52a8-4880-ab8c-aadb80f01d7b",
   "metadata": {},
   "outputs": [],
   "source": [
    "# Use the `append` list function to append the number 1 into `our_list`.\n",
    "our_list.append(1)"
   ]
  },
  {
   "cell_type": "code",
   "execution_count": 6,
   "id": "164914ff-f0b8-4113-b1fe-927426ca04f2",
   "metadata": {},
   "outputs": [],
   "source": [
    "# Append the string \"hello\" into `our_list`.\n",
    "# Append the boolean False into `our_list`.\n",
    "# Append the number 84 into `our_list`.\n",
    "# Append the string \"world\" into `our_list`\n",
    "our_list.append(\"hello\")\n",
    "our_list.append(False)\n",
    "our_list.append(84)\n",
    "our_list.append(\"world\")"
   ]
  },
  {
   "cell_type": "code",
   "execution_count": 7,
   "id": "9951a7e6-4f70-4b86-9076-dc3f9d28c15c",
   "metadata": {},
   "outputs": [
    {
     "name": "stdout",
     "output_type": "stream",
     "text": [
      "Our List: [1, 1, 'hello', False, 84, 'world']\n"
     ]
    }
   ],
   "source": [
    "# Print `our_list`\n",
    "print(f\"Our List: {our_list}\")"
   ]
  },
  {
   "cell_type": "code",
   "execution_count": 8,
   "id": "efd7b59b-71c5-4c2c-bf2f-ecbeb2d27f36",
   "metadata": {},
   "outputs": [],
   "source": [
    "# Declare a variable named `one_to_ten` and assign it an list containing the numbers from 1 to 10.\n",
    "one_to_ten = [1, 2, 3, 4, 5, 6, 7, 8, 9, 10]"
   ]
  },
  {
   "cell_type": "code",
   "execution_count": 9,
   "id": "926d2a0b-7a98-4df5-b83c-94c0ce4d5869",
   "metadata": {},
   "outputs": [
    {
     "name": "stdout",
     "output_type": "stream",
     "text": [
      "4\n",
      "7\n"
     ]
    }
   ],
   "source": [
    "# Print the 4th element from `one_to_ten`.\n",
    "# Print the 7th element from `one_to_ten`.\n",
    "print(one_to_ten[3])\n",
    "print(one_to_ten[6])"
   ]
  },
  {
   "cell_type": "code",
   "execution_count": 10,
   "id": "b860edca-e1c6-4c63-bfdf-d977ced40157",
   "metadata": {},
   "outputs": [],
   "source": [
    "# We've declared this list for you\n",
    "num_list = [2, 65, 3, 7, 39, 22, 11, 94, 299, 9, 20, 21, 51, 37]"
   ]
  },
  {
   "cell_type": "code",
   "execution_count": 11,
   "id": "e6c47bba-5f8a-4e82-a050-65ab02fe6744",
   "metadata": {},
   "outputs": [
    {
     "name": "stdout",
     "output_type": "stream",
     "text": [
      "65\n",
      "94\n",
      "299\n",
      "51\n"
     ]
    }
   ],
   "source": [
    "# Iterate through the provided `num_list` and create an if-else statement to print every number greater than 50\n",
    "for num in num_list:\n",
    "    if num > 50:\n",
    "        print(num)"
   ]
  },
  {
   "cell_type": "code",
   "execution_count": 16,
   "id": "5225b1fe-fe76-4cc5-bd2e-b6917f1da351",
   "metadata": {},
   "outputs": [
    {
     "name": "stdout",
     "output_type": "stream",
     "text": [
      "6\n"
     ]
    }
   ],
   "source": [
    "# Iterate through the provided `num_list` and use the `index` function to print the index of the first occurrence of the number 11.\n",
    "index = 0\n",
    "\n",
    "for num in num_list:\n",
    "    if num == 11:\n",
    "        print(index)\n",
    "    index += 1"
   ]
  },
  {
   "cell_type": "code",
   "execution_count": 17,
   "id": "c02e42a3-6b83-409e-8ec5-571334a97136",
   "metadata": {},
   "outputs": [
    {
     "name": "stdout",
     "output_type": "stream",
     "text": [
      "680\n"
     ]
    }
   ],
   "source": [
    "# Iterate through the provided `num_list` and print the sum of all the numbers.\n",
    "sum = 0\n",
    "\n",
    "for num in num_list:\n",
    "    sum += num\n",
    "print(sum)"
   ]
  },
  {
   "cell_type": "code",
   "execution_count": 19,
   "id": "fcd4d786-bbac-4f37-b100-243f6851af1b",
   "metadata": {},
   "outputs": [
    {
     "name": "stdout",
     "output_type": "stream",
     "text": [
      "509\n"
     ]
    }
   ],
   "source": [
    "# Iterate through the provided `num_list` and create an if-else statement to print the sum of all the numbers greater than 50.\n",
    "sum_greater_50 = 0\n",
    "\n",
    "for num in num_list:\n",
    "    if num >= 50:\n",
    "        sum_greater_50 += num\n",
    "print(sum_greater_50)"
   ]
  },
  {
   "cell_type": "code",
   "execution_count": 21,
   "id": "b32d318d-3541-4d11-b790-3f3be838a327",
   "metadata": {},
   "outputs": [
    {
     "name": "stdout",
     "output_type": "stream",
     "text": [
      "138\n"
     ]
    }
   ],
   "source": [
    "# Iterate through the provided `num_list` and create an if-else statement to print the sum of all the even numbers.\n",
    "sum_even = 0\n",
    "\n",
    "for num in num_list:\n",
    "    if num %2 == 0:\n",
    "        sum_even += num\n",
    "print(sum_even)"
   ]
  },
  {
   "cell_type": "code",
   "execution_count": 22,
   "id": "f11b9328-2924-4c9e-ab63-6fdd1e4cd09b",
   "metadata": {},
   "outputs": [],
   "source": [
    "fruits = [\n",
    "  \"Apple\", \"Orange\", \"Banana\", \"Pomelo\", \"Apple\", \"Kiwi\", \"Peach\", \"Banana\", \"Grape\", \"Tomato\",\n",
    "  \"Kiwi\", \"Apple\", \"Watermelon\", \"Lemon\", \"Pomelo\", \"Apple\", \"Banana\", \"Peach\", \"Apricot\", \"Grape\"]\n"
   ]
  },
  {
   "cell_type": "code",
   "execution_count": 24,
   "id": "259eb319-cf03-4db6-b385-4cd59a15d961",
   "metadata": {},
   "outputs": [
    {
     "name": "stdout",
     "output_type": "stream",
     "text": [
      "4\n"
     ]
    }
   ],
   "source": [
    "# Iterate through the provided `fruits` list and print the number of times \"Apple\" appears in the list.\n",
    "apple_qty = 0\n",
    "\n",
    "for fruit in fruits:\n",
    "    if fruit == \"Apple\":\n",
    "        apple_qty += 1\n",
    "print(apple_qty)"
   ]
  },
  {
   "cell_type": "code",
   "execution_count": 26,
   "id": "f3d3cc1e-912d-447f-bc78-f06ec178ac8e",
   "metadata": {},
   "outputs": [
    {
     "name": "stdout",
     "output_type": "stream",
     "text": [
      "2\n"
     ]
    }
   ],
   "source": [
    "# Iterate through the provided `fruits` list and print the number of times \"Peach\" appears in the list.\n",
    "peach_qty = 0\n",
    "\n",
    "for fruit in fruits:\n",
    "    if fruit == \"Peach\":\n",
    "        peach_qty += 1\n",
    "print(peach_qty)"
   ]
  },
  {
   "cell_type": "code",
   "execution_count": 28,
   "id": "2aab2c82-7d8a-4eee-8aa2-f4c30a61c11e",
   "metadata": {},
   "outputs": [
    {
     "name": "stdout",
     "output_type": "stream",
     "text": [
      "4\n"
     ]
    }
   ],
   "source": [
    "# Iterate through the provided `fruits` list and print the number of fruits that start with \"P\" in the list.\n",
    "fruits_start_p = 0\n",
    "\n",
    "for fruit in fruits:\n",
    "    if fruit[0] == \"p\" or fruit[0] == \"P\":\n",
    "        fruits_start_p  += 1\n",
    "        \n",
    "print(fruits_start_p)"
   ]
  },
  {
   "cell_type": "code",
   "execution_count": 29,
   "id": "d60b052b-a7b6-483f-88af-f42dafea63ae",
   "metadata": {},
   "outputs": [],
   "source": [
    "# Create a new empty list named `unique_fruits`.\n",
    "unique_fruits = []"
   ]
  },
  {
   "cell_type": "code",
   "execution_count": 30,
   "id": "c2bf7f27-781c-48d4-905c-d3b2a26281bf",
   "metadata": {},
   "outputs": [],
   "source": [
    "# Iterate through `fruits` and populate `unique_fruits` with only unique values from \n",
    "# `fruits`. Hint: try looking up \"not in\" conditionals for if statements\n",
    "\n",
    "for fruit in fruits:\n",
    "    if fruit not in unique_fruits:\n",
    "        unique_fruits.append(fruit)"
   ]
  },
  {
   "cell_type": "code",
   "execution_count": 31,
   "id": "091736bf-5c66-4ccb-b96f-f1e3a50a5f65",
   "metadata": {},
   "outputs": [
    {
     "name": "stdout",
     "output_type": "stream",
     "text": [
      "Unique Fruits: ['Apple', 'Orange', 'Banana', 'Pomelo', 'Kiwi', 'Peach', 'Grape', 'Tomato', 'Watermelon', 'Lemon', 'Apricot']\n"
     ]
    }
   ],
   "source": [
    "print(f\"Unique Fruits: {unique_fruits}\")"
   ]
  },
  {
   "cell_type": "code",
   "execution_count": 35,
   "id": "1862156a-dc02-4330-af72-c3d8f4907af9",
   "metadata": {},
   "outputs": [],
   "source": [
    "# In this challenge we're going to be working with nested lists.\n",
    "# You can store any type of data within an list- even other lists!\n",
    "two_dim_list = [\n",
    "  [54, 6, 7, 46, 78],\n",
    "  [43, 9, 6, 65, 65],\n",
    "  [32, 1, 44, 1, 23],\n",
    "  [55, 12, 2, 34, 2],\n",
    "  [2, 12, 44, 2, 12]]"
   ]
  },
  {
   "cell_type": "code",
   "execution_count": 36,
   "id": "bd45ca70-cc66-4e34-ac00-65fee8230a86",
   "metadata": {},
   "outputs": [
    {
     "name": "stdout",
     "output_type": "stream",
     "text": [
      "6\n",
      "7\n"
     ]
    }
   ],
   "source": [
    "# Iterate through the first list inside `two_dim_list` and print all the numbers less than 25.\n",
    "for num in two_dim_list[0]:\n",
    "    if num < 25:\n",
    "        print(num)"
   ]
  },
  {
   "cell_type": "code",
   "execution_count": 37,
   "id": "b98b831e-abfb-47fb-b40f-9d7854b69188",
   "metadata": {},
   "outputs": [
    {
     "name": "stdout",
     "output_type": "stream",
     "text": [
      "9\n",
      "6\n"
     ]
    }
   ],
   "source": [
    "# Iterate through the second list inside `two_dim_list` and print all the numbers less than 25.\n",
    "for num in two_dim_list[1]:\n",
    "    if num < 25:\n",
    "        print(num)"
   ]
  },
  {
   "cell_type": "code",
   "execution_count": 38,
   "id": "f5bf008d-fefc-40f6-9e0d-6e55ca4cb586",
   "metadata": {},
   "outputs": [
    {
     "name": "stdout",
     "output_type": "stream",
     "text": [
      "2\n",
      "12\n",
      "2\n",
      "12\n"
     ]
    }
   ],
   "source": [
    "# Iterate through the fifth list inside `two_dim_list` and print all the numbers less than 25.\n",
    "for num in two_dim_list[-1]:\n",
    "    if num < 25:\n",
    "        print(num)"
   ]
  },
  {
   "cell_type": "code",
   "execution_count": 40,
   "id": "7aa94176-5049-463c-ba43-f208b41d88a8",
   "metadata": {},
   "outputs": [
    {
     "name": "stdout",
     "output_type": "stream",
     "text": [
      "7\n",
      "43\n",
      "9\n",
      "65\n",
      "65\n",
      "1\n",
      "1\n",
      "23\n",
      "55\n"
     ]
    }
   ],
   "source": [
    "# Iterate through `two_dim_list` and the lists inside of it and print all the odd numbers.\n",
    "for one_dim_list in two_dim_list:\n",
    "    for num in one_dim_list:\n",
    "        if num % 2 != 0:\n",
    "            print(num)"
   ]
  },
  {
   "cell_type": "code",
   "execution_count": 42,
   "id": "69829417-f289-4741-a0f7-b95aa7e5647e",
   "metadata": {},
   "outputs": [
    {
     "name": "stdout",
     "output_type": "stream",
     "text": [
      "189\n"
     ]
    }
   ],
   "source": [
    "# Iterate through `two_dim_list` and the lists inside of it and print the sum of all the numbers that are a multiple of 3.\n",
    "sum = 0\n",
    "\n",
    "for one_dim_list in two_dim_list:\n",
    "    for num in one_dim_list:\n",
    "        if num % 3 == 0:\n",
    "            sum += num\n",
    "print(sum)     "
   ]
  },
  {
   "cell_type": "code",
   "execution_count": null,
   "id": "14c0c4ee-dd08-4890-b024-900a5d5ab34a",
   "metadata": {},
   "outputs": [],
   "source": []
  }
 ],
 "metadata": {
  "kernelspec": {
   "display_name": "Python 3 (ipykernel)",
   "language": "python",
   "name": "python3"
  },
  "language_info": {
   "codemirror_mode": {
    "name": "ipython",
    "version": 3
   },
   "file_extension": ".py",
   "mimetype": "text/x-python",
   "name": "python",
   "nbconvert_exporter": "python",
   "pygments_lexer": "ipython3",
   "version": "3.7.13"
  }
 },
 "nbformat": 4,
 "nbformat_minor": 5
}
