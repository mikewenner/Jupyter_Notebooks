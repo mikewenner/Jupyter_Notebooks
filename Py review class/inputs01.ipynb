{
 "cells": [
  {
   "cell_type": "code",
   "execution_count": 1,
   "id": "ac667100-3f52-4601-bae1-987f0f8d3a73",
   "metadata": {},
   "outputs": [
    {
     "name": "stdin",
     "output_type": "stream",
     "text": [
      "Welcome to the sandwich shop, what do I call you? mike\n"
     ]
    }
   ],
   "source": [
    "# Declare a variable `welcome_name` as an input with a string of \"Welcome to the sandwich shop, what do I call you?\".\n",
    "welcome_name = input(\"Welcome to the sandwich shop, what do I call you?\")"
   ]
  },
  {
   "cell_type": "code",
   "execution_count": 2,
   "id": "f2d8425c-5fe9-44a1-b1a5-9c197eed4f83",
   "metadata": {},
   "outputs": [
    {
     "name": "stdout",
     "output_type": "stream",
     "text": [
      "Hello, mike\n"
     ]
    }
   ],
   "source": [
    "# Then print the string \"Hello\" concatenated with the variable `welcome_name`.\n",
    "print(f\"Hello, {welcome_name}\")"
   ]
  },
  {
   "cell_type": "code",
   "execution_count": 11,
   "id": "5d40819a-f1d5-4dc6-b767-991c534f1bd9",
   "metadata": {},
   "outputs": [
    {
     "name": "stdin",
     "output_type": "stream",
     "text": [
      "Are you here for a sandwich? Yes or No? Yes\n"
     ]
    }
   ],
   "source": [
    "# Declare a variable `question_sandwich` as an input with a string of \"Are you here for a sandwich?\".\n",
    "question_sandwich = input(\"Are you here for a sandwich? Yes or No?\")"
   ]
  },
  {
   "cell_type": "code",
   "execution_count": 12,
   "id": "5edbb576-b075-4bb4-a542-6b8fd6bb6dad",
   "metadata": {},
   "outputs": [
    {
     "name": "stdin",
     "output_type": "stream",
     "text": [
      "What kind of sandwich would you like? turkey\n"
     ]
    },
    {
     "name": "stdout",
     "output_type": "stream",
     "text": [
      "please wait 10 mins for turkey\n"
     ]
    }
   ],
   "source": [
    "# If `question_sandwich` is equal to true declare a variable `food_prompt` as an input with a string of \n",
    "# \"What kind of sandwich would you like?\".\n",
    "# Then print a string of \"Please wait 10 min for your \" concatenated with the variable `food_prompt`.\n",
    "# Else If `question_sandwich` is false, print a string of \"If you don't want a sandwich what are you here for?!\".\n",
    "# Else print a string of \"You did not write Yes or No!\"\n",
    "if question_sandwich == \"Yes\":\n",
    "    food_prompt = input(\"What kind of sandwich would you like?\")\n",
    "    print(f\"please wait 10 mins for {food_prompt}\")\n",
    "elif question_sandwich == \"No\":\n",
    "    print(f\"If you don't want a sandwich what are you here for?!\")\n",
    "else:\n",
    "    print(\"You did not write Yes or No!\")"
   ]
  },
  {
   "cell_type": "code",
   "execution_count": null,
   "id": "9028e7db-d5eb-40cc-9c3b-cdc4def61356",
   "metadata": {},
   "outputs": [],
   "source": []
  }
 ],
 "metadata": {
  "kernelspec": {
   "display_name": "Python 3 (ipykernel)",
   "language": "python",
   "name": "python3"
  },
  "language_info": {
   "codemirror_mode": {
    "name": "ipython",
    "version": 3
   },
   "file_extension": ".py",
   "mimetype": "text/x-python",
   "name": "python",
   "nbconvert_exporter": "python",
   "pygments_lexer": "ipython3",
   "version": "3.7.13"
  }
 },
 "nbformat": 4,
 "nbformat_minor": 5
}
