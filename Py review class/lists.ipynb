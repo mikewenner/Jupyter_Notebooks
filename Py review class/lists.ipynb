{
 "cells": [
  {
   "cell_type": "code",
   "execution_count": 1,
   "id": "5c5d6e0f-4b8d-4970-bbdb-d010f47f80a9",
   "metadata": {},
   "outputs": [],
   "source": [
    "# Create a list, `list_1`,  with `0`, `1`, `2`, `3` as values.\n",
    "# Create a list, `list_2` with `4`, `5`, `6`, `7` as values.\n",
    "# Create a list, `list_3` with `8`, `9`, `10`, `11` as values.\n",
    "# Create a list, `list_4` with `12`, `13`, `14`, `15` as values.\n",
    "list_1 = [0, 1, 2, 3]\n",
    "list_2 = [4, 5, 6, 7]\n",
    "list_3 = [8, 9, 10, 11]\n",
    "list_4 = [12, 13, 14, 15]"
   ]
  },
  {
   "cell_type": "code",
   "execution_count": 2,
   "id": "0fa81a31-11f7-4c7b-ba5c-b6299ef9f8ae",
   "metadata": {},
   "outputs": [
    {
     "name": "stdout",
     "output_type": "stream",
     "text": [
      "2\n"
     ]
    }
   ],
   "source": [
    "# Print the 3rd index of `list_1`.\n",
    "print(list_1[2])"
   ]
  },
  {
   "cell_type": "code",
   "execution_count": 3,
   "id": "fad5d909-0adb-4171-997f-9ec700b8c2fa",
   "metadata": {},
   "outputs": [
    {
     "name": "stdout",
     "output_type": "stream",
     "text": [
      "4\n"
     ]
    }
   ],
   "source": [
    "# Print the 1st index of `list_2`.\n",
    "print(list_2[0])"
   ]
  },
  {
   "cell_type": "code",
   "execution_count": 4,
   "id": "1eab33b2-dd0d-46c8-834a-c5c7e33a570c",
   "metadata": {},
   "outputs": [
    {
     "name": "stdout",
     "output_type": "stream",
     "text": [
      "9\n"
     ]
    }
   ],
   "source": [
    "# Print the 2nd index of `list_3`.\n",
    "print(list_3[1])"
   ]
  },
  {
   "cell_type": "code",
   "execution_count": 5,
   "id": "e5450b45-bd42-4acc-a09a-d0b2723fa93d",
   "metadata": {},
   "outputs": [
    {
     "name": "stdout",
     "output_type": "stream",
     "text": [
      "15\n"
     ]
    }
   ],
   "source": [
    "# Print the 4th index of `list_4`.\n",
    "print(list_4[-1])"
   ]
  },
  {
   "cell_type": "code",
   "execution_count": null,
   "id": "c64bb6e6-47af-481c-9f35-0b611ac30d8a",
   "metadata": {},
   "outputs": [],
   "source": []
  }
 ],
 "metadata": {
  "kernelspec": {
   "display_name": "Python 3 (ipykernel)",
   "language": "python",
   "name": "python3"
  },
  "language_info": {
   "codemirror_mode": {
    "name": "ipython",
    "version": 3
   },
   "file_extension": ".py",
   "mimetype": "text/x-python",
   "name": "python",
   "nbconvert_exporter": "python",
   "pygments_lexer": "ipython3",
   "version": "3.7.13"
  }
 },
 "nbformat": 4,
 "nbformat_minor": 5
}
