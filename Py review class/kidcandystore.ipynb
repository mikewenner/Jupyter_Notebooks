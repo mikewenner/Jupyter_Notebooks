{
 "cells": [
  {
   "cell_type": "code",
   "execution_count": 1,
   "id": "46dfc0e5-6bdb-4b26-8dd6-9f8eae7132d6",
   "metadata": {},
   "outputs": [],
   "source": [
    "# Create a loop that prints all of the candy in the store to the command line, with their index stored in brackets beside them, e.g.,\n",
    "# \"[0] Snickers\"\n",
    "# Create a second loop that runs for a set number of times as determined by the variable allowance.\n",
    "# For example, if allowance is equal to 5, the loop should run 5 times.\n",
    "# Each time this loop runs, take in a user's input––preferably a number––and then add the candy with a matching \n",
    "# index to the variable candy_cart.\n",
    "# For example, if the user enters \"0\" as their input, \"Snickers\" should be added into the candy_cart list.\n",
    "# Create a final loop to print all of the candy selected to the command line."
   ]
  },
  {
   "cell_type": "code",
   "execution_count": 2,
   "id": "17a98fdd-bc5d-4d47-b604-953623193766",
   "metadata": {},
   "outputs": [],
   "source": [
    "# The list of candies to print to the screen\n",
    "candy_list = [\n",
    "    \"Snickers\",\n",
    "    \"Kit Kat\",\n",
    "    \"Sour Patch Kids\",\n",
    "    \"Juicy Fruit\",\n",
    "    \"Swedish Fish\",\n",
    "    \"Skittles\",\n",
    "    \"Hershey Bar\",\n",
    "    \"Starbursts\",\n",
    "    \"M&Ms\"\n",
    "]"
   ]
  },
  {
   "cell_type": "code",
   "execution_count": 3,
   "id": "ab8deb4d-fafc-4d3b-b136-7007bcdeb938",
   "metadata": {},
   "outputs": [],
   "source": [
    "# The list used to store all of the candies selected inside of\n",
    "candy_cart = []\n"
   ]
  },
  {
   "cell_type": "code",
   "execution_count": 7,
   "id": "11142ffa-8868-40bf-96b2-cc6bcce397a0",
   "metadata": {},
   "outputs": [
    {
     "ename": "NameError",
     "evalue": "name 'i' is not defined",
     "output_type": "error",
     "traceback": [
      "\u001b[0;31m---------------------------------------------------------------------------\u001b[0m",
      "\u001b[0;31mNameError\u001b[0m                                 Traceback (most recent call last)",
      "\u001b[0;32m/var/folders/ys/fqvy458x0ds2sdvqh8qgff500000gn/T/ipykernel_8699/360623088.py\u001b[0m in \u001b[0;36m<module>\u001b[0;34m\u001b[0m\n\u001b[1;32m      1\u001b[0m \u001b[0;31m# Print all of the candies to the screen and their index in brackets\u001b[0m\u001b[0;34m\u001b[0m\u001b[0;34m\u001b[0m\u001b[0;34m\u001b[0m\u001b[0m\n\u001b[1;32m      2\u001b[0m \u001b[0;32mfor\u001b[0m \u001b[0mcandy\u001b[0m \u001b[0;32min\u001b[0m \u001b[0mcandy_list\u001b[0m\u001b[0;34m:\u001b[0m\u001b[0;34m\u001b[0m\u001b[0;34m\u001b[0m\u001b[0m\n\u001b[0;32m----> 3\u001b[0;31m     \u001b[0mprint\u001b[0m\u001b[0;34m(\u001b[0m\u001b[0;34mf\"{candy}\"\u001b[0m \u001b[0;34m+\u001b[0m \u001b[0mcandy_list\u001b[0m\u001b[0;34m[\u001b[0m\u001b[0mi\u001b[0m\u001b[0;34m]\u001b[0m\u001b[0;34m)\u001b[0m\u001b[0;34m\u001b[0m\u001b[0;34m\u001b[0m\u001b[0m\n\u001b[0m",
      "\u001b[0;31mNameError\u001b[0m: name 'i' is not defined"
     ]
    }
   ],
   "source": [
    "# Print all of the candies to the screen and their index in brackets\n",
    "for candy in candy_list:\n",
    "    "
   ]
  },
  {
   "cell_type": "code",
   "execution_count": null,
   "id": "f9fa2395-d3a6-4290-985f-4ff3ac4c686c",
   "metadata": {},
   "outputs": [],
   "source": []
  }
 ],
 "metadata": {
  "kernelspec": {
   "display_name": "Python 3 (ipykernel)",
   "language": "python",
   "name": "python3"
  },
  "language_info": {
   "codemirror_mode": {
    "name": "ipython",
    "version": 3
   },
   "file_extension": ".py",
   "mimetype": "text/x-python",
   "name": "python",
   "nbconvert_exporter": "python",
   "pygments_lexer": "ipython3",
   "version": "3.7.13"
  }
 },
 "nbformat": 4,
 "nbformat_minor": 5
}
