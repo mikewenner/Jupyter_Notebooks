{
 "cells": [
  {
   "cell_type": "code",
   "execution_count": 7,
   "id": "590dc81b-5a34-486e-b7ed-02a474a4c557",
   "metadata": {},
   "outputs": [],
   "source": [
    "# Create a variable called c1_name and have it equal a string of \"Mr. Farley\".\n",
    "# Create a variable called c1_age and have it equal to an integer of 65.\n",
    "# Create a variable called c1_profession and have it equal to \"Web Developer\".\n",
    "# Create a variable called c1_salary and have it equal to 100000.00.\n",
    "# Create a variable called c1_species and have it equal to \"cat\".\n",
    "# Create a variable called c1_location and have it equal to \"San Francisco, CA\".\n",
    "# Create a variable called c1_monthly_rent and have it equal to 2000.\n",
    "# Create a variable called c1_monthly_expenses and have it equal to 1500.\n",
    "# Create a variable called c1_yearly_rent and have it equal to c1_monthly_rent * 12.\n",
    "# Create a variable called c1_yearly_expenses and have it equal to 1500.00 * 12.\n",
    "# Create a variable called c1_savings and have it equal to c1_salary - (c1_yearly_rent + c1_yearly_expenses).\n",
    "\n",
    "c1_name = \"Mr Farley\"\n",
    "c1_age = 65\n",
    "c1_profession = \"Web Developer\"\n",
    "c1_salary = 100000.00\n",
    "c1_species = \"cat\"\n",
    "c1_location = \"San francisco, CA\"\n",
    "c1_monthly_rent = 2000\n",
    "c1_monthly_expenses = 1500\n",
    "c1_yearly_rent = c1_monthly_rent*12\n",
    "c1_yearly_expenses = 1500.00*12\n",
    "c1_savings = c1_salary - (c1_yearly_rent + c1_yearly_expenses)"
   ]
  },
  {
   "cell_type": "code",
   "execution_count": 8,
   "id": "08f31fcf-92ed-43fd-94ac-ba7738658ead",
   "metadata": {},
   "outputs": [],
   "source": [
    "# Create a variable called c2_name and have it equal a string of \"Mr. Snuggles\".\n",
    "# Create a variable called c2_age and have it equal to an integer of 30.\n",
    "# Create a variable called c2_species and have it equal to \"mouse\".\n",
    "# Create a variable called c2_profession and have it equal \"Accountant\".\n",
    "# Create a variable called c2_salary and have it equal to 70000.\n",
    "# Create a variable called c2_location and have it equal to \"Oakland, CA\".\n",
    "# Create a variable called c2_monthly_rent and have it equal to 4000.\n",
    "# Create a variable called c2_monthly_expenses and have it equal to 500.\n",
    "# Create a variable called c2_yearly_rent and have it equal to c2_monthly_rent * 12.\n",
    "# Create a variable called c2_yearly_expenses and have it equal to c2_monthly_expenses * 12.\n",
    "# Create a variable called c2_savings and have it equal to c2_salary - (c1_yearly_rent + c2_yearly_expenses).\n",
    "c2_name = \"Mr snuggles\"\n",
    "c2_age = 30\n",
    "c2_profession = \"Accountant\"\n",
    "c2_salary = 70000\n",
    "c2_species = \"mouse\"\n",
    "c2_location = \"oakland, CA\"\n",
    "c2_monthly_rent = 4000\n",
    "c2_monthly_expenses = 500\n",
    "c2_yearly_rent = c2_monthly_rent*12\n",
    "c2_yearly_expenses = c2_monthly_expenses*12\n",
    "c2_savings = c2_salary - (c2_yearly_rent + c2_yearly_expenses)"
   ]
  },
  {
   "cell_type": "code",
   "execution_count": 9,
   "id": "fca19b01-31c8-4ac9-9280-18c2c0e3f8f6",
   "metadata": {},
   "outputs": [
    {
     "name": "stdout",
     "output_type": "stream",
     "text": [
      "Hello Mr Farley\n"
     ]
    }
   ],
   "source": [
    "# Write an if-else statement to check if `c1_name` is equal to \"Mr. Farley\". \n",
    "#If so, print a string of \"Hello Mr. Farley\" using the `c1_name` variable. If not, print a string of \"Hello stranger\".\n",
    "if c1_name == \"Mr Farley\":\n",
    "    print(f\"Hello {c1_name}\")\n",
    "else:\n",
    "    print(f\"Hello Stranger\")"
   ]
  },
  {
   "cell_type": "code",
   "execution_count": 11,
   "id": "61bc1ad3-f61a-4bbb-b47b-b873c098ee3b",
   "metadata": {},
   "outputs": [
    {
     "name": "stdout",
     "output_type": "stream",
     "text": [
      "Mr. Farley is older than Mr. Snuggles\n"
     ]
    }
   ],
   "source": [
    "# Write an if-else statement to check if `c2_age` is greater than `c1_age`. If so, print a string of \n",
    "# \"Mr. Farley is older than Mr. Snuggles\". Else if `c1_age` is greater than `c2_age`, print a string of \n",
    "# \"Mr. Snuggles is older than Mr. Farley\". Else, `c1_age` must have to be equal to `c2_age`, therefore print a string of \n",
    "# \"Mr. Farley is the same age as Mr. Snuggles\".\n",
    "if c2_age > c1_age:\n",
    "    print(f\"Mr. Snuggles is older than Mr. Farley\")\n",
    "elif c1_age > c2_age:\n",
    "    print(f\"Mr. Farley is older than Mr. Snuggles\")\n",
    "else:\n",
    "    print(f\"Mr. Farley is the same age as Mr. Snuggles\")"
   ]
  },
  {
   "cell_type": "code",
   "execution_count": 13,
   "id": "b889c4e5-eef2-458a-b4c1-3330085e2c42",
   "metadata": {},
   "outputs": [
    {
     "name": "stdout",
     "output_type": "stream",
     "text": [
      "Mr. Farley comes from the home of the 49ers!\n"
     ]
    }
   ],
   "source": [
    "# Write an if-else statement to check if `c1_location` is equal to \"Oakland, CA\". \n",
    "# If so, print a string of \"Mr. Farley comes from the home of the Raiders!\". \n",
    "# Else if `c2_location` is equal to a string of \"San Francisco, CA\", print a string of \"Mr. Farley comes from the home of the 49ers!\". \n",
    "# Else both conditions must not apply and therefore print a string \"Mr. Farley doesn't hail from a sports town.\"\n",
    "if c1_location == \"oakland, CA\":\n",
    "    print(f\"Mr. Farley comes from the home of the Raiders!\")\n",
    "elif c1_location == \"San francisco, CA\":\n",
    "    print(f\"Mr. Farley comes from the home of the 49ers!\")\n",
    "else:\n",
    "    print(f\"Mr. Farley doesn't hail from a sports town\")"
   ]
  },
  {
   "cell_type": "code",
   "execution_count": 15,
   "id": "e4e59253-40f2-409f-9d9e-05cf0160d525",
   "metadata": {},
   "outputs": [
    {
     "name": "stdout",
     "output_type": "stream",
     "text": [
      "Mr. Farley's rent of 2000 is less rent than Mr. Snuggles of 4000\n"
     ]
    }
   ],
   "source": [
    "# Write an if-else statement to check if `c1_rent` is greater than `c2_rent`. \n",
    "# If so, print a string of \"Mr. Farley pays more rent than Mr. Snuggles\". \n",
    "# Else if `c1_rent` is less than `c2_rent`, print a string of \"Mr. Farley pays less rent than Mr. Snuggles\". \n",
    "# Else, `c1_rent` must have to be equal to `c2_rent`, therefore print a string of \"Mr. Farley pays the same rent as Mr. Snuggles\".\n",
    "if c1_monthly_rent > c2_monthly_rent:\n",
    "    print(f\"Mr. Farley's rent of {c1_monthly_rent} is more rent than Mr. Snuggles of {c2_rent}\")\n",
    "elif c1_monthly_rent < c2_monthly_rent:\n",
    "    print(f\"Mr. Farley's rent of {c1_monthly_rent} is less rent than Mr. Snuggles of {c2_monthly_rent}\")\n",
    "else:\n",
    "    print(f\"Mr. Farley's rent of {c1_monthly_rent} is equal to Mr. Snuggles of {c2_monthly_rent}\")"
   ]
  },
  {
   "cell_type": "code",
   "execution_count": 16,
   "id": "abaa2e00-9f1f-4b12-8000-cb2e47468544",
   "metadata": {},
   "outputs": [
    {
     "name": "stdout",
     "output_type": "stream",
     "text": [
      "Mr. Farley has more expenses than Mr. Snuggles\n"
     ]
    }
   ],
   "source": [
    "# Write an if-else statement to check if `c1_monthly_expenses` is greater than `c2_monthly_expenses`. \n",
    "# If so, print a string of `Mr. Farley has more expenses than Mr. Snuggles`. \n",
    "# Else if `c1_monthly_expenses` is less than `c2_monthly_expenses`, print a string of \"Mr. Farley pays less expenses than Mr. Snuggles\". \n",
    "# Else, `c1_monthly_expenses` must have to be equal to `c2_monthly_expenses`, \n",
    "# therefore print a string of \"Mr. Farley pays the same expenses at Mr. Snuggles\".\n",
    "if c1_monthly_expenses > c2_monthly_expenses:\n",
    "    print(f\"Mr. Farley has more expenses than Mr. Snuggles\")\n",
    "elif c1_monthly_expenses < c2_monthly_expenses:\n",
    "    print(f\"Mr. Farley pays less expenses than Mr. Snuggles\")\n",
    "else:\n",
    "    print(f\"Mr. Farley pays the same expenses at Mr. Snuggles\")"
   ]
  },
  {
   "cell_type": "code",
   "execution_count": 17,
   "id": "9c5eeb7e-f888-43e7-ab37-470430e114aa",
   "metadata": {},
   "outputs": [
    {
     "name": "stdout",
     "output_type": "stream",
     "text": [
      "Look .. a Web Developer and a Accountant!\n"
     ]
    }
   ],
   "source": [
    "# Write an if-else statement to check if `c1_profession` is equal to \"Web Developer\" AND `c2_profession` is equal to \"Accountant\". \n",
    "# If so, print a string of \"Look a Web Developer and an Accountant\", else print a string of \"They are professionals.\"\n",
    "if c1_profession == \"Web Developer\" and c2_profession == \"Accountant\":\n",
    "    print(f\"Look .. a {c1_profession} and a {c2_profession}!\")\n",
    "else:\n",
    "    print(\"They are professionals.\")\n",
    "    "
   ]
  },
  {
   "cell_type": "code",
   "execution_count": null,
   "id": "c9dec271-79f7-424c-88bc-65a02810501f",
   "metadata": {},
   "outputs": [],
   "source": []
  }
 ],
 "metadata": {
  "kernelspec": {
   "display_name": "Python 3 (ipykernel)",
   "language": "python",
   "name": "python3"
  },
  "language_info": {
   "codemirror_mode": {
    "name": "ipython",
    "version": 3
   },
   "file_extension": ".py",
   "mimetype": "text/x-python",
   "name": "python",
   "nbconvert_exporter": "python",
   "pygments_lexer": "ipython3",
   "version": "3.7.13"
  }
 },
 "nbformat": 4,
 "nbformat_minor": 5
}
