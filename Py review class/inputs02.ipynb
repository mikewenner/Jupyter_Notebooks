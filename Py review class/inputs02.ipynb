{
 "cells": [
  {
   "cell_type": "code",
   "execution_count": 2,
   "id": "ad67e001-e010-4ece-92fa-53c38be6f49d",
   "metadata": {},
   "outputs": [
    {
     "name": "stdin",
     "output_type": "stream",
     "text": [
      "Welcome to the Boba Shop! What is your name? mike\n"
     ]
    }
   ],
   "source": [
    "# Declare a variable of `name` with an input and a string of \"Welcome to the Boba Shop! What is your name?\".\n",
    "name = input(\"Welcome to the Boba Shop! What is your name?\")"
   ]
  },
  {
   "cell_type": "code",
   "execution_count": 7,
   "id": "fb513c90-26d9-4c61-9499-e3aca46cf5e9",
   "metadata": {},
   "outputs": [
    {
     "name": "stdout",
     "output_type": "stream",
     "text": [
      "Hello mike\n"
     ]
    },
    {
     "name": "stdin",
     "output_type": "stream",
     "text": [
      "What kind of boba drink would you like? cola\n",
      "How sweet do you want your drink: 0, 50, 100, or 200? 200\n"
     ]
    },
    {
     "name": "stdout",
     "output_type": "stream",
     "text": [
      "Your order of cola boba with a sweet level of super sweet\n"
     ]
    }
   ],
   "source": [
    "# Check if `name` is not an empty string or equal to `None`.\n",
    "# If so, write a print with a string of \"Hello\" concatenated with the variable `name`.\n",
    "if name != \"\" or name == None:\n",
    "    print(f\"Hello {name}\")\n",
    "    \n",
    "    #Declare a variable of beverage with an input and a string of \"What kind of boba drink would you like?\"\n",
    "    beverage = input(\"What kind of boba drink would you like?\")\n",
    "    #Declare a variable of sweetness_level with an input and a string of \"How sweet do you want your drink: 0, 50, 100, or 200?\"\n",
    "    sweetness_level = input(\"How sweet do you want your drink: 0, 50, 100, or 200?\")\n",
    "    \n",
    "    if sweetness_level == \"50\":\n",
    "        sweetness_level = \"half sweet\"\n",
    "    elif sweetness_level == \"100\":\n",
    "        sweetness_level = \"normal sweet\"\n",
    "    elif sweetness_level == \"200\":\n",
    "        sweetness_level = \"super sweet\"\n",
    "    else:\n",
    "        sweetness_level = \"non swweet\"\n",
    "    # Then print the string of \"Your order of \" concatenated with the variable `beverage`, concatenated with \n",
    "# \" boba with a sweet level of \", concatenated with the variable `sweetness`\n",
    "    print(f\"Your order of {beverage} boba with a sweet level of {sweetness_level}\")\n",
    "\n",
    "    \n",
    "# Else, print the string of \"You didn't give us your name! Goodbye\".    \n",
    "else:\n",
    "    print(\"ou didn't give us your name! Goodbye\")"
   ]
  },
  {
   "cell_type": "code",
   "execution_count": null,
   "id": "863d68e7-c061-4ab5-add0-a906392b5e91",
   "metadata": {},
   "outputs": [],
   "source": []
  }
 ],
 "metadata": {
  "kernelspec": {
   "display_name": "Python 3 (ipykernel)",
   "language": "python",
   "name": "python3"
  },
  "language_info": {
   "codemirror_mode": {
    "name": "ipython",
    "version": 3
   },
   "file_extension": ".py",
   "mimetype": "text/x-python",
   "name": "python",
   "nbconvert_exporter": "python",
   "pygments_lexer": "ipython3",
   "version": "3.7.13"
  }
 },
 "nbformat": 4,
 "nbformat_minor": 5
}
