{
 "cells": [
  {
   "cell_type": "code",
   "execution_count": 1,
   "id": "94ae06db-2206-42cf-b73e-048e025d8bc7",
   "metadata": {},
   "outputs": [],
   "source": [
    "# Create a variable named `subject` with no value (None).\n",
    "subject = None\n",
    "# Assign a value of \"Programmers to the variable `subject`.\n",
    "subject = \"Programmers\""
   ]
  },
  {
   "cell_type": "code",
   "execution_count": 2,
   "id": "9a1a8cc1-5241-4cbe-9bf1-60e8d381a6ac",
   "metadata": {},
   "outputs": [],
   "source": [
    "# Create a variable, `first_name`, and assign it a value of an empty string.\n",
    "first_name = \"\""
   ]
  },
  {
   "cell_type": "code",
   "execution_count": 3,
   "id": "fd541727-819f-4cbc-a244-3881321e3f5f",
   "metadata": {},
   "outputs": [],
   "source": [
    "# Assign a value of \"Ada\" to the variable `first_name`.\n",
    "first_name = \"Ada\""
   ]
  },
  {
   "cell_type": "code",
   "execution_count": 4,
   "id": "258c17ab-ac10-4085-9e51-79b5b8078cac",
   "metadata": {},
   "outputs": [],
   "source": [
    "# Create a variable, `last_name`, and assign it a value of a string, \"Lovelace\".\n",
    "last_name = \"Lovelace\""
   ]
  },
  {
   "cell_type": "code",
   "execution_count": 5,
   "id": "0888b7df-ca95-44a0-b8d6-db50aa2edda5",
   "metadata": {},
   "outputs": [],
   "source": [
    "# Create a variable, `full_name`, and assign it a value of the combination of `first_name` and `last_name` with a space.\n",
    "full_name = f\"{first_name} {last_name}\""
   ]
  },
  {
   "cell_type": "code",
   "execution_count": 6,
   "id": "94c5ca8f-3d7e-4015-b2f8-0bc740f4eea2",
   "metadata": {},
   "outputs": [],
   "source": [
    "# Create a variable, `profession`, and assign it a value of a string, \"Computer Programmer\".\n",
    "profession = \"computer programmer\""
   ]
  },
  {
   "cell_type": "code",
   "execution_count": 7,
   "id": "2b5415a0-40d3-4da4-b1c7-a159409a791d",
   "metadata": {},
   "outputs": [],
   "source": [
    "# Create a variable, `known_for`, and assign it a value of a string, \"First Computer Programmer\".\n",
    "known_for = \"first computer programmer\""
   ]
  },
  {
   "cell_type": "code",
   "execution_count": 8,
   "id": "230a7d56-311c-404d-ad4b-62fbead77a64",
   "metadata": {},
   "outputs": [],
   "source": [
    "# Create a variable, `first_algorithm`, and assign it a value of a string, \"Analytical Engine\".\n",
    "first_algorithim = \"analytical engine\""
   ]
  },
  {
   "cell_type": "code",
   "execution_count": 9,
   "id": "71e98348-03e6-48fe-981f-632f19aed628",
   "metadata": {},
   "outputs": [],
   "source": [
    "# Create a variable, `city_location`, and assign it a value of a string, \"London\".\n",
    "city_location = \"London\""
   ]
  },
  {
   "cell_type": "code",
   "execution_count": 10,
   "id": "98ad9351-7e7b-435a-9b1e-38998f8693b3",
   "metadata": {},
   "outputs": [],
   "source": [
    "# Create a variable, `country_location`, and assign it a value of a string, \"England\".\n",
    "country_location = \"england\""
   ]
  },
  {
   "cell_type": "code",
   "execution_count": 11,
   "id": "f844cead-1c60-42cf-82f6-3f59483270a9",
   "metadata": {},
   "outputs": [],
   "source": [
    "# Create a variable, `nationality`, and assign it a value of a string, \"British\".\n",
    "nationality = \"british\""
   ]
  },
  {
   "cell_type": "code",
   "execution_count": 12,
   "id": "3727b5b9-1884-474b-9ca6-632f2fe09873",
   "metadata": {},
   "outputs": [],
   "source": [
    "# Create a variable, `birth_year`, and assign it with an integer of 1815.\n",
    "birth_year = 1815"
   ]
  },
  {
   "cell_type": "code",
   "execution_count": 13,
   "id": "498692e8-7753-40c8-aff1-babbf215344b",
   "metadata": {},
   "outputs": [],
   "source": [
    "# Create a variable, death_year, and assign it with an integer of 1852.\n",
    "death_year = 1852"
   ]
  },
  {
   "cell_type": "code",
   "execution_count": 14,
   "id": "32fd30d5-87e7-4faf-901f-2a349491abd5",
   "metadata": {},
   "outputs": [],
   "source": [
    "# Create a variable, age_at_passing, and assign it a value of death_year minus birth_year.\n",
    "age_at_passing = death_year - birth_year"
   ]
  },
  {
   "cell_type": "code",
   "execution_count": 15,
   "id": "956c24ae-ec0c-4697-b547-418531e4ea8a",
   "metadata": {},
   "outputs": [],
   "source": [
    "# Create a variable, year_of_publish, and assign it with an integer of 1842.\n",
    "year_of_publish = 1842"
   ]
  },
  {
   "cell_type": "code",
   "execution_count": 16,
   "id": "91e5b43f-1689-429e-9c7a-57cf8299de49",
   "metadata": {},
   "outputs": [
    {
     "name": "stdout",
     "output_type": "stream",
     "text": [
      "First Name: Ada\n"
     ]
    }
   ],
   "source": [
    "# Print: \"First Name: \" and `first_name`.\n",
    "print(f\"First Name: {first_name}\")"
   ]
  },
  {
   "cell_type": "code",
   "execution_count": 17,
   "id": "7968c516-0ed0-4c0f-ac49-ba37055ac46b",
   "metadata": {},
   "outputs": [
    {
     "name": "stdout",
     "output_type": "stream",
     "text": [
      "Last Name: Lovelace\n"
     ]
    }
   ],
   "source": [
    "# Print: \"Last Name: \" and `last_name`.\n",
    "print(f\"Last Name: {last_name}\")"
   ]
  },
  {
   "cell_type": "code",
   "execution_count": 18,
   "id": "11b60407-2ac0-4ce6-8178-8069ac283fa4",
   "metadata": {},
   "outputs": [
    {
     "name": "stdout",
     "output_type": "stream",
     "text": [
      "Profession: computer programmer\n"
     ]
    }
   ],
   "source": [
    "# Print: \"Profession: \" and `profession`.\n",
    "print(f\"Profession: {profession}\")"
   ]
  },
  {
   "cell_type": "code",
   "execution_count": 19,
   "id": "de36c8fc-b953-4f8d-8554-c3df8a1a1234",
   "metadata": {},
   "outputs": [
    {
     "name": "stdout",
     "output_type": "stream",
     "text": [
      "Birthyear: 1815\n"
     ]
    }
   ],
   "source": [
    "# Print: \"BirthYear: \" and `birth_year`.\n",
    "print(f\"Birthyear: {birth_year}\")"
   ]
  },
  {
   "cell_type": "code",
   "execution_count": 20,
   "id": "9572fcc8-f72c-47a1-b14b-c85c60904c32",
   "metadata": {},
   "outputs": [
    {
     "name": "stdout",
     "output_type": "stream",
     "text": [
      "Programmers: Ada Lovelace is a computer programmer born in 1815\n"
     ]
    }
   ],
   "source": [
    "# Create and print a variable, `statement_one`, by assigning it a value of a string:\n",
    "# \"Programmers: Ada Lovelace is a British Computer Programmer born in 1815.\"\n",
    "statement_one = f\"{subject}: {first_name} {last_name} is a {profession} born in {birth_year}\"\n",
    "print(statement_one)"
   ]
  },
  {
   "cell_type": "code",
   "execution_count": 22,
   "id": "cf96bed8-c79f-445c-9eb2-8aea97aba995",
   "metadata": {},
   "outputs": [
    {
     "name": "stdout",
     "output_type": "stream",
     "text": [
      "She is commonly reffered to as the first computer programmer\n"
     ]
    }
   ],
   "source": [
    "# Create and print a variable, `statement_two`, by assigning it a value of a string:\n",
    "# \"She is commonly referred to as the First Computer Programmer.\"\n",
    "statement_two = f\"She is commonly reffered to as the {known_for}\"\n",
    "print(statement_two)"
   ]
  },
  {
   "cell_type": "code",
   "execution_count": 23,
   "id": "109c40c3-817c-435d-a5ba-e9e77c365399",
   "metadata": {},
   "outputs": [
    {
     "name": "stdout",
     "output_type": "stream",
     "text": [
      "In 1842 she published the first algorithim analytical engine at the age of 27\n"
     ]
    }
   ],
   "source": [
    "# Create and print a variable, `statement_three`, by assigning it a value of a string:\n",
    "# \"In 1842 she published the first Algorithm, the Analytical Engine, at the age of 27.\"\n",
    "statement_three = f\"In {year_of_publish} she published the first algorithim {first_algorithim} at the age of 27\"\n",
    "print(statement_three)"
   ]
  },
  {
   "cell_type": "code",
   "execution_count": 24,
   "id": "13dc7f2b-ea15-4d14-91e9-8ccddb7fb1a1",
   "metadata": {},
   "outputs": [
    {
     "name": "stdout",
     "output_type": "stream",
     "text": [
      "She was a british citizen who lived in London, england until her passing in 1852 at the age of 37\n"
     ]
    }
   ],
   "source": [
    "# Create and print a variable, `statement_four`, by assigning it a value of a string:\n",
    "# \"She was a British Citizen who lived in London, England until her passing in 1852 at the age of 37.\"\n",
    "statement_four = f\"She was a {nationality} citizen who lived in {city_location}, {country_location} until her passing in {death_year} at the age of {age_at_passing}\"\n",
    "print(statement_four)"
   ]
  },
  {
   "cell_type": "code",
   "execution_count": null,
   "id": "2684495b-2919-4c88-bc30-e3dd2d58c779",
   "metadata": {},
   "outputs": [],
   "source": []
  }
 ],
 "metadata": {
  "kernelspec": {
   "display_name": "Python 3 (ipykernel)",
   "language": "python",
   "name": "python3"
  },
  "language_info": {
   "codemirror_mode": {
    "name": "ipython",
    "version": 3
   },
   "file_extension": ".py",
   "mimetype": "text/x-python",
   "name": "python",
   "nbconvert_exporter": "python",
   "pygments_lexer": "ipython3",
   "version": "3.7.13"
  }
 },
 "nbformat": 4,
 "nbformat_minor": 5
}
