{
 "cells": [
  {
   "cell_type": "code",
   "execution_count": 8,
   "id": "30a199ac-1b26-44a8-ace8-997865106546",
   "metadata": {},
   "outputs": [],
   "source": [
    "# Import the necessary libraries for reading csv files\n",
    "from pathlib import Path\n",
    "import csv"
   ]
  },
  {
   "cell_type": "code",
   "execution_count": 10,
   "id": "e2542fe5-73ac-479b-a941-62af5ad37bf1",
   "metadata": {},
   "outputs": [],
   "source": [
    "# Set the path for the csv file\n",
    "csvpath = Path('pokemon.csv')"
   ]
  },
  {
   "cell_type": "code",
   "execution_count": 11,
   "id": "0a6ea3fc-4cc0-4f33-8f51-093e8fe009a1",
   "metadata": {},
   "outputs": [],
   "source": [
    "#Create new lists to store data for heaviest and tallest Pokemon.\n",
    "heaviest = []\n",
    "tallest = []"
   ]
  },
  {
   "cell_type": "code",
   "execution_count": 30,
   "id": "7b2f0d26-0e0a-42e5-a4eb-3479d6bea365",
   "metadata": {},
   "outputs": [],
   "source": [
    "#Open the CSV file.\n",
    "with open(csvpath, \"r\") as csvfile:\n",
    "    csvreader = csv.reader(csvfile, delimiter = \",\")\n",
    "    # Iterate through the data and search for the number the user inputted. Remember to skip the header of the CSV.\n",
    "    csv_header = next(csvreader)\n",
    "    # Print the name of the pokemon(identifier) and pokedex number(species id) at that number. For example, \"Pokemon No. 25 - pikachu\".\n",
    "    for row in csvreader:\n",
    "        #print(f\"Pokeman No {row[0]} - {row[1]}\")\n",
    "        if int(row[4]) > 3000:\n",
    "            heaviest.append(row[1])\n",
    "         # Iterate through the data and search for pokemon height is greater than 50. Append only the pokemon's name and height to the 'tallest' list.\n",
    "        if int(row[3]) > 50:\n",
    "            tallest.append(row[1])"
   ]
  },
  {
   "cell_type": "code",
   "execution_count": 31,
   "id": "8035d6e7-db5d-478b-80d7-ada899b792e6",
   "metadata": {},
   "outputs": [
    {
     "name": "stdout",
     "output_type": "stream",
     "text": [
      "['onix', 'gyarados', 'steelix', 'lugia', 'wailord', 'milotic', 'rayquaza', 'dialga', 'yveltal', 'celesteela', 'guzzlord', 'stakataka']\n"
     ]
    }
   ],
   "source": [
    "#print(heaviest)\n",
    "print(tallest)"
   ]
  },
  {
   "cell_type": "code",
   "execution_count": null,
   "id": "bb7226ab-8308-4ccc-a3e8-0eaa546d5b18",
   "metadata": {},
   "outputs": [],
   "source": []
  }
 ],
 "metadata": {
  "kernelspec": {
   "display_name": "Python 3 (ipykernel)",
   "language": "python",
   "name": "python3"
  },
  "language_info": {
   "codemirror_mode": {
    "name": "ipython",
    "version": 3
   },
   "file_extension": ".py",
   "mimetype": "text/x-python",
   "name": "python",
   "nbconvert_exporter": "python",
   "pygments_lexer": "ipython3",
   "version": "3.7.13"
  }
 },
 "nbformat": 4,
 "nbformat_minor": 5
}
