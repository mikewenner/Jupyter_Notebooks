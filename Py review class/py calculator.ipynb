{
 "cells": [
  {
   "cell_type": "code",
   "execution_count": 3,
   "id": "72ddc850-bee4-41e3-bf22-d8998f98c0e2",
   "metadata": {},
   "outputs": [],
   "source": [
    "#Define a function calculate that takes in two numbers and adds, subtracts, multiplies, or divides the two numbers.\n",
    "# Create a variable result and set it to 0.\n",
    "# Prompt the user, \"What do you want to do: Add, Subtract, Multiply or Divide?\" Assign the answer to a variable choice.\n",
    "# Create an if-else statement to perform the proper calculation with the two parameters based on the user's choice.\n",
    "# Return the calculated result variable.\n",
    "\n",
    "def calculate(num_1, num_2):\n",
    "    result = 0\n",
    "    choice = input(f\"What do you want to do: Add, Subtract, Multiply or Divide?\")\n",
    "    \n",
    "    if choice == \"Add\":\n",
    "        result = num_1 + num_2\n",
    "    elif choice == \"Subtract\":\n",
    "        result = num_1 -  num_2\n",
    "    elif choice == \"Multiply\":\n",
    "        result = num_1 * num_2\n",
    "    elif choice == \"Divide\":\n",
    "        result = num_1 / num_2\n",
    "    else:\n",
    "        print(\"choose an operator\")\n",
    "    \n",
    "    return result"
   ]
  },
  {
   "cell_type": "code",
   "execution_count": 4,
   "id": "687f1b34-6a73-4ce9-8a36-c33b7cbaa399",
   "metadata": {},
   "outputs": [
    {
     "name": "stdin",
     "output_type": "stream",
     "text": [
      "What do you want to do: Add, Subtract, Multiply or Divide? Divide\n"
     ]
    },
    {
     "data": {
      "text/plain": [
       "1.8"
      ]
     },
     "execution_count": 4,
     "metadata": {},
     "output_type": "execute_result"
    }
   ],
   "source": [
    "#Call the calculate function and print the results.\n",
    "calculate(90, 50)"
   ]
  },
  {
   "cell_type": "code",
   "execution_count": null,
   "id": "f397c157-9ec2-4523-8844-18d3147e70bd",
   "metadata": {},
   "outputs": [],
   "source": []
  }
 ],
 "metadata": {
  "kernelspec": {
   "display_name": "Python 3 (ipykernel)",
   "language": "python",
   "name": "python3"
  },
  "language_info": {
   "codemirror_mode": {
    "name": "ipython",
    "version": 3
   },
   "file_extension": ".py",
   "mimetype": "text/x-python",
   "name": "python",
   "nbconvert_exporter": "python",
   "pygments_lexer": "ipython3",
   "version": "3.7.13"
  }
 },
 "nbformat": 4,
 "nbformat_minor": 5
}
