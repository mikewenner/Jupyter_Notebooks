{
 "cells": [
  {
   "cell_type": "code",
   "execution_count": 3,
   "id": "5de46fad-8d1c-49cc-add0-49a714a47292",
   "metadata": {},
   "outputs": [],
   "source": [
    "# from show_data.py import shows"
   ]
  },
  {
   "cell_type": "code",
   "execution_count": 4,
   "id": "e50ff4bd-5bbe-4677-9623-9503923a5edd",
   "metadata": {},
   "outputs": [],
   "source": [
    "shows = {\n",
    "    \"genre\": {\n",
    "        \"drama\": {\n",
    "            \"game_of_thrones\": {\n",
    "                \"cast\": [\n",
    "                    {\n",
    "                        \"actor\": \"Sean Bean\",\n",
    "                        \"character\": \"Ned Stark\",\n",
    "                        \"imdb\": \"https://www.imdb.com/name/nm0000293/?ref_=nv_sr_1\"\n",
    "                    },\n",
    "                    {\n",
    "                        \"actor\": \"Peter Dinklage\",\n",
    "                        \"character\": \"Tyrion Lannister\",\n",
    "                        \"imdb\": \"https://www.imdb.com/name/nm0227759/?ref_=nv_sr_1\"\n",
    "                    },\n",
    "                    {\n",
    "                        \"actor\": \"Maisie Williams\",\n",
    "                        \"character\": \"Arya Stark\",\n",
    "                        \"imdb\": \"https://www.imdb.com/name/nm3586035/?ref_=nv_sr_1\"\n",
    "                    },\n",
    "                    {\n",
    "                        \"actor\": \"Emilia Clarke\",\n",
    "                        \"character\": \"Danaerys Targaryen\",\n",
    "                        \"imdb\": \"https://www.imdb.com/name/nm3592338/?ref_=nv_sr_1\"\n",
    "                    },\n",
    "                    {\n",
    "                        \"actor\": \"Kit Harrington\",\n",
    "                        \"character\": \"Jon Snow\",\n",
    "                        \"imdb\": \"https://www.imdb.com/name/nm3229685/?ref_=nv_sr_1\"\n",
    "                    },\n",
    "                ],\n",
    "                \"num_seasons\": 8,\n",
    "                \"creators\": [\"David Benioff\", \"D.B. Weiss\"],\n",
    "                \"still_running\": False\n",
    "            },\n",
    "            \"mad_men\": {\n",
    "                \"cast\": [\n",
    "                    {\n",
    "                        \"actor\": \"Jon Hamm\",\n",
    "                        \"character\": \"Don Draper\",\n",
    "                        \"imdb\": \"https://www.imdb.com/name/nm0358316/?ref_=nv_sr_1\"\n",
    "                    },\n",
    "                    {\n",
    "                        \"actor\": \"Christina Hendricks\",\n",
    "                        \"character\": \"Joan Holloway\",\n",
    "                        \"imdb\": \"https://www.imdb.com/name/nm0376716/?ref_=nv_sr_1\"\n",
    "                    },\n",
    "                    {\n",
    "                        \"actor\": \"January Jones\",\n",
    "                        \"character\": \"Betty Draper\",\n",
    "                        \"imdb\": \"https://www.imdb.com/name/nm0005064/?ref_=nv_sr_1\"\n",
    "                    },\n",
    "                    {\n",
    "                        \"actor\": \"Elizabeth Moss\",\n",
    "                        \"character\": \"Peggy Olson\",\n",
    "                        \"imdb\": \"https://www.imdb.com/name/nm0005253/?ref_=nv_sr_1\"\n",
    "                    },\n",
    "                    {\n",
    "                        \"actor\": \"John Slattery\",\n",
    "                        \"character\": \"Roger Sterling\",\n",
    "                        \"imdb\": \"https://www.imdb.com/name/nm0805476/?ref_=nv_sr_1\"\n",
    "                    }\n",
    "                ],\n",
    "                \"num_seasons\": 5,\n",
    "                \"creators\": \"Matthew Weiner\",\n",
    "                \"still_running\": False\n",
    "            },\n",
    "            \"dexter\": {\n",
    "                \"cast\": [\n",
    "                    {\n",
    "                        \"actor\": \"Michael C. Hall\",\n",
    "                        \"character\": \"Dexter Morgan\",\n",
    "                        \"imdb\": \"https://www.imdb.com/name/nm0355910/?ref_=nv_sr_1\"\n",
    "                    },\n",
    "                    {\n",
    "                        \"actor\": \"Jennifer Carpenter\",\n",
    "                        \"character\": \"Deb Morgan\",\n",
    "                        \"imdb\": \"https://www.imdb.com/name/nm1358539/?ref_=nv_sr_1\"\n",
    "                    },\n",
    "                    {\n",
    "                        \"actor\": \"David Zayas\",\n",
    "                        \"character\": \"Angel Batista\",\n",
    "                        \"imdb\": \"https://www.imdb.com/name/nm0953882/?ref_=nv_sr_1\"\n",
    "                    },\n",
    "                    {\n",
    "                        \"actor\": \"Desmond Harrington\",\n",
    "                        \"character\": \"Joey Quinn\",\n",
    "                        \"imdb\": \"https://www.imdb.com/name/nm0004993/?ref_=nv_sr_1\"\n",
    "                    },\n",
    "                    {\n",
    "                        \"actor\": \"James Remar\",\n",
    "                        \"character\": \"Harry Morgan\",\n",
    "                        \"imdb\": \"https://www.imdb.com/name/nm0001664/?ref_=nv_sr_1\"\n",
    "                    }\n",
    "                ],\n",
    "                \"num_seasons\": 8,\n",
    "                \"creators\": \"James Manos Jr.\",\n",
    "                \"still_running\": False\n",
    "            },\n",
    "            \"stranger_things\": {\n",
    "                \"cast\": [\n",
    "                    {\n",
    "                        \"actor\": \"Millie Bobby Brown\",\n",
    "                        \"character\": \"Eleven\",\n",
    "                        \"imdb\": \"https://www.imdb.com/name/nm5611121/?ref_=nv_sr_1\"\n",
    "                    },\n",
    "                    {\n",
    "                        \"actor\": \"David harbour\",\n",
    "                        \"character\": \"Chief Hopper\",\n",
    "                        \"imdb\": \"https://www.imdb.com/name/nm1092086/?ref_=nv_sr_1\"\n",
    "                    },\n",
    "                    {\n",
    "                        \"actor\": \"Winona Ryder\",\n",
    "                        \"character\": \"Joyce\",\n",
    "                        \"imdb\": \"https://www.imdb.com/name/nm0000213/?ref_=nv_sr_1\"\n",
    "                    },\n",
    "                    {\n",
    "                        \"actor\": \"Gaten Matarazzo\",\n",
    "                        \"character\": \"Dustin\",\n",
    "                        \"imdb\": \"https://www.imdb.com/name/nm7140802/?ref_=nv_sr_1\"\n",
    "                    },\n",
    "                    {\n",
    "                        \"actor\": \"Finn Wolfhard\",\n",
    "                        \"character\": \"Mike\",\n",
    "                        \"imdb\": \"https://www.imdb.com/name/nm6016511/?ref_=nv_sr_1\"\n",
    "                    }\n",
    "                ],\n",
    "                \"num_seasons\": 2,\n",
    "                \"creators\": [\"Ross Duffer\", \"Matt Duffer\"],\n",
    "                \"still_running\": True\n",
    "            },\n",
    "           \"the_walking_dead\": {\n",
    "                \"cast\": [\n",
    "                    {\n",
    "                        \"actor\": \"Andrew Lincoln\",\n",
    "                        \"character\": \"Rick\",\n",
    "                        \"imdb\": \"https://www.imdb.com/name/nm0511088/?ref_=nv_sr_1\"\n",
    "                    },\n",
    "                    {\n",
    "                        \"actor\": \"Danai Gurira\",\n",
    "                        \"character\": \"Michonne\",\n",
    "                        \"imdb\": \"https://www.imdb.com/name/nm1775091/?ref_=nv_sr_1\"\n",
    "                    },\n",
    "                    {\n",
    "                        \"actor\": \"Jeffrey Dean Morgan\",\n",
    "                        \"character\": \"Negan\",\n",
    "                        \"imdb\": \"https://www.imdb.com/name/nm0604742/?ref_=nv_sr_1\"\n",
    "                    },\n",
    "                    {\n",
    "                        \"actor\": \"Norman Reedus\",\n",
    "                        \"character\": \"Daryl\",\n",
    "                        \"imdb\": \"https://www.imdb.com/name/nm0005342/?ref_=nv_sr_1\"\n",
    "                    },\n",
    "                    {\n",
    "                        \"actor\": \"Steven Yeun\",\n",
    "                        \"character\": \"Glenn\",\n",
    "                        \"imdb\": \"https://www.imdb.com/name/nm3081796/?ref_=nv_sr_1\"\n",
    "                    }\n",
    "                ],\n",
    "                \"num_seasons\": 8,\n",
    "                \"creators\": [\"Robert Kirkman\", \"Frank Darabont\"],\n",
    "                \"still_running\": True\n",
    "            }\n",
    "        },\n",
    "\n",
    "        \"comedy\": {\n",
    "            \"the_office\": {\n",
    "                \"cast\": [\n",
    "                    {\n",
    "                        \"actor\": \"Steve Carell\",\n",
    "                        \"character\": \"Michael Scott\",\n",
    "                        \"imdb\": \"https://www.imdb.com/name/nm0136797/?ref_=nv_sr_1\"\n",
    "                    },\n",
    "                    {\n",
    "                        \"actor\": \"Jim Halpert\",\n",
    "                        \"character\": \"John Krasinsky\",\n",
    "                        \"imdb\": \"https://www.imdb.com/name/nm1024677/?ref_=nv_sr_1\"\n",
    "                    },\n",
    "                    {\n",
    "                        \"actor\": \"Rainn Wilson\",\n",
    "                        \"character\": \"Dwight Schrute\",\n",
    "                        \"imdb\": \"https://www.imdb.com/name/nm0933988/?ref_=nv_sr_1\"\n",
    "                    },\n",
    "                    {\n",
    "                        \"actor\": \"Jenna Fischer\",\n",
    "                        \"character\": \"Pam Beasley\",\n",
    "                        \"imdb\": \"https://www.imdb.com/name/nm0278979/?ref_=nv_sr_1\"\n",
    "                    },\n",
    "                    {\n",
    "                        \"actor\": \"Mindy Kaling\",\n",
    "                        \"character\": \"Kelly Kapoor\",\n",
    "                        \"imdb\": \"https://www.imdb.com/name/nm1411676/?ref_=nv_sr_1\"\n",
    "                    }\n",
    "                ],\n",
    "                \"num_seasons\": 9,\n",
    "                \"creators\": [\"Ricky Gervais\", \"Stephen Merchant\", \"Greg Daniels\"],\n",
    "                \"still_running\": False\n",
    "            },\n",
    "            \"parks_and_recreation\": {\n",
    "                \"cast\": [\n",
    "                    {\n",
    "                        \"actor\": \"Amy Poehler\",\n",
    "                        \"character\": \"Leslie Knope\",\n",
    "                        \"imdb\": \"https://www.imdb.com/name/nm0688132/?ref_=nv_sr_1\"\n",
    "                    },\n",
    "                    {\n",
    "                        \"actor\": \"Nick Offerman\",\n",
    "                        \"character\": \"Ron Swanson\",\n",
    "                        \"imdb\": \"https://www.imdb.com/name/nm0644406/?ref_=nv_sr_1\"\n",
    "                    },\n",
    "                    {\n",
    "                        \"actor\": \"Chris Pratt\",\n",
    "                        \"character\": \"Andy Dwyer\",\n",
    "                        \"imdb\": \"https://www.imdb.com/name/nm0695435/?ref_=nv_sr_1\"\n",
    "                    },\n",
    "                    {\n",
    "                        \"actor\": \"Aziz Ansari\",\n",
    "                        \"character\": \"Tom Haverford\",\n",
    "                        \"imdb\": \"https://www.imdb.com/name/nm2106637/?ref_=nv_sr_1\"\n",
    "                    },\n",
    "                    {\n",
    "                        \"actor\": \"Aubrey Plaza\",\n",
    "                        \"character\": \"April Ludgate\",\n",
    "                        \"imdb\": \"https://www.imdb.com/name/nm2201555/?ref_=nv_sr_1\"\n",
    "                    }\n",
    "                ]\n",
    "            },\n",
    "            \"arrested_development\": {\n",
    "                \"cast\": [\n",
    "                    {\n",
    "                        \"actor\": \"Jason Bateman\",\n",
    "                        \"character\": \"Michael Bluth\",\n",
    "                        \"imdb\": \"https://www.imdb.com/name/nm0000867/?ref_=nv_sr_1\"\n",
    "                    },\n",
    "                    {\n",
    "                        \"actor\": \"Jeffrey Tambor\",\n",
    "                        \"character\": \"Oscar Bluth\",\n",
    "                        \"imdb\": \"https://www.imdb.com/name/nm0001787/?ref_=nv_sr_1\"\n",
    "                    },\n",
    "                    {\n",
    "                        \"actor\": \"Will Arnett\",\n",
    "                        \"character\": \"Gob Bluth\",\n",
    "                        \"imdb\": \"https://www.imdb.com/name/nm0004715/?ref_=nv_sr_1\"\n",
    "                    },\n",
    "                    {\n",
    "                        \"actor\": \"Michael Cera\",\n",
    "                        \"character\": \"George Michael Bluth\",\n",
    "                        \"imdb\": \"https://www.imdb.com/name/nm0148418/?ref_=nv_sr_1\"\n",
    "                    },\n",
    "                    {\n",
    "                        \"actor\": \"Portia De Rossi\",\n",
    "                        \"character\": \"Lindsay Bluth\",\n",
    "                        \"imdb\": \"https://www.imdb.com/name/nm0005577/?ref_=nv_sr_1\"\n",
    "                    }\n",
    "                ]\n",
    "            },\n",
    "            \"impractical_jokers\": {\n",
    "                \"cast\": [\n",
    "                    {\n",
    "                        \"actor\": \"James Murray\",\n",
    "                        \"showName\": \"Murr\",\n",
    "                        \"imdb\": \"https://www.imdb.com/name/nm2098978/?ref_=nv_sr_2\"\n",
    "                    },\n",
    "                    {\n",
    "                        \"actor\": \"Joseph Gatto\",\n",
    "                        \"showName\": \"Joe\",\n",
    "                        \"imdb\": \"https://www.imdb.com/name/nm2665746/?ref_=nv_sr_2\"\n",
    "                    },\n",
    "                    {\n",
    "                        \"actor\": \"Sal Vucano\",\n",
    "                        \"showName\": \"Sal\",\n",
    "                        \"imdb\": \"https://www.imdb.com/name/nm1742600/?ref_=nv_sr_1\"\n",
    "                    },\n",
    "                    {\n",
    "                        \"actor\": \"Brian Quinn\",\n",
    "                        \"showName\": \"Q\",\n",
    "                        \"imdb\": \"https://www.imdb.com/name/nm1978079/?ref_=nv_sr_1\"\n",
    "                    }\n",
    "                ]\n",
    "            },\n",
    "            \"family_guy\": {\n",
    "                \"cast\": [\n",
    "                    {\n",
    "                        \"actor\": \"Seth MacFarlane\",\n",
    "                        \"character\": [\"Peter Griffin\", \"Brian Griffin\", \"Stewie Griffin\"],\n",
    "                        \"imdb\": \"https://www.imdb.com/name/nm0532235/?ref_=nv_sr_1\"\n",
    "                    },\n",
    "                    {\n",
    "                        \"actor\": \"Mila Kunis\",\n",
    "                        \"character\": \"Meg Griffin\",\n",
    "                        \"imdb\": \"https://www.imdb.com/name/nm0005109/?ref_=nv_sr_1\"\n",
    "                    },\n",
    "                    {\n",
    "                        \"actor\": \"Seth Green\",\n",
    "                        \"character\": \"Chris Griffin\",\n",
    "                        \"imdb\": \"https://www.imdb.com/name/nm0001293/?ref_=nv_sr_1\"\n",
    "                    },\n",
    "                    {\n",
    "                        \"actor\": \"Alex Bornstein\",\n",
    "                        \"character\": [\"Lois Griffin\", \"Tricia Takanawa\", \"Barbara Pewterschmidt\"],\n",
    "                        \"imdb\": \"https://www.imdb.com/name/nm0097504/?ref_=nv_sr_1\"\n",
    "                    },\n",
    "                    {\n",
    "                        \"actor\": \"Patrick Warburton\",\n",
    "                        \"character\": \"Joe Swanson\",\n",
    "                        \"imdb\": \"https://www.imdb.com/name/nm0911320/?ref_=nv_sr_2\"\n",
    "                    }\n",
    "                ]\n",
    "            }\n",
    "        },\n",
    "\n",
    "        \"reality\": {\n",
    "            \"keeping_up_with_the_kardashians\": {\n",
    "                \"regulars\": [\"Kim Kardashian\", \"Khloe Kardashian\",\n",
    "                           \"Kylie Jenner\", \"Kris Kardashian\"]\n",
    "            },\n",
    "            \"american_idol\": {\n",
    "                \"judges\": [\"Simon Cowell\", \"Randy Jackson\", \"Paula Abdul\"]\n",
    "            },\n",
    "            \"family_feud\": {\n",
    "                \"host\": \"Steve Harvey\"\n",
    "            },\n",
    "            \"the_bachelorette\": {\n",
    "                \"host\": \"Chris Harrison\"\n",
    "            },\n",
    "            \"duck_dynasty\": {\n",
    "                \"cast\": [\"Phil Robertson\", \"Willie Robertson\",\n",
    "                       \"Si Robertson\", \"Jase Robertson\", \"Korie Robertson\"]\n",
    "            }\n",
    "        },\n",
    "\n",
    "        \"talk\": {\n",
    "            \"real_time_with_bill_maher\": {\n",
    "                \"host\": \"Bill Maher\"\n",
    "            },\n",
    "            \"the_view\": {\n",
    "                \"host\": [\"Whoopi Goldberg\", \"Barbara Walters\",\n",
    "                       \"Joy Behar\", \"Star Jones\", \"Meredith Vieira\"]\n",
    "            },\n",
    "            \"the_daily_show\": {\n",
    "                \"host\": \"Trevor Noah\"\n",
    "            },\n",
    "            \"conan\": {\n",
    "                \"host\": \"Conan O'Brien\"\n",
    "            },\n",
    "            \"late_night_with_seth_meyers\": {\n",
    "                \"host\": \"Seth Meyers\"\n",
    "            }\n",
    "        },\n",
    "\n",
    "        \"kids\": {\n",
    "            \"Spongebob\": {\n",
    "                \"cast\": [\n",
    "                    {\n",
    "                        \"actor\": \"Tom Kenny\",\n",
    "                        \"character\": \"SpongeBob\",\n",
    "                        \"imdb\": \"https://www.imdb.com/name/nm0444786/?ref_=nv_sr_1\"\n",
    "                    },\n",
    "                    {\n",
    "                        \"actor\": \"Clancy Brown\",\n",
    "                        \"character\": \"Mr. Krabs\",\n",
    "                        \"imdb\": \"https://www.imdb.com/name/nm0000317/?ref_=nv_sr_1\"\n",
    "                    },\n",
    "                    {\n",
    "                        \"actor\": \"Bill Fagerbakke\",\n",
    "                        \"character\": \"Patrick Star\",\n",
    "                        \"imdb\": \"https://www.imdb.com/name/nm0265067/?ref_=nv_sr_1\"\n",
    "                    },\n",
    "                    {\n",
    "                        \"actor\": \"Roger Bumpass\",\n",
    "                        \"character\": \"Squidward Tentacles\",\n",
    "                        \"imdb\": \"https://www.imdb.com/name/nm0120309/?ref_=nv_sr_1\"\n",
    "                    },\n",
    "                    {\n",
    "                        \"actor\": \"Carolyn Lawrence\",\n",
    "                        \"character\": \"Sandy Cheeks\",\n",
    "                        \"imdb\": \"https://www.imdb.com/name/nm0492657/?ref_=nv_sr_1\"\n",
    "                    }\n",
    "                ]\n",
    "            },\n",
    "            \"jimmy_neutron\": {\n",
    "                \"cast\": [\n",
    "                    {\n",
    "                        \"actor\": \"Debbi Derryberry\",\n",
    "                        \"character\": \"Jimmy Neutron\",\n",
    "                        \"imdb\": \"https://www.imdb.com/name/nm0220635/?ref_=nv_sr_3\"\n",
    "                    },\n",
    "                    {\n",
    "                        \"actor\": \"Rob Paulsen\",\n",
    "                        \"character\": \"Carl Wheezer\",\n",
    "                        \"imdb\": \"https://www.imdb.com/name/nm0667326/?ref_=nv_sr_1\"\n",
    "                    },\n",
    "                    {\n",
    "                        \"actor\": \"Jeffrey Garcia\",\n",
    "                        \"character\": \"Sheen Estevez\",\n",
    "                        \"imdb\": \"https://www.imdb.com/name/nm0305261/?ref_=nv_sr_1\"\n",
    "                    },\n",
    "                    {\n",
    "                        \"actor\": \"Andrea Martin\",\n",
    "                        \"character\": \"Ms. Fowl\",\n",
    "                        \"imdb\": \"https://www.imdb.com/name/nm0551908/?ref_=nv_sr_1\"\n",
    "                    },\n",
    "                    {\n",
    "                        \"actor\": \"Carolyn Lawrence\",\n",
    "                        \"character\": \"Cindy Vortex\",\n",
    "                        \"imdb\": \"https://www.imdb.com/name/nm0492657/?ref_=nv_sr_1\"\n",
    "                    }\n",
    "                ]\n",
    "            },\n",
    "            \"yu_gi_oh\": {\n",
    "                \"cast\": [\n",
    "                    {\n",
    "                        \"actor\": \"Dan Green\",\n",
    "                        \"character\": \"Yami Yugi\",\n",
    "                        \"imdb\": \"https://www.imdb.com/name/nm0337751/?ref_=nv_sr_1\"\n",
    "                    },\n",
    "                    {\n",
    "                        \"actor\": \"Wayne Grayson\",\n",
    "                        \"character\": \"Joey Wheeler\",\n",
    "                        \"imdb\": \"https://www.imdb.com/name/nm0969901/?ref_=nv_sr_1\"\n",
    "                    },\n",
    "                    {\n",
    "                        \"actor\": \"Ted Lewis\",\n",
    "                        \"character\": \"Bakura\",\n",
    "                        \"imdb\": \"https://www.imdb.com/name/nm0507793/?ref_=nv_sr_1\"\n",
    "                    },\n",
    "                    {\n",
    "                        \"actor\": \"Eric Stuart\",\n",
    "                        \"character\": \"Seto Kaiba\",\n",
    "                        \"imdb\": \"https://www.imdb.com/name/nm0835688/?ref_=nv_sr_1\"\n",
    "                    },\n",
    "                    {\n",
    "                        \"actor\": \"Amy Birnbaum\",\n",
    "                        \"character\": \"Téa Gardner\",\n",
    "                        \"imdb\": \"https://www.imdb.com/name/nm0083671/?ref_=nv_sr_1\"\n",
    "                    }\n",
    "                ]\n",
    "            },\n",
    "            \"dexters_lab\": {\n",
    "                \"cast\": [\n",
    "                    {\n",
    "                        \"actor\": \"Christine Cavanaugh\",\n",
    "                        \"character\": \"Dexter\",\n",
    "                        \"imdb\": \"https://www.imdb.com/name/nm0004815/?ref_=nv_sr_1\"\n",
    "                    },\n",
    "                    {\n",
    "                        \"actor\": \"Kath Soucie\",\n",
    "                        \"character\": \"Mom\",\n",
    "                        \"imdb\": \"https://www.imdb.com/name/nm0815718/?ref_=nv_sr_1\"\n",
    "                    },\n",
    "                    {\n",
    "                        \"actor\": \"Jeff Bennett\",\n",
    "                        \"character\": \"Dad\",\n",
    "                        \"imdb\": \"https://www.imdb.com/name/nm0071818/?ref_=nv_sr_1\"\n",
    "                    },\n",
    "                    {\n",
    "                        \"actor\": \"Kat Cressida\",\n",
    "                        \"character\": \"Dee Dee\",\n",
    "                        \"imdb\": \"https://www.imdb.com/name/nm0187570/?ref_=nv_sr_1\"\n",
    "                    },\n",
    "                    {\n",
    "                        \"actor\": \"Tom Kenny\",\n",
    "                        \"character\": \"Val Hallen\",\n",
    "                        \"imdb\": \"https://www.imdb.com/name/nm0444786/?ref_=nv_sr_1\"\n",
    "                    }\n",
    "                ]\n",
    "            },\n",
    "            \"teen_titans\": {\n",
    "                \"cast\": [\n",
    "                    {\n",
    "                        \"actor\": \"Scott Menville\",\n",
    "                        \"character\": \"Robin\",\n",
    "                        \"imdb\": \"https://www.imdb.com/name/nm0579914/?ref_=nv_sr_1\"\n",
    "                    },\n",
    "                    {\n",
    "                        \"actor\": \"Tara Strong\",\n",
    "                        \"character\": \"Raven\",\n",
    "                        \"imdb\": \"https://www.imdb.com/name/nm0152839/?ref_=nv_sr_1\"\n",
    "                    },\n",
    "                    {\n",
    "                        \"actor\": \"Khary Payton\",\n",
    "                        \"character\": \"Cyborg\",\n",
    "                        \"imdb\": \"https://www.imdb.com/name/nm1146051/?ref_=nv_sr_1\"\n",
    "                    },\n",
    "                    {\n",
    "                        \"actor\": \"Greg Cipes\",\n",
    "                        \"character\": \"Beast Boy\",\n",
    "                        \"imdb\": \"https://www.imdb.com/name/nm0996651/?ref_=nv_sr_1\"\n",
    "                    },\n",
    "                    {\n",
    "                        \"actor\": \"Hynden Walch\",\n",
    "                        \"character\": \"Starfire\",\n",
    "                        \"imdb\": \"https://www.imdb.com/name/nm0906945/?ref_=nv_sr_1\"\n",
    "                    }\n",
    "                ]\n",
    "            }\n",
    "        }\n",
    "\n",
    "    }\n",
    "}\n"
   ]
  },
  {
   "cell_type": "code",
   "execution_count": 6,
   "id": "ee881b48-4c40-466e-9a32-1e8a6838b48e",
   "metadata": {},
   "outputs": [
    {
     "name": "stdout",
     "output_type": "stream",
     "text": [
      "Roger Bumpass\n"
     ]
    }
   ],
   "source": [
    "# QUESTION 1: Who is the actor that plays Squidward in Spongebob (kids)?\n",
    "print(shows[\"genre\"][\"kids\"][\"Spongebob\"][\"cast\"][3][\"actor\"])"
   ]
  },
  {
   "cell_type": "code",
   "execution_count": 10,
   "id": "571d0b2d-e527-4463-9b03-5bb9d6747c9f",
   "metadata": {},
   "outputs": [
    {
     "name": "stdout",
     "output_type": "stream",
     "text": [
      "https://www.imdb.com/name/nm0911320/?ref_=nv_sr_2\n"
     ]
    }
   ],
   "source": [
    "# QUESTION 2: Patrick Warburton plays Joe Swanson in Family Guy (comedy). What is the link to his imdb page?\n",
    "print(shows[\"genre\"][\"comedy\"][\"family_guy\"][\"cast\"][-1][\"imdb\"])"
   ]
  },
  {
   "cell_type": "code",
   "execution_count": 15,
   "id": "e9e568ec-6c84-4dce-a29b-38a0dc85cb7b",
   "metadata": {},
   "outputs": [
    {
     "name": "stdout",
     "output_type": "stream",
     "text": [
      "True\n"
     ]
    }
   ],
   "source": [
    "# QUESTION 3: Is the Walking Dead still running?\n",
    "print(shows[\"genre\"][\"drama\"][\"the_walking_dead\"][\"still_running\"])\n"
   ]
  },
  {
   "cell_type": "code",
   "execution_count": 16,
   "id": "7b268985-8d1c-4a32-9e50-5c06637dc9b1",
   "metadata": {},
   "outputs": [
    {
     "name": "stdout",
     "output_type": "stream",
     "text": [
      "Michael C. Hall Christine Cavanaugh\n"
     ]
    }
   ],
   "source": [
    "# QUESTION 4: Who plays Dexter in Dexter (drama) and who plays Dexter in Dexter's Lab (kids)?\n",
    "# HINT: You can print multiple items at once by using a comma like this: print(thing1, thing2)\n",
    "print(shows[\"genre\"][\"drama\"][\"dexter\"][\"cast\"][0][\"actor\"], shows[\"genre\"][\"kids\"][\"dexters_lab\"][\"cast\"][0][\"actor\"])\n",
    "# QUESTION 5: Who are the creators of Stranger Things (drama)?\n",
    "# QUESTION 6: Who hosts the Daily Show (talk)?"
   ]
  },
  {
   "cell_type": "code",
   "execution_count": 17,
   "id": "f15d3d3f-2260-4e80-be62-649c1dde9f61",
   "metadata": {},
   "outputs": [
    {
     "name": "stdout",
     "output_type": "stream",
     "text": [
      "['Ross Duffer', 'Matt Duffer']\n"
     ]
    }
   ],
   "source": [
    "# QUESTION 5: Who are the creators of Stranger Things (drama)?\n",
    "print(shows[\"genre\"][\"drama\"][\"stranger_things\"][\"creators\"])\n"
   ]
  },
  {
   "cell_type": "code",
   "execution_count": 18,
   "id": "12e135d6-0696-4371-b636-d54e3543669b",
   "metadata": {},
   "outputs": [
    {
     "name": "stdout",
     "output_type": "stream",
     "text": [
      "Trevor Noah\n"
     ]
    }
   ],
   "source": [
    "# QUESTION 6: Who hosts the Daily Show (talk)?\n",
    "print(shows[\"genre\"][\"talk\"][\"the_daily_show\"][\"host\"])"
   ]
  },
  {
   "cell_type": "code",
   "execution_count": 19,
   "id": "15bdf032-de4a-4e68-9b46-fb57de682df5",
   "metadata": {},
   "outputs": [
    {
     "name": "stdout",
     "output_type": "stream",
     "text": [
      "Whoopi Goldberg\n",
      "Barbara Walters\n",
      "Joy Behar\n",
      "Star Jones\n",
      "Meredith Vieira\n"
     ]
    }
   ],
   "source": [
    "# QUESTION 7: Who are all the hosts of the view (talk)\n",
    "# Hint: You will need to use a loop for this one. You may not simply log the entire list, but must log each name individually\n",
    "for person in shows[\"genre\"][\"talk\"][\"the_view\"][\"host\"]:\n",
    "    print(person)"
   ]
  },
  {
   "cell_type": "code",
   "execution_count": 20,
   "id": "ebc66b1c-f463-4eb5-87d0-52a2bf264e95",
   "metadata": {},
   "outputs": [
    {
     "name": "stdout",
     "output_type": "stream",
     "text": [
      "['Whoopi Goldberg', 'Barbara Walters', 'Joy Behar', 'Star Jones', 'Meredith Vieira']\n"
     ]
    }
   ],
   "source": [
    "print(shows[\"genre\"][\"talk\"][\"the_view\"][\"host\"])"
   ]
  },
  {
   "cell_type": "code",
   "execution_count": 24,
   "id": "877dc696-c912-46fd-9362-daaddce62208",
   "metadata": {},
   "outputs": [
    {
     "name": "stdout",
     "output_type": "stream",
     "text": [
      "Murr\n",
      "Joe\n",
      "Sal\n",
      "Q\n"
     ]
    }
   ],
   "source": [
    "# QUESTION 8: What are the show names of the Impractical Jokers (comedy)\n",
    "# Hint: You will need to use a loop for this one. You may not simply log the entire list, but must log each name individually\n",
    "for character in shows[\"genre\"][\"comedy\"][\"impractical_jokers\"][\"cast\"]:\n",
    "    print(character[\"showName\"])"
   ]
  },
  {
   "cell_type": "code",
   "execution_count": 25,
   "id": "a714261a-9519-4f6a-936e-4dbdc611d00d",
   "metadata": {},
   "outputs": [
    {
     "name": "stdout",
     "output_type": "stream",
     "text": [
      "Gob Bluth\n"
     ]
    }
   ],
   "source": [
    "# QUESTION 9: Who does Will Arnett play in Arrested Development (comedy)\n",
    "print(shows[\"genre\"][\"comedy\"][\"arrested_development\"][\"cast\"][2][\"character\"])"
   ]
  },
  {
   "cell_type": "code",
   "execution_count": 26,
   "id": "2aa7ca1b-efe4-4087-a510-2e089190b09d",
   "metadata": {},
   "outputs": [
    {
     "name": "stdout",
     "output_type": "stream",
     "text": [
      "Dan Green\n"
     ]
    }
   ],
   "source": [
    "# QUESTION 10: Who plays Yami Yugi in Yu-Gi-Oh (kids)?\n",
    "print(shows[\"genre\"][\"kids\"][\"yu_gi_oh\"][\"cast\"][0][\"actor\"])"
   ]
  },
  {
   "cell_type": "code",
   "execution_count": 29,
   "id": "018a79eb-691f-4bd3-a91c-a9bf5386fe31",
   "metadata": {},
   "outputs": [
    {
     "name": "stdout",
     "output_type": "stream",
     "text": [
      "9\n"
     ]
    }
   ],
   "source": [
    "# QUESTION 11: How many seasons did the Office (comedy) run?\n",
    "print(shows[\"genre\"][\"comedy\"][\"the_office\"][\"num_seasons\"])\n"
   ]
  },
  {
   "cell_type": "code",
   "execution_count": 31,
   "id": "70a843fb-6200-44b6-abb4-8e6e596ae7cc",
   "metadata": {},
   "outputs": [
    {
     "name": "stdout",
     "output_type": "stream",
     "text": [
      "Michael Scott\n",
      "John Krasinsky\n",
      "Dwight Schrute\n",
      "Pam Beasley\n",
      "Kelly Kapoor\n"
     ]
    }
   ],
   "source": [
    "# QUESTION 12: Who are the main characters of the Office (comedy) (not the actors, but the actual character names)?\n",
    "for person in shows[\"genre\"][\"comedy\"][\"the_office\"][\"cast\"]:\n",
    "    print(person[\"character\"])\n"
   ]
  },
  {
   "cell_type": "code",
   "execution_count": 33,
   "id": "daf6e103-f429-422a-b552-8ece38d33764",
   "metadata": {},
   "outputs": [
    {
     "name": "stdout",
     "output_type": "stream",
     "text": [
      "Robin\n",
      "Raven\n",
      "Cyborg\n",
      "Beast Boy\n",
      "Starfire\n"
     ]
    }
   ],
   "source": [
    "# QUESTION 13: List the characters in Teen Titans (kids)\n",
    "for character in shows[\"genre\"][\"kids\"][\"teen_titans\"][\"cast\"]:\n",
    "    print(character[\"character\"])\n"
   ]
  },
  {
   "cell_type": "code",
   "execution_count": 34,
   "id": "ec6fcff6-4247-4f50-9218-3447050b52c0",
   "metadata": {},
   "outputs": [
    {
     "name": "stdout",
     "output_type": "stream",
     "text": [
      "https://www.imdb.com/name/nm0000317/?ref_=nv_sr_1\n"
     ]
    }
   ],
   "source": [
    "# QUESTION 14: What is the link to the IMDB page for the actor who plays Mr. Krabs (Spongebob, kids)?\n",
    "print(shows[\"genre\"][\"kids\"][\"Spongebob\"][\"cast\"][1][\"imdb\"])"
   ]
  },
  {
   "cell_type": "code",
   "execution_count": 36,
   "id": "94d98a7a-777e-4e1e-ba88-798ccef798b4",
   "metadata": {},
   "outputs": [
    {
     "name": "stdout",
     "output_type": "stream",
     "text": [
      "Jeffrey Dean Morgan\n"
     ]
    }
   ],
   "source": [
    "# QUESTION 15: Who plays Negan in The Walking Dead?\n",
    "print(shows[\"genre\"][\"drama\"][\"the_walking_dead\"][\"cast\"][2][\"actor\"])\n"
   ]
  },
  {
   "cell_type": "code",
   "execution_count": 38,
   "id": "485dcfb5-b57b-4776-b047-5ef106e2442f",
   "metadata": {},
   "outputs": [
    {
     "name": "stdout",
     "output_type": "stream",
     "text": [
      "Michael C. Hall\n",
      "Jennifer Carpenter\n",
      "David Zayas\n",
      "Desmond Harrington\n",
      "James Remar\n"
     ]
    }
   ],
   "source": [
    "# QUESTION 16: List the main cast of Dexter (drama) (the actors, not the characters)\n",
    "for actor in shows[\"genre\"][\"drama\"][\"dexter\"][\"cast\"]:\n",
    "    print(actor[\"actor\"])"
   ]
  },
  {
   "cell_type": "code",
   "execution_count": 39,
   "id": "7d774862-3e82-4cbb-a44b-f7c6d6b3ca65",
   "metadata": {},
   "outputs": [
    {
     "name": "stdout",
     "output_type": "stream",
     "text": [
      "False\n"
     ]
    }
   ],
   "source": [
    "# QUESTION 17: Is Game of Thrones(drama) still running?\n",
    "print(shows[\"genre\"][\"drama\"][\"game_of_thrones\"][\"still_running\"])"
   ]
  },
  {
   "cell_type": "code",
   "execution_count": 40,
   "id": "71bf4904-c50f-4dda-8185-a144959ba2db",
   "metadata": {},
   "outputs": [
    {
     "name": "stdout",
     "output_type": "stream",
     "text": [
      "Tyrion Lannister\n"
     ]
    }
   ],
   "source": [
    "# QUESTION 18: Who does Peter Dinklage play in Game of Thrones (drama)?\n",
    "print(shows[\"genre\"][\"drama\"][\"game_of_thrones\"][\"cast\"][1][\"character\"])"
   ]
  },
  {
   "cell_type": "code",
   "execution_count": 42,
   "id": "8713519f-239f-4178-94e9-a1dc3ce94022",
   "metadata": {},
   "outputs": [
    {
     "name": "stdout",
     "output_type": "stream",
     "text": [
      "Simon Cowell\n",
      "Randy Jackson\n",
      "Paula Abdul\n"
     ]
    }
   ],
   "source": [
    "# QUESTION 19: List the American Idol Judges\n",
    "for judges in shows[\"genre\"][\"reality\"][\"american_idol\"][\"judges\"]:\n",
    "    print(judges)"
   ]
  },
  {
   "cell_type": "code",
   "execution_count": 43,
   "id": "6557ff01-a01a-4ac2-9811-e0bd7ae13c11",
   "metadata": {},
   "outputs": [
    {
     "name": "stdout",
     "output_type": "stream",
     "text": [
      "Gaten Matarazzo\n"
     ]
    }
   ],
   "source": [
    "# QUESTION 20: Who plays Dustin in Stanger Things (drama)?\n",
    "print(shows[\"genre\"][\"drama\"][\"stranger_things\"][\"cast\"][-2][\"actor\"])"
   ]
  },
  {
   "cell_type": "code",
   "execution_count": null,
   "id": "cebdd383-c5c6-4881-b7dc-ca178676e905",
   "metadata": {},
   "outputs": [],
   "source": []
  }
 ],
 "metadata": {
  "kernelspec": {
   "display_name": "Python 3 (ipykernel)",
   "language": "python",
   "name": "python3"
  },
  "language_info": {
   "codemirror_mode": {
    "name": "ipython",
    "version": 3
   },
   "file_extension": ".py",
   "mimetype": "text/x-python",
   "name": "python",
   "nbconvert_exporter": "python",
   "pygments_lexer": "ipython3",
   "version": "3.7.13"
  }
 },
 "nbformat": 4,
 "nbformat_minor": 5
}
