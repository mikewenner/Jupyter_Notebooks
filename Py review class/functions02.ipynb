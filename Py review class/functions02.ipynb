{
 "cells": [
  {
   "cell_type": "code",
   "execution_count": 1,
   "id": "cf41ef55-c8c7-4996-aee7-6f7951da1970",
   "metadata": {},
   "outputs": [],
   "source": [
    "#Define a function warble that takes in a string as an argument, adds \" arglebargle\" to the end of it, and returns the result.\n",
    "\n",
    "def warble(string):\n",
    "    return f\"{string} arglebargle\""
   ]
  },
  {
   "cell_type": "code",
   "execution_count": 2,
   "id": "56c16392-3b07-43c8-8bc9-36d7eb003622",
   "metadata": {},
   "outputs": [
    {
     "name": "stdout",
     "output_type": "stream",
     "text": [
      "hello arglebargle\n"
     ]
    }
   ],
   "source": [
    "print(warble(\"hello\"))"
   ]
  },
  {
   "cell_type": "code",
   "execution_count": 3,
   "id": "f92ff4c2-e72f-4fe9-8e18-61e3f5c58711",
   "metadata": {},
   "outputs": [],
   "source": [
    "# Define a function \"wibble\" that takes a string as an argument, prints the argument, \n",
    "# prepends \"wibbly \" to the argument, and returns the result\n",
    "\n",
    "def wibble(string):\n",
    "    return f\"wibbly {string}\""
   ]
  },
  {
   "cell_type": "code",
   "execution_count": 4,
   "id": "b000fd3f-4df4-435b-8e1c-b7156825391c",
   "metadata": {},
   "outputs": [
    {
     "name": "stdout",
     "output_type": "stream",
     "text": [
      "wibbly bibbly\n"
     ]
    }
   ],
   "source": [
    "print(wibble(\"bibbly\"))"
   ]
  },
  {
   "cell_type": "code",
   "execution_count": 5,
   "id": "b7212a9a-2c30-42e2-9cad-4ff53b4b652f",
   "metadata": {},
   "outputs": [],
   "source": [
    "# Define a function \"print_sum\" that takes in two numbers as arguments and prints the sum of those two numbers.\n",
    "\n",
    "def print_sum(num_1, num_2):\n",
    "    sum = num_1 + num_2\n",
    "    print(sum)"
   ]
  },
  {
   "cell_type": "code",
   "execution_count": 6,
   "id": "fb285f01-0d52-46be-8061-a9dac097db5c",
   "metadata": {},
   "outputs": [],
   "source": [
    "# Define a function \"return_sum\" that takes in two numbers as arguments and returns the sum of those two numbers\n",
    "\n",
    "def return_sum(num_1, num_2):\n",
    "    sum = num_1 + num_2\n",
    "    return sum"
   ]
  },
  {
   "cell_type": "code",
   "execution_count": 7,
   "id": "6cc55f90-355b-4f7f-90bb-6ae7bf9a2936",
   "metadata": {},
   "outputs": [],
   "source": [
    "# Define a function \"triple_sum\" that takes in 3 arguments and returns the sum of those 3 numbers.\n",
    "\n",
    "def triple_sum(num_1, num_2, num_3):\n",
    "    sum = num_1 + num_2 + num_3\n",
    "    return sum"
   ]
  },
  {
   "cell_type": "code",
   "execution_count": 11,
   "id": "0fc143ff-f505-4bb2-b075-e3d04c40830f",
   "metadata": {},
   "outputs": [],
   "source": [
    "# Define a function \"dance_party\" that takes in a string as an argument, that prints \"dance!\", \n",
    "# updates the string from calling \"wibble\" function with that argument, updates the string from calling \n",
    "# \"warble\" function with that argument, returns the updated string\n",
    "\n",
    "def dance_party(string):\n",
    "    print(\"dance!\")\n",
    "    print(string)\n",
    "    print(wibble(warble(string)))\n"
   ]
  },
  {
   "cell_type": "code",
   "execution_count": 12,
   "id": "35c97b80-7369-4295-9990-349905ae370f",
   "metadata": {},
   "outputs": [
    {
     "name": "stdout",
     "output_type": "stream",
     "text": [
      "dance!\n",
      "mike\n",
      "wibbly mike arglebargle\n"
     ]
    }
   ],
   "source": [
    "# Print the result of calling your \"dance_party\" function with your name as the argument\n",
    "dance_party(\"mike\")"
   ]
  },
  {
   "cell_type": "code",
   "execution_count": null,
   "id": "1c834398-db10-49e1-8abc-7ebad0fa0e45",
   "metadata": {},
   "outputs": [],
   "source": []
  }
 ],
 "metadata": {
  "kernelspec": {
   "display_name": "Python 3 (ipykernel)",
   "language": "python",
   "name": "python3"
  },
  "language_info": {
   "codemirror_mode": {
    "name": "ipython",
    "version": 3
   },
   "file_extension": ".py",
   "mimetype": "text/x-python",
   "name": "python",
   "nbconvert_exporter": "python",
   "pygments_lexer": "ipython3",
   "version": "3.7.13"
  }
 },
 "nbformat": 4,
 "nbformat_minor": 5
}
