{
 "cells": [
  {
   "cell_type": "code",
   "execution_count": null,
   "id": "f4dafee2-0af6-49ee-97eb-59400d7b5afe",
   "metadata": {},
   "outputs": [],
   "source": []
  },
  {
   "cell_type": "code",
   "execution_count": null,
   "id": "d81a302a-359a-42f4-b885-ffb4a66a94f9",
   "metadata": {},
   "outputs": [],
   "source": []
  },
  {
   "cell_type": "code",
   "execution_count": 1,
   "id": "7edbdae5-9a2f-4675-9e92-dd113616d2da",
   "metadata": {},
   "outputs": [
    {
     "ename": "ModuleNotFoundError",
     "evalue": "No module named 'mplfinance'",
     "output_type": "error",
     "traceback": [
      "\u001b[0;31m---------------------------------------------------------------------------\u001b[0m",
      "\u001b[0;31mModuleNotFoundError\u001b[0m                       Traceback (most recent call last)",
      "\u001b[0;32m/var/folders/ys/fqvy458x0ds2sdvqh8qgff500000gn/T/ipykernel_54994/2272132026.py\u001b[0m in \u001b[0;36m<module>\u001b[0;34m\u001b[0m\n\u001b[1;32m      1\u001b[0m \u001b[0;32mimport\u001b[0m \u001b[0myfinance\u001b[0m \u001b[0;32mas\u001b[0m \u001b[0myf\u001b[0m\u001b[0;34m\u001b[0m\u001b[0;34m\u001b[0m\u001b[0m\n\u001b[0;32m----> 2\u001b[0;31m \u001b[0;32mimport\u001b[0m \u001b[0mmplfinance\u001b[0m \u001b[0;32mas\u001b[0m \u001b[0mmpf\u001b[0m\u001b[0;34m\u001b[0m\u001b[0;34m\u001b[0m\u001b[0m\n\u001b[0m",
      "\u001b[0;31mModuleNotFoundError\u001b[0m: No module named 'mplfinance'"
     ]
    }
   ],
   "source": [
    "import yfinance as yf\n",
    "import mplfinance as mpf"
   ]
  },
  {
   "cell_type": "code",
   "execution_count": 2,
   "id": "08846536-a93f-4180-87bb-ff00acd6d552",
   "metadata": {},
   "outputs": [
    {
     "name": "stdout",
     "output_type": "stream",
     "text": [
      "Collecting mplfinance\n",
      "  Using cached mplfinance-0.12.9b7-py3-none-any.whl (73 kB)\n",
      "Requirement already satisfied: pandas in /Users/mikewenner/opt/anaconda3/envs/dev/lib/python3.9/site-packages (from mplfinance) (1.5.2)\n",
      "Requirement already satisfied: matplotlib in /Users/mikewenner/opt/anaconda3/envs/dev/lib/python3.9/site-packages (from mplfinance) (3.6.2)\n",
      "Requirement already satisfied: numpy>=1.19 in /Users/mikewenner/opt/anaconda3/envs/dev/lib/python3.9/site-packages (from matplotlib->mplfinance) (1.21.5)\n",
      "Requirement already satisfied: packaging>=20.0 in /Users/mikewenner/opt/anaconda3/envs/dev/lib/python3.9/site-packages (from matplotlib->mplfinance) (22.0)\n",
      "Requirement already satisfied: pyparsing>=2.2.1 in /Users/mikewenner/opt/anaconda3/envs/dev/lib/python3.9/site-packages (from matplotlib->mplfinance) (3.0.9)\n",
      "Requirement already satisfied: pillow>=6.2.0 in /Users/mikewenner/opt/anaconda3/envs/dev/lib/python3.9/site-packages (from matplotlib->mplfinance) (9.3.0)\n",
      "Requirement already satisfied: fonttools>=4.22.0 in /Users/mikewenner/opt/anaconda3/envs/dev/lib/python3.9/site-packages (from matplotlib->mplfinance) (4.25.0)\n",
      "Requirement already satisfied: contourpy>=1.0.1 in /Users/mikewenner/opt/anaconda3/envs/dev/lib/python3.9/site-packages (from matplotlib->mplfinance) (1.0.5)\n",
      "Requirement already satisfied: kiwisolver>=1.0.1 in /Users/mikewenner/opt/anaconda3/envs/dev/lib/python3.9/site-packages (from matplotlib->mplfinance) (1.4.4)\n",
      "Requirement already satisfied: python-dateutil>=2.7 in /Users/mikewenner/opt/anaconda3/envs/dev/lib/python3.9/site-packages (from matplotlib->mplfinance) (2.8.2)\n",
      "Requirement already satisfied: cycler>=0.10 in /Users/mikewenner/opt/anaconda3/envs/dev/lib/python3.9/site-packages (from matplotlib->mplfinance) (0.11.0)\n",
      "Requirement already satisfied: pytz>=2020.1 in /Users/mikewenner/opt/anaconda3/envs/dev/lib/python3.9/site-packages (from pandas->mplfinance) (2022.7)\n",
      "Requirement already satisfied: six>=1.5 in /Users/mikewenner/opt/anaconda3/envs/dev/lib/python3.9/site-packages (from python-dateutil>=2.7->matplotlib->mplfinance) (1.16.0)\n",
      "Installing collected packages: mplfinance\n",
      "Successfully installed mplfinance-0.12.9b7\n",
      "Note: you may need to restart the kernel to use updated packages.\n"
     ]
    }
   ],
   "source": [
    "%pip install mplfinance"
   ]
  },
  {
   "cell_type": "code",
   "execution_count": null,
   "id": "416ac0d6-a6a4-40af-bf70-bf2cc73234bb",
   "metadata": {},
   "outputs": [],
   "source": [
    "import mplfinance "
   ]
  }
 ],
 "metadata": {
  "kernelspec": {
   "display_name": "Python 3 (ipykernel)",
   "language": "python",
   "name": "python3"
  },
  "language_info": {
   "codemirror_mode": {
    "name": "ipython",
    "version": 3
   },
   "file_extension": ".py",
   "mimetype": "text/x-python",
   "name": "python",
   "nbconvert_exporter": "python",
   "pygments_lexer": "ipython3",
   "version": "3.9.13"
  }
 },
 "nbformat": 4,
 "nbformat_minor": 5
}
