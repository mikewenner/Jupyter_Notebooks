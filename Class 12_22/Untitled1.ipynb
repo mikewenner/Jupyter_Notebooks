{
 "cells": [
  {
   "cell_type": "code",
   "execution_count": 2,
   "id": "946ea9be-af7b-43f9-adb1-cc9d4e415b33",
   "metadata": {},
   "outputs": [
    {
     "name": "stdout",
     "output_type": "stream",
     "text": [
      "Collecting numpy_financial\n",
      "  Downloading numpy_financial-1.0.0-py3-none-any.whl (14 kB)\n",
      "Requirement already satisfied: numpy>=1.15 in ./opt/anaconda3/envs/dev/lib/python3.7/site-packages (from numpy_financial) (1.21.5)\n",
      "Installing collected packages: numpy_financial\n",
      "Successfully installed numpy_financial-1.0.0\n",
      "Note: you may need to restart the kernel to use updated packages.\n"
     ]
    }
   ],
   "source": [
    "%pip install numpy_financial\n",
    "import numpy\n",
    "import numpy_financial as npf"
   ]
  },
  {
   "cell_type": "code",
   "execution_count": 4,
   "id": "fffcb678-70c5-4483-871f-7ea32e226b83",
   "metadata": {},
   "outputs": [
    {
     "name": "stdout",
     "output_type": "stream",
     "text": [
      "267.94617853971704\n"
     ]
    }
   ],
   "source": [
    "interest_rate = .1\n",
    "cash_flows = [-1000, 400, 400, 400, 400]\n",
    "\n",
    "net_present_value = npf.npv(interest_rate, cash_flows)\n",
    "print(net_present_value)"
   ]
  },
  {
   "cell_type": "code",
   "execution_count": 5,
   "id": "9fd1d1e5-caab-4065-8934-1388f6947d6f",
   "metadata": {},
   "outputs": [],
   "source": [
    "# Discount Rate\n",
    "discount_rate = .1\n",
    "\n",
    "# Initial Investment, Cash Flow 1, Cash Flow 2, Cash Flow 3, Cash Flow 4\n",
    "cash_flows_conservative = [-1000, 400, 400, 400, 400]\n",
    "cash_flows_neutral = [-1500, 600, 600, 600, 600]\n",
    "cash_flows_aggressive = [-2250, 800, 800, 800, 800]"
   ]
  },
  {
   "cell_type": "code",
   "execution_count": 6,
   "id": "99594b39-0959-44c2-887a-3ce8b82053aa",
   "metadata": {},
   "outputs": [],
   "source": [
    "# @TODO: Initialize dictionary to hold NPV return values\n",
    "npv_dict = {}"
   ]
  },
  {
   "cell_type": "code",
   "execution_count": 9,
   "id": "f0c61f7d-5ecb-4fa2-9946-6014b019bb47",
   "metadata": {},
   "outputs": [],
   "source": [
    "# @TODO: Calculate the NPV for each scenario\n",
    "net_present_value_conservative = npf.npv(discount_rate, cash_flows_conservative)\n",
    "net_present_value_neutral = npf.npv(discount_rate, cash_flows_neutral)\n",
    "net_present_value_aggressive = npf.npv(discount_rate, cash_flows_aggressive)"
   ]
  },
  {
   "cell_type": "code",
   "execution_count": 14,
   "id": "6cb33ef3-5a9b-4c85-be12-d5a6d02aa788",
   "metadata": {},
   "outputs": [],
   "source": [
    "npv_dict[\"conservative\"] = net_present_value_conservative\n",
    "npv_dict[\"neutral\"] = net_present_value_neutral\n",
    "npv_dict[\"aggressive\"] = net_present_value_aggressive"
   ]
  },
  {
   "cell_type": "code",
   "execution_count": 15,
   "id": "76677940-45f7-412d-96e3-4690c8f43bc4",
   "metadata": {},
   "outputs": [
    {
     "name": "stdout",
     "output_type": "stream",
     "text": [
      "{'net_present_value_conservative': 267.94617853971704, 'net_present_value_neutral': 401.91926780957544, 'net_present_value_aggressive': 285.8923570794341, 'conservative': 267.94617853971704, 'neutral': 401.91926780957544, 'aggressive': 285.8923570794341}\n"
     ]
    }
   ],
   "source": [
    "print(npv_dict)"
   ]
  },
  {
   "cell_type": "code",
   "execution_count": 13,
   "id": "86f2f82b-2341-4ece-9db3-f4ee0c1e551f",
   "metadata": {},
   "outputs": [
    {
     "ename": "KeyError",
     "evalue": "401.91926780957544",
     "output_type": "error",
     "traceback": [
      "\u001b[0;31m---------------------------------------------------------------------------\u001b[0m",
      "\u001b[0;31mKeyError\u001b[0m                                  Traceback (most recent call last)",
      "\u001b[0;32m/var/folders/ys/fqvy458x0ds2sdvqh8qgff500000gn/T/ipykernel_95005/130331556.py\u001b[0m in \u001b[0;36m<module>\u001b[0;34m\u001b[0m\n\u001b[0;32m----> 1\u001b[0;31m \u001b[0mprint\u001b[0m\u001b[0;34m(\u001b[0m\u001b[0mnpv_dict\u001b[0m\u001b[0;34m[\u001b[0m\u001b[0mnet_present_value_neutral\u001b[0m\u001b[0;34m]\u001b[0m\u001b[0;34m)\u001b[0m\u001b[0;34m\u001b[0m\u001b[0;34m\u001b[0m\u001b[0m\n\u001b[0m",
      "\u001b[0;31mKeyError\u001b[0m: 401.91926780957544"
     ]
    }
   ],
   "source": [
    "print(npv_dict[net_present_value_neutral])"
   ]
  },
  {
   "cell_type": "code",
   "execution_count": null,
   "id": "047d9574-bb1a-4cf4-bc90-cf850f46a12a",
   "metadata": {},
   "outputs": [],
   "source": []
  }
 ],
 "metadata": {
  "kernelspec": {
   "display_name": "Python 3 (ipykernel)",
   "language": "python",
   "name": "python3"
  },
  "language_info": {
   "codemirror_mode": {
    "name": "ipython",
    "version": 3
   },
   "file_extension": ".py",
   "mimetype": "text/x-python",
   "name": "python",
   "nbconvert_exporter": "python",
   "pygments_lexer": "ipython3",
   "version": "3.7.13"
  }
 },
 "nbformat": 4,
 "nbformat_minor": 5
}
