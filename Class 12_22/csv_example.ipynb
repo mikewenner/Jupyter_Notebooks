{
 "cells": [
  {
   "cell_type": "code",
   "execution_count": 2,
   "id": "ed128475-d66f-4167-8b44-7c21c8d515d5",
   "metadata": {},
   "outputs": [],
   "source": [
    "from pathlib import Path\n",
    "import csv"
   ]
  },
  {
   "cell_type": "code",
   "execution_count": 3,
   "id": "4f586cc3-1afa-430f-9e16-b2570d999333",
   "metadata": {},
   "outputs": [],
   "source": [
    "csvpath = Path('Desktop/sales.txt')"
   ]
  },
  {
   "cell_type": "code",
   "execution_count": 4,
   "id": "6cad6061-377f-4b21-b559-b8b9e97d8ff1",
   "metadata": {},
   "outputs": [
    {
     "name": "stdout",
     "output_type": "stream",
     "text": [
      "Desktop/sales.txt\n"
     ]
    }
   ],
   "source": [
    "print(csvpath)"
   ]
  },
  {
   "cell_type": "code",
   "execution_count": 5,
   "id": "587d2dde-7de7-46d5-b21e-89028da986b3",
   "metadata": {},
   "outputs": [
    {
     "name": "stdout",
     "output_type": "stream",
     "text": [
      "<class '_io.TextIOWrapper'>\n"
     ]
    }
   ],
   "source": [
    "with open(csvpath, 'r') as csvfile:\n",
    "    print(type(csvfile))"
   ]
  },
  {
   "cell_type": "code",
   "execution_count": null,
   "id": "455e1fbe-2b73-426b-a0ec-efaa191d6bf9",
   "metadata": {},
   "outputs": [],
   "source": []
  }
 ],
 "metadata": {
  "kernelspec": {
   "display_name": "Python 3 (ipykernel)",
   "language": "python",
   "name": "python3"
  },
  "language_info": {
   "codemirror_mode": {
    "name": "ipython",
    "version": 3
   },
   "file_extension": ".py",
   "mimetype": "text/x-python",
   "name": "python",
   "nbconvert_exporter": "python",
   "pygments_lexer": "ipython3",
   "version": "3.7.13"
  }
 },
 "nbformat": 4,
 "nbformat_minor": 5
}
