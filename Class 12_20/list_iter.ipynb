{
 "cells": [
  {
   "cell_type": "code",
   "execution_count": null,
   "id": "6e0ef96e-0ce9-49a6-99e2-ac3ab8c03911",
   "metadata": {},
   "outputs": [],
   "source": []
  },
  {
   "cell_type": "code",
   "execution_count": 1,
   "id": "07f1081c-1cac-4e46-b6b4-a93e76d4581e",
   "metadata": {},
   "outputs": [],
   "source": [
    "count = 0\n",
    "total = 0\n",
    "average = 0\n",
    "minimum = 0\n",
    "maximum = 0"
   ]
  },
  {
   "cell_type": "code",
   "execution_count": 2,
   "id": "7b05d3e2-d94e-4971-91aa-1764fd0f10b2",
   "metadata": {},
   "outputs": [],
   "source": [
    "profitable_days = []\n",
    "unprofitable_days = []"
   ]
  },
  {
   "cell_type": "code",
   "execution_count": 3,
   "id": "0e717bd6-ba5e-4cf8-b5ce-30544862918c",
   "metadata": {},
   "outputs": [],
   "source": [
    "trading_pnl = [ -224,  352, 252, 354, -544,\n",
    "                -650,   56, 123, -43,  254,\n",
    "                 325, -123,  47, 321,  123,\n",
    "                 133, -151, 613, 232, -311 ]"
   ]
  },
  {
   "cell_type": "code",
   "execution_count": 4,
   "id": "15033b73-3f92-49b4-9f43-7d1ed2577880",
   "metadata": {},
   "outputs": [],
   "source": [
    "for pnl in trading_pnl:\n",
    "    total += pnl\n",
    "    count += 1\n",
    "    \n",
    "    if minimum == 0:\n",
    "        minimum = pnl\n",
    "    elif pnl < minimum:\n",
    "        minimum = pnl\n",
    "    elif pnl > maximum:\n",
    "        maximum = pnl"
   ]
  },
  {
   "cell_type": "code",
   "execution_count": 5,
   "id": "69f81965-4c80-4115-a5e5-071509db83de",
   "metadata": {},
   "outputs": [
    {
     "name": "stdout",
     "output_type": "stream",
     "text": [
      "56.95\n"
     ]
    }
   ],
   "source": [
    "average = round(total/count, 2)\n",
    "print(average)"
   ]
  },
  {
   "cell_type": "code",
   "execution_count": 6,
   "id": "bc0f8524-189d-45af-aaeb-4d21cfce03ca",
   "metadata": {},
   "outputs": [
    {
     "name": "stdout",
     "output_type": "stream",
     "text": [
      "1139\n",
      "20\n"
     ]
    }
   ],
   "source": [
    "print(total)\n",
    "print(count)"
   ]
  },
  {
   "cell_type": "code",
   "execution_count": 7,
   "id": "87081faf-156e-49c5-b366-6f6ca61f9551",
   "metadata": {},
   "outputs": [
    {
     "name": "stdout",
     "output_type": "stream",
     "text": [
      "-650\n",
      "613\n"
     ]
    }
   ],
   "source": [
    "print(minimum)\n",
    "print(maximum)"
   ]
  },
  {
   "cell_type": "code",
   "execution_count": 8,
   "id": "a48914b8-044e-48bb-b3a4-0b5360e7fb95",
   "metadata": {},
   "outputs": [],
   "source": [
    "if pnl > 0:\n",
    "    profitable_days.append(pnl)\n",
    "elif pnl <=0:\n",
    "    unprofitable_days.append(pnl)"
   ]
  },
  {
   "cell_type": "code",
   "execution_count": 9,
   "id": "02d765ea-a3bf-4422-ae02-69cc07e29271",
   "metadata": {},
   "outputs": [],
   "source": [
    "profitable_count = len(profitable_days)\n",
    "unprofitable_count = len(unprofitable_days)"
   ]
  },
  {
   "cell_type": "code",
   "execution_count": 10,
   "id": "029c9641-a76b-44ee-822d-025cd14e5e29",
   "metadata": {},
   "outputs": [
    {
     "name": "stdout",
     "output_type": "stream",
     "text": [
      "0\n",
      "1\n"
     ]
    }
   ],
   "source": [
    "print(profitable_count)\n",
    "print(unprofitable_count)"
   ]
  },
  {
   "cell_type": "code",
   "execution_count": null,
   "id": "3de7097f-bcbc-4eff-b919-5a65b55fedad",
   "metadata": {},
   "outputs": [],
   "source": []
  },
  {
   "cell_type": "code",
   "execution_count": null,
   "id": "5ed8f394-e50f-4689-adfd-ace4be3bafa5",
   "metadata": {},
   "outputs": [],
   "source": []
  }
 ],
 "metadata": {
  "kernelspec": {
   "display_name": "Python 3 (ipykernel)",
   "language": "python",
   "name": "python3"
  },
  "language_info": {
   "codemirror_mode": {
    "name": "ipython",
    "version": 3
   },
   "file_extension": ".py",
   "mimetype": "text/x-python",
   "name": "python",
   "nbconvert_exporter": "python",
   "pygments_lexer": "ipython3",
   "version": "3.7.13"
  }
 },
 "nbformat": 4,
 "nbformat_minor": 5
}
