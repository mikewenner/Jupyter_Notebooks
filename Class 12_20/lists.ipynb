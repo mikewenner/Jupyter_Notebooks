{
 "cells": [
  {
   "cell_type": "code",
   "execution_count": 17,
   "id": "9db0229b-757f-4235-897b-05e330ae60e1",
   "metadata": {},
   "outputs": [
    {
     "name": "stdout",
     "output_type": "stream",
     "text": [
      "['water', 'butter']\n",
      "['eggs', 'aaples', 'cinnamon', 'sugar', 'milk']\n",
      "['water', 'eggs', 'cinnamon', 'milk']\n",
      "['water', 'butter', 'eggs', 'aaples', 'cinnamon', 'sugar', 'milk', 'yogurt']\n",
      "['water', 'butter', 'more eggs', 'aaples', 'cinnamon', 'sugar', 'milk', 'yogurt']\n",
      "8\n",
      "2\n",
      "['water', 'butter', 'more eggs', 'aaples', 'cinnamon', 'sugar', 'yogurt']\n",
      "['water', 'butter', 'more eggs', 'aaples', 'sugar', 'yogurt']\n",
      "['water', 'butter', 'more eggs', 'aaples', 'sugar']\n"
     ]
    }
   ],
   "source": [
    "\n",
    "# @TODO: Create a list of groceries\n",
    "grocery_list = [\"water\", \"butter\", \"eggs\", \"aaples\", \"cinnamon\", \"sugar\", \"milk\"]\n",
    "\n",
    "\n",
    "# @TODO: Find the first two items on the list\n",
    "print(grocery_list[:2])\n",
    "\n",
    "# @TODO: Find the last five items on the list\n",
    "print(grocery_list[2:])\n",
    "\n",
    "# @TODO: Find every other item on the list, starting from the second item\n",
    "print(grocery_list[::2])\n",
    "\n",
    "# @TODO: Add an element to the end of the list\n",
    "grocery_list.append(\"yogurt\")\n",
    "print(grocery_list)\n",
    "\n",
    "# @TODO: Changes a specified element within the list at the given index\n",
    "grocery_list[2] = \"more eggs\"\n",
    "print (grocery_list)\n",
    "\n",
    "# @TODO: Calculate how many items you have in the list\n",
    "print(len(grocery_list))\n",
    "\n",
    "\n",
    "\n",
    "# ----------------------Go to the grocery store---------------------------\")\n",
    "\n",
    "# @TODO: Find the index of the particular element name\n",
    "print(grocery_list.index(\"more eggs\"))\n",
    "\n",
    "# @TODO: Remove an element from the list based on the given element name\n",
    "grocery_list.remove(\"milk\")\n",
    "print(grocery_list)\n",
    "\n",
    "# @TODO: Remove an element from the list based on the given index\n",
    "grocery_list.pop(4)\n",
    "print(grocery_list)\n",
    "\n",
    "# @TODO: Remove the last element of the list\n",
    "grocery_list.pop(-1)\n",
    "print(grocery_list)\n",
    "\n",
    "#print(\"You continue on your journey purchasing groceries...\")\n"
   ]
  },
  {
   "cell_type": "code",
   "execution_count": null,
   "id": "8b77781b-5fbf-409b-88c8-6f9b3b256d9f",
   "metadata": {},
   "outputs": [],
   "source": []
  },
  {
   "cell_type": "code",
   "execution_count": null,
   "id": "4c043c99-6c53-4791-8df8-2974a6b9e61b",
   "metadata": {},
   "outputs": [],
   "source": []
  },
  {
   "cell_type": "code",
   "execution_count": null,
   "id": "3ad8d899-d3cd-427a-b361-d5a7f0d6313b",
   "metadata": {},
   "outputs": [],
   "source": []
  }
 ],
 "metadata": {
  "kernelspec": {
   "display_name": "Python 3 (ipykernel)",
   "language": "python",
   "name": "python3"
  },
  "language_info": {
   "codemirror_mode": {
    "name": "ipython",
    "version": 3
   },
   "file_extension": ".py",
   "mimetype": "text/x-python",
   "name": "python",
   "nbconvert_exporter": "python",
   "pygments_lexer": "ipython3",
   "version": "3.7.13"
  }
 },
 "nbformat": 4,
 "nbformat_minor": 5
}
