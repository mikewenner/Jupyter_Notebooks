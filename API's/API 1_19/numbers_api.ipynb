{
 "cells": [
  {
   "cell_type": "code",
   "execution_count": 1,
   "id": "6ac7c324-5e15-42a7-b33a-c04649ff49d3",
   "metadata": {},
   "outputs": [],
   "source": [
    "import requests\n",
    "import json"
   ]
  },
  {
   "cell_type": "code",
   "execution_count": 2,
   "id": "15ccc8fc-0ee1-46de-9cda-00cba63c591e",
   "metadata": {},
   "outputs": [],
   "source": [
    "#Execute the Numbers API for the number 42 from numbers api site\n",
    "request_url = \"http://numbersapi.com/42?json\""
   ]
  },
  {
   "cell_type": "code",
   "execution_count": 7,
   "id": "6da40f5e-7a27-4223-8999-cc0dfe6cd5b6",
   "metadata": {},
   "outputs": [],
   "source": [
    "# Submit request and format output in json format\n",
    "response_data = requests.get(request_url).json()"
   ]
  },
  {
   "cell_type": "code",
   "execution_count": 8,
   "id": "7f65353f-ca64-4395-84e0-660deb9727a9",
   "metadata": {},
   "outputs": [
    {
     "data": {
      "text/plain": [
       "{'text': '42 is the number of kilometers in a marathon.',\n",
       " 'number': 42,\n",
       " 'found': True,\n",
       " 'type': 'trivia'}"
      ]
     },
     "execution_count": 8,
     "metadata": {},
     "output_type": "execute_result"
    }
   ],
   "source": [
    "response_data"
   ]
  },
  {
   "cell_type": "code",
   "execution_count": 10,
   "id": "1e17c3cf-4f19-424a-bb16-0217348fadba",
   "metadata": {},
   "outputs": [
    {
     "name": "stdout",
     "output_type": "stream",
     "text": [
      "{\n",
      "    \"text\": \"42 is the number of kilometers in a marathon.\",\n",
      "    \"number\": 42,\n",
      "    \"found\": true,\n",
      "    \"type\": \"trivia\"\n",
      "}\n"
     ]
    }
   ],
   "source": [
    "# format more with json.dumps\n",
    "print(json.dumps(response_data, indent=4))"
   ]
  },
  {
   "cell_type": "code",
   "execution_count": 11,
   "id": "f8beb423-7b53-43c2-b463-66fe351401c3",
   "metadata": {},
   "outputs": [
    {
     "data": {
      "text/plain": [
       "'42 is the number of kilometers in a marathon.'"
      ]
     },
     "execution_count": 11,
     "metadata": {},
     "output_type": "execute_result"
    }
   ],
   "source": [
    "# Select fact\n",
    "response_data[\"text\"]"
   ]
  },
  {
   "cell_type": "code",
   "execution_count": null,
   "id": "c5ea250f-e7ae-4ab9-92e1-225bb41b52c4",
   "metadata": {},
   "outputs": [],
   "source": []
  }
 ],
 "metadata": {
  "kernelspec": {
   "display_name": "Python 3 (ipykernel)",
   "language": "python",
   "name": "python3"
  },
  "language_info": {
   "codemirror_mode": {
    "name": "ipython",
    "version": 3
   },
   "file_extension": ".py",
   "mimetype": "text/x-python",
   "name": "python",
   "nbconvert_exporter": "python",
   "pygments_lexer": "ipython3",
   "version": "3.9.13"
  }
 },
 "nbformat": 4,
 "nbformat_minor": 5
}
