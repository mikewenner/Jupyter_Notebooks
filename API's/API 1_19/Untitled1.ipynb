{
 "cells": [
  {
   "cell_type": "code",
   "execution_count": 1,
   "id": "a90359b7-9889-417e-ac16-59e855ee76ff",
   "metadata": {},
   "outputs": [],
   "source": [
    "import requests\n",
    "import json"
   ]
  },
  {
   "cell_type": "code",
   "execution_count": 2,
   "id": "ba23c4ec-b026-4b80-a907-f9ee83e6deb2",
   "metadata": {},
   "outputs": [],
   "source": [
    "# Declare request url to create deck id\n",
    "create_deck_url = \"https://deckofcardsapi.com/api/deck/new/shuffle/?deck_count=6\""
   ]
  },
  {
   "cell_type": "code",
   "execution_count": 3,
   "id": "dace4706-3418-4ca5-92e3-55b8e4758f7c",
   "metadata": {},
   "outputs": [
    {
     "data": {
      "text/plain": [
       "{'success': True,\n",
       " 'deck_id': '8k6l9uryj1dy',\n",
       " 'remaining': 312,\n",
       " 'shuffled': True}"
      ]
     },
     "execution_count": 3,
     "metadata": {},
     "output_type": "execute_result"
    }
   ],
   "source": [
    "# Execute create deck url\n",
    "response_data = requests.get(create_deck_url).json()\n",
    "response_data\n"
   ]
  },
  {
   "cell_type": "code",
   "execution_count": null,
   "id": "19a125d8-0ff6-4c26-ade0-449db9945bf1",
   "metadata": {},
   "outputs": [],
   "source": []
  }
 ],
 "metadata": {
  "kernelspec": {
   "display_name": "Python 3 (ipykernel)",
   "language": "python",
   "name": "python3"
  },
  "language_info": {
   "codemirror_mode": {
    "name": "ipython",
    "version": 3
   },
   "file_extension": ".py",
   "mimetype": "text/x-python",
   "name": "python",
   "nbconvert_exporter": "python",
   "pygments_lexer": "ipython3",
   "version": "3.9.13"
  }
 },
 "nbformat": 4,
 "nbformat_minor": 5
}
