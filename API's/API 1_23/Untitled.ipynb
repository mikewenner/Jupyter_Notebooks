{
 "cells": [
  {
   "cell_type": "code",
   "execution_count": 2,
   "id": "9765f602-a352-496d-8861-a7ae3aeee63d",
   "metadata": {},
   "outputs": [
    {
     "name": "stdout",
     "output_type": "stream",
     "text": [
      "Collecting alpaca_trade_api\n",
      "  Using cached alpaca_trade_api-2.3.0-py3-none-any.whl (33 kB)\n",
      "Requirement already satisfied: requests<3,>2 in /Users/mikewenner/opt/anaconda3/envs/dev/lib/python3.9/site-packages (from alpaca_trade_api) (2.28.1)\n",
      "Collecting aiohttp==3.8.1\n",
      "  Downloading aiohttp-3.8.1-cp39-cp39-macosx_10_9_x86_64.whl (574 kB)\n",
      "\u001b[2K     \u001b[90m━━━━━━━━━━━━━━━━━━━━━━━━━━━━━━━━━━━━━━━\u001b[0m \u001b[32m575.0/575.0 kB\u001b[0m \u001b[31m2.8 MB/s\u001b[0m eta \u001b[36m0:00:00\u001b[0m00:01\u001b[0m00:01\u001b[0m\n",
      "\u001b[?25hRequirement already satisfied: websocket-client<2,>=0.56.0 in /Users/mikewenner/opt/anaconda3/envs/dev/lib/python3.9/site-packages (from alpaca_trade_api) (1.4.2)\n",
      "Requirement already satisfied: urllib3<2,>1.24 in /Users/mikewenner/opt/anaconda3/envs/dev/lib/python3.9/site-packages (from alpaca_trade_api) (1.26.14)\n",
      "Requirement already satisfied: msgpack==1.0.3 in /Users/mikewenner/opt/anaconda3/envs/dev/lib/python3.9/site-packages (from alpaca_trade_api) (1.0.3)\n",
      "Requirement already satisfied: numpy>=1.11.1 in /Users/mikewenner/opt/anaconda3/envs/dev/lib/python3.9/site-packages (from alpaca_trade_api) (1.23.4)\n",
      "Requirement already satisfied: pandas>=0.18.1 in /Users/mikewenner/opt/anaconda3/envs/dev/lib/python3.9/site-packages (from alpaca_trade_api) (1.5.2)\n",
      "Requirement already satisfied: PyYAML==6.0 in /Users/mikewenner/opt/anaconda3/envs/dev/lib/python3.9/site-packages (from alpaca_trade_api) (6.0)\n",
      "Requirement already satisfied: websockets<11,>=9.0 in /Users/mikewenner/opt/anaconda3/envs/dev/lib/python3.9/site-packages (from alpaca_trade_api) (10.4)\n",
      "Requirement already satisfied: deprecation==2.1.0 in /Users/mikewenner/opt/anaconda3/envs/dev/lib/python3.9/site-packages (from alpaca_trade_api) (2.1.0)\n",
      "Requirement already satisfied: attrs>=17.3.0 in /Users/mikewenner/opt/anaconda3/envs/dev/lib/python3.9/site-packages (from aiohttp==3.8.1->alpaca_trade_api) (22.1.0)\n",
      "Requirement already satisfied: charset-normalizer<3.0,>=2.0 in /Users/mikewenner/opt/anaconda3/envs/dev/lib/python3.9/site-packages (from aiohttp==3.8.1->alpaca_trade_api) (2.1.1)\n",
      "Requirement already satisfied: async-timeout<5.0,>=4.0.0a3 in /Users/mikewenner/opt/anaconda3/envs/dev/lib/python3.9/site-packages (from aiohttp==3.8.1->alpaca_trade_api) (4.0.2)\n",
      "Requirement already satisfied: frozenlist>=1.1.1 in /Users/mikewenner/opt/anaconda3/envs/dev/lib/python3.9/site-packages (from aiohttp==3.8.1->alpaca_trade_api) (1.3.3)\n",
      "Requirement already satisfied: aiosignal>=1.1.2 in /Users/mikewenner/opt/anaconda3/envs/dev/lib/python3.9/site-packages (from aiohttp==3.8.1->alpaca_trade_api) (1.2.0)\n",
      "Requirement already satisfied: yarl<2.0,>=1.0 in /Users/mikewenner/opt/anaconda3/envs/dev/lib/python3.9/site-packages (from aiohttp==3.8.1->alpaca_trade_api) (1.8.1)\n",
      "Requirement already satisfied: multidict<7.0,>=4.5 in /Users/mikewenner/opt/anaconda3/envs/dev/lib/python3.9/site-packages (from aiohttp==3.8.1->alpaca_trade_api) (6.0.2)\n",
      "Requirement already satisfied: packaging in /Users/mikewenner/opt/anaconda3/envs/dev/lib/python3.9/site-packages (from deprecation==2.1.0->alpaca_trade_api) (22.0)\n",
      "Requirement already satisfied: python-dateutil>=2.8.1 in /Users/mikewenner/opt/anaconda3/envs/dev/lib/python3.9/site-packages (from pandas>=0.18.1->alpaca_trade_api) (2.8.2)\n",
      "Requirement already satisfied: pytz>=2020.1 in /Users/mikewenner/opt/anaconda3/envs/dev/lib/python3.9/site-packages (from pandas>=0.18.1->alpaca_trade_api) (2022.7)\n",
      "Requirement already satisfied: certifi>=2017.4.17 in /Users/mikewenner/opt/anaconda3/envs/dev/lib/python3.9/site-packages (from requests<3,>2->alpaca_trade_api) (2022.12.7)\n",
      "Requirement already satisfied: idna<4,>=2.5 in /Users/mikewenner/opt/anaconda3/envs/dev/lib/python3.9/site-packages (from requests<3,>2->alpaca_trade_api) (3.4)\n",
      "Requirement already satisfied: six>=1.5 in /Users/mikewenner/opt/anaconda3/envs/dev/lib/python3.9/site-packages (from python-dateutil>=2.8.1->pandas>=0.18.1->alpaca_trade_api) (1.16.0)\n",
      "Installing collected packages: aiohttp, alpaca_trade_api\n",
      "  Attempting uninstall: aiohttp\n",
      "    Found existing installation: aiohttp 3.8.3\n",
      "    Uninstalling aiohttp-3.8.3:\n",
      "      Successfully uninstalled aiohttp-3.8.3\n",
      "\u001b[31mERROR: pip's dependency resolver does not currently take into account all the packages that are installed. This behaviour is the source of the following dependency conflicts.\n",
      "openbb 2.2.0 requires jsonschema<4.0.0,>=3.2.0, but you have jsonschema 4.16.0 which is incompatible.\n",
      "openbb 2.2.0 requires seaborn<0.12.0,>=0.11.0, but you have seaborn 0.12.2 which is incompatible.\n",
      "openbb 2.2.0 requires setuptools<65.5.0, but you have setuptools 65.6.3 which is incompatible.\u001b[0m\u001b[31m\n",
      "\u001b[0mSuccessfully installed aiohttp-3.8.1 alpaca_trade_api-2.3.0\n",
      "Note: you may need to restart the kernel to use updated packages.\n"
     ]
    }
   ],
   "source": [
    "%pip install alpaca_trade_api"
   ]
  },
  {
   "cell_type": "code",
   "execution_count": 3,
   "id": "61a78419-fb42-4275-8645-9b4b19dbd11f",
   "metadata": {},
   "outputs": [],
   "source": [
    "# Initial imports\n",
    "import os\n",
    "import requests\n",
    "import pandas as pd\n",
    "from dotenv import load_dotenv\n",
    "import alpaca_trade_api as tradeapi\n",
    "\n",
    "%matplotlib inline\n"
   ]
  },
  {
   "cell_type": "code",
   "execution_count": 4,
   "id": "af93f8c9-9859-43fc-9e86-6c6ff13d2af9",
   "metadata": {},
   "outputs": [
    {
     "data": {
      "text/plain": [
       "True"
      ]
     },
     "execution_count": 4,
     "metadata": {},
     "output_type": "execute_result"
    }
   ],
   "source": [
    "# Load .env environment variables\n",
    "load_dotenv()"
   ]
  },
  {
   "cell_type": "code",
   "execution_count": 5,
   "id": "2f5bee82-f0d1-49c1-ac9b-e5d1912ce622",
   "metadata": {},
   "outputs": [],
   "source": [
    "# Set Alpaca API key and secret\n",
    "alpaca_api_key = os.getenv(\"ALPACA_API_KEY\")\n",
    "alpaca_secret_key = os.getenv(\"ALPACA_SECRET_KEY\")"
   ]
  },
  {
   "cell_type": "code",
   "execution_count": 6,
   "id": "e9555dee-2197-420c-967f-227fcf7f7ec6",
   "metadata": {},
   "outputs": [
    {
     "name": "stdout",
     "output_type": "stream",
     "text": [
      "Alpaca Key type: <class 'str'>\n",
      "Alpaca Secret Key type: <class 'str'>\n"
     ]
    }
   ],
   "source": [
    "# Verify that Alpaca key and secret were correctly loaded\n",
    "print(f\"Alpaca Key type: {type(alpaca_api_key)}\")\n",
    "print(f\"Alpaca Secret Key type: {type(alpaca_secret_key)}\")"
   ]
  },
  {
   "cell_type": "code",
   "execution_count": 7,
   "id": "37705eeb-d6db-4911-b681-bfc1e488af8a",
   "metadata": {},
   "outputs": [],
   "source": [
    "# Create the Alpaca API object\n",
    "alpaca = tradeapi.REST(\n",
    "    alpaca_api_key,\n",
    "    alpaca_secret_key,\n",
    "    api_version=\"v2\")"
   ]
  },
  {
   "cell_type": "code",
   "execution_count": 8,
   "id": "75a2232e-b1a2-49ef-8b20-1dc8801d7b93",
   "metadata": {},
   "outputs": [],
   "source": [
    "#Set a variable today with current date using ISO format\n",
    "# Format current date as ISO format\n",
    "today = pd.Timestamp(\"2023-01-23\", tz=\"America/New_York\").isoformat()"
   ]
  },
  {
   "cell_type": "code",
   "execution_count": 9,
   "id": "2f2dbbca-be03-4e74-bcd0-d2453ac9b441",
   "metadata": {},
   "outputs": [],
   "source": [
    "# Set timeframe to one day (\"1Day\") for the Alpaca API\n",
    "timeframe = \"1Day\""
   ]
  },
  {
   "cell_type": "code",
   "execution_count": 10,
   "id": "2a5c4086-94b9-4090-b885-416aa5884321",
   "metadata": {},
   "outputs": [
    {
     "data": {
      "text/html": [
       "<div>\n",
       "<style scoped>\n",
       "    .dataframe tbody tr th:only-of-type {\n",
       "        vertical-align: middle;\n",
       "    }\n",
       "\n",
       "    .dataframe tbody tr th {\n",
       "        vertical-align: top;\n",
       "    }\n",
       "\n",
       "    .dataframe thead th {\n",
       "        text-align: right;\n",
       "    }\n",
       "</style>\n",
       "<table border=\"1\" class=\"dataframe\">\n",
       "  <thead>\n",
       "    <tr style=\"text-align: right;\">\n",
       "      <th></th>\n",
       "      <th>shares</th>\n",
       "    </tr>\n",
       "  </thead>\n",
       "  <tbody>\n",
       "    <tr>\n",
       "      <th>MSFT</th>\n",
       "      <td>200</td>\n",
       "    </tr>\n",
       "    <tr>\n",
       "      <th>AAPL</th>\n",
       "      <td>320</td>\n",
       "    </tr>\n",
       "  </tbody>\n",
       "</table>\n",
       "</div>"
      ],
      "text/plain": [
       "      shares\n",
       "MSFT     200\n",
       "AAPL     320"
      ]
     },
     "execution_count": 10,
     "metadata": {},
     "output_type": "execute_result"
    }
   ],
   "source": [
    "# Set current amount of shares data\n",
    "shares_data = {\n",
    "    \"shares\": [200, 320]\n",
    "}\n",
    "\n",
    "# Set the tickers\n",
    "tickers = [\"MSFT\", \"AAPL\"]\n",
    "\n",
    "# Create the shares DataFrame\n",
    "df_shares = pd.DataFrame(shares_data, index=tickers)\n",
    "\n",
    "# Display shares data\n",
    "df_shares"
   ]
  },
  {
   "cell_type": "code",
   "execution_count": 15,
   "id": "7b46b36d-0b73-4bf9-b51c-363a1faaf638",
   "metadata": {},
   "outputs": [
    {
     "data": {
      "text/html": [
       "<div>\n",
       "<style scoped>\n",
       "    .dataframe tbody tr th:only-of-type {\n",
       "        vertical-align: middle;\n",
       "    }\n",
       "\n",
       "    .dataframe tbody tr th {\n",
       "        vertical-align: top;\n",
       "    }\n",
       "\n",
       "    .dataframe thead th {\n",
       "        text-align: right;\n",
       "    }\n",
       "</style>\n",
       "<table border=\"1\" class=\"dataframe\">\n",
       "  <thead>\n",
       "    <tr style=\"text-align: right;\">\n",
       "      <th></th>\n",
       "      <th>open</th>\n",
       "      <th>high</th>\n",
       "      <th>low</th>\n",
       "      <th>close</th>\n",
       "      <th>volume</th>\n",
       "      <th>trade_count</th>\n",
       "      <th>vwap</th>\n",
       "      <th>symbol</th>\n",
       "    </tr>\n",
       "    <tr>\n",
       "      <th>timestamp</th>\n",
       "      <th></th>\n",
       "      <th></th>\n",
       "      <th></th>\n",
       "      <th></th>\n",
       "      <th></th>\n",
       "      <th></th>\n",
       "      <th></th>\n",
       "      <th></th>\n",
       "    </tr>\n",
       "  </thead>\n",
       "  <tbody>\n",
       "    <tr>\n",
       "      <th>2023-01-23 05:00:00+00:00</th>\n",
       "      <td>138.12</td>\n",
       "      <td>143.315</td>\n",
       "      <td>137.90</td>\n",
       "      <td>141.11</td>\n",
       "      <td>81984285</td>\n",
       "      <td>719300</td>\n",
       "      <td>141.211344</td>\n",
       "      <td>AAPL</td>\n",
       "    </tr>\n",
       "    <tr>\n",
       "      <th>2023-01-23 05:00:00+00:00</th>\n",
       "      <td>241.10</td>\n",
       "      <td>245.165</td>\n",
       "      <td>239.65</td>\n",
       "      <td>242.58</td>\n",
       "      <td>32070954</td>\n",
       "      <td>413339</td>\n",
       "      <td>242.750201</td>\n",
       "      <td>MSFT</td>\n",
       "    </tr>\n",
       "  </tbody>\n",
       "</table>\n",
       "</div>"
      ],
      "text/plain": [
       "                             open     high     low   close    volume  \\\n",
       "timestamp                                                              \n",
       "2023-01-23 05:00:00+00:00  138.12  143.315  137.90  141.11  81984285   \n",
       "2023-01-23 05:00:00+00:00  241.10  245.165  239.65  242.58  32070954   \n",
       "\n",
       "                           trade_count        vwap symbol  \n",
       "timestamp                                                  \n",
       "2023-01-23 05:00:00+00:00       719300  141.211344   AAPL  \n",
       "2023-01-23 05:00:00+00:00       413339  242.750201   MSFT  "
      ]
     },
     "execution_count": 15,
     "metadata": {},
     "output_type": "execute_result"
    }
   ],
   "source": [
    "# Get current price data for MSFT and AAPL\n",
    "df_portfolio = alpaca.get_bars(\n",
    "    tickers, \n",
    "    timeframe,\n",
    "    start = today,\n",
    "    end = today\n",
    ").df\n",
    "df_portfolio.head()"
   ]
  },
  {
   "cell_type": "code",
   "execution_count": 17,
   "id": "2cd4cb4f-3662-4bed-aba5-796aef5b68f5",
   "metadata": {},
   "outputs": [],
   "source": [
    "# Format start and end dates as ISO format for one year period\n",
    "start = pd.Timestamp(\"2022-01-23\", tz=\"America/New_York\").isoformat()\n",
    "end = pd.Timestamp(\"2023-01-23\", tz=\"America/New_York\").isoformat()"
   ]
  },
  {
   "cell_type": "code",
   "execution_count": 18,
   "id": "9d5006b0-6288-4bd1-94ba-13f7228c8455",
   "metadata": {},
   "outputs": [
    {
     "data": {
      "text/html": [
       "<div>\n",
       "<style scoped>\n",
       "    .dataframe tbody tr th:only-of-type {\n",
       "        vertical-align: middle;\n",
       "    }\n",
       "\n",
       "    .dataframe tbody tr th {\n",
       "        vertical-align: top;\n",
       "    }\n",
       "\n",
       "    .dataframe thead th {\n",
       "        text-align: right;\n",
       "    }\n",
       "</style>\n",
       "<table border=\"1\" class=\"dataframe\">\n",
       "  <thead>\n",
       "    <tr style=\"text-align: right;\">\n",
       "      <th></th>\n",
       "      <th>open</th>\n",
       "      <th>high</th>\n",
       "      <th>low</th>\n",
       "      <th>close</th>\n",
       "      <th>volume</th>\n",
       "      <th>trade_count</th>\n",
       "      <th>vwap</th>\n",
       "      <th>symbol</th>\n",
       "    </tr>\n",
       "    <tr>\n",
       "      <th>timestamp</th>\n",
       "      <th></th>\n",
       "      <th></th>\n",
       "      <th></th>\n",
       "      <th></th>\n",
       "      <th></th>\n",
       "      <th></th>\n",
       "      <th></th>\n",
       "      <th></th>\n",
       "    </tr>\n",
       "  </thead>\n",
       "  <tbody>\n",
       "    <tr>\n",
       "      <th>2022-01-24 05:00:00+00:00</th>\n",
       "      <td>160.02</td>\n",
       "      <td>162.3000</td>\n",
       "      <td>154.70</td>\n",
       "      <td>161.62</td>\n",
       "      <td>160586365</td>\n",
       "      <td>1605312</td>\n",
       "      <td>158.665953</td>\n",
       "      <td>AAPL</td>\n",
       "    </tr>\n",
       "    <tr>\n",
       "      <th>2022-01-25 05:00:00+00:00</th>\n",
       "      <td>158.98</td>\n",
       "      <td>162.7600</td>\n",
       "      <td>157.02</td>\n",
       "      <td>159.78</td>\n",
       "      <td>115700696</td>\n",
       "      <td>1006603</td>\n",
       "      <td>159.427622</td>\n",
       "      <td>AAPL</td>\n",
       "    </tr>\n",
       "    <tr>\n",
       "      <th>2022-01-26 05:00:00+00:00</th>\n",
       "      <td>163.50</td>\n",
       "      <td>164.3894</td>\n",
       "      <td>157.82</td>\n",
       "      <td>159.69</td>\n",
       "      <td>106582989</td>\n",
       "      <td>997894</td>\n",
       "      <td>161.433199</td>\n",
       "      <td>AAPL</td>\n",
       "    </tr>\n",
       "    <tr>\n",
       "      <th>2022-01-27 05:00:00+00:00</th>\n",
       "      <td>162.45</td>\n",
       "      <td>163.8400</td>\n",
       "      <td>158.28</td>\n",
       "      <td>159.22</td>\n",
       "      <td>121612411</td>\n",
       "      <td>1156263</td>\n",
       "      <td>161.295798</td>\n",
       "      <td>AAPL</td>\n",
       "    </tr>\n",
       "    <tr>\n",
       "      <th>2022-01-28 05:00:00+00:00</th>\n",
       "      <td>165.71</td>\n",
       "      <td>170.3500</td>\n",
       "      <td>162.80</td>\n",
       "      <td>170.33</td>\n",
       "      <td>179655820</td>\n",
       "      <td>1514432</td>\n",
       "      <td>167.309586</td>\n",
       "      <td>AAPL</td>\n",
       "    </tr>\n",
       "  </tbody>\n",
       "</table>\n",
       "</div>"
      ],
      "text/plain": [
       "                             open      high     low   close     volume  \\\n",
       "timestamp                                                                \n",
       "2022-01-24 05:00:00+00:00  160.02  162.3000  154.70  161.62  160586365   \n",
       "2022-01-25 05:00:00+00:00  158.98  162.7600  157.02  159.78  115700696   \n",
       "2022-01-26 05:00:00+00:00  163.50  164.3894  157.82  159.69  106582989   \n",
       "2022-01-27 05:00:00+00:00  162.45  163.8400  158.28  159.22  121612411   \n",
       "2022-01-28 05:00:00+00:00  165.71  170.3500  162.80  170.33  179655820   \n",
       "\n",
       "                           trade_count        vwap symbol  \n",
       "timestamp                                                  \n",
       "2022-01-24 05:00:00+00:00      1605312  158.665953   AAPL  \n",
       "2022-01-25 05:00:00+00:00      1006603  159.427622   AAPL  \n",
       "2022-01-26 05:00:00+00:00       997894  161.433199   AAPL  \n",
       "2022-01-27 05:00:00+00:00      1156263  161.295798   AAPL  \n",
       "2022-01-28 05:00:00+00:00      1514432  167.309586   AAPL  "
      ]
     },
     "execution_count": 18,
     "metadata": {},
     "output_type": "execute_result"
    }
   ],
   "source": [
    "# Get closing prices for FB and TWTR from the last year\n",
    "df_portfolio_year = alpaca.get_bars(\n",
    "    tickers,\n",
    "    timeframe,\n",
    "    start = start,\n",
    "    end = end\n",
    ").df\n",
    "\n",
    "df_portfolio_year.head()"
   ]
  },
  {
   "cell_type": "code",
   "execution_count": null,
   "id": "becf4aa0-144a-462f-8110-f308d90bc5be",
   "metadata": {},
   "outputs": [],
   "source": []
  }
 ],
 "metadata": {
  "kernelspec": {
   "display_name": "Python 3 (ipykernel)",
   "language": "python",
   "name": "python3"
  },
  "language_info": {
   "codemirror_mode": {
    "name": "ipython",
    "version": 3
   },
   "file_extension": ".py",
   "mimetype": "text/x-python",
   "name": "python",
   "nbconvert_exporter": "python",
   "pygments_lexer": "ipython3",
   "version": "3.9.13"
  }
 },
 "nbformat": 4,
 "nbformat_minor": 5
}
