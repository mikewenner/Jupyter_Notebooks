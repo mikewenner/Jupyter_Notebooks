{
 "cells": [
  {
   "cell_type": "code",
   "execution_count": 4,
   "id": "3bbaa6c5-17ff-49b6-82fb-53a0c47a4967",
   "metadata": {},
   "outputs": [],
   "source": [
    "# Initial imports\n",
    "# *** PUT .env FILE INTO SAME FOLDER YOU ARE WORKING IN, IF WANT TO SEE LAUNCH JUPYTER WITH COMMAND\n",
    "# from terminal jupyter lab --ContentsManager.allow_hidden=True\n",
    "import requests\n",
    "from dotenv import load_dotenv\n",
    "import os "
   ]
  },
  {
   "cell_type": "code",
   "execution_count": 5,
   "id": "efc1b727-732d-4e2f-b46d-825ce5fa3b9f",
   "metadata": {},
   "outputs": [
    {
     "data": {
      "text/plain": [
       "True"
      ]
     },
     "execution_count": 5,
     "metadata": {},
     "output_type": "execute_result"
    }
   ],
   "source": [
    "# Use the load_dotenv() method from the dotenv package to load and export the environment variables\n",
    "load_dotenv()"
   ]
  },
  {
   "cell_type": "code",
   "execution_count": 6,
   "id": "1bc066a0-3311-438f-b7ae-946d8b61a3a9",
   "metadata": {},
   "outputs": [],
   "source": [
    "# Use the os.getenv function to retrieve the environment variable named NASDAQ_API_KEY. Store as a Python variable named api_key\n",
    "api_key = os.getenv(\"NASDAQ_API_KEY\")"
   ]
  },
  {
   "cell_type": "code",
   "execution_count": 7,
   "id": "251a91ba-2e27-408b-9dae-92711b25cb3b",
   "metadata": {},
   "outputs": [
    {
     "data": {
      "text/plain": [
       "str"
      ]
     },
     "execution_count": 7,
     "metadata": {},
     "output_type": "execute_result"
    }
   ],
   "source": [
    "#Use the type function to confirm the retrieval of the API key.\n",
    "type(api_key)"
   ]
  },
  {
   "cell_type": "code",
   "execution_count": 8,
   "id": "d474d2a2-1950-42af-818d-1ee21b49e46a",
   "metadata": {},
   "outputs": [],
   "source": [
    "#Concatenate request_url with the api_key variable\n",
    "# Define the base request URL\n",
    "request_url = \"https://data.nasdaq.com/api/v3/datasets/WIKI/MSFT.json?api_key=\""
   ]
  },
  {
   "cell_type": "code",
   "execution_count": 9,
   "id": "5789377f-ba5b-4c07-8cff-63836f4c367a",
   "metadata": {},
   "outputs": [],
   "source": [
    "# Concatenate request_url and api_key. Store as new variable\n",
    "request_url = request_url + api_key"
   ]
  },
  {
   "cell_type": "code",
   "execution_count": 10,
   "id": "d825a4ef-15b5-4e09-9b4b-a467e8571cb2",
   "metadata": {},
   "outputs": [],
   "source": [
    "# Execute get request\n",
    "response_data = requests.get(request_url)"
   ]
  },
  {
   "cell_type": "code",
   "execution_count": 12,
   "id": "006a398d-ca2c-48e9-a564-3869b4b6b21f",
   "metadata": {},
   "outputs": [],
   "source": [
    "#response_data.content"
   ]
  },
  {
   "cell_type": "code",
   "execution_count": 15,
   "id": "1755d8d4-19e9-46e4-9771-45577ede9e63",
   "metadata": {},
   "outputs": [],
   "source": [
    "data = response_data.json()\n",
    "#data"
   ]
  },
  {
   "cell_type": "code",
   "execution_count": null,
   "id": "d577fb0d-eed6-4418-97f7-104a1fb756cd",
   "metadata": {},
   "outputs": [],
   "source": []
  }
 ],
 "metadata": {
  "kernelspec": {
   "display_name": "Python 3 (ipykernel)",
   "language": "python",
   "name": "python3"
  },
  "language_info": {
   "codemirror_mode": {
    "name": "ipython",
    "version": 3
   },
   "file_extension": ".py",
   "mimetype": "text/x-python",
   "name": "python",
   "nbconvert_exporter": "python",
   "pygments_lexer": "ipython3",
   "version": "3.9.13"
  }
 },
 "nbformat": 4,
 "nbformat_minor": 5
}
