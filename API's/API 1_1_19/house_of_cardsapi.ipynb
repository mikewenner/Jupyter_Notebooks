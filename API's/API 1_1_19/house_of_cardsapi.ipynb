{
 "cells": [
  {
   "cell_type": "code",
   "execution_count": 1,
   "id": "70916b62-6f71-40ff-a237-c8a52b14801f",
   "metadata": {},
   "outputs": [],
   "source": [
    "import requests\n",
    "import json"
   ]
  },
  {
   "cell_type": "code",
   "execution_count": 2,
   "id": "511fc354-3610-4aad-a0b1-ccbad4cdbf95",
   "metadata": {},
   "outputs": [],
   "source": [
    "# Declare request url to create deck id\n",
    "create_deck_url = \"https://www.deckofcardsapi.com/api/deck/new/shuffle/?deck_count=6\""
   ]
  },
  {
   "cell_type": "code",
   "execution_count": 3,
   "id": "677bdf2b-5fd8-4bc1-8e0a-c08bb78c2ebd",
   "metadata": {},
   "outputs": [
    {
     "data": {
      "text/plain": [
       "{'success': True,\n",
       " 'deck_id': '50p37lee40i7',\n",
       " 'remaining': 312,\n",
       " 'shuffled': True}"
      ]
     },
     "execution_count": 3,
     "metadata": {},
     "output_type": "execute_result"
    }
   ],
   "source": [
    "# Execute create deck url\n",
    "response_data = requests.get(create_deck_url).json()\n",
    "response_data"
   ]
  },
  {
   "cell_type": "code",
   "execution_count": 5,
   "id": "d686129c-9bd8-478e-877a-1794f930a637",
   "metadata": {},
   "outputs": [
    {
     "name": "stdout",
     "output_type": "stream",
     "text": [
      "50p37lee40i7\n"
     ]
    }
   ],
   "source": [
    "# Select deck_id\n",
    "deck_id = response_data[\"deck_id\"]\n",
    "print(deck_id)"
   ]
  },
  {
   "cell_type": "code",
   "execution_count": 10,
   "id": "45989cb5-f5ea-456d-a280-0f920de0df62",
   "metadata": {},
   "outputs": [
    {
     "name": "stdout",
     "output_type": "stream",
     "text": [
      "https://www.deckofcardsapi.com/api/deck/50p37lee40i7/draw/?count=2\n",
      "https://www.deckofcardsapi.com/api/deck/50p37lee40i7/shuffle/?remaining=true\n"
     ]
    }
   ],
   "source": [
    "# Declare draw_cards_url and shuffle_deck_url\n",
    "# Use string interpolation to incorporate the deck_id\n",
    "\n",
    "draw_cards_url = f\"https://www.deckofcardsapi.com/api/deck/{deck_id}/draw/?count=2\"\n",
    "shuffle_deck_url = f\"https://www.deckofcardsapi.com/api/deck/{deck_id}/shuffle/?remaining=true\"\n",
    "print(draw_cards_url)\n",
    "print(shuffle_deck_url)"
   ]
  },
  {
   "cell_type": "code",
   "execution_count": 12,
   "id": "fdfa5c89-c103-48b1-8b5e-7b9014d798b7",
   "metadata": {},
   "outputs": [
    {
     "data": {
      "text/plain": [
       "{'success': True,\n",
       " 'deck_id': '50p37lee40i7',\n",
       " 'cards': [{'code': '8D',\n",
       "   'image': 'https://deckofcardsapi.com/static/img/8D.png',\n",
       "   'images': {'svg': 'https://deckofcardsapi.com/static/img/8D.svg',\n",
       "    'png': 'https://deckofcardsapi.com/static/img/8D.png'},\n",
       "   'value': '8',\n",
       "   'suit': 'DIAMONDS'},\n",
       "  {'code': '2S',\n",
       "   'image': 'https://deckofcardsapi.com/static/img/2S.png',\n",
       "   'images': {'svg': 'https://deckofcardsapi.com/static/img/2S.svg',\n",
       "    'png': 'https://deckofcardsapi.com/static/img/2S.png'},\n",
       "   'value': '2',\n",
       "   'suit': 'SPADES'}],\n",
       " 'remaining': 308}"
      ]
     },
     "execution_count": 12,
     "metadata": {},
     "output_type": "execute_result"
    }
   ],
   "source": [
    "# Draw two cards\n",
    "drawn_cards = requests.get(draw_cards_url).json()\n",
    "drawn_cards"
   ]
  },
  {
   "cell_type": "code",
   "execution_count": 13,
   "id": "d6def29b-7a06-4a5a-9175-31a565365bf8",
   "metadata": {},
   "outputs": [
    {
     "name": "stdout",
     "output_type": "stream",
     "text": [
      "{\n",
      "    \"success\": true,\n",
      "    \"deck_id\": \"50p37lee40i7\",\n",
      "    \"cards\": [\n",
      "        {\n",
      "            \"code\": \"8D\",\n",
      "            \"image\": \"https://deckofcardsapi.com/static/img/8D.png\",\n",
      "            \"images\": {\n",
      "                \"svg\": \"https://deckofcardsapi.com/static/img/8D.svg\",\n",
      "                \"png\": \"https://deckofcardsapi.com/static/img/8D.png\"\n",
      "            },\n",
      "            \"value\": \"8\",\n",
      "            \"suit\": \"DIAMONDS\"\n",
      "        },\n",
      "        {\n",
      "            \"code\": \"2S\",\n",
      "            \"image\": \"https://deckofcardsapi.com/static/img/2S.png\",\n",
      "            \"images\": {\n",
      "                \"svg\": \"https://deckofcardsapi.com/static/img/2S.svg\",\n",
      "                \"png\": \"https://deckofcardsapi.com/static/img/2S.png\"\n",
      "            },\n",
      "            \"value\": \"2\",\n",
      "            \"suit\": \"SPADES\"\n",
      "        }\n",
      "    ],\n",
      "    \"remaining\": 308\n",
      "}\n"
     ]
    }
   ],
   "source": [
    "print(json.dumps(drawn_cards, indent=4))\n"
   ]
  },
  {
   "cell_type": "code",
   "execution_count": 14,
   "id": "0b4534ff-fee9-4b99-8437-ef17f35f41db",
   "metadata": {},
   "outputs": [
    {
     "name": "stdout",
     "output_type": "stream",
     "text": [
      "8 of DIAMONDS\n"
     ]
    }
   ],
   "source": [
    "# Select returned card's value and suit (i.e. 3 of clubs)\n",
    "card_one = drawn_cards[\"cards\"][0][\"value\"] + \" of \" + drawn_cards[\"cards\"][0][\"suit\"]\n",
    "print(card_one)"
   ]
  },
  {
   "cell_type": "code",
   "execution_count": 15,
   "id": "e6774eb0-ac13-43b4-96ef-5b13dd0d5925",
   "metadata": {},
   "outputs": [
    {
     "name": "stdout",
     "output_type": "stream",
     "text": [
      "2 of SPADES\n"
     ]
    }
   ],
   "source": [
    "card_two = drawn_cards[\"cards\"][1][\"value\"] + \" of \" + drawn_cards[\"cards\"][1][\"suit\"]\n",
    "print(card_two)"
   ]
  },
  {
   "cell_type": "code",
   "execution_count": null,
   "id": "81ecdfd3-106a-4f15-aae6-bf121772040e",
   "metadata": {},
   "outputs": [],
   "source": []
  }
 ],
 "metadata": {
  "kernelspec": {
   "display_name": "Python 3 (ipykernel)",
   "language": "python",
   "name": "python3"
  },
  "language_info": {
   "codemirror_mode": {
    "name": "ipython",
    "version": 3
   },
   "file_extension": ".py",
   "mimetype": "text/x-python",
   "name": "python",
   "nbconvert_exporter": "python",
   "pygments_lexer": "ipython3",
   "version": "3.9.13"
  }
 },
 "nbformat": 4,
 "nbformat_minor": 5
}
