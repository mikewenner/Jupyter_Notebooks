{
 "cells": [
  {
   "cell_type": "code",
   "execution_count": 1,
   "id": "5d60dc94-bcdb-473e-a295-9323098eddce",
   "metadata": {},
   "outputs": [],
   "source": [
    "import pandas as pd\n",
    "from pathlib import Path\n",
    "%matplotlib inline"
   ]
  },
  {
   "cell_type": "code",
   "execution_count": 7,
   "id": "10430004-b962-4823-abfe-ce57a543412a",
   "metadata": {},
   "outputs": [
    {
     "data": {
      "text/html": [
       "<div>\n",
       "<style scoped>\n",
       "    .dataframe tbody tr th:only-of-type {\n",
       "        vertical-align: middle;\n",
       "    }\n",
       "\n",
       "    .dataframe tbody tr th {\n",
       "        vertical-align: top;\n",
       "    }\n",
       "\n",
       "    .dataframe thead th {\n",
       "        text-align: right;\n",
       "    }\n",
       "</style>\n",
       "<table border=\"1\" class=\"dataframe\">\n",
       "  <thead>\n",
       "    <tr style=\"text-align: right;\">\n",
       "      <th></th>\n",
       "      <th>close</th>\n",
       "    </tr>\n",
       "    <tr>\n",
       "      <th>date</th>\n",
       "      <th></th>\n",
       "    </tr>\n",
       "  </thead>\n",
       "  <tbody>\n",
       "    <tr>\n",
       "      <th>2014-05-20</th>\n",
       "      <td>1872.829956</td>\n",
       "    </tr>\n",
       "    <tr>\n",
       "      <th>2014-05-21</th>\n",
       "      <td>1888.030029</td>\n",
       "    </tr>\n",
       "    <tr>\n",
       "      <th>2014-05-22</th>\n",
       "      <td>1892.489990</td>\n",
       "    </tr>\n",
       "    <tr>\n",
       "      <th>2014-05-23</th>\n",
       "      <td>1900.530029</td>\n",
       "    </tr>\n",
       "    <tr>\n",
       "      <th>2014-05-27</th>\n",
       "      <td>1911.910034</td>\n",
       "    </tr>\n",
       "    <tr>\n",
       "      <th>...</th>\n",
       "      <td>...</td>\n",
       "    </tr>\n",
       "    <tr>\n",
       "      <th>2019-05-13</th>\n",
       "      <td>2811.870117</td>\n",
       "    </tr>\n",
       "    <tr>\n",
       "      <th>2019-05-14</th>\n",
       "      <td>2834.409912</td>\n",
       "    </tr>\n",
       "    <tr>\n",
       "      <th>2019-05-15</th>\n",
       "      <td>2850.959961</td>\n",
       "    </tr>\n",
       "    <tr>\n",
       "      <th>2019-05-16</th>\n",
       "      <td>2876.320068</td>\n",
       "    </tr>\n",
       "    <tr>\n",
       "      <th>2019-05-17</th>\n",
       "      <td>2859.530029</td>\n",
       "    </tr>\n",
       "  </tbody>\n",
       "</table>\n",
       "<p>1258 rows × 1 columns</p>\n",
       "</div>"
      ],
      "text/plain": [
       "                  close\n",
       "date                   \n",
       "2014-05-20  1872.829956\n",
       "2014-05-21  1888.030029\n",
       "2014-05-22  1892.489990\n",
       "2014-05-23  1900.530029\n",
       "2014-05-27  1911.910034\n",
       "...                 ...\n",
       "2019-05-13  2811.870117\n",
       "2019-05-14  2834.409912\n",
       "2019-05-15  2850.959961\n",
       "2019-05-16  2876.320068\n",
       "2019-05-17  2859.530029\n",
       "\n",
       "[1258 rows x 1 columns]"
      ]
     },
     "execution_count": 7,
     "metadata": {},
     "output_type": "execute_result"
    }
   ],
   "source": [
    "#Read CSVs in as DataFrames\n",
    "fb_path = Path(\"fb_data.csv\")\n",
    "fb_df = pd.read_csv(fb_path, index_col=\"date\", parse_dates=True, infer_datetime_format=True)\n",
    "twtr_path = Path(\"twtr_data.csv\")\n",
    "twtr_df = pd.read_csv(twtr_path, index_col=\"date\", parse_dates=True, infer_datetime_format=True)\n",
    "snap_path = Path(\"snap_data.csv\")\n",
    "snap_df = pd.read_csv(snap_path, index_col=\"date\", parse_dates=True, infer_datetime_format=True)\n",
    "sp500_path = Path(\"sp500_data.csv\")\n",
    "sp500_df = pd.read_csv(sp500_path, index_col=\"date\", parse_dates=True, infer_datetime_format=True)\n",
    "sp500_df"
   ]
  },
  {
   "cell_type": "code",
   "execution_count": 11,
   "id": "05301080-5c25-4668-bb0a-fd4b6fab69a4",
   "metadata": {},
   "outputs": [
    {
     "data": {
      "text/html": [
       "<div>\n",
       "<style scoped>\n",
       "    .dataframe tbody tr th:only-of-type {\n",
       "        vertical-align: middle;\n",
       "    }\n",
       "\n",
       "    .dataframe tbody tr th {\n",
       "        vertical-align: top;\n",
       "    }\n",
       "\n",
       "    .dataframe thead th {\n",
       "        text-align: right;\n",
       "    }\n",
       "</style>\n",
       "<table border=\"1\" class=\"dataframe\">\n",
       "  <thead>\n",
       "    <tr style=\"text-align: right;\">\n",
       "      <th></th>\n",
       "      <th>FB</th>\n",
       "      <th>TWTR</th>\n",
       "      <th>SNAP</th>\n",
       "      <th>SP500</th>\n",
       "    </tr>\n",
       "    <tr>\n",
       "      <th>date</th>\n",
       "      <th></th>\n",
       "      <th></th>\n",
       "      <th></th>\n",
       "      <th></th>\n",
       "    </tr>\n",
       "  </thead>\n",
       "  <tbody>\n",
       "    <tr>\n",
       "      <th>2019-05-17</th>\n",
       "      <td>185.30</td>\n",
       "      <td>37.50</td>\n",
       "      <td>11.49</td>\n",
       "      <td>2859.530029</td>\n",
       "    </tr>\n",
       "    <tr>\n",
       "      <th>2019-05-16</th>\n",
       "      <td>186.99</td>\n",
       "      <td>38.30</td>\n",
       "      <td>11.42</td>\n",
       "      <td>2876.320068</td>\n",
       "    </tr>\n",
       "    <tr>\n",
       "      <th>2019-05-15</th>\n",
       "      <td>186.27</td>\n",
       "      <td>37.90</td>\n",
       "      <td>10.66</td>\n",
       "      <td>2850.959961</td>\n",
       "    </tr>\n",
       "    <tr>\n",
       "      <th>2019-05-14</th>\n",
       "      <td>180.73</td>\n",
       "      <td>36.93</td>\n",
       "      <td>10.49</td>\n",
       "      <td>2834.409912</td>\n",
       "    </tr>\n",
       "    <tr>\n",
       "      <th>2019-05-13</th>\n",
       "      <td>181.54</td>\n",
       "      <td>36.59</td>\n",
       "      <td>10.11</td>\n",
       "      <td>2811.870117</td>\n",
       "    </tr>\n",
       "  </tbody>\n",
       "</table>\n",
       "</div>"
      ],
      "text/plain": [
       "                FB   TWTR   SNAP        SP500\n",
       "date                                         \n",
       "2019-05-17  185.30  37.50  11.49  2859.530029\n",
       "2019-05-16  186.99  38.30  11.42  2876.320068\n",
       "2019-05-15  186.27  37.90  10.66  2850.959961\n",
       "2019-05-14  180.73  36.93  10.49  2834.409912\n",
       "2019-05-13  181.54  36.59  10.11  2811.870117"
      ]
     },
     "execution_count": 11,
     "metadata": {},
     "output_type": "execute_result"
    }
   ],
   "source": [
    "#Combine DataFrames, Sort Index, and Rename Columns\n",
    "combined_df = pd.concat([fb_df, twtr_df, snap_df, sp500_df], axis=\"columns\", join=\"inner\")\n",
    "combined_df.columns = [\"FB\", \"TWTR\", \"SNAP\", \"SP500\"]\n",
    "combined_df.head()"
   ]
  },
  {
   "cell_type": "code",
   "execution_count": 12,
   "id": "9c36a7b3-320e-4cd6-95e2-b7bb698133e5",
   "metadata": {},
   "outputs": [
    {
     "data": {
      "text/html": [
       "<div>\n",
       "<style scoped>\n",
       "    .dataframe tbody tr th:only-of-type {\n",
       "        vertical-align: middle;\n",
       "    }\n",
       "\n",
       "    .dataframe tbody tr th {\n",
       "        vertical-align: top;\n",
       "    }\n",
       "\n",
       "    .dataframe thead th {\n",
       "        text-align: right;\n",
       "    }\n",
       "</style>\n",
       "<table border=\"1\" class=\"dataframe\">\n",
       "  <thead>\n",
       "    <tr style=\"text-align: right;\">\n",
       "      <th></th>\n",
       "      <th>FB</th>\n",
       "      <th>TWTR</th>\n",
       "      <th>SNAP</th>\n",
       "      <th>SP500</th>\n",
       "    </tr>\n",
       "    <tr>\n",
       "      <th>date</th>\n",
       "      <th></th>\n",
       "      <th></th>\n",
       "      <th></th>\n",
       "      <th></th>\n",
       "    </tr>\n",
       "  </thead>\n",
       "  <tbody>\n",
       "    <tr>\n",
       "      <th>2019-05-17</th>\n",
       "      <td>NaN</td>\n",
       "      <td>NaN</td>\n",
       "      <td>NaN</td>\n",
       "      <td>NaN</td>\n",
       "    </tr>\n",
       "    <tr>\n",
       "      <th>2019-05-16</th>\n",
       "      <td>0.009120</td>\n",
       "      <td>0.021333</td>\n",
       "      <td>-0.006092</td>\n",
       "      <td>0.005872</td>\n",
       "    </tr>\n",
       "    <tr>\n",
       "      <th>2019-05-15</th>\n",
       "      <td>-0.003850</td>\n",
       "      <td>-0.010444</td>\n",
       "      <td>-0.066550</td>\n",
       "      <td>-0.008817</td>\n",
       "    </tr>\n",
       "    <tr>\n",
       "      <th>2019-05-14</th>\n",
       "      <td>-0.029742</td>\n",
       "      <td>-0.025594</td>\n",
       "      <td>-0.015947</td>\n",
       "      <td>-0.005805</td>\n",
       "    </tr>\n",
       "    <tr>\n",
       "      <th>2019-05-13</th>\n",
       "      <td>0.004482</td>\n",
       "      <td>-0.009207</td>\n",
       "      <td>-0.036225</td>\n",
       "      <td>-0.007952</td>\n",
       "    </tr>\n",
       "  </tbody>\n",
       "</table>\n",
       "</div>"
      ],
      "text/plain": [
       "                  FB      TWTR      SNAP     SP500\n",
       "date                                              \n",
       "2019-05-17       NaN       NaN       NaN       NaN\n",
       "2019-05-16  0.009120  0.021333 -0.006092  0.005872\n",
       "2019-05-15 -0.003850 -0.010444 -0.066550 -0.008817\n",
       "2019-05-14 -0.029742 -0.025594 -0.015947 -0.005805\n",
       "2019-05-13  0.004482 -0.009207 -0.036225 -0.007952"
      ]
     },
     "execution_count": 12,
     "metadata": {},
     "output_type": "execute_result"
    }
   ],
   "source": [
    "#Calculate Daily Returns\n",
    "daily_returns = combined_df.pct_change()\n",
    "daily_returns.head()"
   ]
  },
  {
   "cell_type": "code",
   "execution_count": 15,
   "id": "3b5d6a58-46f4-4bcf-82ba-679fc36354e7",
   "metadata": {},
   "outputs": [
    {
     "data": {
      "text/plain": [
       "8.143752411104527e-05"
      ]
     },
     "execution_count": 15,
     "metadata": {},
     "output_type": "execute_result"
    }
   ],
   "source": [
    "#Calculate Covariance of Social Media Stock Returns vs. S&P 500 Returns\n",
    "fb_cov = daily_returns[\"FB\"].cov(daily_returns[\"SP500\"])\n",
    "twtr_cov = daily_returns[\"TWTR\"].cov(daily_returns[\"SP500\"])\n",
    "snap_cov = daily_returns[\"SNAP\"].cov(daily_returns[\"SP500\"])\n",
    "\n",
    "snap_cov"
   ]
  },
  {
   "cell_type": "code",
   "execution_count": 16,
   "id": "11027838-aa45-42ed-a0da-0ea855e54896",
   "metadata": {},
   "outputs": [
    {
     "data": {
      "text/plain": [
       "7.065620867765686e-05"
      ]
     },
     "execution_count": 16,
     "metadata": {},
     "output_type": "execute_result"
    }
   ],
   "source": [
    "#Calculate Variance of S&P 500 Returns\n",
    "var = daily_returns[\"SP500\"].var()\n",
    "var"
   ]
  },
  {
   "cell_type": "code",
   "execution_count": 18,
   "id": "127ec37c-0d3b-463a-994d-0057e57fef43",
   "metadata": {},
   "outputs": [
    {
     "name": "stdout",
     "output_type": "stream",
     "text": [
      "The beta of social media stocks is: FB:1.28 | TWTR:1.519359198772949 | SNAP:1.1525883660496734\n"
     ]
    }
   ],
   "source": [
    "#Calculate Beta Values of Social Media Stocks\n",
    "fb_beta = round(fb_cov/var, 2)\n",
    "twtr_beta = twtr_cov/var\n",
    "snap_beta = snap_cov/var\n",
    "\n",
    "print(f\"The beta of social media stocks is: FB:{fb_beta} | TWTR:{twtr_beta} | SNAP:{snap_beta}\")"
   ]
  },
  {
   "cell_type": "code",
   "execution_count": null,
   "id": "336cc7ca-89b8-4126-a08d-bf514fba2ae3",
   "metadata": {},
   "outputs": [],
   "source": []
  }
 ],
 "metadata": {
  "kernelspec": {
   "display_name": "Python 3 (ipykernel)",
   "language": "python",
   "name": "python3"
  },
  "language_info": {
   "codemirror_mode": {
    "name": "ipython",
    "version": 3
   },
   "file_extension": ".py",
   "mimetype": "text/x-python",
   "name": "python",
   "nbconvert_exporter": "python",
   "pygments_lexer": "ipython3",
   "version": "3.7.13"
  }
 },
 "nbformat": 4,
 "nbformat_minor": 5
}
