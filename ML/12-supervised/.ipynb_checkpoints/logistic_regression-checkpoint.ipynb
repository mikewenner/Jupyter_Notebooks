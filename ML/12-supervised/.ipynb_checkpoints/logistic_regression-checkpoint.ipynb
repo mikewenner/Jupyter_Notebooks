{
 "cells": [
  {
   "cell_type": "markdown",
   "metadata": {},
   "source": [
    "# Predicting Fraudulent Transactions\n",
    "\n",
    "You’ll try logistic regression on the real-world problem of fraud detection and find out how it fares.\n",
    "\n",
    "## Instructions:\n",
    "\n",
    "The instructions for this activity are divided into the following stages:\n",
    "\n",
    "1. Prepare the data\n",
    "\n",
    "2. Split the data into training and testing sets\n",
    "\n",
    "3. Model and fit the data into a logistic regression\n",
    "\n",
    "4. Predict the testing labels \n",
    "\n",
    "5. Calculate the performance metrics\n",
    "\n",
    "#### Prepare the Data\n",
    "\n",
    "1. Load the `transaction_fraud_data.csv` file from the `Resources` folder into a Pandas DataFrame. Set the “id” column as the index.\n",
    "\n",
    "2. Note that you want to predict the `fraud` variable. Answer the following question: Using `value_counts`, how many fraudulent transactions exist in this dataset?\n",
    "\n",
    "#### Split the Data into Training and Testing Sets\n",
    "\n",
    "1. Using the `transaction_fraud_data` DataFrame, separate the data into training and testing data. Start by defining the `target` (the “fraud” column) and the `features` of the data (all the columns except “fraud”).\n",
    "\n",
    "2. Split the features and target data into `training_features`, `testing_features`, `training_targets`, and `testing_targets` datasets by using the `train_test_split` function.\n",
    "\n",
    "#### Model and Fit the Data to a Logistic Regression\n",
    "\n",
    "1. Declare a `LogisticRegression` model.\n",
    "\n",
    "2. Fit the training data to the model, and save the model.\n",
    "\n",
    "#### Predict the Testing Labels\n",
    "\n",
    "1. Make predictions about fraud by using the testing dataset, and save those predictions.\n",
    "\n",
    "#### Calculate the Performance Metrics\n",
    "\n",
    "1. Calculate the accuracy score by evaluating `testing_targets` vs. `testing_predictions`. \n",
    "2. Answer the following question: For this dataset, how well did the model predict the actually fraudulent transactions?\n",
    "\n",
    "\n",
    "## Resources:\n",
    "\n",
    "Following are links to modules from the scikit learn library that will be utilized:\n",
    "\n",
    "[Logistic Regression](https://scikit-learn.org/stable/modules/generated/sklearn.linear_model.LogisticRegression.html)\n",
    "\n",
    "[train_test_split](https://scikit-learn.org/stable/modules/generated/sklearn.model_selection.train_test_split.html)\n",
    "\n",
    "[accuracy score](https://scikit-learn.org/stable/modules/generated/sklearn.metrics.accuracy_score.html)\n",
    "\n",
    "[classifiction report](https://scikit-learn.org/stable/modules/generated/sklearn.metrics.classification_report.html)\n"
   ]
  },
  {
   "cell_type": "code",
   "execution_count": 1,
   "metadata": {},
   "outputs": [],
   "source": [
    "# Import the required modules\n",
    "import pandas as pd\n",
    "from pathlib import Path\n",
    "from sklearn.model_selection import train_test_split\n",
    "import matplotlib.pyplot as plt\n",
    "from sklearn.metrics import accuracy_score, classification_report\n",
    "from sklearn.linear_model import LogisticRegression\n"
   ]
  },
  {
   "cell_type": "markdown",
   "metadata": {},
   "source": [
    "# Prepare the Data"
   ]
  },
  {
   "cell_type": "markdown",
   "metadata": {},
   "source": [
    "### Step 1: Load the `transaction_fraud_data.csv` file from the `Resources` folder into a Pandas DataFrame. Set the “id” column as the index."
   ]
  },
  {
   "cell_type": "code",
   "execution_count": 2,
   "metadata": {},
   "outputs": [
    {
     "data": {
      "text/html": [
       "<div>\n",
       "<style scoped>\n",
       "    .dataframe tbody tr th:only-of-type {\n",
       "        vertical-align: middle;\n",
       "    }\n",
       "\n",
       "    .dataframe tbody tr th {\n",
       "        vertical-align: top;\n",
       "    }\n",
       "\n",
       "    .dataframe thead th {\n",
       "        text-align: right;\n",
       "    }\n",
       "</style>\n",
       "<table border=\"1\" class=\"dataframe\">\n",
       "  <thead>\n",
       "    <tr style=\"text-align: right;\">\n",
       "      <th></th>\n",
       "      <th>id</th>\n",
       "      <th>Z_0</th>\n",
       "      <th>Z_1</th>\n",
       "      <th>Z_2</th>\n",
       "      <th>Z_3</th>\n",
       "      <th>Z_4</th>\n",
       "      <th>Z_5</th>\n",
       "      <th>Z_6</th>\n",
       "      <th>Z_7</th>\n",
       "      <th>Z_8</th>\n",
       "      <th>Z_9</th>\n",
       "      <th>fraud</th>\n",
       "    </tr>\n",
       "  </thead>\n",
       "  <tbody>\n",
       "    <tr>\n",
       "      <th>0</th>\n",
       "      <td>0</td>\n",
       "      <td>-2.346302</td>\n",
       "      <td>-1.026583</td>\n",
       "      <td>-10.363716</td>\n",
       "      <td>-8.054260</td>\n",
       "      <td>7.519907</td>\n",
       "      <td>1.860217</td>\n",
       "      <td>9.056866</td>\n",
       "      <td>0.392113</td>\n",
       "      <td>-12.937505</td>\n",
       "      <td>-0.801264</td>\n",
       "      <td>0</td>\n",
       "    </tr>\n",
       "    <tr>\n",
       "      <th>1</th>\n",
       "      <td>1</td>\n",
       "      <td>-3.296776</td>\n",
       "      <td>-8.487700</td>\n",
       "      <td>9.175655</td>\n",
       "      <td>1.097409</td>\n",
       "      <td>-1.766353</td>\n",
       "      <td>-2.293392</td>\n",
       "      <td>-2.247549</td>\n",
       "      <td>-0.041269</td>\n",
       "      <td>8.216953</td>\n",
       "      <td>8.883102</td>\n",
       "      <td>0</td>\n",
       "    </tr>\n",
       "    <tr>\n",
       "      <th>2</th>\n",
       "      <td>2</td>\n",
       "      <td>12.839610</td>\n",
       "      <td>4.475612</td>\n",
       "      <td>-5.213528</td>\n",
       "      <td>-5.722660</td>\n",
       "      <td>-4.073390</td>\n",
       "      <td>-5.661766</td>\n",
       "      <td>5.967037</td>\n",
       "      <td>-9.826743</td>\n",
       "      <td>-17.443248</td>\n",
       "      <td>5.266470</td>\n",
       "      <td>0</td>\n",
       "    </tr>\n",
       "    <tr>\n",
       "      <th>3</th>\n",
       "      <td>3</td>\n",
       "      <td>13.237325</td>\n",
       "      <td>13.605183</td>\n",
       "      <td>-5.958039</td>\n",
       "      <td>4.392244</td>\n",
       "      <td>4.763587</td>\n",
       "      <td>3.781628</td>\n",
       "      <td>-2.722725</td>\n",
       "      <td>-5.814775</td>\n",
       "      <td>11.236515</td>\n",
       "      <td>2.582494</td>\n",
       "      <td>0</td>\n",
       "    </tr>\n",
       "    <tr>\n",
       "      <th>4</th>\n",
       "      <td>4</td>\n",
       "      <td>4.161311</td>\n",
       "      <td>2.520646</td>\n",
       "      <td>7.171650</td>\n",
       "      <td>1.301273</td>\n",
       "      <td>-5.408190</td>\n",
       "      <td>4.651314</td>\n",
       "      <td>9.639546</td>\n",
       "      <td>4.648132</td>\n",
       "      <td>3.928619</td>\n",
       "      <td>2.358164</td>\n",
       "      <td>0</td>\n",
       "    </tr>\n",
       "    <tr>\n",
       "      <th>...</th>\n",
       "      <td>...</td>\n",
       "      <td>...</td>\n",
       "      <td>...</td>\n",
       "      <td>...</td>\n",
       "      <td>...</td>\n",
       "      <td>...</td>\n",
       "      <td>...</td>\n",
       "      <td>...</td>\n",
       "      <td>...</td>\n",
       "      <td>...</td>\n",
       "      <td>...</td>\n",
       "      <td>...</td>\n",
       "    </tr>\n",
       "    <tr>\n",
       "      <th>995</th>\n",
       "      <td>995</td>\n",
       "      <td>4.934022</td>\n",
       "      <td>4.443195</td>\n",
       "      <td>1.388734</td>\n",
       "      <td>2.278806</td>\n",
       "      <td>-21.147607</td>\n",
       "      <td>-0.368845</td>\n",
       "      <td>2.628414</td>\n",
       "      <td>-1.351398</td>\n",
       "      <td>5.148549</td>\n",
       "      <td>4.619609</td>\n",
       "      <td>0</td>\n",
       "    </tr>\n",
       "    <tr>\n",
       "      <th>996</th>\n",
       "      <td>996</td>\n",
       "      <td>-4.910172</td>\n",
       "      <td>-10.815344</td>\n",
       "      <td>-10.595855</td>\n",
       "      <td>5.884628</td>\n",
       "      <td>0.528660</td>\n",
       "      <td>0.830482</td>\n",
       "      <td>-13.764331</td>\n",
       "      <td>13.836068</td>\n",
       "      <td>7.353338</td>\n",
       "      <td>10.938554</td>\n",
       "      <td>0</td>\n",
       "    </tr>\n",
       "    <tr>\n",
       "      <th>997</th>\n",
       "      <td>997</td>\n",
       "      <td>11.623010</td>\n",
       "      <td>6.322765</td>\n",
       "      <td>-3.407261</td>\n",
       "      <td>-7.983187</td>\n",
       "      <td>-22.384596</td>\n",
       "      <td>5.291396</td>\n",
       "      <td>-6.293332</td>\n",
       "      <td>-1.309196</td>\n",
       "      <td>-1.836557</td>\n",
       "      <td>-3.473290</td>\n",
       "      <td>0</td>\n",
       "    </tr>\n",
       "    <tr>\n",
       "      <th>998</th>\n",
       "      <td>998</td>\n",
       "      <td>-7.030572</td>\n",
       "      <td>7.131075</td>\n",
       "      <td>-6.298506</td>\n",
       "      <td>-2.606031</td>\n",
       "      <td>0.484820</td>\n",
       "      <td>0.139240</td>\n",
       "      <td>4.640984</td>\n",
       "      <td>-11.869494</td>\n",
       "      <td>3.227287</td>\n",
       "      <td>-5.899874</td>\n",
       "      <td>0</td>\n",
       "    </tr>\n",
       "    <tr>\n",
       "      <th>999</th>\n",
       "      <td>999</td>\n",
       "      <td>-4.146064</td>\n",
       "      <td>8.996318</td>\n",
       "      <td>-10.690600</td>\n",
       "      <td>2.464448</td>\n",
       "      <td>9.081273</td>\n",
       "      <td>-4.438147</td>\n",
       "      <td>2.497193</td>\n",
       "      <td>5.493373</td>\n",
       "      <td>-10.313484</td>\n",
       "      <td>1.392497</td>\n",
       "      <td>0</td>\n",
       "    </tr>\n",
       "  </tbody>\n",
       "</table>\n",
       "<p>1000 rows × 12 columns</p>\n",
       "</div>"
      ],
      "text/plain": [
       "      id        Z_0        Z_1        Z_2       Z_3        Z_4       Z_5  \\\n",
       "0      0  -2.346302  -1.026583 -10.363716 -8.054260   7.519907  1.860217   \n",
       "1      1  -3.296776  -8.487700   9.175655  1.097409  -1.766353 -2.293392   \n",
       "2      2  12.839610   4.475612  -5.213528 -5.722660  -4.073390 -5.661766   \n",
       "3      3  13.237325  13.605183  -5.958039  4.392244   4.763587  3.781628   \n",
       "4      4   4.161311   2.520646   7.171650  1.301273  -5.408190  4.651314   \n",
       "..   ...        ...        ...        ...       ...        ...       ...   \n",
       "995  995   4.934022   4.443195   1.388734  2.278806 -21.147607 -0.368845   \n",
       "996  996  -4.910172 -10.815344 -10.595855  5.884628   0.528660  0.830482   \n",
       "997  997  11.623010   6.322765  -3.407261 -7.983187 -22.384596  5.291396   \n",
       "998  998  -7.030572   7.131075  -6.298506 -2.606031   0.484820  0.139240   \n",
       "999  999  -4.146064   8.996318 -10.690600  2.464448   9.081273 -4.438147   \n",
       "\n",
       "           Z_6        Z_7        Z_8        Z_9  fraud  \n",
       "0     9.056866   0.392113 -12.937505  -0.801264      0  \n",
       "1    -2.247549  -0.041269   8.216953   8.883102      0  \n",
       "2     5.967037  -9.826743 -17.443248   5.266470      0  \n",
       "3    -2.722725  -5.814775  11.236515   2.582494      0  \n",
       "4     9.639546   4.648132   3.928619   2.358164      0  \n",
       "..         ...        ...        ...        ...    ...  \n",
       "995   2.628414  -1.351398   5.148549   4.619609      0  \n",
       "996 -13.764331  13.836068   7.353338  10.938554      0  \n",
       "997  -6.293332  -1.309196  -1.836557  -3.473290      0  \n",
       "998   4.640984 -11.869494   3.227287  -5.899874      0  \n",
       "999   2.497193   5.493373 -10.313484   1.392497      0  \n",
       "\n",
       "[1000 rows x 12 columns]"
      ]
     },
     "execution_count": 2,
     "metadata": {},
     "output_type": "execute_result"
    }
   ],
   "source": [
    "# Read in the transaction_fraud_data.csv file into a PandasDataFrame.\n",
    "transaction_fraud_data = pd.read_csv(Path(\"transaction_fraud_data.csv\"))\n",
    "# YOUR CODE HERE\n",
    "\n",
    "# Review the DataFrame\n",
    "transaction_fraud_data\n",
    "# YOUR CODE HERE\n"
   ]
  },
  {
   "cell_type": "code",
   "execution_count": 4,
   "metadata": {},
   "outputs": [
    {
     "data": {
      "text/html": [
       "<div>\n",
       "<style scoped>\n",
       "    .dataframe tbody tr th:only-of-type {\n",
       "        vertical-align: middle;\n",
       "    }\n",
       "\n",
       "    .dataframe tbody tr th {\n",
       "        vertical-align: top;\n",
       "    }\n",
       "\n",
       "    .dataframe thead th {\n",
       "        text-align: right;\n",
       "    }\n",
       "</style>\n",
       "<table border=\"1\" class=\"dataframe\">\n",
       "  <thead>\n",
       "    <tr style=\"text-align: right;\">\n",
       "      <th></th>\n",
       "      <th>Z_0</th>\n",
       "      <th>Z_1</th>\n",
       "      <th>Z_2</th>\n",
       "      <th>Z_3</th>\n",
       "      <th>Z_4</th>\n",
       "      <th>Z_5</th>\n",
       "      <th>Z_6</th>\n",
       "      <th>Z_7</th>\n",
       "      <th>Z_8</th>\n",
       "      <th>Z_9</th>\n",
       "      <th>fraud</th>\n",
       "    </tr>\n",
       "    <tr>\n",
       "      <th>id</th>\n",
       "      <th></th>\n",
       "      <th></th>\n",
       "      <th></th>\n",
       "      <th></th>\n",
       "      <th></th>\n",
       "      <th></th>\n",
       "      <th></th>\n",
       "      <th></th>\n",
       "      <th></th>\n",
       "      <th></th>\n",
       "      <th></th>\n",
       "    </tr>\n",
       "  </thead>\n",
       "  <tbody>\n",
       "    <tr>\n",
       "      <th>0</th>\n",
       "      <td>-2.346302</td>\n",
       "      <td>-1.026583</td>\n",
       "      <td>-10.363716</td>\n",
       "      <td>-8.054260</td>\n",
       "      <td>7.519907</td>\n",
       "      <td>1.860217</td>\n",
       "      <td>9.056866</td>\n",
       "      <td>0.392113</td>\n",
       "      <td>-12.937505</td>\n",
       "      <td>-0.801264</td>\n",
       "      <td>0</td>\n",
       "    </tr>\n",
       "    <tr>\n",
       "      <th>1</th>\n",
       "      <td>-3.296776</td>\n",
       "      <td>-8.487700</td>\n",
       "      <td>9.175655</td>\n",
       "      <td>1.097409</td>\n",
       "      <td>-1.766353</td>\n",
       "      <td>-2.293392</td>\n",
       "      <td>-2.247549</td>\n",
       "      <td>-0.041269</td>\n",
       "      <td>8.216953</td>\n",
       "      <td>8.883102</td>\n",
       "      <td>0</td>\n",
       "    </tr>\n",
       "    <tr>\n",
       "      <th>2</th>\n",
       "      <td>12.839610</td>\n",
       "      <td>4.475612</td>\n",
       "      <td>-5.213528</td>\n",
       "      <td>-5.722660</td>\n",
       "      <td>-4.073390</td>\n",
       "      <td>-5.661766</td>\n",
       "      <td>5.967037</td>\n",
       "      <td>-9.826743</td>\n",
       "      <td>-17.443248</td>\n",
       "      <td>5.266470</td>\n",
       "      <td>0</td>\n",
       "    </tr>\n",
       "    <tr>\n",
       "      <th>3</th>\n",
       "      <td>13.237325</td>\n",
       "      <td>13.605183</td>\n",
       "      <td>-5.958039</td>\n",
       "      <td>4.392244</td>\n",
       "      <td>4.763587</td>\n",
       "      <td>3.781628</td>\n",
       "      <td>-2.722725</td>\n",
       "      <td>-5.814775</td>\n",
       "      <td>11.236515</td>\n",
       "      <td>2.582494</td>\n",
       "      <td>0</td>\n",
       "    </tr>\n",
       "    <tr>\n",
       "      <th>4</th>\n",
       "      <td>4.161311</td>\n",
       "      <td>2.520646</td>\n",
       "      <td>7.171650</td>\n",
       "      <td>1.301273</td>\n",
       "      <td>-5.408190</td>\n",
       "      <td>4.651314</td>\n",
       "      <td>9.639546</td>\n",
       "      <td>4.648132</td>\n",
       "      <td>3.928619</td>\n",
       "      <td>2.358164</td>\n",
       "      <td>0</td>\n",
       "    </tr>\n",
       "    <tr>\n",
       "      <th>...</th>\n",
       "      <td>...</td>\n",
       "      <td>...</td>\n",
       "      <td>...</td>\n",
       "      <td>...</td>\n",
       "      <td>...</td>\n",
       "      <td>...</td>\n",
       "      <td>...</td>\n",
       "      <td>...</td>\n",
       "      <td>...</td>\n",
       "      <td>...</td>\n",
       "      <td>...</td>\n",
       "    </tr>\n",
       "    <tr>\n",
       "      <th>995</th>\n",
       "      <td>4.934022</td>\n",
       "      <td>4.443195</td>\n",
       "      <td>1.388734</td>\n",
       "      <td>2.278806</td>\n",
       "      <td>-21.147607</td>\n",
       "      <td>-0.368845</td>\n",
       "      <td>2.628414</td>\n",
       "      <td>-1.351398</td>\n",
       "      <td>5.148549</td>\n",
       "      <td>4.619609</td>\n",
       "      <td>0</td>\n",
       "    </tr>\n",
       "    <tr>\n",
       "      <th>996</th>\n",
       "      <td>-4.910172</td>\n",
       "      <td>-10.815344</td>\n",
       "      <td>-10.595855</td>\n",
       "      <td>5.884628</td>\n",
       "      <td>0.528660</td>\n",
       "      <td>0.830482</td>\n",
       "      <td>-13.764331</td>\n",
       "      <td>13.836068</td>\n",
       "      <td>7.353338</td>\n",
       "      <td>10.938554</td>\n",
       "      <td>0</td>\n",
       "    </tr>\n",
       "    <tr>\n",
       "      <th>997</th>\n",
       "      <td>11.623010</td>\n",
       "      <td>6.322765</td>\n",
       "      <td>-3.407261</td>\n",
       "      <td>-7.983187</td>\n",
       "      <td>-22.384596</td>\n",
       "      <td>5.291396</td>\n",
       "      <td>-6.293332</td>\n",
       "      <td>-1.309196</td>\n",
       "      <td>-1.836557</td>\n",
       "      <td>-3.473290</td>\n",
       "      <td>0</td>\n",
       "    </tr>\n",
       "    <tr>\n",
       "      <th>998</th>\n",
       "      <td>-7.030572</td>\n",
       "      <td>7.131075</td>\n",
       "      <td>-6.298506</td>\n",
       "      <td>-2.606031</td>\n",
       "      <td>0.484820</td>\n",
       "      <td>0.139240</td>\n",
       "      <td>4.640984</td>\n",
       "      <td>-11.869494</td>\n",
       "      <td>3.227287</td>\n",
       "      <td>-5.899874</td>\n",
       "      <td>0</td>\n",
       "    </tr>\n",
       "    <tr>\n",
       "      <th>999</th>\n",
       "      <td>-4.146064</td>\n",
       "      <td>8.996318</td>\n",
       "      <td>-10.690600</td>\n",
       "      <td>2.464448</td>\n",
       "      <td>9.081273</td>\n",
       "      <td>-4.438147</td>\n",
       "      <td>2.497193</td>\n",
       "      <td>5.493373</td>\n",
       "      <td>-10.313484</td>\n",
       "      <td>1.392497</td>\n",
       "      <td>0</td>\n",
       "    </tr>\n",
       "  </tbody>\n",
       "</table>\n",
       "<p>1000 rows × 11 columns</p>\n",
       "</div>"
      ],
      "text/plain": [
       "           Z_0        Z_1        Z_2       Z_3        Z_4       Z_5  \\\n",
       "id                                                                    \n",
       "0    -2.346302  -1.026583 -10.363716 -8.054260   7.519907  1.860217   \n",
       "1    -3.296776  -8.487700   9.175655  1.097409  -1.766353 -2.293392   \n",
       "2    12.839610   4.475612  -5.213528 -5.722660  -4.073390 -5.661766   \n",
       "3    13.237325  13.605183  -5.958039  4.392244   4.763587  3.781628   \n",
       "4     4.161311   2.520646   7.171650  1.301273  -5.408190  4.651314   \n",
       "..         ...        ...        ...       ...        ...       ...   \n",
       "995   4.934022   4.443195   1.388734  2.278806 -21.147607 -0.368845   \n",
       "996  -4.910172 -10.815344 -10.595855  5.884628   0.528660  0.830482   \n",
       "997  11.623010   6.322765  -3.407261 -7.983187 -22.384596  5.291396   \n",
       "998  -7.030572   7.131075  -6.298506 -2.606031   0.484820  0.139240   \n",
       "999  -4.146064   8.996318 -10.690600  2.464448   9.081273 -4.438147   \n",
       "\n",
       "           Z_6        Z_7        Z_8        Z_9  fraud  \n",
       "id                                                      \n",
       "0     9.056866   0.392113 -12.937505  -0.801264      0  \n",
       "1    -2.247549  -0.041269   8.216953   8.883102      0  \n",
       "2     5.967037  -9.826743 -17.443248   5.266470      0  \n",
       "3    -2.722725  -5.814775  11.236515   2.582494      0  \n",
       "4     9.639546   4.648132   3.928619   2.358164      0  \n",
       "..         ...        ...        ...        ...    ...  \n",
       "995   2.628414  -1.351398   5.148549   4.619609      0  \n",
       "996 -13.764331  13.836068   7.353338  10.938554      0  \n",
       "997  -6.293332  -1.309196  -1.836557  -3.473290      0  \n",
       "998   4.640984 -11.869494   3.227287  -5.899874      0  \n",
       "999   2.497193   5.493373 -10.313484   1.392497      0  \n",
       "\n",
       "[1000 rows x 11 columns]"
      ]
     },
     "execution_count": 4,
     "metadata": {},
     "output_type": "execute_result"
    }
   ],
   "source": [
    "#set index to id\n",
    "transaction_fraud_data = transaction_fraud_data.set_index(\"id\")\n",
    "transaction_fraud_data"
   ]
  },
  {
   "cell_type": "markdown",
   "metadata": {},
   "source": [
    "### Step 2: Answer the following question:\n",
    "\n",
    "Note that you want to predict the `fraud` variable. Answer the following question: Using `value_counts`, how many fraudulent transactions exist in this dataset?"
   ]
  },
  {
   "cell_type": "code",
   "execution_count": 7,
   "metadata": {},
   "outputs": [
    {
     "data": {
      "text/plain": [
       "0    993\n",
       "1      7\n",
       "Name: fraud, dtype: int64"
      ]
     },
     "execution_count": 7,
     "metadata": {},
     "output_type": "execute_result"
    }
   ],
   "source": [
    "# The  column 'fraud' is the thing you want to predict. \n",
    "# Class 0 indicates no-fraud trasactions and class 1 indicates fraudulent transactions\n",
    "# Using value_counts, how many fraudulent transactions are in this dataset?\n",
    "# YOUR CODE HERE\n",
    "transaction_fraud_data[\"fraud\"].value_counts()"
   ]
  },
  {
   "cell_type": "code",
   "execution_count": null,
   "metadata": {},
   "outputs": [],
   "source": [
    "# noting that 1 indicates fraud ... there are 7 counts of fraud in the df\n",
    "# THIS IS IMBALANCED DATA AS ONLY 7/1000 ARE FRAUD"
   ]
  },
  {
   "cell_type": "markdown",
   "metadata": {},
   "source": [
    "# Split the data into training and testing sets"
   ]
  },
  {
   "cell_type": "markdown",
   "metadata": {},
   "source": [
    "### Step 1: Using the `transaction_fraud_data` DataFrame, separate the data into training and testing data. Start by defining the `target` (the “fraud” column) and the `features` of the data (all the columns except “fraud”)."
   ]
  },
  {
   "cell_type": "code",
   "execution_count": 9,
   "metadata": {},
   "outputs": [
    {
     "data": {
      "text/plain": [
       "id\n",
       "0    0\n",
       "1    0\n",
       "2    0\n",
       "3    0\n",
       "4    0\n",
       "Name: fraud, dtype: int64"
      ]
     },
     "metadata": {},
     "output_type": "display_data"
    },
    {
     "data": {
      "text/html": [
       "<div>\n",
       "<style scoped>\n",
       "    .dataframe tbody tr th:only-of-type {\n",
       "        vertical-align: middle;\n",
       "    }\n",
       "\n",
       "    .dataframe tbody tr th {\n",
       "        vertical-align: top;\n",
       "    }\n",
       "\n",
       "    .dataframe thead th {\n",
       "        text-align: right;\n",
       "    }\n",
       "</style>\n",
       "<table border=\"1\" class=\"dataframe\">\n",
       "  <thead>\n",
       "    <tr style=\"text-align: right;\">\n",
       "      <th></th>\n",
       "      <th>Z_0</th>\n",
       "      <th>Z_1</th>\n",
       "      <th>Z_2</th>\n",
       "      <th>Z_3</th>\n",
       "      <th>Z_4</th>\n",
       "      <th>Z_5</th>\n",
       "      <th>Z_6</th>\n",
       "      <th>Z_7</th>\n",
       "      <th>Z_8</th>\n",
       "      <th>Z_9</th>\n",
       "    </tr>\n",
       "    <tr>\n",
       "      <th>id</th>\n",
       "      <th></th>\n",
       "      <th></th>\n",
       "      <th></th>\n",
       "      <th></th>\n",
       "      <th></th>\n",
       "      <th></th>\n",
       "      <th></th>\n",
       "      <th></th>\n",
       "      <th></th>\n",
       "      <th></th>\n",
       "    </tr>\n",
       "  </thead>\n",
       "  <tbody>\n",
       "    <tr>\n",
       "      <th>0</th>\n",
       "      <td>-2.346302</td>\n",
       "      <td>-1.026583</td>\n",
       "      <td>-10.363716</td>\n",
       "      <td>-8.054260</td>\n",
       "      <td>7.519907</td>\n",
       "      <td>1.860217</td>\n",
       "      <td>9.056866</td>\n",
       "      <td>0.392113</td>\n",
       "      <td>-12.937505</td>\n",
       "      <td>-0.801264</td>\n",
       "    </tr>\n",
       "    <tr>\n",
       "      <th>1</th>\n",
       "      <td>-3.296776</td>\n",
       "      <td>-8.487700</td>\n",
       "      <td>9.175655</td>\n",
       "      <td>1.097409</td>\n",
       "      <td>-1.766353</td>\n",
       "      <td>-2.293392</td>\n",
       "      <td>-2.247549</td>\n",
       "      <td>-0.041269</td>\n",
       "      <td>8.216953</td>\n",
       "      <td>8.883102</td>\n",
       "    </tr>\n",
       "    <tr>\n",
       "      <th>2</th>\n",
       "      <td>12.839610</td>\n",
       "      <td>4.475612</td>\n",
       "      <td>-5.213528</td>\n",
       "      <td>-5.722660</td>\n",
       "      <td>-4.073390</td>\n",
       "      <td>-5.661766</td>\n",
       "      <td>5.967037</td>\n",
       "      <td>-9.826743</td>\n",
       "      <td>-17.443248</td>\n",
       "      <td>5.266470</td>\n",
       "    </tr>\n",
       "    <tr>\n",
       "      <th>3</th>\n",
       "      <td>13.237325</td>\n",
       "      <td>13.605183</td>\n",
       "      <td>-5.958039</td>\n",
       "      <td>4.392244</td>\n",
       "      <td>4.763587</td>\n",
       "      <td>3.781628</td>\n",
       "      <td>-2.722725</td>\n",
       "      <td>-5.814775</td>\n",
       "      <td>11.236515</td>\n",
       "      <td>2.582494</td>\n",
       "    </tr>\n",
       "    <tr>\n",
       "      <th>4</th>\n",
       "      <td>4.161311</td>\n",
       "      <td>2.520646</td>\n",
       "      <td>7.171650</td>\n",
       "      <td>1.301273</td>\n",
       "      <td>-5.408190</td>\n",
       "      <td>4.651314</td>\n",
       "      <td>9.639546</td>\n",
       "      <td>4.648132</td>\n",
       "      <td>3.928619</td>\n",
       "      <td>2.358164</td>\n",
       "    </tr>\n",
       "  </tbody>\n",
       "</table>\n",
       "</div>"
      ],
      "text/plain": [
       "          Z_0        Z_1        Z_2       Z_3       Z_4       Z_5       Z_6  \\\n",
       "id                                                                            \n",
       "0   -2.346302  -1.026583 -10.363716 -8.054260  7.519907  1.860217  9.056866   \n",
       "1   -3.296776  -8.487700   9.175655  1.097409 -1.766353 -2.293392 -2.247549   \n",
       "2   12.839610   4.475612  -5.213528 -5.722660 -4.073390 -5.661766  5.967037   \n",
       "3   13.237325  13.605183  -5.958039  4.392244  4.763587  3.781628 -2.722725   \n",
       "4    4.161311   2.520646   7.171650  1.301273 -5.408190  4.651314  9.639546   \n",
       "\n",
       "         Z_7        Z_8       Z_9  \n",
       "id                                 \n",
       "0   0.392113 -12.937505 -0.801264  \n",
       "1  -0.041269   8.216953  8.883102  \n",
       "2  -9.826743 -17.443248  5.266470  \n",
       "3  -5.814775  11.236515  2.582494  \n",
       "4   4.648132   3.928619  2.358164  "
      ]
     },
     "metadata": {},
     "output_type": "display_data"
    }
   ],
   "source": [
    "# The target column should be the binary `fraud` column.\n",
    "target = transaction_fraud_data[\"fraud\"]\n",
    "# YOUR CODE HERE\n",
    "\n",
    "\n",
    "# The features column should be all of the features. \n",
    "features = transaction_fraud_data.drop(columns=\"fraud\")\n",
    "# YOUR CODE HERE\n",
    "\n",
    "display(target.head())\n",
    "display(features.head())"
   ]
  },
  {
   "cell_type": "markdown",
   "metadata": {},
   "source": [
    "### Step 2: Split the features and target data into `training_features`, `testing_features`, `training_targets`, and `testing_targets` datasets by using the `train_test_split` function."
   ]
  },
  {
   "cell_type": "code",
   "execution_count": 11,
   "metadata": {},
   "outputs": [],
   "source": [
    "# Split the dataset using the train_test_split function\n",
    "training_features, testing_features, training_targets, testing_targets = train_test_split(features,target)\n",
    "# YOUR CODE HERE\n"
   ]
  },
  {
   "cell_type": "code",
   "execution_count": 22,
   "metadata": {},
   "outputs": [
    {
     "data": {
      "text/plain": [
       "750"
      ]
     },
     "metadata": {},
     "output_type": "display_data"
    },
    {
     "data": {
      "text/plain": [
       "250"
      ]
     },
     "metadata": {},
     "output_type": "display_data"
    }
   ],
   "source": [
    "#show the train/test split\n",
    "display(len(training_features))\n",
    "display(len(testing_features))"
   ]
  },
  {
   "cell_type": "markdown",
   "metadata": {},
   "source": [
    "# Model and Fit the Data to a Logistic Regression"
   ]
  },
  {
   "cell_type": "markdown",
   "metadata": {},
   "source": [
    "### Step 1: Declare a `LogisticRegression` model."
   ]
  },
  {
   "cell_type": "code",
   "execution_count": 26,
   "metadata": {},
   "outputs": [],
   "source": [
    "# 1.  instantiate the tool\n",
    "# 2. fit the tool\n",
    "# 3. use thr tool (scale, predict evaluate)"
   ]
  },
  {
   "cell_type": "code",
   "execution_count": 12,
   "metadata": {},
   "outputs": [],
   "source": [
    "# Declare a logistic regression model.\n",
    "# Apply a random_state of 7 to the model\n",
    "logistic_regression_model = LogisticRegression(solver=\"lbfgs\", random_state=7)\n",
    "# YOUR CODE HERE\n"
   ]
  },
  {
   "cell_type": "code",
   "execution_count": 17,
   "metadata": {},
   "outputs": [
    {
     "data": {
      "text/plain": [
       "0.9933333333333333"
      ]
     },
     "execution_count": 17,
     "metadata": {},
     "output_type": "execute_result"
    }
   ],
   "source": [
    "#score model using training set\n",
    "logistic_regression_model.score(training_features, training_targets)"
   ]
  },
  {
   "cell_type": "code",
   "execution_count": 18,
   "metadata": {},
   "outputs": [
    {
     "data": {
      "text/plain": [
       "0.996"
      ]
     },
     "execution_count": 18,
     "metadata": {},
     "output_type": "execute_result"
    }
   ],
   "source": [
    "#score model using test set --> taining set should have a higher score with larger (normal) data sets\n",
    "logistic_regression_model.score(testing_features, testing_targets)"
   ]
  },
  {
   "cell_type": "markdown",
   "metadata": {},
   "source": [
    "### Step 2: Fit the training data to the model, and save the model."
   ]
  },
  {
   "cell_type": "code",
   "execution_count": 13,
   "metadata": {},
   "outputs": [],
   "source": [
    "# Fit and save the logistic regression model using the training data\n",
    "lr_model = logistic_regression_model.fit(training_features, training_targets) #why is X,y training_features, training_targets?\n",
    "# YOUR CODE HERE\n"
   ]
  },
  {
   "cell_type": "code",
   "execution_count": 27,
   "metadata": {},
   "outputs": [
    {
     "data": {
      "text/plain": [
       "array([[-7.87133837e-02,  8.38381716e-03,  5.03047528e-02,\n",
       "        -4.93164949e-02,  5.89272803e-02, -1.65188482e-04,\n",
       "         3.03398915e-01,  2.93230054e-02, -8.96752448e-02,\n",
       "         8.33784134e-02]])"
      ]
     },
     "execution_count": 27,
     "metadata": {},
     "output_type": "execute_result"
    }
   ],
   "source": [
    "# look at the model coefficients\n",
    "# these are coeff of each X value (m in y=mx +b)\n",
    "lr_model.coef_"
   ]
  },
  {
   "cell_type": "markdown",
   "metadata": {},
   "source": [
    "# Predict the Testing Labels"
   ]
  },
  {
   "cell_type": "markdown",
   "metadata": {},
   "source": [
    "### Step 1: Make predictions about fraud by using the testing dataset, and save those predictions."
   ]
  },
  {
   "cell_type": "code",
   "execution_count": 15,
   "metadata": {},
   "outputs": [
    {
     "data": {
      "text/plain": [
       "array([0, 0, 0, 0, 0, 0, 0, 0, 0, 0, 0, 0, 0, 0, 0, 0, 0, 0, 0, 0, 0, 0,\n",
       "       0, 0, 0, 0, 0, 0, 0, 0, 0, 0, 0, 0, 0, 0, 0, 0, 0, 0, 0, 0, 0, 0,\n",
       "       0, 0, 0, 0, 0, 0, 0, 0, 0, 0, 0, 0, 0, 0, 0, 0, 0, 0, 0, 0, 0, 0,\n",
       "       0, 0, 0, 0, 0, 0, 0, 0, 0, 0, 0, 0, 0, 0, 0, 0, 0, 0, 0, 0, 0, 0,\n",
       "       0, 0, 0, 0, 0, 0, 0, 0, 0, 0, 0, 0, 0, 0, 0, 0, 0, 0, 0, 0, 0, 0,\n",
       "       0, 0, 0, 0, 0, 0, 0, 0, 0, 0, 0, 0, 0, 0, 0, 0, 0, 0, 0, 0, 0, 0,\n",
       "       0, 0, 0, 0, 0, 0, 0, 0, 0, 0, 0, 0, 0, 0, 0, 0, 0, 0, 0, 0, 0, 0,\n",
       "       0, 0, 0, 0, 0, 0, 0, 0, 0, 0, 0, 0, 0, 0, 0, 0, 0, 0, 0, 0, 0, 0,\n",
       "       0, 0, 0, 0, 0, 0, 0, 0, 0, 0, 0, 0, 0, 0, 0, 0, 0, 0, 0, 0, 0, 0,\n",
       "       0, 0, 0, 0, 0, 0, 0, 0, 0, 0, 0, 0, 0, 0, 0, 0, 0, 0, 0, 0, 0, 0,\n",
       "       0, 0, 0, 0, 0, 0, 0, 0, 0, 0, 0, 0, 0, 0, 0, 0, 0, 0, 0, 0, 0, 0,\n",
       "       0, 0, 0, 0, 0, 0, 0, 0])"
      ]
     },
     "execution_count": 15,
     "metadata": {},
     "output_type": "execute_result"
    }
   ],
   "source": [
    "# Make and save testing predictions with the saved logistic regression model using the test data\n",
    "testing_predictions = lr_model.predict(testing_features) #why testing features?? - because we trained on training set \n",
    "# & now predict on the test set which would also be called previously y_test\n",
    "# YOUR CODE HERE\n",
    "\n",
    "# Review the predictions\n",
    "# YOUR CODE HERE\n",
    "testing_predictions"
   ]
  },
  {
   "cell_type": "markdown",
   "metadata": {},
   "source": [
    "# Calculate the Performance Metrics"
   ]
  },
  {
   "cell_type": "markdown",
   "metadata": {},
   "source": [
    "### Step 1: Calculate the accuracy score by evaluating `testing_targets` vs. `testing_predictions`."
   ]
  },
  {
   "cell_type": "code",
   "execution_count": 16,
   "metadata": {},
   "outputs": [
    {
     "data": {
      "text/plain": [
       "0.996"
      ]
     },
     "execution_count": 16,
     "metadata": {},
     "output_type": "execute_result"
    }
   ],
   "source": [
    "# Display the accuracy score for the test dataset.\n",
    "# YOUR CODE HERE\n",
    "accuracy_score(testing_targets, testing_predictions)"
   ]
  },
  {
   "cell_type": "markdown",
   "metadata": {},
   "source": [
    "### Step 2: Answer the following question"
   ]
  },
  {
   "cell_type": "markdown",
   "metadata": {},
   "source": [
    "**Question:**: For this dataset, how well did the model predict the actual fraudulent transactions?\n",
    "\n",
    "**Answer:**: # YOUR ANSWER HERE "
   ]
  },
  {
   "cell_type": "code",
   "execution_count": 23,
   "metadata": {},
   "outputs": [],
   "source": [
    "from sklearn.metrics import confusion_matrix, classification_report"
   ]
  },
  {
   "cell_type": "code",
   "execution_count": 24,
   "metadata": {},
   "outputs": [
    {
     "name": "stdout",
     "output_type": "stream",
     "text": [
      "[[249   0]\n",
      " [  1   0]]\n"
     ]
    }
   ],
   "source": [
    "print(confusion_matrix(testing_targets, testing_predictions))"
   ]
  },
  {
   "cell_type": "code",
   "execution_count": 25,
   "metadata": {},
   "outputs": [
    {
     "name": "stdout",
     "output_type": "stream",
     "text": [
      "              precision    recall  f1-score   support\n",
      "\n",
      "           0       1.00      1.00      1.00       249\n",
      "           1       0.00      0.00      0.00         1\n",
      "\n",
      "    accuracy                           1.00       250\n",
      "   macro avg       0.50      0.50      0.50       250\n",
      "weighted avg       0.99      1.00      0.99       250\n",
      "\n"
     ]
    },
    {
     "name": "stderr",
     "output_type": "stream",
     "text": [
      "/Users/mikewenner/opt/anaconda3/envs/dev/lib/python3.9/site-packages/sklearn/metrics/_classification.py:1318: UndefinedMetricWarning: Precision and F-score are ill-defined and being set to 0.0 in labels with no predicted samples. Use `zero_division` parameter to control this behavior.\n",
      "  _warn_prf(average, modifier, msg_start, len(result))\n",
      "/Users/mikewenner/opt/anaconda3/envs/dev/lib/python3.9/site-packages/sklearn/metrics/_classification.py:1318: UndefinedMetricWarning: Precision and F-score are ill-defined and being set to 0.0 in labels with no predicted samples. Use `zero_division` parameter to control this behavior.\n",
      "  _warn_prf(average, modifier, msg_start, len(result))\n",
      "/Users/mikewenner/opt/anaconda3/envs/dev/lib/python3.9/site-packages/sklearn/metrics/_classification.py:1318: UndefinedMetricWarning: Precision and F-score are ill-defined and being set to 0.0 in labels with no predicted samples. Use `zero_division` parameter to control this behavior.\n",
      "  _warn_prf(average, modifier, msg_start, len(result))\n"
     ]
    }
   ],
   "source": [
    "print(classification_report(testing_targets, testing_predictions))"
   ]
  },
  {
   "cell_type": "code",
   "execution_count": null,
   "metadata": {},
   "outputs": [],
   "source": []
  }
 ],
 "metadata": {
  "kernelspec": {
   "display_name": "Python 3 (ipykernel)",
   "language": "python",
   "name": "python3"
  },
  "language_info": {
   "codemirror_mode": {
    "name": "ipython",
    "version": 3
   },
   "file_extension": ".py",
   "mimetype": "text/x-python",
   "name": "python",
   "nbconvert_exporter": "python",
   "pygments_lexer": "ipython3",
   "version": "3.9.13"
  },
  "nteract": {
   "version": "0.28.0"
  }
 },
 "nbformat": 4,
 "nbformat_minor": 4
}
