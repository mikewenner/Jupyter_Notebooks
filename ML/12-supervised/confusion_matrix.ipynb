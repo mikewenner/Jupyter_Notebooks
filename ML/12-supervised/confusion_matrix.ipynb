{
 "cells": [
  {
   "cell_type": "markdown",
   "metadata": {},
   "source": [
    "# Let's Get This Snowball Rolling\n",
    "\n",
    "Now, it's your turn to evaluate how a logistic regression model performs. This time, you’ll do so in the context of trying to help a fintech startup more quickly grow its user base. By applying the code you learned to customer data, you’ll discover how machine learning has the potential to turbocharge the growth trajectory of a fintech firm.\n",
    "\n",
    "## Instructions\n",
    "\n",
    "1. Read in the dataset about the current customers of the startup.\n",
    "\n",
    "2. Split the data into X and y and then into testing and training sets.\n",
    "\n",
    "3. Fit a logistic regression classifier.\n",
    "\n",
    "4. Create the predicted values for the testing and the training data.\n",
    "\n",
    "5. Print a confusion matrix for the training data.\n",
    "\n",
    "6. Print a confusion matrix for the testing data.\n",
    "\n",
    "7. Print the training classification report.\n",
    "\n",
    "8. Print the testing classification report.\n",
    "\n",
    "9. Answer the following question: How does the model performance compare between the training data and the testing data?\n",
    "\n",
    "\n",
    "## Resources:\n",
    "\n",
    "Following are links to modules from the scikit learn library that will be utilized:\n",
    "\n",
    "[Logistic Regression](https://scikit-learn.org/stable/modules/generated/sklearn.linear_model.LogisticRegression.html)\n",
    "\n",
    "[train_test_split](https://scikit-learn.org/stable/modules/generated/sklearn.model_selection.train_test_split.html)\n",
    "\n",
    "[classifiction_report](https://scikit-learn.org/stable/modules/generated/sklearn.metrics.classification_report.html)\n",
    "\n",
    "[confusion_matrix](https://scikit-learn.org/stable/modules/generated/sklearn.metrics.confusion_matrix.html)\n"
   ]
  },
  {
   "cell_type": "code",
   "execution_count": 2,
   "metadata": {},
   "outputs": [],
   "source": [
    "# Import the required modules\n",
    "import pandas as pd\n",
    "from pathlib import Path\n",
    "from sklearn.model_selection import train_test_split\n",
    "from sklearn.linear_model import LogisticRegression\n",
    "from sklearn.metrics import classification_report\n"
   ]
  },
  {
   "cell_type": "markdown",
   "metadata": {},
   "source": [
    "## Step 1: Read in the dataset about the current customers of the startup."
   ]
  },
  {
   "cell_type": "code",
   "execution_count": 4,
   "metadata": {},
   "outputs": [
    {
     "data": {
      "text/html": [
       "<div>\n",
       "<style scoped>\n",
       "    .dataframe tbody tr th:only-of-type {\n",
       "        vertical-align: middle;\n",
       "    }\n",
       "\n",
       "    .dataframe tbody tr th {\n",
       "        vertical-align: top;\n",
       "    }\n",
       "\n",
       "    .dataframe thead th {\n",
       "        text-align: right;\n",
       "    }\n",
       "</style>\n",
       "<table border=\"1\" class=\"dataframe\">\n",
       "  <thead>\n",
       "    <tr style=\"text-align: right;\">\n",
       "      <th></th>\n",
       "      <th>Usage Stats</th>\n",
       "      <th>Referral History</th>\n",
       "      <th>Customer Rank</th>\n",
       "      <th>target</th>\n",
       "    </tr>\n",
       "  </thead>\n",
       "  <tbody>\n",
       "    <tr>\n",
       "      <th>0</th>\n",
       "      <td>1.054075</td>\n",
       "      <td>-2.010163</td>\n",
       "      <td>-0.918689</td>\n",
       "      <td>0</td>\n",
       "    </tr>\n",
       "    <tr>\n",
       "      <th>1</th>\n",
       "      <td>2.033251</td>\n",
       "      <td>-0.212776</td>\n",
       "      <td>-2.947451</td>\n",
       "      <td>0</td>\n",
       "    </tr>\n",
       "    <tr>\n",
       "      <th>2</th>\n",
       "      <td>1.049233</td>\n",
       "      <td>-2.239878</td>\n",
       "      <td>-0.777080</td>\n",
       "      <td>0</td>\n",
       "    </tr>\n",
       "    <tr>\n",
       "      <th>3</th>\n",
       "      <td>0.837035</td>\n",
       "      <td>-1.926558</td>\n",
       "      <td>-1.113686</td>\n",
       "      <td>0</td>\n",
       "    </tr>\n",
       "    <tr>\n",
       "      <th>4</th>\n",
       "      <td>1.193770</td>\n",
       "      <td>-1.550953</td>\n",
       "      <td>-1.539586</td>\n",
       "      <td>0</td>\n",
       "    </tr>\n",
       "  </tbody>\n",
       "</table>\n",
       "</div>"
      ],
      "text/plain": [
       "   Usage Stats  Referral History  Customer Rank  target\n",
       "0     1.054075         -2.010163      -0.918689       0\n",
       "1     2.033251         -0.212776      -2.947451       0\n",
       "2     1.049233         -2.239878      -0.777080       0\n",
       "3     0.837035         -1.926558      -1.113686       0\n",
       "4     1.193770         -1.550953      -1.539586       0"
      ]
     },
     "metadata": {},
     "output_type": "display_data"
    },
    {
     "data": {
      "text/html": [
       "<div>\n",
       "<style scoped>\n",
       "    .dataframe tbody tr th:only-of-type {\n",
       "        vertical-align: middle;\n",
       "    }\n",
       "\n",
       "    .dataframe tbody tr th {\n",
       "        vertical-align: top;\n",
       "    }\n",
       "\n",
       "    .dataframe thead th {\n",
       "        text-align: right;\n",
       "    }\n",
       "</style>\n",
       "<table border=\"1\" class=\"dataframe\">\n",
       "  <thead>\n",
       "    <tr style=\"text-align: right;\">\n",
       "      <th></th>\n",
       "      <th>Usage Stats</th>\n",
       "      <th>Referral History</th>\n",
       "      <th>Customer Rank</th>\n",
       "      <th>target</th>\n",
       "    </tr>\n",
       "  </thead>\n",
       "  <tbody>\n",
       "    <tr>\n",
       "      <th>1205</th>\n",
       "      <td>1.975540</td>\n",
       "      <td>-2.200099</td>\n",
       "      <td>0.345623</td>\n",
       "      <td>1</td>\n",
       "    </tr>\n",
       "    <tr>\n",
       "      <th>1206</th>\n",
       "      <td>2.093416</td>\n",
       "      <td>-1.592133</td>\n",
       "      <td>-1.300825</td>\n",
       "      <td>0</td>\n",
       "    </tr>\n",
       "    <tr>\n",
       "      <th>1207</th>\n",
       "      <td>2.010334</td>\n",
       "      <td>-1.758225</td>\n",
       "      <td>-1.173162</td>\n",
       "      <td>0</td>\n",
       "    </tr>\n",
       "    <tr>\n",
       "      <th>1208</th>\n",
       "      <td>4.451947</td>\n",
       "      <td>-0.502815</td>\n",
       "      <td>-2.355020</td>\n",
       "      <td>0</td>\n",
       "    </tr>\n",
       "    <tr>\n",
       "      <th>1209</th>\n",
       "      <td>2.141445</td>\n",
       "      <td>-1.993869</td>\n",
       "      <td>-0.946396</td>\n",
       "      <td>0</td>\n",
       "    </tr>\n",
       "  </tbody>\n",
       "</table>\n",
       "</div>"
      ],
      "text/plain": [
       "      Usage Stats  Referral History  Customer Rank  target\n",
       "1205     1.975540         -2.200099       0.345623       1\n",
       "1206     2.093416         -1.592133      -1.300825       0\n",
       "1207     2.010334         -1.758225      -1.173162       0\n",
       "1208     4.451947         -0.502815      -2.355020       0\n",
       "1209     2.141445         -1.993869      -0.946396       0"
      ]
     },
     "metadata": {},
     "output_type": "display_data"
    }
   ],
   "source": [
    "# Read the usage_stats.csv file from the Resources folder into a Pandas DataFrame\n",
    "customer_df = pd.read_csv(Path(\"usage_stats.csv\"))\n",
    "# YOUR CODE HERE\n",
    "\n",
    "# Review the DataFrame\n",
    "# YOUR CODE HERE\n",
    "display(customer_df.head())\n",
    "display(customer_df.tail())"
   ]
  },
  {
   "cell_type": "code",
   "execution_count": 6,
   "metadata": {},
   "outputs": [
    {
     "data": {
      "text/plain": [
       "0    1089\n",
       "1     121\n",
       "Name: target, dtype: int64"
      ]
     },
     "execution_count": 6,
     "metadata": {},
     "output_type": "execute_result"
    }
   ],
   "source": [
    "# is the response (Y --> \"target\" column) balanced?\n",
    "customer_df[\"target\"].value_counts()"
   ]
  },
  {
   "cell_type": "code",
   "execution_count": null,
   "metadata": {},
   "outputs": [],
   "source": [
    "# no ... the above shows not a balanced response data set"
   ]
  },
  {
   "cell_type": "markdown",
   "metadata": {},
   "source": [
    "## Step 2: Split the data into X and y and then into testing and training sets."
   ]
  },
  {
   "cell_type": "code",
   "execution_count": 9,
   "metadata": {},
   "outputs": [
    {
     "data": {
      "text/html": [
       "<div>\n",
       "<style scoped>\n",
       "    .dataframe tbody tr th:only-of-type {\n",
       "        vertical-align: middle;\n",
       "    }\n",
       "\n",
       "    .dataframe tbody tr th {\n",
       "        vertical-align: top;\n",
       "    }\n",
       "\n",
       "    .dataframe thead th {\n",
       "        text-align: right;\n",
       "    }\n",
       "</style>\n",
       "<table border=\"1\" class=\"dataframe\">\n",
       "  <thead>\n",
       "    <tr style=\"text-align: right;\">\n",
       "      <th></th>\n",
       "      <th>Usage Stats</th>\n",
       "      <th>Referral History</th>\n",
       "      <th>Customer Rank</th>\n",
       "    </tr>\n",
       "  </thead>\n",
       "  <tbody>\n",
       "    <tr>\n",
       "      <th>0</th>\n",
       "      <td>1.054075</td>\n",
       "      <td>-2.010163</td>\n",
       "      <td>-0.918689</td>\n",
       "    </tr>\n",
       "    <tr>\n",
       "      <th>1</th>\n",
       "      <td>2.033251</td>\n",
       "      <td>-0.212776</td>\n",
       "      <td>-2.947451</td>\n",
       "    </tr>\n",
       "    <tr>\n",
       "      <th>2</th>\n",
       "      <td>1.049233</td>\n",
       "      <td>-2.239878</td>\n",
       "      <td>-0.777080</td>\n",
       "    </tr>\n",
       "    <tr>\n",
       "      <th>3</th>\n",
       "      <td>0.837035</td>\n",
       "      <td>-1.926558</td>\n",
       "      <td>-1.113686</td>\n",
       "    </tr>\n",
       "    <tr>\n",
       "      <th>4</th>\n",
       "      <td>1.193770</td>\n",
       "      <td>-1.550953</td>\n",
       "      <td>-1.539586</td>\n",
       "    </tr>\n",
       "    <tr>\n",
       "      <th>...</th>\n",
       "      <td>...</td>\n",
       "      <td>...</td>\n",
       "      <td>...</td>\n",
       "    </tr>\n",
       "    <tr>\n",
       "      <th>1205</th>\n",
       "      <td>1.975540</td>\n",
       "      <td>-2.200099</td>\n",
       "      <td>0.345623</td>\n",
       "    </tr>\n",
       "    <tr>\n",
       "      <th>1206</th>\n",
       "      <td>2.093416</td>\n",
       "      <td>-1.592133</td>\n",
       "      <td>-1.300825</td>\n",
       "    </tr>\n",
       "    <tr>\n",
       "      <th>1207</th>\n",
       "      <td>2.010334</td>\n",
       "      <td>-1.758225</td>\n",
       "      <td>-1.173162</td>\n",
       "    </tr>\n",
       "    <tr>\n",
       "      <th>1208</th>\n",
       "      <td>4.451947</td>\n",
       "      <td>-0.502815</td>\n",
       "      <td>-2.355020</td>\n",
       "    </tr>\n",
       "    <tr>\n",
       "      <th>1209</th>\n",
       "      <td>2.141445</td>\n",
       "      <td>-1.993869</td>\n",
       "      <td>-0.946396</td>\n",
       "    </tr>\n",
       "  </tbody>\n",
       "</table>\n",
       "<p>1210 rows × 3 columns</p>\n",
       "</div>"
      ],
      "text/plain": [
       "      Usage Stats  Referral History  Customer Rank\n",
       "0        1.054075         -2.010163      -0.918689\n",
       "1        2.033251         -0.212776      -2.947451\n",
       "2        1.049233         -2.239878      -0.777080\n",
       "3        0.837035         -1.926558      -1.113686\n",
       "4        1.193770         -1.550953      -1.539586\n",
       "...           ...               ...            ...\n",
       "1205     1.975540         -2.200099       0.345623\n",
       "1206     2.093416         -1.592133      -1.300825\n",
       "1207     2.010334         -1.758225      -1.173162\n",
       "1208     4.451947         -0.502815      -2.355020\n",
       "1209     2.141445         -1.993869      -0.946396\n",
       "\n",
       "[1210 rows x 3 columns]"
      ]
     },
     "execution_count": 9,
     "metadata": {},
     "output_type": "execute_result"
    }
   ],
   "source": [
    "# Split the data into X (features) and y (target)\n",
    "\n",
    "# The y variable should focus on the target column\n",
    "y = customer_df[\"target\"] \n",
    "# YOUR CODE HERE\n",
    "\n",
    "# The X variable should include all features except the target\n",
    "X = customer_df.drop(columns=[\"target\"])\n",
    "# YOUR CODE HERE\n",
    "X"
   ]
  },
  {
   "cell_type": "code",
   "execution_count": 10,
   "metadata": {},
   "outputs": [],
   "source": [
    "# Split into testing and training sets using train_test_split\n",
    "X_train, X_test, y_train, y_test = train_test_split(X,y)\n",
    "# YOUR CODE HERE\n"
   ]
  },
  {
   "cell_type": "markdown",
   "metadata": {},
   "source": [
    "## Step 3: Fit a logistic regression classifier."
   ]
  },
  {
   "cell_type": "code",
   "execution_count": 11,
   "metadata": {},
   "outputs": [],
   "source": [
    "# Declare a logistic regression model.\n",
    "# Apply a random_state of 9 to the model\n",
    "logistic_regression_model = LogisticRegression(random_state=9)\n",
    "# YOUR CODE HERE\n",
    "\n",
    "# Fit and save the logistic regression model using the training data\n",
    "lr_model = logistic_regression_model.fit(X_train, y_train)\n",
    "# YOUR CODE HERE\n"
   ]
  },
  {
   "cell_type": "markdown",
   "metadata": {},
   "source": [
    "## Step 4: Create the predicted values for the testing and the training data."
   ]
  },
  {
   "cell_type": "code",
   "execution_count": 13,
   "metadata": {},
   "outputs": [],
   "source": [
    "#Generate training predictions\n",
    "training_predictions = lr_model.predict(X_train)\n",
    "# YOUR CODE HERE\n",
    "\n",
    "#Generate testing predictions\n",
    "testing_predictions = lr_model.predict(X_test)\n",
    "# YOUR CODE HERE\n"
   ]
  },
  {
   "cell_type": "code",
   "execution_count": 14,
   "metadata": {},
   "outputs": [
    {
     "data": {
      "text/plain": [
       "0.9757442116868799"
      ]
     },
     "metadata": {},
     "output_type": "display_data"
    },
    {
     "data": {
      "text/plain": [
       "0.9702970297029703"
      ]
     },
     "metadata": {},
     "output_type": "display_data"
    }
   ],
   "source": [
    "train_score = lr_model.score(X_train, y_train)\n",
    "test_score = lr_model.score(X_test, y_test)\n",
    "display(train_score)\n",
    "display(test_score)"
   ]
  },
  {
   "cell_type": "markdown",
   "metadata": {},
   "source": [
    "## Step 5: Print a confusion matrix for the training data."
   ]
  },
  {
   "cell_type": "code",
   "execution_count": 16,
   "metadata": {},
   "outputs": [
    {
     "data": {
      "text/plain": [
       "array([[811,   7],\n",
       "       [ 15,  74]])"
      ]
     },
     "execution_count": 16,
     "metadata": {},
     "output_type": "execute_result"
    }
   ],
   "source": [
    "# Import the model for sklearn's confusion matrix\n",
    "from sklearn.metrics import confusion_matrix\n",
    "# YOUR CODE HERE\n",
    "\n",
    "# Create and save the confustion matrix for the training data\n",
    "training_matrix = confusion_matrix(y_train, training_predictions)\n",
    "# YOUR CODE HERE\n",
    "\n",
    "# Print the confusion matrix for the training data\n",
    "# YOUR CODE HERE\n",
    "training_matrix"
   ]
  },
  {
   "cell_type": "markdown",
   "metadata": {},
   "source": [
    "## Step 6: Pring a confusion matrix for the texting data."
   ]
  },
  {
   "cell_type": "code",
   "execution_count": 18,
   "metadata": {},
   "outputs": [
    {
     "data": {
      "text/plain": [
       "array([[267,   4],\n",
       "       [  5,  27]])"
      ]
     },
     "execution_count": 18,
     "metadata": {},
     "output_type": "execute_result"
    }
   ],
   "source": [
    "# Create and save the confustion matrix for the testing data\n",
    "test_matrix = confusion_matrix(y_test, testing_predictions)\n",
    "# YOUR CODE HERE\n",
    "\n",
    "# Print the confusion matrix for the testing data\n",
    "# YOUR CODE HERE\n",
    "test_matrix"
   ]
  },
  {
   "cell_type": "markdown",
   "metadata": {},
   "source": [
    "## Step 7: Print the training classification report."
   ]
  },
  {
   "cell_type": "code",
   "execution_count": 20,
   "metadata": {},
   "outputs": [
    {
     "name": "stdout",
     "output_type": "stream",
     "text": [
      "              precision    recall  f1-score   support\n",
      "\n",
      "           0       0.98      0.99      0.99       818\n",
      "           1       0.91      0.83      0.87        89\n",
      "\n",
      "    accuracy                           0.98       907\n",
      "   macro avg       0.95      0.91      0.93       907\n",
      "weighted avg       0.98      0.98      0.98       907\n",
      "\n"
     ]
    }
   ],
   "source": [
    "# Create and save the training classifiction report\n",
    "training_report = classification_report(y_train, training_predictions)\n",
    "# YOUR CODE HERE\n",
    "\n",
    "# Print the training classification report\n",
    "# YOUR CODE HERE\n",
    "print(training_report)"
   ]
  },
  {
   "cell_type": "markdown",
   "metadata": {},
   "source": [
    "## Step 8: Print the testing classification report."
   ]
  },
  {
   "cell_type": "code",
   "execution_count": 21,
   "metadata": {},
   "outputs": [
    {
     "name": "stdout",
     "output_type": "stream",
     "text": [
      "              precision    recall  f1-score   support\n",
      "\n",
      "           0       0.98      0.99      0.98       271\n",
      "           1       0.87      0.84      0.86        32\n",
      "\n",
      "    accuracy                           0.97       303\n",
      "   macro avg       0.93      0.91      0.92       303\n",
      "weighted avg       0.97      0.97      0.97       303\n",
      "\n"
     ]
    }
   ],
   "source": [
    "# Create and save the testing classifiction report\n",
    "testing_report = classification_report(y_test, testing_predictions)\n",
    "# YOUR CODE HERE\n",
    "\n",
    "# Print the testing classification report\n",
    "# YOUR CODE HERE\n",
    "print(testing_report)"
   ]
  },
  {
   "cell_type": "markdown",
   "metadata": {},
   "source": [
    "## Step 9: Answer the following question"
   ]
  },
  {
   "cell_type": "markdown",
   "metadata": {},
   "source": [
    "**Question:** How does the performance of the training and test dataset compare?\n",
    "\n",
    "**Sample Answer:** # YOUR ANSWER HERE "
   ]
  },
  {
   "cell_type": "markdown",
   "metadata": {},
   "source": [
    " "
   ]
  }
 ],
 "metadata": {
  "kernelspec": {
   "display_name": "Python 3 (ipykernel)",
   "language": "python",
   "name": "python3"
  },
  "language_info": {
   "codemirror_mode": {
    "name": "ipython",
    "version": 3
   },
   "file_extension": ".py",
   "mimetype": "text/x-python",
   "name": "python",
   "nbconvert_exporter": "python",
   "pygments_lexer": "ipython3",
   "version": "3.9.13"
  }
 },
 "nbformat": 4,
 "nbformat_minor": 4
}
