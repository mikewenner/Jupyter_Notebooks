{
 "cells": [
  {
   "cell_type": "code",
   "execution_count": 1,
   "id": "a9911282-b951-4d3e-abcd-c502ecee3d8e",
   "metadata": {},
   "outputs": [
    {
     "name": "stderr",
     "output_type": "stream",
     "text": [
      "2023-03-23 15:25:14.781973: I tensorflow/core/platform/cpu_feature_guard.cc:193] This TensorFlow binary is optimized with oneAPI Deep Neural Network Library (oneDNN) to use the following CPU instructions in performance-critical operations:  AVX2 FMA\n",
      "To enable them in other operations, rebuild TensorFlow with the appropriate compiler flags.\n"
     ]
    }
   ],
   "source": [
    "import pandas as pd\n",
    "import numpy as np\n",
    "from keras.models import Sequential\n",
    "from keras.layers import Dense, Activation"
   ]
  },
  {
   "cell_type": "code",
   "execution_count": 2,
   "id": "68cba6e2-5fba-43cd-a28f-03fafc753466",
   "metadata": {},
   "outputs": [
    {
     "data": {
      "text/html": [
       "<div>\n",
       "<style scoped>\n",
       "    .dataframe tbody tr th:only-of-type {\n",
       "        vertical-align: middle;\n",
       "    }\n",
       "\n",
       "    .dataframe tbody tr th {\n",
       "        vertical-align: top;\n",
       "    }\n",
       "\n",
       "    .dataframe thead th {\n",
       "        text-align: right;\n",
       "    }\n",
       "</style>\n",
       "<table border=\"1\" class=\"dataframe\">\n",
       "  <thead>\n",
       "    <tr style=\"text-align: right;\">\n",
       "      <th></th>\n",
       "      <th>EPS</th>\n",
       "      <th>forecasted_eps</th>\n",
       "      <th>noOfEsts</th>\n",
       "      <th>after_total_returns</th>\n",
       "      <th>before_total_returns</th>\n",
       "    </tr>\n",
       "  </thead>\n",
       "  <tbody>\n",
       "    <tr>\n",
       "      <th>0</th>\n",
       "      <td>2.01</td>\n",
       "      <td>1.67</td>\n",
       "      <td>11.0</td>\n",
       "      <td>0.051444</td>\n",
       "      <td>0.018585</td>\n",
       "    </tr>\n",
       "    <tr>\n",
       "      <th>1</th>\n",
       "      <td>0.17</td>\n",
       "      <td>0.19</td>\n",
       "      <td>6.0</td>\n",
       "      <td>0.112955</td>\n",
       "      <td>-0.000510</td>\n",
       "    </tr>\n",
       "    <tr>\n",
       "      <th>2</th>\n",
       "      <td>-0.07</td>\n",
       "      <td>0.14</td>\n",
       "      <td>4.0</td>\n",
       "      <td>0.077167</td>\n",
       "      <td>-0.046104</td>\n",
       "    </tr>\n",
       "    <tr>\n",
       "      <th>3</th>\n",
       "      <td>0.48</td>\n",
       "      <td>0.51</td>\n",
       "      <td>8.0</td>\n",
       "      <td>-0.006130</td>\n",
       "      <td>-0.004899</td>\n",
       "    </tr>\n",
       "    <tr>\n",
       "      <th>4</th>\n",
       "      <td>-0.24</td>\n",
       "      <td>-0.27</td>\n",
       "      <td>9.0</td>\n",
       "      <td>0.089762</td>\n",
       "      <td>-0.025466</td>\n",
       "    </tr>\n",
       "  </tbody>\n",
       "</table>\n",
       "</div>"
      ],
      "text/plain": [
       "    EPS  forecasted_eps  noOfEsts  after_total_returns  before_total_returns\n",
       "0  2.01            1.67      11.0             0.051444              0.018585\n",
       "1  0.17            0.19       6.0             0.112955             -0.000510\n",
       "2 -0.07            0.14       4.0             0.077167             -0.046104\n",
       "3  0.48            0.51       8.0            -0.006130             -0.004899\n",
       "4 -0.24           -0.27       9.0             0.089762             -0.025466"
      ]
     },
     "execution_count": 2,
     "metadata": {},
     "output_type": "execute_result"
    }
   ],
   "source": [
    "df = pd.read_csv('meet_or_beat.csv')\n",
    "df.head()"
   ]
  },
  {
   "cell_type": "code",
   "execution_count": 4,
   "id": "c4364d01-fda7-4e95-8d08-44bf870865a1",
   "metadata": {},
   "outputs": [
    {
     "data": {
      "text/plain": [
       "(71968, 5)"
      ]
     },
     "execution_count": 4,
     "metadata": {},
     "output_type": "execute_result"
    }
   ],
   "source": [
    "df.shape"
   ]
  },
  {
   "cell_type": "code",
   "execution_count": 5,
   "id": "f176e105-15b0-4cd1-946a-2a1a7e0f593b",
   "metadata": {},
   "outputs": [
    {
     "data": {
      "text/html": [
       "<div>\n",
       "<style scoped>\n",
       "    .dataframe tbody tr th:only-of-type {\n",
       "        vertical-align: middle;\n",
       "    }\n",
       "\n",
       "    .dataframe tbody tr th {\n",
       "        vertical-align: top;\n",
       "    }\n",
       "\n",
       "    .dataframe thead th {\n",
       "        text-align: right;\n",
       "    }\n",
       "</style>\n",
       "<table border=\"1\" class=\"dataframe\">\n",
       "  <thead>\n",
       "    <tr style=\"text-align: right;\">\n",
       "      <th></th>\n",
       "      <th>EPS</th>\n",
       "      <th>forecasted_eps</th>\n",
       "      <th>noOfEsts</th>\n",
       "      <th>after_total_returns</th>\n",
       "      <th>before_total_returns</th>\n",
       "      <th>earnings_outcome</th>\n",
       "    </tr>\n",
       "  </thead>\n",
       "  <tbody>\n",
       "    <tr>\n",
       "      <th>0</th>\n",
       "      <td>2.01</td>\n",
       "      <td>1.67</td>\n",
       "      <td>11.0</td>\n",
       "      <td>0.051444</td>\n",
       "      <td>0.018585</td>\n",
       "      <td>beat</td>\n",
       "    </tr>\n",
       "    <tr>\n",
       "      <th>1</th>\n",
       "      <td>0.17</td>\n",
       "      <td>0.19</td>\n",
       "      <td>6.0</td>\n",
       "      <td>0.112955</td>\n",
       "      <td>-0.000510</td>\n",
       "      <td>lose</td>\n",
       "    </tr>\n",
       "    <tr>\n",
       "      <th>2</th>\n",
       "      <td>-0.07</td>\n",
       "      <td>0.14</td>\n",
       "      <td>4.0</td>\n",
       "      <td>0.077167</td>\n",
       "      <td>-0.046104</td>\n",
       "      <td>lose</td>\n",
       "    </tr>\n",
       "    <tr>\n",
       "      <th>3</th>\n",
       "      <td>0.48</td>\n",
       "      <td>0.51</td>\n",
       "      <td>8.0</td>\n",
       "      <td>-0.006130</td>\n",
       "      <td>-0.004899</td>\n",
       "      <td>lose</td>\n",
       "    </tr>\n",
       "    <tr>\n",
       "      <th>4</th>\n",
       "      <td>-0.24</td>\n",
       "      <td>-0.27</td>\n",
       "      <td>9.0</td>\n",
       "      <td>0.089762</td>\n",
       "      <td>-0.025466</td>\n",
       "      <td>beat</td>\n",
       "    </tr>\n",
       "  </tbody>\n",
       "</table>\n",
       "</div>"
      ],
      "text/plain": [
       "    EPS  forecasted_eps  noOfEsts  after_total_returns  before_total_returns  \\\n",
       "0  2.01            1.67      11.0             0.051444              0.018585   \n",
       "1  0.17            0.19       6.0             0.112955             -0.000510   \n",
       "2 -0.07            0.14       4.0             0.077167             -0.046104   \n",
       "3  0.48            0.51       8.0            -0.006130             -0.004899   \n",
       "4 -0.24           -0.27       9.0             0.089762             -0.025466   \n",
       "\n",
       "  earnings_outcome  \n",
       "0             beat  \n",
       "1             lose  \n",
       "2             lose  \n",
       "3             lose  \n",
       "4             beat  "
      ]
     },
     "execution_count": 5,
     "metadata": {},
     "output_type": "execute_result"
    }
   ],
   "source": [
    "# Generate the categorical outcome variable\n",
    "df['earnings_outcome'] = np.nan\n",
    "df.loc[(df['EPS']==df['forecasted_eps']), 'earnings_outcome'] = 'meet'\n",
    "df.loc[(df['EPS']>df['forecasted_eps']), 'earnings_outcome'] = 'beat'\n",
    "df.loc[(df['EPS']<df['forecasted_eps']), 'earnings_outcome'] = 'lose'\n",
    "df.head()"
   ]
  },
  {
   "cell_type": "code",
   "execution_count": 6,
   "id": "a83da0d3-e440-4478-a7c7-21a8954c3166",
   "metadata": {},
   "outputs": [
    {
     "data": {
      "text/plain": [
       "array(['beat', 'lose', 'lose', ..., 'lose', 'beat', 'meet'], dtype=object)"
      ]
     },
     "execution_count": 6,
     "metadata": {},
     "output_type": "execute_result"
    }
   ],
   "source": [
    "# Preview the output variable \n",
    "y = df['earnings_outcome']\n",
    "y.values"
   ]
  },
  {
   "cell_type": "code",
   "execution_count": 7,
   "id": "6b61fb91-5e9f-4cb3-b4bf-2f2d4d2ba9e0",
   "metadata": {},
   "outputs": [
    {
     "data": {
      "text/plain": [
       "array([0, 1, 1, ..., 1, 0, 2])"
      ]
     },
     "execution_count": 7,
     "metadata": {},
     "output_type": "execute_result"
    }
   ],
   "source": [
    "# Encode earnings labels to integers\n",
    "from sklearn.preprocessing import LabelEncoder\n",
    "encoder = LabelEncoder()\n",
    "encoder.fit(y)\n",
    "encoded_y = encoder.transform(y)\n",
    "encoded_y"
   ]
  },
  {
   "cell_type": "code",
   "execution_count": 8,
   "id": "cbffbb3e-c935-4581-b905-45424cd6427b",
   "metadata": {},
   "outputs": [
    {
     "data": {
      "text/plain": [
       "3"
      ]
     },
     "execution_count": 8,
     "metadata": {},
     "output_type": "execute_result"
    }
   ],
   "source": [
    "# Save the unique number of labels for future use\n",
    "number_of_classes = len(list(y.drop_duplicates()))\n",
    "number_of_classes"
   ]
  },
  {
   "cell_type": "code",
   "execution_count": 9,
   "id": "eefa1e09-b892-4093-8ecd-56c86a3109a6",
   "metadata": {},
   "outputs": [
    {
     "data": {
      "text/plain": [
       "array([[1., 0., 0.],\n",
       "       [0., 1., 0.],\n",
       "       [0., 1., 0.],\n",
       "       ...,\n",
       "       [0., 1., 0.],\n",
       "       [1., 0., 0.],\n",
       "       [0., 0., 1.]], dtype=float32)"
      ]
     },
     "execution_count": 9,
     "metadata": {},
     "output_type": "execute_result"
    }
   ],
   "source": [
    "# Convert labeled integers to a Keras `categorical` data type\n",
    "from keras.utils.np_utils import to_categorical\n",
    "y_categorical = to_categorical(encoded_y, num_classes=number_of_classes)\n",
    "y_categorical"
   ]
  },
  {
   "cell_type": "code",
   "execution_count": 10,
   "id": "16d35c09-02e5-4ec2-87a1-55ff6a5973a7",
   "metadata": {},
   "outputs": [],
   "source": [
    "# above 0 maps to beat, 1 to lose, 2 to meet"
   ]
  },
  {
   "cell_type": "code",
   "execution_count": 12,
   "id": "196d5529-6f47-401e-a180-b7be6bbfa5d8",
   "metadata": {},
   "outputs": [
    {
     "data": {
      "text/html": [
       "<div>\n",
       "<style scoped>\n",
       "    .dataframe tbody tr th:only-of-type {\n",
       "        vertical-align: middle;\n",
       "    }\n",
       "\n",
       "    .dataframe tbody tr th {\n",
       "        vertical-align: top;\n",
       "    }\n",
       "\n",
       "    .dataframe thead th {\n",
       "        text-align: right;\n",
       "    }\n",
       "</style>\n",
       "<table border=\"1\" class=\"dataframe\">\n",
       "  <thead>\n",
       "    <tr style=\"text-align: right;\">\n",
       "      <th></th>\n",
       "      <th>forecasted_eps</th>\n",
       "      <th>before_total_returns</th>\n",
       "      <th>noOfEsts</th>\n",
       "    </tr>\n",
       "  </thead>\n",
       "  <tbody>\n",
       "    <tr>\n",
       "      <th>0</th>\n",
       "      <td>1.67</td>\n",
       "      <td>0.018585</td>\n",
       "      <td>11.0</td>\n",
       "    </tr>\n",
       "    <tr>\n",
       "      <th>1</th>\n",
       "      <td>0.19</td>\n",
       "      <td>-0.000510</td>\n",
       "      <td>6.0</td>\n",
       "    </tr>\n",
       "    <tr>\n",
       "      <th>2</th>\n",
       "      <td>0.14</td>\n",
       "      <td>-0.046104</td>\n",
       "      <td>4.0</td>\n",
       "    </tr>\n",
       "  </tbody>\n",
       "</table>\n",
       "</div>"
      ],
      "text/plain": [
       "   forecasted_eps  before_total_returns  noOfEsts\n",
       "0            1.67              0.018585      11.0\n",
       "1            0.19             -0.000510       6.0\n",
       "2            0.14             -0.046104       4.0"
      ]
     },
     "execution_count": 12,
     "metadata": {},
     "output_type": "execute_result"
    }
   ],
   "source": [
    "# Specify X (predictor) variables\n",
    "X = df[['forecasted_eps',\n",
    "              'before_total_returns','noOfEsts']]\n",
    "X.head(3)"
   ]
  },
  {
   "cell_type": "code",
   "execution_count": 13,
   "id": "3e433c16-429f-4e9c-8e66-7ee11826d6ae",
   "metadata": {},
   "outputs": [],
   "source": [
    "# Split into training and testing windows\n",
    "from sklearn.model_selection import train_test_split\n",
    "X_train, X_test, y_train, y_test = train_test_split(X, y_categorical, random_state=1)\n"
   ]
  },
  {
   "cell_type": "code",
   "execution_count": 16,
   "id": "b54c0b74-53ed-4dc8-a1db-d385a12cf76b",
   "metadata": {},
   "outputs": [
    {
     "data": {
      "text/html": [
       "<div>\n",
       "<style scoped>\n",
       "    .dataframe tbody tr th:only-of-type {\n",
       "        vertical-align: middle;\n",
       "    }\n",
       "\n",
       "    .dataframe tbody tr th {\n",
       "        vertical-align: top;\n",
       "    }\n",
       "\n",
       "    .dataframe thead th {\n",
       "        text-align: right;\n",
       "    }\n",
       "</style>\n",
       "<table border=\"1\" class=\"dataframe\">\n",
       "  <thead>\n",
       "    <tr style=\"text-align: right;\">\n",
       "      <th></th>\n",
       "      <th>0</th>\n",
       "      <th>1</th>\n",
       "      <th>2</th>\n",
       "    </tr>\n",
       "  </thead>\n",
       "  <tbody>\n",
       "    <tr>\n",
       "      <th>0</th>\n",
       "      <td>0.0</td>\n",
       "      <td>1.0</td>\n",
       "      <td>0.0</td>\n",
       "    </tr>\n",
       "    <tr>\n",
       "      <th>1</th>\n",
       "      <td>1.0</td>\n",
       "      <td>0.0</td>\n",
       "      <td>0.0</td>\n",
       "    </tr>\n",
       "    <tr>\n",
       "      <th>2</th>\n",
       "      <td>1.0</td>\n",
       "      <td>0.0</td>\n",
       "      <td>0.0</td>\n",
       "    </tr>\n",
       "    <tr>\n",
       "      <th>3</th>\n",
       "      <td>0.0</td>\n",
       "      <td>1.0</td>\n",
       "      <td>0.0</td>\n",
       "    </tr>\n",
       "    <tr>\n",
       "      <th>4</th>\n",
       "      <td>1.0</td>\n",
       "      <td>0.0</td>\n",
       "      <td>0.0</td>\n",
       "    </tr>\n",
       "  </tbody>\n",
       "</table>\n",
       "</div>"
      ],
      "text/plain": [
       "     0    1    2\n",
       "0  0.0  1.0  0.0\n",
       "1  1.0  0.0  0.0\n",
       "2  1.0  0.0  0.0\n",
       "3  0.0  1.0  0.0\n",
       "4  1.0  0.0  0.0"
      ]
     },
     "execution_count": 16,
     "metadata": {},
     "output_type": "execute_result"
    }
   ],
   "source": [
    "# Preview the encoded data we're trying to predict\n",
    "pd.DataFrame(y_train).head(5)"
   ]
  },
  {
   "cell_type": "code",
   "execution_count": 17,
   "id": "9251abce-dff8-4cd7-b0a9-69edcdc83fa0",
   "metadata": {},
   "outputs": [
    {
     "data": {
      "text/plain": [
       "0    32924.0\n",
       "1    16878.0\n",
       "2     4174.0\n",
       "dtype: float32"
      ]
     },
     "execution_count": 17,
     "metadata": {},
     "output_type": "execute_result"
    }
   ],
   "source": [
    "# Check for class balance\n",
    "pd.DataFrame(y_train).sum()"
   ]
  },
  {
   "cell_type": "code",
   "execution_count": 19,
   "id": "aa1753cd-cc70-4e60-9dff-ba146118e219",
   "metadata": {},
   "outputs": [],
   "source": [
    "# we have a big class imbalance!!!"
   ]
  },
  {
   "cell_type": "code",
   "execution_count": 18,
   "id": "a61e1b95-8e0f-4f54-bd38-d8bf6301cdd2",
   "metadata": {},
   "outputs": [
    {
     "data": {
      "text/plain": [
       "3"
      ]
     },
     "execution_count": 18,
     "metadata": {},
     "output_type": "execute_result"
    }
   ],
   "source": [
    "# Save the count of unique predictor variables for use in model\n",
    "number_of_predictors = len(X.columns)\n",
    "number_of_predictors"
   ]
  },
  {
   "cell_type": "code",
   "execution_count": 20,
   "id": "0abf2324-0590-48d1-bf94-ae8144d9305f",
   "metadata": {},
   "outputs": [
    {
     "name": "stderr",
     "output_type": "stream",
     "text": [
      "2023-03-23 15:49:06.761913: I tensorflow/core/platform/cpu_feature_guard.cc:193] This TensorFlow binary is optimized with oneAPI Deep Neural Network Library (oneDNN) to use the following CPU instructions in performance-critical operations:  AVX2 FMA\n",
      "To enable them in other operations, rebuild TensorFlow with the appropriate compiler flags.\n"
     ]
    }
   ],
   "source": [
    "# Build the neural network layers \n",
    "model = Sequential()\n",
    "model.add(Dense(9, input_dim=number_of_predictors, activation='relu'))\n",
    "model.add(Dense(6, activation='relu'))"
   ]
  },
  {
   "cell_type": "code",
   "execution_count": 21,
   "id": "73c83076-dab5-46fb-974d-d55b30903f4d",
   "metadata": {},
   "outputs": [],
   "source": [
    "# Add the final output layer\n",
    "# With the # of possible outputs equal to the number classes \n",
    "model.add(Dense(number_of_classes, activation='softmax'))"
   ]
  },
  {
   "cell_type": "code",
   "execution_count": 22,
   "id": "1a9c6dc8-dba7-488f-a668-1c642c2350d3",
   "metadata": {},
   "outputs": [],
   "source": [
    "# Compile the model (with multi-class specific parameters)\n",
    "model.compile(loss=\"categorical_crossentropy\", \n",
    "              optimizer= \"adam\", \n",
    "              metrics=['categorical_accuracy'])"
   ]
  },
  {
   "cell_type": "code",
   "execution_count": 23,
   "id": "2500aeeb-a426-4508-a32d-27314f5f6210",
   "metadata": {},
   "outputs": [
    {
     "name": "stdout",
     "output_type": "stream",
     "text": [
      "Model: \"sequential\"\n",
      "_________________________________________________________________\n",
      " Layer (type)                Output Shape              Param #   \n",
      "=================================================================\n",
      " dense (Dense)               (None, 9)                 36        \n",
      "                                                                 \n",
      " dense_1 (Dense)             (None, 6)                 60        \n",
      "                                                                 \n",
      " dense_2 (Dense)             (None, 3)                 21        \n",
      "                                                                 \n",
      "=================================================================\n",
      "Total params: 117\n",
      "Trainable params: 117\n",
      "Non-trainable params: 0\n",
      "_________________________________________________________________\n"
     ]
    }
   ],
   "source": [
    "# Summarise the structure of the model\n",
    "model.summary()"
   ]
  },
  {
   "cell_type": "code",
   "execution_count": 24,
   "id": "188a376e-98e6-4e93-946e-b7672f59d4c7",
   "metadata": {},
   "outputs": [
    {
     "name": "stdout",
     "output_type": "stream",
     "text": [
      "Epoch 1/20\n",
      "54/54 [==============================] - 1s 1ms/step - loss: 1.5702 - categorical_accuracy: 0.1020\n",
      "Epoch 2/20\n",
      "54/54 [==============================] - 0s 997us/step - loss: 1.0397 - categorical_accuracy: 0.4962\n",
      "Epoch 3/20\n",
      "54/54 [==============================] - 0s 1ms/step - loss: 0.9107 - categorical_accuracy: 0.6061\n",
      "Epoch 4/20\n",
      "54/54 [==============================] - 0s 1ms/step - loss: 0.8905 - categorical_accuracy: 0.6090\n",
      "Epoch 5/20\n",
      "54/54 [==============================] - 0s 1ms/step - loss: 0.8825 - categorical_accuracy: 0.6095\n",
      "Epoch 6/20\n",
      "54/54 [==============================] - 0s 1ms/step - loss: 0.8768 - categorical_accuracy: 0.6098\n",
      "Epoch 7/20\n",
      "54/54 [==============================] - 0s 1ms/step - loss: 0.8723 - categorical_accuracy: 0.6100\n",
      "Epoch 8/20\n",
      "54/54 [==============================] - 0s 1ms/step - loss: 0.8689 - categorical_accuracy: 0.6100\n",
      "Epoch 9/20\n",
      "54/54 [==============================] - 0s 942us/step - loss: 0.8656 - categorical_accuracy: 0.6100\n",
      "Epoch 10/20\n",
      "54/54 [==============================] - 0s 955us/step - loss: 0.8634 - categorical_accuracy: 0.6099\n",
      "Epoch 11/20\n",
      "54/54 [==============================] - 0s 901us/step - loss: 0.8597 - categorical_accuracy: 0.6100\n",
      "Epoch 12/20\n",
      "54/54 [==============================] - 0s 984us/step - loss: 0.8553 - categorical_accuracy: 0.6098\n",
      "Epoch 13/20\n",
      "54/54 [==============================] - 0s 959us/step - loss: 0.8514 - categorical_accuracy: 0.6092\n",
      "Epoch 14/20\n",
      "54/54 [==============================] - 0s 949us/step - loss: 0.8489 - categorical_accuracy: 0.6086\n",
      "Epoch 15/20\n",
      "54/54 [==============================] - 0s 956us/step - loss: 0.8469 - categorical_accuracy: 0.6079\n",
      "Epoch 16/20\n",
      "54/54 [==============================] - 0s 1ms/step - loss: 0.8459 - categorical_accuracy: 0.6070\n",
      "Epoch 17/20\n",
      "54/54 [==============================] - 0s 1ms/step - loss: 0.8449 - categorical_accuracy: 0.6067\n",
      "Epoch 18/20\n",
      "54/54 [==============================] - 0s 937us/step - loss: 0.8440 - categorical_accuracy: 0.6060\n",
      "Epoch 19/20\n",
      "54/54 [==============================] - 0s 868us/step - loss: 0.8438 - categorical_accuracy: 0.6059\n",
      "Epoch 20/20\n",
      "54/54 [==============================] - 0s 868us/step - loss: 0.8432 - categorical_accuracy: 0.6059\n"
     ]
    },
    {
     "data": {
      "text/plain": [
       "<keras.callbacks.History at 0x7fddf92f3d60>"
      ]
     },
     "execution_count": 24,
     "metadata": {},
     "output_type": "execute_result"
    }
   ],
   "source": [
    "# Fit the model\n",
    "model.fit(X_train,y_train, \n",
    "                    epochs=20,\n",
    "                    batch_size=1000,\n",
    "                    shuffle=True)"
   ]
  },
  {
   "cell_type": "code",
   "execution_count": 25,
   "id": "1788550e-22b6-4eaf-97b5-16fda4b9ddf1",
   "metadata": {},
   "outputs": [
    {
     "name": "stdout",
     "output_type": "stream",
     "text": [
      "563/563 - 0s - loss: 0.8413 - categorical_accuracy: 0.6113 - 437ms/epoch - 775us/step\n"
     ]
    },
    {
     "data": {
      "text/plain": [
       "[0.8412684798240662, 0.6112716794013977]"
      ]
     },
     "execution_count": 25,
     "metadata": {},
     "output_type": "execute_result"
    }
   ],
   "source": [
    "# Evaluate model on the test data\n",
    "model.evaluate(X_test,y_test, verbose=2)"
   ]
  },
  {
   "cell_type": "code",
   "execution_count": 26,
   "id": "1c7e1a40-4ee5-447b-a187-a5bfbda06483",
   "metadata": {},
   "outputs": [
    {
     "name": "stdout",
     "output_type": "stream",
     "text": [
      "563/563 [==============================] - 0s 586us/step\n"
     ]
    },
    {
     "data": {
      "text/plain": [
       "array([[0.5796911 , 0.31852967, 0.1017793 ],\n",
       "       [0.7820684 , 0.16301823, 0.05491337],\n",
       "       [0.57874095, 0.34979826, 0.07146071],\n",
       "       ...,\n",
       "       [0.6419835 , 0.2769918 , 0.08102465],\n",
       "       [0.57769614, 0.33771816, 0.08458575],\n",
       "       [0.5279991 , 0.39959583, 0.072405  ]], dtype=float32)"
      ]
     },
     "execution_count": 26,
     "metadata": {},
     "output_type": "execute_result"
    }
   ],
   "source": [
    "# Save predictions on the test data\n",
    "# this displays probabilities for each possible outcome for each row\n",
    "predictions = model.predict(X_test)\n",
    "predictions"
   ]
  },
  {
   "cell_type": "code",
   "execution_count": 27,
   "id": "19d9582d-097c-48ae-833d-62ffbab8e212",
   "metadata": {},
   "outputs": [
    {
     "data": {
      "text/plain": [
       "array([0, 0, 0, ..., 0, 0, 0])"
      ]
     },
     "execution_count": 27,
     "metadata": {},
     "output_type": "execute_result"
    }
   ],
   "source": [
    "# Get the most likely prediction for each observation\n",
    "# argmax takes the highest value in each row of the above predictions\n",
    "most_likely = np.argmax(predictions, axis=1)\n",
    "most_likely"
   ]
  },
  {
   "cell_type": "code",
   "execution_count": 28,
   "id": "5b33a0c7-06b8-4913-9ac4-93fb0794b1ff",
   "metadata": {},
   "outputs": [
    {
     "data": {
      "text/plain": [
       "0    17440\n",
       "1      552\n",
       "dtype: int64"
      ]
     },
     "execution_count": 28,
     "metadata": {},
     "output_type": "execute_result"
    }
   ],
   "source": [
    "# Evaluate prediction balance\n",
    "pd.DataFrame(most_likely).value_counts()"
   ]
  },
  {
   "cell_type": "code",
   "execution_count": null,
   "id": "ba93cf78-af49-4d98-8f67-4c7f03166ae7",
   "metadata": {},
   "outputs": [],
   "source": []
  }
 ],
 "metadata": {
  "kernelspec": {
   "display_name": "Python 3 (ipykernel)",
   "language": "python",
   "name": "python3"
  },
  "language_info": {
   "codemirror_mode": {
    "name": "ipython",
    "version": 3
   },
   "file_extension": ".py",
   "mimetype": "text/x-python",
   "name": "python",
   "nbconvert_exporter": "python",
   "pygments_lexer": "ipython3",
   "version": "3.9.13"
  }
 },
 "nbformat": 4,
 "nbformat_minor": 5
}
