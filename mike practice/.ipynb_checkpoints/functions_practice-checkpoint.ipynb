{
 "cells": [
  {
   "cell_type": "code",
   "execution_count": 1,
   "id": "a0e80dc9-f6ad-4c79-8a0a-1a62502f7466",
   "metadata": {},
   "outputs": [],
   "source": [
    "# Declare a variable beginning_balance as a float\n",
    "beginning_balance = 29000.00\n",
    "\n",
    "# Declare a variable ending_balance as float\n",
    "ending_balance = 45000.10\n",
    "\n",
    "# Declare a variable years as an float\n",
    "years = 1.0\n"
   ]
  },
  {
   "cell_type": "code",
   "execution_count": 7,
   "id": "71a25a9c-69eb-4fae-904a-b6a5f81a3688",
   "metadata": {},
   "outputs": [],
   "source": [
    "# Define a function called calculate_compound_growth_rate with three arguments: \n",
    "#beginning_balance, ending_balance, years. Function should output growth_rate.\n",
    "\n",
    "def calculate_compound_growth_rate(beginning_balance, ending_balance, years):\n",
    "    growth_rate = (ending_balance / beginning_balance)**(1/years) - 1\n",
    "    return growth_rate"
   ]
  },
  {
   "cell_type": "code",
   "execution_count": 8,
   "id": "eafda5d0-d74f-4753-851b-b3e01f37fa4b",
   "metadata": {},
   "outputs": [],
   "source": [
    "# Call calculate_compound_growth_rate using beginning_balance, ending_balance, and years. \n",
    "# Capture as year_one_growth.\n",
    "\n",
    "year_one_growth = calculate_compound_growth_rate(beginning_balance, ending_balance, years)"
   ]
  },
  {
   "cell_type": "code",
   "execution_count": 9,
   "id": "12068f78-cfec-4c59-b8ce-3ab5cd9f175c",
   "metadata": {},
   "outputs": [],
   "source": [
    "# Update beginning_balance and ending balance for year two, and then \n",
    "#execute calculate_compound_growth_rate and capture as year_two_growth.\n",
    "\n",
    "beginning_balance = 45000.10\n",
    "ending_balance = 47000.00\n",
    "year_two_growth = calculate_compound_growth_rate(beginning_balance, ending_balance, years)"
   ]
  },
  {
   "cell_type": "code",
   "execution_count": 10,
   "id": "adcdc5c3-0b2d-4359-9b50-9c16cac57644",
   "metadata": {},
   "outputs": [],
   "source": [
    "# Update beginning_balance and ending balance for year three, and then \n",
    "#execute calculate_compound_growth_rate and capture as year_three_growth.\n",
    "\n",
    "beginning_balance = 47000.00\n",
    "ending_balance = 48930.00\n",
    "year_three_growth = calculate_compound_growth_rate(beginning_balance, ending_balance, years)"
   ]
  },
  {
   "cell_type": "code",
   "execution_count": 11,
   "id": "a814bf39-aa60-48ef-8903-0adb551311c9",
   "metadata": {},
   "outputs": [],
   "source": [
    "# Use round function to round variables\n",
    "year_one_growth_rnd = round(year_one_growth,2)\n",
    "year_two_growth_rnd = round(year_two_growth,2)\n",
    "year_three_growth_rnd = round(year_three_growth,2)"
   ]
  },
  {
   "cell_type": "code",
   "execution_count": 12,
   "id": "fa97618d-06c7-4ee7-9cc4-a7b9351fe7b7",
   "metadata": {},
   "outputs": [
    {
     "name": "stdout",
     "output_type": "stream",
     "text": [
      "Compound Annual Growth Rate for 2016: 0.55%\n",
      "Compound Annual Growth Rate for 2016: 0.04%\n",
      "Compound Annual Growth Rate for 2016: 0.04%\n"
     ]
    }
   ],
   "source": [
    "print(f\"Compound Annual Growth Rate for 2016: {year_one_growth_rnd}%\")\n",
    "print(f\"Compound Annual Growth Rate for 2016: {year_two_growth_rnd}%\")\n",
    "print(f\"Compound Annual Growth Rate for 2016: {year_three_growth_rnd}%\")"
   ]
  },
  {
   "cell_type": "code",
   "execution_count": null,
   "id": "5b292c75-ca0b-4874-8015-d1b069edb81e",
   "metadata": {},
   "outputs": [],
   "source": []
  }
 ],
 "metadata": {
  "kernelspec": {
   "display_name": "Python 3 (ipykernel)",
   "language": "python",
   "name": "python3"
  },
  "language_info": {
   "codemirror_mode": {
    "name": "ipython",
    "version": 3
   },
   "file_extension": ".py",
   "mimetype": "text/x-python",
   "name": "python",
   "nbconvert_exporter": "python",
   "pygments_lexer": "ipython3",
   "version": "3.7.13"
  }
 },
 "nbformat": 4,
 "nbformat_minor": 5
}
