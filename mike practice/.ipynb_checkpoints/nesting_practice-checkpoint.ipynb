{
 "cells": [
  {
   "cell_type": "code",
   "execution_count": 6,
   "id": "f787e16c-381c-4ec4-b60a-65d9201621e7",
   "metadata": {},
   "outputs": [],
   "source": [
    "# Dictionary of List of Lists\n",
    "# Key: Stock Ticker | Value: List of Records\n",
    "# Record: Date, Open, High, Low, Close\n",
    "historical_stock_data = {\n",
    "    \"AAPL\": [\n",
    "        [\"04-17-2019\", 199.54, 203.38, 198.61, 203.13],\n",
    "        [\"04-18-2019\", 199.46, 201.37, 198.56, 199.25],\n",
    "        [\"04-19-2019\", 198.58, 199.85, 198.01, 199.23],\n",
    "        [\"04-20-2019\", 199.20, 200.14, 196.21, 198.87],\n",
    "\n",
    "    ],\n",
    "    \"MU\": [\n",
    "        [\"04-17-2019\", 43.20, 43.53, 42.79, 43.40],\n",
    "        [\"04-18-2019\", 43.36, 44.05, 42.76, 43.15],\n",
    "        [\"04-19-2019\", 42.26, 42.93, 42.08, 42.76],\n",
    "        [\"04-20-2019\", 42.17, 42.23, 41.20, 41.82],\n",
    "\n",
    "    ],\n",
    "    \"AMD\": [\n",
    "        [\"04-17-2019\", 27.60, 27.88, 27.34, 27.68],\n",
    "        [\"04-18-2019\", 28.21, 28.27, 27.22, 27.49],\n",
    "        [\"04-19-2019\", 27.72, 28.18, 27.49, 27.93],\n",
    "        [\"04-20-2019\", 27.80, 27.84, 26.96, 27.33],\n",
    "\n",
    "    ],\n",
    "    \"TWTR\": [\n",
    "        [\"04-17-2019\", 34.67, 34.86, 34.32, 34.40],\n",
    "        [\"04-18-2019\", 34.73, 34.90, 34.20, 34.48],\n",
    "        [\"04-19-2019\", 34.84, 34.99, 34.23, 34.46],\n",
    "        [\"04-20-2019\", 34.38, 35.03, 34.34, 34.71],\n",
    "\n",
    "    ]\n",
    "}\n",
    "\n",
    "# Dictionary of Dictionary\n",
    "# Key: Stock Ticker | Value: Dictionary\n",
    "new_records = {\n",
    "    \"AAPL\": {\n",
    "        \"date\": \"04-21-2019\",\n",
    "        \"open\": 200.85,\n",
    "        \"high\": 201.00,\n",
    "        \"low\": 198.44,\n",
    "        \"close\": 198.95\n",
    "    },\n",
    "    \"MU\": {\n",
    "        \"date\": \"04-21-2019\",\n",
    "        \"open\": 42.85,\n",
    "        \"high\": 43.20,\n",
    "        \"low\": 41.81,\n",
    "        \"close\": 42.01\n",
    "    },\n",
    "    \"AMD\": {\n",
    "        \"date\": \"04-21-2019\",\n",
    "        \"open\": 28.21,\n",
    "        \"high\": 28.38,\n",
    "        \"low\": 27.66,\n",
    "        \"close\": 27.85\n",
    "    },\n",
    "    \"TWTR\": {\n",
    "        \"date\": \"04-21-2019\",\n",
    "        \"open\": 34.67,\n",
    "        \"high\": 34.83,\n",
    "        \"low\": 34.11,\n",
    "        \"close\": 34.37\n",
    "    }\n",
    "}\n"
   ]
  },
  {
   "cell_type": "code",
   "execution_count": 35,
   "id": "cab9918f-4099-4925-9411-6bbac83b4217",
   "metadata": {},
   "outputs": [],
   "source": [
    "# Set each ticker's new record: date, open, high, low, close\n",
    "new_aapl_record = [new_records[\"AAPL\"][\"date\"], new_records[\"AAPL\"][\"open\"], new_records[\"AAPL\"][\"high\"], new_records[\"AAPL\"][\"low\"], new_records[\"AAPL\"][\"close\"]]\n",
    "new_mu_record = [new_records[\"MU\"][\"date\"], new_records[\"MU\"][\"open\"], new_records[\"MU\"][\"high\"], new_records[\"MU\"][\"low\"],new_records[\"MU\"][\"close\"]]\n",
    "new_amd_record = [new_records[\"AMD\"][\"date\"], new_records[\"AMD\"][\"open\"], new_records[\"AMD\"][\"high\"], new_records[\"AMD\"][\"low\"], new_records[\"AMD\"][\"close\"]]\n",
    "new_twtr_record = [new_records[\"TWTR\"][\"date\"], new_records[\"TWTR\"][\"open\"], new_records[\"TWTR\"][\"high\"], new_records[\"TWTR\"][\"low\"], new_records[\"TWTR\"][\"close\"]]"
   ]
  },
  {
   "cell_type": "code",
   "execution_count": 28,
   "id": "810b23b9-2c79-4c94-add7-0abd8e3e9408",
   "metadata": {},
   "outputs": [],
   "source": [
    "#print(new_mu_record)"
   ]
  },
  {
   "cell_type": "code",
   "execution_count": 33,
   "id": "db85b618-7b54-40d3-a04a-9595683da6f0",
   "metadata": {},
   "outputs": [],
   "source": [
    "# Choice 1: Add a new round of entries to the 'historical_stock_data' dictionary\n",
    "historical_stock_data[\"AAPL\"].append(new_aapl_record)\n",
    "historical_stock_data[\"MU\"].append(new_mu_record)\n",
    "#historical_stock_data[\"AMD\"].append(new_amd_record)\n",
    "#historical_stock_data[\"TWTR\"].append(new_twtr_record)"
   ]
  },
  {
   "cell_type": "code",
   "execution_count": null,
   "id": "81bcee8e-22f3-4963-b996-ea063d6d70de",
   "metadata": {},
   "outputs": [],
   "source": [
    "# Choice 2: Add a new round of entries via for loop to the 'historical_stock_data' dictionary\n",
    "for ticker, ticker_data in new_records.items():\n",
    "    #set new record to be added in list format\n",
    "    record = []\n",
    "    "
   ]
  }
 ],
 "metadata": {
  "kernelspec": {
   "display_name": "Python 3 (ipykernel)",
   "language": "python",
   "name": "python3"
  },
  "language_info": {
   "codemirror_mode": {
    "name": "ipython",
    "version": 3
   },
   "file_extension": ".py",
   "mimetype": "text/x-python",
   "name": "python",
   "nbconvert_exporter": "python",
   "pygments_lexer": "ipython3",
   "version": "3.7.13"
  }
 },
 "nbformat": 4,
 "nbformat_minor": 5
}
