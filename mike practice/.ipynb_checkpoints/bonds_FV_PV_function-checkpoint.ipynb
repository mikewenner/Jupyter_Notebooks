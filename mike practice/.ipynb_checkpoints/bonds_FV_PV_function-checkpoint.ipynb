{
 "cells": [
  {
   "cell_type": "code",
   "execution_count": 1,
   "id": "de0b19c8-8aca-465f-9b3e-d68cd5761411",
   "metadata": {},
   "outputs": [],
   "source": [
    "#Zero-Coupon Bond Valuation.\n",
    "#This script will calculate the present value of zero-coupon bonds, \n",
    "#compare the present value to the price of the bond, \n",
    "#and determine the corresponding action (buy, not buy, neutral).\n",
    "\n",
    "#equation: present_value = future_value / ((1 + (discount_rate / compounding_periods)) ** (compounding_periods * years))\n",
    "#equation: future_value = present_value * ((1 + (interest_rate / compounding_periods))**(compounding_periods * years))\n",
    "\n",
    "def calculate_present_value(future_value, discount_rate, compounding_periods, years):\n",
    "    \n",
    "    present_value = future_value / ((1 + (discount_rate / compounding_periods)) ** (compounding_periods * years))\n",
    "    present_value_formatted = round(present_value, 2)\n",
    "    return present_value_formatted"
   ]
  },
  {
   "cell_type": "code",
   "execution_count": 2,
   "id": "6bf58be0-bcd3-45f5-8d09-3606d9b5e67e",
   "metadata": {},
   "outputs": [],
   "source": [
    "# Initialize the zero-coupon bond parameters, assume compounding period is equal to 1\n",
    "price = 700\n",
    "future_value = 1000\n",
    "discount_rate = 0.1\n",
    "compounding_periods = 1\n",
    "years = 5"
   ]
  },
  {
   "cell_type": "code",
   "execution_count": 3,
   "id": "7c332341-3c1e-4772-819d-5bd583577bbf",
   "metadata": {},
   "outputs": [
    {
     "name": "stdout",
     "output_type": "stream",
     "text": [
      "620.92\n"
     ]
    }
   ],
   "source": [
    "bond_value = calculate_present_value(future_value, discount_rate, compounding_periods, years)\n",
    "print(bond_value)"
   ]
  },
  {
   "cell_type": "code",
   "execution_count": 4,
   "id": "f3e1cf33-def0-4460-9def-e5528b84b259",
   "metadata": {},
   "outputs": [
    {
     "name": "stdout",
     "output_type": "stream",
     "text": [
      "The bond is selling at a price of $700 and is valued at $620.92.\n",
      "A premium of 79.08 exists, therefore you do not want to buy the bond.\n"
     ]
    }
   ],
   "source": [
    "# Determine if the bond is worth it Compare the bond_value to its price & define discount or premium\n",
    "# If the bond is selling at a discount, purchase the bond.\n",
    "# Else if the bond is selling at a premium, do not purchase the bond.\n",
    "# Else the bond is selling at its fair market value, you're neutral to the decision.\n",
    "\n",
    "if price < bond_value:\n",
    "    discount = round(bond_value - price, 2)\n",
    "    print(f\"The bond is selling at a price of ${price} and is valued at ${bond_value}.\")\n",
    "    print(f\"A discount of {discount} exists, therefore you want to buy the bond.\")\n",
    "elif price > bond_value:\n",
    "    premium = round(price - bond_value, 2)\n",
    "    print(f\"The bond is selling at a price of ${price} and is valued at ${bond_value}.\")\n",
    "    print(f\"A premium of {premium} exists, therefore you do not want to buy the bond.\")\n",
    "else:\n",
    "    print(f\"the bond is trading at a price of {price}, which is par.\")"
   ]
  },
  {
   "cell_type": "code",
   "execution_count": null,
   "id": "60d180bd-63d2-489e-b2a3-4d90a72f807b",
   "metadata": {},
   "outputs": [],
   "source": []
  }
 ],
 "metadata": {
  "kernelspec": {
   "display_name": "Python 3 (ipykernel)",
   "language": "python",
   "name": "python3"
  },
  "language_info": {
   "codemirror_mode": {
    "name": "ipython",
    "version": 3
   },
   "file_extension": ".py",
   "mimetype": "text/x-python",
   "name": "python",
   "nbconvert_exporter": "python",
   "pygments_lexer": "ipython3",
   "version": "3.7.13"
  }
 },
 "nbformat": 4,
 "nbformat_minor": 5
}
