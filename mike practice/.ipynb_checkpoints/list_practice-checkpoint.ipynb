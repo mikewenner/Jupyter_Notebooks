{
 "cells": [
  {
   "cell_type": "code",
   "execution_count": 1,
   "id": "f14b4235-c072-4f7f-92e3-3885fcf79453",
   "metadata": {},
   "outputs": [],
   "source": [
    "groceries = [\"water\", \"butter\", \"eggs\", \"apples\", \"cinnamon\", \"sugar\", \"milk\"]"
   ]
  },
  {
   "cell_type": "code",
   "execution_count": 2,
   "id": "4ae74bf8-e1c0-410a-bbbd-1a2052d70e4a",
   "metadata": {},
   "outputs": [
    {
     "name": "stdout",
     "output_type": "stream",
     "text": [
      "['water', 'butter']\n"
     ]
    }
   ],
   "source": [
    "# @TODO: Find the first two items on the list\n",
    "print(groceries[:2])"
   ]
  },
  {
   "cell_type": "code",
   "execution_count": 3,
   "id": "aafcfd54-3a23-479f-8a10-aa52b1be34ce",
   "metadata": {},
   "outputs": [
    {
     "name": "stdout",
     "output_type": "stream",
     "text": [
      "['eggs', 'apples', 'cinnamon', 'sugar', 'milk']\n"
     ]
    }
   ],
   "source": [
    "# @TODO: Find the last five items on the list\n",
    "print(groceries[2:])"
   ]
  },
  {
   "cell_type": "code",
   "execution_count": 4,
   "id": "80ed930a-5098-4e48-b0dd-0dcc5f4e2f82",
   "metadata": {},
   "outputs": [
    {
     "name": "stdout",
     "output_type": "stream",
     "text": [
      "['water', 'eggs', 'cinnamon', 'milk']\n"
     ]
    }
   ],
   "source": [
    "# @TODO: Find every other item on the list, starting from the second item\n",
    "print(groceries[::2])"
   ]
  },
  {
   "cell_type": "code",
   "execution_count": 5,
   "id": "b3e5d9ba-065f-48a0-9b16-ddf2bd020e1d",
   "metadata": {},
   "outputs": [
    {
     "name": "stdout",
     "output_type": "stream",
     "text": [
      "['water', 'butter', 'eggs', 'apples', 'cinnamon', 'sugar', 'milk', 'flour']\n"
     ]
    }
   ],
   "source": [
    "# @TODO: Add an element to the end of the list\n",
    "groceries.append(\"flour\")\n",
    "print(groceries)"
   ]
  },
  {
   "cell_type": "code",
   "execution_count": 7,
   "id": "39fc3787-6869-4f80-afb8-2e634813796d",
   "metadata": {},
   "outputs": [
    {
     "name": "stdout",
     "output_type": "stream",
     "text": [
      "['water', 'butter', 'eggs', 'gala apples', 'cinnamon', 'sugar', 'milk', 'flour']\n"
     ]
    }
   ],
   "source": [
    "#Change apples to gala apples\n",
    "groceries[3] = \"gala apples\"\n",
    "print(groceries)"
   ]
  },
  {
   "cell_type": "code",
   "execution_count": 8,
   "id": "fd845dfe-e429-4af4-b6d3-fd9b58aaf3cb",
   "metadata": {},
   "outputs": [
    {
     "name": "stdout",
     "output_type": "stream",
     "text": [
      "8\n"
     ]
    }
   ],
   "source": [
    "#Determine the total number of items on the grocery list.\n",
    "print(len(groceries))"
   ]
  },
  {
   "cell_type": "code",
   "execution_count": 11,
   "id": "2b578cc0-ce4b-4b08-947f-43b79fe09642",
   "metadata": {},
   "outputs": [
    {
     "name": "stdout",
     "output_type": "stream",
     "text": [
      "3\n"
     ]
    }
   ],
   "source": [
    "#Find the index of gala apples.\n",
    "print(groceries.index(\"gala apples\"))"
   ]
  },
  {
   "cell_type": "code",
   "execution_count": 13,
   "id": "cc45cebf-cbe4-4823-b069-164fb5f58848",
   "metadata": {},
   "outputs": [
    {
     "name": "stdout",
     "output_type": "stream",
     "text": [
      "['water', 'butter', 'eggs', 'gala apples', 'cinnamon', 'milk', 'flour']\n"
     ]
    }
   ],
   "source": [
    "#Remove sugar from the grocery list.\n",
    "groceries.remove(\"sugar\")\n",
    "print(groceries)"
   ]
  },
  {
   "cell_type": "code",
   "execution_count": 14,
   "id": "6f0c8a5c-e050-4c2e-ad02-449212955c21",
   "metadata": {},
   "outputs": [
    {
     "name": "stdout",
     "output_type": "stream",
     "text": [
      "['butter', 'eggs', 'gala apples', 'cinnamon', 'milk', 'flour']\n"
     ]
    }
   ],
   "source": [
    "#Remove water from the grocery list based on its index\n",
    "groceries.pop(0)\n",
    "print(groceries)"
   ]
  },
  {
   "cell_type": "code",
   "execution_count": 15,
   "id": "33725ed3-db96-42e4-a2e0-ffe43599b600",
   "metadata": {},
   "outputs": [
    {
     "name": "stdout",
     "output_type": "stream",
     "text": [
      "['butter', 'eggs', 'gala apples', 'cinnamon', 'milk']\n"
     ]
    }
   ],
   "source": [
    "#remove the last item from the grocery list.\n",
    "groceries.pop(-1)\n",
    "print(groceries)"
   ]
  },
  {
   "cell_type": "code",
   "execution_count": null,
   "id": "02bec573-65e0-4722-9a94-7979e4285974",
   "metadata": {},
   "outputs": [],
   "source": []
  }
 ],
 "metadata": {
  "kernelspec": {
   "display_name": "Python 3 (ipykernel)",
   "language": "python",
   "name": "python3"
  },
  "language_info": {
   "codemirror_mode": {
    "name": "ipython",
    "version": 3
   },
   "file_extension": ".py",
   "mimetype": "text/x-python",
   "name": "python",
   "nbconvert_exporter": "python",
   "pygments_lexer": "ipython3",
   "version": "3.7.13"
  }
 },
 "nbformat": 4,
 "nbformat_minor": 5
}
