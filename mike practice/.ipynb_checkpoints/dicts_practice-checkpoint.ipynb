{
 "cells": [
  {
   "cell_type": "code",
   "execution_count": 4,
   "id": "63c2ecbc-2237-4373-8d9c-7007cc193588",
   "metadata": {},
   "outputs": [],
   "source": [
    "# Initialize a dictionary of banks and market caps (in billions)\n",
    "banks = {\n",
    "    \"JP Morgan Chase\": 327,\n",
    "    \"Bank of America\": 302,\n",
    "    \"Citigroup\": 173,\n",
    "    \"Wells Fargo\": 273,\n",
    "    \"Goldman Sachs\": 87,\n",
    "    \"Morgan Stanley\": 72,\n",
    "    \"U.S. Bancorp\": 83,\n",
    "    \"TD Bank\": 108,\n",
    "    \"PNC Financial Services\": 67,\n",
    "    \"Capital One\": 47,\n",
    "    \"FNB Corporation\": 4,\n",
    "    \"First Hawaiian Bank\": 3,\n",
    "    \"Ally Financial\": 12,\n",
    "    \"Wachovia\": 145,\n",
    "    \"Republic Bancorp\": .97\n",
    "}"
   ]
  },
  {
   "cell_type": "code",
   "execution_count": 5,
   "id": "6f0ba878-6db6-4218-bde6-3e09f57a40a6",
   "metadata": {},
   "outputs": [],
   "source": [
    "#Change the market cap for Citigroup to 170.\n",
    "banks[\"Citigroup\"] = 170"
   ]
  },
  {
   "cell_type": "code",
   "execution_count": 6,
   "id": "bc90e1ea-aad3-416b-8c4b-4bc82b74e4e7",
   "metadata": {},
   "outputs": [],
   "source": [
    "#Add a new bank American Express to the dictionary and set the market cap to 33.\n",
    "banks[\"American Express\"] = 33"
   ]
  },
  {
   "cell_type": "code",
   "execution_count": 7,
   "id": "9279f98f-3631-4bec-946b-1b30d96a4672",
   "metadata": {},
   "outputs": [],
   "source": [
    "#Delete Wachovia from the dictionary\n",
    "del banks[\"Wachovia\"]"
   ]
  },
  {
   "cell_type": "code",
   "execution_count": 8,
   "id": "310a5914-739a-48d2-8967-85674ee0d33a",
   "metadata": {},
   "outputs": [],
   "source": [
    "# Iterate over the key-value pairs in banks dictionary and calculate the following:\n",
    "\n",
    "# Total market capitalization\n",
    "# Total number of banks\n",
    "# Average market capitalization\n",
    "# Largest bank\n",
    "# Smallest bank\n",
    "\n",
    "#initilize metrics -- dictionary so min/max key/value\n",
    "total = 0\n",
    "count = 0\n",
    "\n",
    "minimum_key = \"\"\n",
    "minimum_value = 0\n",
    "maximum_key = \"\"\n",
    "maximum_value = 0\n",
    "average = 0\n",
    "\n",
    "# Initialize market cap lists\n",
    "mega_caps = []\n",
    "large_caps = []\n",
    "mid_caps = []\n",
    "small_caps = []\n"
   ]
  },
  {
   "cell_type": "code",
   "execution_count": 9,
   "id": "8a070365-c15e-43fe-bce1-ad1e25673341",
   "metadata": {},
   "outputs": [],
   "source": [
    "#for loop to iterate through dictionary, 1st counter and total increment\n",
    "#both key and value so .items\n",
    "\n",
    "for bank_name, market_cap in banks.items():\n",
    "    count +=1\n",
    "    total += int(market_cap)\n",
    "\n",
    "#logic for min value and associated key\n",
    "    if minimum_value == 0:\n",
    "        minimum_value = market_cap\n",
    "        minimum_key = bank_name\n",
    "    elif market_cap < minimum_value:\n",
    "        minimum_value = market_cap\n",
    "        minimum_key = bank_name\n",
    "    \n",
    "# Logic to determine max value and associated key    \n",
    "    if market_cap > maximum_value:\n",
    "        maximum_value = market_cap\n",
    "        maximum_key = bank_name\n",
    "        \n",
    "# Group banks by categories of market caps\n",
    "    if market_cap >= 300:\n",
    "        mega_caps.append(bank_name)\n",
    "    elif market_cap >= 10 and market_cap < 300:\n",
    "        large_caps.append(bank_name)\n",
    "    elif market_cap >= 2 and market_cap < 10:\n",
    "        mid_caps.append(bank_name)\n",
    "    elif market_cap < 2:\n",
    "        small_caps.append(bank_name)"
   ]
  },
  {
   "cell_type": "code",
   "execution_count": 10,
   "id": "fd92f918-a62a-478d-901c-3cd20e11d7de",
   "metadata": {},
   "outputs": [],
   "source": [
    "# Calculate average market cap of banks in the dictionary\n",
    "average = round(total/count, 2)"
   ]
  },
  {
   "cell_type": "code",
   "execution_count": 12,
   "id": "5a742455-1474-4625-b75d-debe97d26a1d",
   "metadata": {},
   "outputs": [
    {
     "name": "stdout",
     "output_type": "stream",
     "text": [
      "Total Market Capitalization: 1588\n",
      "Total Numer of Banks: 15\n",
      "Average Market Capitalization: 105.87\n",
      "Largest Bank: JP Morgan Chase\n",
      "Smallest Bank: Republic Bancorp\n",
      "------------------------------------------------\n",
      "Mega Cap Banks: ['JP Morgan Chase', 'Bank of America']\n",
      "Large Cap Banks: ['Citigroup', 'Wells Fargo', 'Goldman Sachs', 'Morgan Stanley', 'U.S. Bancorp', 'TD Bank', 'PNC Financial Services', 'Capital One', 'Ally Financial', 'American Express']\n",
      "Mid Cap Banks: ['FNB Corporation', 'First Hawaiian Bank']\n",
      "Small Cap Banks: ['Republic Bancorp']\n",
      "\n"
     ]
    }
   ],
   "source": [
    "# Print the metrics\n",
    "print(f\"Total Market Capitalization: {total}\")\n",
    "print(f\"Total Numer of Banks: {count}\")\n",
    "print(f\"Average Market Capitalization: {average}\")\n",
    "print(f\"Largest Bank: {maximum_key}\")\n",
    "print(f\"Smallest Bank: {minimum_key}\")\n",
    "print(\"------------------------------------------------\")\n",
    "print(f\"Mega Cap Banks: {mega_caps}\")\n",
    "print(f\"Large Cap Banks: {large_caps}\")\n",
    "print(f\"Mid Cap Banks: {mid_caps}\")\n",
    "print(f\"Small Cap Banks: {small_caps}\")\n",
    "print()"
   ]
  },
  {
   "cell_type": "code",
   "execution_count": null,
   "id": "5842f86c-f8db-4ae0-8f8f-bdab8a9a2fb8",
   "metadata": {},
   "outputs": [],
   "source": []
  }
 ],
 "metadata": {
  "kernelspec": {
   "display_name": "Python 3 (ipykernel)",
   "language": "python",
   "name": "python3"
  },
  "language_info": {
   "codemirror_mode": {
    "name": "ipython",
    "version": 3
   },
   "file_extension": ".py",
   "mimetype": "text/x-python",
   "name": "python",
   "nbconvert_exporter": "python",
   "pygments_lexer": "ipython3",
   "version": "3.7.13"
  }
 },
 "nbformat": 4,
 "nbformat_minor": 5
}
