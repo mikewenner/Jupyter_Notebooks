{
 "cells": [
  {
   "cell_type": "code",
   "execution_count": 1,
   "id": "ce8dd115-729a-429a-a3a4-47f9f079aad7",
   "metadata": {},
   "outputs": [],
   "source": [
    "# List of trading profits/losses\n",
    "trading_pnl = [ -224,  352, 252, 354, -544,\n",
    "                -650,   56, 123, -43,  254,\n",
    "                 325, -123,  47, 321,  123,\n",
    "                 133, -151, 613, 232, -311 ]"
   ]
  },
  {
   "cell_type": "code",
   "execution_count": 2,
   "id": "dfd6d583-4704-426e-a48a-ceca0e3371c5",
   "metadata": {},
   "outputs": [],
   "source": [
    "# @TODO: Initialize the metric variables\n",
    "count = 0\n",
    "total = 0\n",
    "minimum = 0\n",
    "maximum = 0\n",
    "average = 0"
   ]
  },
  {
   "cell_type": "code",
   "execution_count": 3,
   "id": "17607c74-fd95-4fb3-b73f-9348ff712106",
   "metadata": {},
   "outputs": [],
   "source": [
    "# @TODO: Initialize lists to hold profitable and unprofitable day profits/losses\n",
    "profitable_days = []\n",
    "unprofitable_days = []"
   ]
  },
  {
   "cell_type": "code",
   "execution_count": 13,
   "id": "8471fd60-ce88-467e-ab93-5ff435c70d55",
   "metadata": {},
   "outputs": [],
   "source": [
    "# @TODO: Cumulatively sum up the total and count \n",
    "# @TODO: Write logic to determine minimum and maximum values\n",
    "# @TODO: Write logic to determine profitable vs. unprofitable days\n",
    "for day_pnl in trading_pnl:\n",
    "    total += day_pnl\n",
    "    count += 1\n",
    "    \n",
    "    if minimum == 0:\n",
    "        minimum = day_pnl\n",
    "    elif day_pnl < minimum:\n",
    "        minimum = day_pnl\n",
    "    elif day_pnl > maximum:\n",
    "        maximum = day_pnl\n",
    "    \n",
    "    if day_pnl > 0:\n",
    "        profitable_days.append(day_pnl)\n",
    "    elif day_pnl <= 0:\n",
    "        unprofitable_days.append(day_pnl)"
   ]
  },
  {
   "cell_type": "code",
   "execution_count": 14,
   "id": "44e3c451-eaee-44c6-a5c1-2f2b91da275d",
   "metadata": {},
   "outputs": [
    {
     "name": "stdout",
     "output_type": "stream",
     "text": [
      "102 5247 -650 613\n"
     ]
    }
   ],
   "source": [
    "#check with prints\n",
    "print(count, total, minimum, maximum)"
   ]
  },
  {
   "cell_type": "code",
   "execution_count": 16,
   "id": "3c0a3bc0-1b06-45d8-896e-e40c2ddf28c9",
   "metadata": {},
   "outputs": [
    {
     "name": "stdout",
     "output_type": "stream",
     "text": [
      "51.44\n"
     ]
    }
   ],
   "source": [
    "average = round(total/count, 2)\n",
    "print(average)"
   ]
  },
  {
   "cell_type": "code",
   "execution_count": 17,
   "id": "e0910f6c-4a20-4651-a142-d87e534034f2",
   "metadata": {},
   "outputs": [],
   "source": [
    "profitable_count = len(profitable_days)\n",
    "unprofitable_count = len(unprofitable_days)"
   ]
  },
  {
   "cell_type": "code",
   "execution_count": 18,
   "id": "85935b76-50fe-4707-9a79-5211dc691088",
   "metadata": {},
   "outputs": [],
   "source": [
    "percent_profitable = (profitable_count / count) *100\n",
    "unpercent_profitable = (unprofitable_count / count) *100"
   ]
  },
  {
   "cell_type": "code",
   "execution_count": null,
   "id": "c6d32fa0-319f-47d8-a41c-91bdbd567f39",
   "metadata": {},
   "outputs": [],
   "source": []
  }
 ],
 "metadata": {
  "kernelspec": {
   "display_name": "Python 3 (ipykernel)",
   "language": "python",
   "name": "python3"
  },
  "language_info": {
   "codemirror_mode": {
    "name": "ipython",
    "version": 3
   },
   "file_extension": ".py",
   "mimetype": "text/x-python",
   "name": "python",
   "nbconvert_exporter": "python",
   "pygments_lexer": "ipython3",
   "version": "3.7.13"
  }
 },
 "nbformat": 4,
 "nbformat_minor": 5
}
