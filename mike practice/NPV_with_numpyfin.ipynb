{
 "cells": [
  {
   "cell_type": "code",
   "execution_count": 1,
   "id": "5bec2326-2f91-4a4e-86eb-931450bd1ebb",
   "metadata": {},
   "outputs": [],
   "source": [
    "import numpy\n",
    "import numpy_financial as npf"
   ]
  },
  {
   "cell_type": "code",
   "execution_count": 2,
   "id": "efff374b-b5c7-4fa8-8e0e-18e989ec2d09",
   "metadata": {},
   "outputs": [
    {
     "name": "stdout",
     "output_type": "stream",
     "text": [
      "267.94617853971704\n"
     ]
    }
   ],
   "source": [
    "interest_rate = 0.1\n",
    "cash_flows = [-1000, 400, 400, 400, 400]\n",
    "\n",
    "net_present_value = npf.npv(interest_rate, cash_flows)\n",
    "print(net_present_value)"
   ]
  },
  {
   "cell_type": "code",
   "execution_count": 3,
   "id": "9efe22ea-d75f-4f33-8696-c74fdbee4427",
   "metadata": {},
   "outputs": [],
   "source": [
    "# Discount Rate\n",
    "discount_rate = .1\n",
    "\n",
    "# Initial Investment, Cash Flow 1, Cash Flow 2, Cash Flow 3, Cash Flow 4\n",
    "cash_flows_conservative = [-1000, 400, 400, 400, 400]\n",
    "cash_flows_neutral = [-1500, 600, 600, 600, 600]\n",
    "cash_flows_aggressive = [-2250, 800, 800, 800, 800]\n",
    "\n",
    "# Initialize dictionary to hold NPV return values\n",
    "npv_dict = {}"
   ]
  },
  {
   "cell_type": "code",
   "execution_count": 6,
   "id": "061b2575-ff87-4338-b85a-687be1144ac5",
   "metadata": {},
   "outputs": [
    {
     "name": "stdout",
     "output_type": "stream",
     "text": [
      "{'conservative': 267.94617853971704, 'neutral': 401.91926780957544, 'aggressive': 285.8923570794341}\n"
     ]
    }
   ],
   "source": [
    "#Call the NumPy Financial NPV function for each of the three project scenarios (conservative, neutral, aggressive\n",
    "#add to dictionary --> dict_name[\"variable\"] = something\n",
    "npv_dict[\"conservative\"] = npf.npv(discount_rate, cash_flows_conservative)\n",
    "npv_dict[\"neutral\"] = npf.npv(discount_rate, cash_flows_neutral)\n",
    "npv_dict[\"aggressive\"] = npf.npv(discount_rate, cash_flows_aggressive)\n",
    "\n",
    "print(npv_dict)"
   ]
  },
  {
   "cell_type": "code",
   "execution_count": 7,
   "id": "213d9496-cfa4-4c76-8be4-6d37bfda3818",
   "metadata": {},
   "outputs": [
    {
     "name": "stdout",
     "output_type": "stream",
     "text": [
      "conservative 267.94617853971704\n",
      "neutral 401.91926780957544\n",
      "aggressive 285.8923570794341\n"
     ]
    }
   ],
   "source": [
    "#Print out the project scenario that holds the max NPV value from the npv_dict dictionary.\n",
    "max_key = \"\"\n",
    "max_value = 0\n",
    "\n",
    "for key, value in npv_dict.items():\n",
    "    print(f\"{key} {value}\")\n",
    "    \n",
    "    if max_value == 0:\n",
    "        max_value = value\n",
    "        max_key = key\n",
    "    elif value > max_value:\n",
    "        max_value = value\n",
    "        max_key = key"
   ]
  },
  {
   "cell_type": "code",
   "execution_count": 8,
   "id": "bee3ed1f-b1ad-4082-87b8-45cb3de8b475",
   "metadata": {},
   "outputs": [
    {
     "name": "stdout",
     "output_type": "stream",
     "text": [
      "---------------------------------------------------------\n",
      "The project scenario with the max NPV value is 'neutral' with a NPV of 401.91926780957544\n"
     ]
    }
   ],
   "source": [
    "# Print out the optimal project scenario with the highest NPV value\n",
    "print(\"---------------------------------------------------------\")\n",
    "print(f\"The project scenario with the max NPV value is '{max_key}' with a NPV of {max_value}\")"
   ]
  },
  {
   "cell_type": "code",
   "execution_count": null,
   "id": "c269d79d-805f-484d-ae15-213d4b6fd47c",
   "metadata": {},
   "outputs": [],
   "source": []
  }
 ],
 "metadata": {
  "kernelspec": {
   "display_name": "Python 3 (ipykernel)",
   "language": "python",
   "name": "python3"
  },
  "language_info": {
   "codemirror_mode": {
    "name": "ipython",
    "version": 3
   },
   "file_extension": ".py",
   "mimetype": "text/x-python",
   "name": "python",
   "nbconvert_exporter": "python",
   "pygments_lexer": "ipython3",
   "version": "3.7.13"
  }
 },
 "nbformat": 4,
 "nbformat_minor": 5
}
