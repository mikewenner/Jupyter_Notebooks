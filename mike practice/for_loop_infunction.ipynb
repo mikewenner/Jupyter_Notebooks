{
 "cells": [
  {
   "cell_type": "code",
   "execution_count": 1,
   "id": "62e99d02-071d-417e-ab72-8611e739dad6",
   "metadata": {},
   "outputs": [
    {
     "data": {
      "text/plain": [
       "'Hi dave smith! Thank you for your business of 6000! You are a Platinum member'"
      ]
     },
     "execution_count": 1,
     "metadata": {},
     "output_type": "execute_result"
    }
   ],
   "source": [
    "# List of dicts\n",
    "customers = [\n",
    "    { \"first_name\": \"Tom\", \"last_name\": \"Bell\", \"revenue\": 0 },\n",
    "    { \"first_name\": \"Maggie\", \"last_name\": \"Johnson\", \"revenue\": 1032 },\n",
    "    { \"first_name\": \"John\", \"last_name\": \"Spectre\", \"revenue\": 2543 },\n",
    "    { \"first_name\": \"Susy\", \"last_name\": \"Simmons\", \"revenue\": 5322 }\n",
    "]\n",
    "\n",
    "# @TODO Define a function that accepts a customer first_name, last_name, and\n",
    "# revenue and returns a custom greeting with the full name.\n",
    "# Use these ranges to determine the business tier (and corresponding message)\n",
    "# for each customer.\n",
    "#   Platinum = 3001+\n",
    "#   Gold = 2001-3000\n",
    "#   Silver = 1001-2000\n",
    "#   Bronze = 0-1000\n",
    "\n",
    "def create_greeting(first_name, last_name, revenue):\n",
    "    if revenue > 3000:\n",
    "        greeting = f\"Hi {first_name} {last_name}! Thank you for your business of {revenue}! You are a Platinum member\"\n",
    "    elif 2000 <= revenue <= 3000:\n",
    "        greeting = f\"Hi {first_name} {last_name}! Thank you for your business of {revenue}! You are a gold member\"\n",
    "    elif 1000 <= revenue <= 2000:\n",
    "        greeting = f\"Hi {first_name} {last_name}! Thank you for your business of {revenue}! You are a silver member\"  \n",
    "    elif revenue <= 1000:\n",
    "        greeting = f\"Hi {first_name} {last_name}! Thank you for your business of {revenue}! You are a bronz member\"  \n",
    "    return greeting\n",
    "\n",
    "create_greeting(\"dave\", \"smith\", 6000)\n"
   ]
  },
  {
   "cell_type": "code",
   "execution_count": 5,
   "id": "fb6b1af2-b550-462c-9552-37a23e7562bb",
   "metadata": {},
   "outputs": [
    {
     "name": "stdout",
     "output_type": "stream",
     "text": [
      "Hi Tom Bell! Thank you for your business of 0! You are a bronz member\n",
      "Hi Maggie Johnson! Thank you for your business of 1032! You are a silver member\n",
      "Hi John Spectre! Thank you for your business of 2543! You are a gold member\n",
      "Hi Susy Simmons! Thank you for your business of 5322! You are a Platinum member\n"
     ]
    }
   ],
   "source": [
    "# @TODO: Loop through the list of customers and use your function to print\n",
    "# custom greetings for each customer.\n",
    "# @TODO: YOUR CODE HERE!\n",
    "\n",
    "for customer in customers:\n",
    "    greeting = create_greeting(customer[\"first_name\"], customer[\"last_name\"], customer[\"revenue\"])\n",
    "    print(greeting)"
   ]
  },
  {
   "cell_type": "code",
   "execution_count": null,
   "id": "20cbbcdf-93ab-47c3-9c45-a1dd80896a4a",
   "metadata": {},
   "outputs": [],
   "source": []
  }
 ],
 "metadata": {
  "kernelspec": {
   "display_name": "Python 3 (ipykernel)",
   "language": "python",
   "name": "python3"
  },
  "language_info": {
   "codemirror_mode": {
    "name": "ipython",
    "version": 3
   },
   "file_extension": ".py",
   "mimetype": "text/x-python",
   "name": "python",
   "nbconvert_exporter": "python",
   "pygments_lexer": "ipython3",
   "version": "3.7.13"
  }
 },
 "nbformat": 4,
 "nbformat_minor": 5
}
