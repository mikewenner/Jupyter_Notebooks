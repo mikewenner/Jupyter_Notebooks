{
 "cells": [
  {
   "cell_type": "code",
   "execution_count": null,
   "id": "bd11b4d9-71d1-46c2-b744-7a58c700735d",
   "metadata": {},
   "outputs": [],
   "source": [
    "# Choice 1: Add a new round of entries to the 'historical_stock_data' dictionary\n",
    "#stock ticker is the key you want to append the list to\n",
    "#new records are the new lists previously created\n",
    "\n",
    "historical_stock_data['AAPL'].append(new_aapl_record)\n",
    "historical_stock_data['MU'].append(new_mu_record)\n",
    "historical_stock_data['AMD'].append(new_amd_record)\n",
    "historical_stock_data['TWTR'].append(new_twtr_record)\n",
    "#print(historical_stock_data)\n",
    "\n",
    "# Choice 2: Add a new round of entries via for loop to the 'historical_stock_data' dictionary\n",
    "# ticker is the key & ticker_data is the value in the new_records dict of dict\n",
    "\n",
    "for ticker, ticker_data in new_records.items():\n",
    "    # Set the new record to be added in list format\n",
    "    record = [ticker_data['date'], ticker_data['open'], ticker_data['high'], ticker_data['low'], ticker_data['close']]\n",
    "    # Append the new record to the historical_stock_data dictionary\n",
    "    historical_stock_data[ticker].append(record)\n",
    "\n",
    "# Print out the modified 'historical_stock_data' dictionary\n",
    "print(historical_stock_data)"
   ]
  }
 ],
 "metadata": {
  "kernelspec": {
   "display_name": "Python 3 (ipykernel)",
   "language": "python",
   "name": "python3"
  },
  "language_info": {
   "codemirror_mode": {
    "name": "ipython",
    "version": 3
   },
   "file_extension": ".py",
   "mimetype": "text/x-python",
   "name": "python",
   "nbconvert_exporter": "python",
   "pygments_lexer": "ipython3",
   "version": "3.7.13"
  }
 },
 "nbformat": 4,
 "nbformat_minor": 5
}
