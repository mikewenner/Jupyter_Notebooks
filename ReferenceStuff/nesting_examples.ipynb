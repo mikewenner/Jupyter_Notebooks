{
 "cells": [
  {
   "cell_type": "code",
   "execution_count": 2,
   "id": "c794de4d-df8b-4e85-9e92-8c5df5244af6",
   "metadata": {},
   "outputs": [
    {
     "name": "stdout",
     "output_type": "stream",
     "text": [
      "The first entry in employees_nested_list is: ['Warren Buffet', 88, 'CEO of Berkshire Hathaway']\n",
      "Warren Buffet is 88 years old, serving as CEO of Berkshire Hathaway.\n"
     ]
    }
   ],
   "source": [
    "# LIST OF LIST EXAMPLE\n",
    "\"\"\"\n",
    "Instructor Demo: Nesting.\n",
    "This script showcases how to traverse nested lists of lists.\n",
    "\"\"\"\n",
    "\n",
    "# List\n",
    "ceo_list = [\"Warren\", \"Jack\", \"Harry\"]\n",
    "\n",
    "# List of Lists\n",
    "ceo_nested_list = [\n",
    "    [\"Warren Buffet\", 88, \"CEO of Berkshire Hathaway\"],\n",
    "    [\"Jeff Bezos\", 55, \"CEO of Amazon\"],\n",
    "    [\"Harry Markowitz\", 91, \"Professor of Finance\"]\n",
    "]\n",
    "\n",
    "# Retrieve first entry of ceo_nested_list\n",
    "first_entry = ceo_nested_list[0]\n",
    "\n",
    "# Retrieve name of first entry\n",
    "first_entry_name = ceo_nested_list[0][0]\n",
    "\n",
    "# Retrieve age of first entry\n",
    "first_entry_age = ceo_nested_list[0][1]\n",
    "\n",
    "# Retrieve occupation of first entry\n",
    "first_entry_occupation = ceo_nested_list[0][2]\n",
    "\n",
    "# Print results to screen\n",
    "print(\"The first entry in employees_nested_list is:\", first_entry)\n",
    "print(f\"{first_entry_name} is {first_entry_age} years old, serving as {first_entry_occupation}.\")"
   ]
  },
  {
   "cell_type": "code",
   "execution_count": 5,
   "id": "263a07d2-0446-4952-95b4-f4eeb94ee0bd",
   "metadata": {},
   "outputs": [
    {
     "name": "stdout",
     "output_type": "stream",
     "text": [
      "The second entry in ceo_nested_dict is Jeff Bezos, a 55 year old CEO of Amazon.\n"
     ]
    }
   ],
   "source": [
    "# LIST OF DICTS EXAMPLE\n",
    "\"\"\"\n",
    "Instructor Demo: Nesting.\n",
    "This script showcases how to traverse list of dicts.\n",
    "\"\"\"\n",
    "\n",
    "# List of Dicts\n",
    "ceo_nested_dict = [\n",
    "    {\n",
    "        \"name\": \"Warren Buffet\",\n",
    "        \"age\": 88,\n",
    "        \"occupation\": \"CEO of Berkshire Hathaway\"\n",
    "    },\n",
    "    {\n",
    "        \"name\": \"Jeff Bezos\",\n",
    "        \"age\": 55,\n",
    "        \"occupation\": \"CEO of Amazon\"\n",
    "    },\n",
    "    {\n",
    "        \"name\": \"Harry Markowitz\",\n",
    "        \"age\": 91,\n",
    "        \"occupation\": \"Professor of Finance\"\n",
    "    }\n",
    "]\n",
    "\n",
    "# Retrieve second entry\n",
    "second_entry = ceo_nested_dict[1]\n",
    "\n",
    "# Retrieve name, age, and occupation of the second dict entry\n",
    "second_entry_name = ceo_nested_dict[1][\"name\"]\n",
    "second_entry_age = ceo_nested_dict[1][\"age\"]\n",
    "second_entry_occupation = ceo_nested_dict[1][\"occupation\"]\n",
    "\n",
    "# Print results to the screen\n",
    "print(f\"The second entry in ceo_nested_dict is {second_entry_name}, a {second_entry_age} year old {second_entry_occupation}.\")"
   ]
  },
  {
   "cell_type": "code",
   "execution_count": 6,
   "id": "6dc77cd6-a853-40fc-87c0-593c21a3ebb4",
   "metadata": {},
   "outputs": [
    {
     "name": "stdout",
     "output_type": "stream",
     "text": [
      "APPL ticker stands for Apple. APPL stock price is currently 101.32, and it is available on NASDAQ.\n"
     ]
    }
   ],
   "source": [
    "# DICT OF LISTS EXAMPLE\n",
    "\"\"\"\n",
    "Instructor Demo: Nesting.\n",
    "This script showcases how to traverse dictionary of lists.\n",
    "\"\"\"\n",
    "\n",
    "# Dict\n",
    "stocks_dict = {\n",
    "    \"APPL\": 101.32,\n",
    "    \"MU\": 43.4,\n",
    "    \"AMD\": 23.12,\n",
    "    \"TWTR\": 25\n",
    "}\n",
    "\n",
    "# Dictionary of Lists\n",
    "stocks_nested_list = {\n",
    "    \"APPL\": [\"Apple\", 101.32, \"NASDAQ\", 937.7],\n",
    "    \"MU\": [\"Micron Technology\", 32.12, \"NASDAQ\", 48.03],\n",
    "    \"AMD\": [\"Advanced Micro Devices\", 23.12, \"NASDAQ\", 29.94],\n",
    "    \"TWTR\": [\"Twitter\", 34.40, \"NASDAQ\", 26.42]\n",
    "}\n",
    "\n",
    "# Retrieve entry for APPL\n",
    "appl_entry = stocks_nested_list[\"APPL\"]\n",
    "\n",
    "# Retrieve name, stock_price, and exchange for APPL entry\n",
    "appl_name = stocks_nested_list[\"APPL\"][0]\n",
    "appl_stock_price = stocks_nested_list[\"APPL\"][1]\n",
    "appl_exchange = stocks_nested_list[\"APPL\"][2]\n",
    "\n",
    "# Print results to screen\n",
    "print(f\"APPL ticker stands for {appl_name}. APPL stock price is currently {appl_stock_price}, and it is available on {appl_exchange}.\")"
   ]
  },
  {
   "cell_type": "code",
   "execution_count": null,
   "id": "32507c66-d992-485c-8c4f-6bb163726f25",
   "metadata": {},
   "outputs": [],
   "source": [
    "# DICT OF DICT EXAMPLE\n",
    "\"\"\"\n",
    "Instructor Demo: Nesting.\n",
    "This script showcases how to traverse dictionary of dicts.\n",
    "\"\"\"\n",
    "\n",
    "# Dictionary of Dicts\n",
    "stocks_nested_dict = {\n",
    "    \"APPL\": {\n",
    "        \"name\": \"Apple\",\n",
    "        \"exchange\": \"NASDAQ\",\n",
    "        \"market_cap\": 937.7\n",
    "    },\n",
    "    \"MU\": {\n",
    "        \"name\": \"Micron Technology\",\n",
    "        \"exchange\": \"NASDAQ\",\n",
    "        \"market_cap\": 48.03\n",
    "    },\n",
    "    \"AMD\": {\n",
    "        \"name\": \"Advanced Micro Devices\",\n",
    "        \"exchange\": \"NASDAQ\",\n",
    "        \"market_cap\": 29.94\n",
    "    },\n",
    "    \"TWTR\": {\n",
    "        \"name\": \"Twitter\",\n",
    "        \"exchange\": \"NASDAQ\",\n",
    "        \"market_cap\": 26.42\n",
    "    }\n",
    "}\n",
    "\n",
    "# Retrieve Twitter entry\n",
    "twitter_entry = stocks_nested_dict[\"TWTR\"]\n",
    "\n",
    "# Retrieve TWTR name, exchange, and market_cap\n",
    "twitter_name = stocks_nested_dict[\"TWTR\"][\"name\"]\n",
    "twitter_exchange = stocks_nested_dict[\"TWTR\"][\"exchange\"]\n",
    "twitter_market_cap = stocks_nested_dict[\"TWTR\"][\"market_cap\"]\n",
    "\n",
    "# Print results to screen\n",
    "print(f\"Name of TWTR ticker is {twitter_name}. TWTR is available on {twitter_exchange}, and it currently has a market capitalization of"
   ]
  }
 ],
 "metadata": {
  "kernelspec": {
   "display_name": "Python 3 (ipykernel)",
   "language": "python",
   "name": "python3"
  },
  "language_info": {
   "codemirror_mode": {
    "name": "ipython",
    "version": 3
   },
   "file_extension": ".py",
   "mimetype": "text/x-python",
   "name": "python",
   "nbconvert_exporter": "python",
   "pygments_lexer": "ipython3",
   "version": "3.7.13"
  }
 },
 "nbformat": 4,
 "nbformat_minor": 5
}
