{
 "cells": [
  {
   "cell_type": "code",
   "execution_count": 1,
   "id": "c3d7237a-7f9b-4c91-8b76-feaedd741723",
   "metadata": {},
   "outputs": [],
   "source": [
    "# # Print the metrics\n",
    "# print(f\"Total Market Capitalization: {total_market_cap}\")\n",
    "# print(f\"Total Numer of Banks: {bank_count}\")\n",
    "# print(f\"Average Market Capitalization: {avg_market_cap}\")\n",
    "# print(f\"Largest Bank: {maximum_key}\")\n",
    "# print(f\"Smallest Bank: {minimum_key}\")\n",
    "# print(\"------------------------------------------------\")\n",
    "# print(f\"Mega Cap Banks: {mega_caps}\")\n",
    "# print(f\"Large Cap Banks: {large_caps}\")\n",
    "# print(f\"Mid Cap Banks: {mid_caps}\")\n",
    "# print(f\"Small Cap Banks: {small_caps}\")\n",
    "# print()\n"
   ]
  },
  {
   "cell_type": "code",
   "execution_count": 1,
   "id": "d619e192-7cb1-4d33-99d3-64c659b95171",
   "metadata": {},
   "outputs": [],
   "source": [
    "# Print out the summary statistics\n",
    "# print(\"---------Summary Statistics----------\")\n",
    "# print(f\"Number of Total Days: {count}\")\n",
    "# print(f\"Number of Profitable Days: {profitable_count}\")\n",
    "# print(f\"Number of Unprofitable Days: {unprofitable_count}\")\n",
    "# print(f\"Percentage of Profitable Days: {percent_profitable}%\")\n",
    "# print(f\"Percentage of Unprofitable Days: {percent_unprofitable}%\")\n",
    "# print(\"-------------------------------------\")\n",
    "# print(f\"Profitable Days: {profitable_days}\")\n",
    "# print(f\"Unprofitable Days: {unprofitable_days}\")\n",
    "# print(\"-------------------------------------\")\n",
    "# print(f\"Total Profits/Losses: {total}\")\n",
    "# print(f\"Daily Average: {average}\")\n",
    "# print(f\"Worst Loss: {minimum}\")\n",
    "# print(f\"Best Gain: {maximum}\")\n"
   ]
  },
  {
   "cell_type": "code",
   "execution_count": null,
   "id": "8836f11f-1c45-429f-9026-524e2f8ccffa",
   "metadata": {},
   "outputs": [],
   "source": [
    "# Print out the summary statistics\n",
    "# print(\"---------Summary Statistics----------\")\n",
    "# print(f\"Number of Days: {count}\")\n",
    "# print(f\"Total Tips: {total}\")\n",
    "# print(f\"Daily Average: {average}\")\n",
    "# print(f\"Least Amount of Tips: {minimum}\")\n",
    "# print(f\"Maximum Amount of Tips: {maximum}\")"
   ]
  }
 ],
 "metadata": {
  "kernelspec": {
   "display_name": "Python 3 (ipykernel)",
   "language": "python",
   "name": "python3"
  },
  "language_info": {
   "codemirror_mode": {
    "name": "ipython",
    "version": 3
   },
   "file_extension": ".py",
   "mimetype": "text/x-python",
   "name": "python",
   "nbconvert_exporter": "python",
   "pygments_lexer": "ipython3",
   "version": "3.7.13"
  }
 },
 "nbformat": 4,
 "nbformat_minor": 5
}
