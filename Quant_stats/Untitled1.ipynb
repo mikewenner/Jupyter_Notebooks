{
 "cells": [
  {
   "cell_type": "code",
   "execution_count": null,
   "id": "b8950023-4705-456c-9ff4-be484a61f026",
   "metadata": {},
   "outputs": [],
   "source": [
    "# Creating the Portfolio Object\n",
    "port = rp.Portfolio(returns=returns)"
   ]
  },
  {
   "cell_type": "code",
   "execution_count": null,
   "id": "fb760ee4-3934-473f-97a0-5dff653330ef",
   "metadata": {},
   "outputs": [],
   "source": [
    "# Calculating optimal portfolio\n",
    "\n",
    "# Select method and estimate input parameters:\n",
    "\n",
    "method_mu='hist' # Method to estimate expected returns based on historical data.\n",
    "method_cov='hist' # Method to estimate covariance matrix based on historical data.\n",
    "\n",
    "port.assets_stats(method_mu=method_mu, method_cov=method_cov, d=0.94)"
   ]
  },
  {
   "cell_type": "code",
   "execution_count": null,
   "id": "0cb53347-e190-4d6c-a672-eb83aff7e144",
   "metadata": {},
   "outputs": [],
   "source": [
    "# Estimate optimal portfolio:\n",
    "\n",
    "model='Classic' # Could be Classic (historical), BL (Black Litterman) or FM (Factor Model)\n",
    "rm = 'MV' # Risk measure used, MV is standard deviation\n",
    "obj = 'Sharpe' # Objective function, could be MinRisk, MaxRet, Utility or Sharpe\n",
    "hist = True # Use historical scenarios for risk measures that depend on scenarios\n",
    "rf = 0 # Risk free rate\n",
    "l = 0 # Risk aversion factor, only useful when obj is 'Utility'\n",
    "\n",
    "w = port.optimization(model=model, rm=rm, obj=obj, rf=rf, l=l, hist=hist)\n",
    "\n",
    "w"
   ]
  },
  {
   "cell_type": "code",
   "execution_count": null,
   "id": "37dbbf56-e7b5-453f-a43e-3329adb4a658",
   "metadata": {},
   "outputs": [],
   "source": [
    "# Plotting the composition of the portfolio\n",
    "\n",
    "ax = rp.plot_pie(w=w, title='Sharpe Mean Variance', others=0.05, nrow=25, cmap = \"tab20\",\n",
    "                 height=6, width=10, ax=None)"
   ]
  },
  {
   "cell_type": "code",
   "execution_count": null,
   "id": "983923e6-e54c-485c-9f4b-953f8680eb74",
   "metadata": {},
   "outputs": [],
   "source": [
    "points = 50 # Number of points of the frontier\n",
    "\n",
    "frontier = port.efficient_frontier(model=model, rm=rm, points=points, rf=rf, hist=hist)\n",
    "\n",
    "display(frontier.T.head())\n",
    "#frontier"
   ]
  },
  {
   "cell_type": "code",
   "execution_count": null,
   "id": "7956c108-21a7-48e8-a320-7f793ae85d94",
   "metadata": {},
   "outputs": [],
   "source": [
    "# Plotting the efficient frontier\n",
    "\n",
    "label = 'Max Risk Adjusted Return Portfolio' # Title of point\n",
    "mu = port.mu # Expected returns\n",
    "cov = port.cov # Covariance matrix\n",
    "returns = port.returns # Returns of the assets\n",
    "\n",
    "ax = rp.plot_frontier(w_frontier=frontier, mu=mu, cov=cov, returns=returns, rm=rm,\n",
    "                      rf=rf, alpha=0.05, cmap='viridis', w=w, label=label,\n",
    "                      marker='*', s=16, c='r', height=8, width=15, ax=None)"
   ]
  },
  {
   "cell_type": "code",
   "execution_count": null,
   "id": "b6266519-c9ba-4954-9cf9-1b9c08a5daf1",
   "metadata": {},
   "outputs": [],
   "source": [
    "ax = rp.plot_hist(returns=returns, w=w1, alpha=0.05, bins=50, height=8,\n",
    "                  width=15, ax=None)"
   ]
  },
  {
   "cell_type": "code",
   "execution_count": null,
   "id": "8b7aefff-316b-4d71-b755-ec7a67a5b6de",
   "metadata": {},
   "outputs": [],
   "source": [
    "ax = rp.plot_clusters(returns=returns, codependence='spearman',\n",
    "                      linkage='ward', k=None, max_k=10,\n",
    "                      leaf_order=True, dendrogram=True, ax=None)"
   ]
  }
 ],
 "metadata": {
  "kernelspec": {
   "display_name": "Python 3 (ipykernel)",
   "language": "python",
   "name": "python3"
  },
  "language_info": {
   "codemirror_mode": {
    "name": "ipython",
    "version": 3
   },
   "file_extension": ".py",
   "mimetype": "text/x-python",
   "name": "python",
   "nbconvert_exporter": "python",
   "pygments_lexer": "ipython3",
   "version": "3.9.13"
  }
 },
 "nbformat": 4,
 "nbformat_minor": 5
}
