{
 "cells": [
  {
   "cell_type": "code",
   "execution_count": 1,
   "id": "11808e9d-d45f-4da8-a37b-ff805f838fa9",
   "metadata": {},
   "outputs": [],
   "source": [
    "import pandas as pd\n",
    "from pathlib import Path"
   ]
  },
  {
   "cell_type": "code",
   "execution_count": 3,
   "id": "655e268d-0f31-4803-bc37-940288aff8f1",
   "metadata": {},
   "outputs": [
    {
     "data": {
      "text/html": [
       "<div>\n",
       "<style scoped>\n",
       "    .dataframe tbody tr th:only-of-type {\n",
       "        vertical-align: middle;\n",
       "    }\n",
       "\n",
       "    .dataframe tbody tr th {\n",
       "        vertical-align: top;\n",
       "    }\n",
       "\n",
       "    .dataframe thead th {\n",
       "        text-align: right;\n",
       "    }\n",
       "</style>\n",
       "<table border=\"1\" class=\"dataframe\">\n",
       "  <thead>\n",
       "    <tr style=\"text-align: right;\">\n",
       "      <th></th>\n",
       "      <th>Close</th>\n",
       "    </tr>\n",
       "    <tr>\n",
       "      <th>Date</th>\n",
       "      <th></th>\n",
       "    </tr>\n",
       "  </thead>\n",
       "  <tbody>\n",
       "    <tr>\n",
       "      <th>2019-05-13</th>\n",
       "      <td>1132.03</td>\n",
       "    </tr>\n",
       "    <tr>\n",
       "      <th>2019-05-10</th>\n",
       "      <td>1164.27</td>\n",
       "    </tr>\n",
       "    <tr>\n",
       "      <th>2019-05-09</th>\n",
       "      <td>1162.38</td>\n",
       "    </tr>\n",
       "    <tr>\n",
       "      <th>2019-05-08</th>\n",
       "      <td>1166.27</td>\n",
       "    </tr>\n",
       "    <tr>\n",
       "      <th>2019-05-07</th>\n",
       "      <td>1174.10</td>\n",
       "    </tr>\n",
       "  </tbody>\n",
       "</table>\n",
       "</div>"
      ],
      "text/plain": [
       "              Close\n",
       "Date               \n",
       "2019-05-13  1132.03\n",
       "2019-05-10  1164.27\n",
       "2019-05-09  1162.38\n",
       "2019-05-08  1166.27\n",
       "2019-05-07  1174.10"
      ]
     },
     "execution_count": 3,
     "metadata": {},
     "output_type": "execute_result"
    }
   ],
   "source": [
    "#Read CSV as Pandas DataFrame\n",
    "csvpath = Path(\"goog_google_finance.csv\")\n",
    "goog_df = pd.read_csv(csvpath, index_col=\"Date\", parse_dates=True, infer_datetime_format=True)\n",
    "goog_df.head()"
   ]
  },
  {
   "cell_type": "code",
   "execution_count": 4,
   "id": "036b2b9e-2c58-449e-bad7-2d9601e93e87",
   "metadata": {},
   "outputs": [
    {
     "data": {
      "text/plain": [
       "Close    0\n",
       "dtype: int64"
      ]
     },
     "execution_count": 4,
     "metadata": {},
     "output_type": "execute_result"
    }
   ],
   "source": [
    "# Check for nulls\n",
    "goog_df.isnull().sum()"
   ]
  },
  {
   "cell_type": "code",
   "execution_count": 6,
   "id": "632f5980-5dec-43b2-b6d1-2862bbc50111",
   "metadata": {},
   "outputs": [
    {
     "data": {
      "text/plain": [
       "Close    0\n",
       "dtype: int64"
      ]
     },
     "execution_count": 6,
     "metadata": {},
     "output_type": "execute_result"
    }
   ],
   "source": [
    "# Drop nulls\n",
    "goog_df.dropna(inplace=True)\n",
    "goog_df.isnull().sum()"
   ]
  },
  {
   "cell_type": "code",
   "execution_count": 7,
   "id": "493b2165-fa37-40fd-afb5-fe670b8472de",
   "metadata": {},
   "outputs": [],
   "source": [
    "# Drop duplicates\n",
    "goog_df.drop_duplicates(inplace=True)"
   ]
  },
  {
   "cell_type": "code",
   "execution_count": 8,
   "id": "5f19de6b-431f-441f-aae5-0a2d30e68e17",
   "metadata": {},
   "outputs": [
    {
     "data": {
      "text/plain": [
       "DatetimeIndex(['2019-05-13', '2019-05-10', '2019-05-09', '2019-05-08',\n",
       "               '2019-05-07', '2019-05-06', '2019-05-03', '2019-05-02',\n",
       "               '2019-05-01', '2019-04-30', '2019-04-29', '2019-04-26',\n",
       "               '2019-04-25', '2019-04-24', '2019-04-23', '2019-04-22',\n",
       "               '2019-04-18', '2019-04-17', '2019-04-16', '2019-04-15',\n",
       "               '2019-04-12', '2019-04-11', '2019-04-10', '2019-04-09',\n",
       "               '2019-04-08', '2019-04-05', '2019-04-04', '2019-04-03',\n",
       "               '2019-04-02', '2019-04-01', '2019-03-29', '2019-03-28',\n",
       "               '2019-03-27', '2019-03-26', '2019-03-25', '2019-03-22',\n",
       "               '2019-03-21', '2019-03-20', '2019-03-19', '2019-03-18',\n",
       "               '2019-03-15', '2019-03-14', '2019-03-13', '2019-03-12',\n",
       "               '2019-03-11', '2019-03-08', '2019-03-07', '2019-03-06',\n",
       "               '2019-03-05', '2019-03-04', '2019-03-01', '2019-02-28',\n",
       "               '2019-02-27', '2019-02-26', '2019-02-25', '2019-02-22',\n",
       "               '2019-02-21', '2019-02-20', '2019-02-19', '2019-02-15',\n",
       "               '2019-02-14', '2019-02-13', '2019-02-12', '2019-02-11'],\n",
       "              dtype='datetime64[ns]', name='Date', freq=None)"
      ]
     },
     "execution_count": 8,
     "metadata": {},
     "output_type": "execute_result"
    }
   ],
   "source": [
    "goog_df.index"
   ]
  },
  {
   "cell_type": "code",
   "execution_count": 9,
   "id": "48203db5-5d3f-41cf-b897-b6f0d15e7de8",
   "metadata": {},
   "outputs": [
    {
     "data": {
      "text/html": [
       "<div>\n",
       "<style scoped>\n",
       "    .dataframe tbody tr th:only-of-type {\n",
       "        vertical-align: middle;\n",
       "    }\n",
       "\n",
       "    .dataframe tbody tr th {\n",
       "        vertical-align: top;\n",
       "    }\n",
       "\n",
       "    .dataframe thead th {\n",
       "        text-align: right;\n",
       "    }\n",
       "</style>\n",
       "<table border=\"1\" class=\"dataframe\">\n",
       "  <thead>\n",
       "    <tr style=\"text-align: right;\">\n",
       "      <th></th>\n",
       "      <th></th>\n",
       "      <th>Close</th>\n",
       "    </tr>\n",
       "    <tr>\n",
       "      <th>Date</th>\n",
       "      <th>Date</th>\n",
       "      <th></th>\n",
       "    </tr>\n",
       "  </thead>\n",
       "  <tbody>\n",
       "    <tr>\n",
       "      <th rowspan=\"4\" valign=\"top\">2019</th>\n",
       "      <th>2</th>\n",
       "      <td>1119.92</td>\n",
       "    </tr>\n",
       "    <tr>\n",
       "      <th>3</th>\n",
       "      <td>1173.31</td>\n",
       "    </tr>\n",
       "    <tr>\n",
       "      <th>4</th>\n",
       "      <td>1188.48</td>\n",
       "    </tr>\n",
       "    <tr>\n",
       "      <th>5</th>\n",
       "      <td>1132.03</td>\n",
       "    </tr>\n",
       "  </tbody>\n",
       "</table>\n",
       "</div>"
      ],
      "text/plain": [
       "             Close\n",
       "Date Date         \n",
       "2019 2     1119.92\n",
       "     3     1173.31\n",
       "     4     1188.48\n",
       "     5     1132.03"
      ]
     },
     "execution_count": 9,
     "metadata": {},
     "output_type": "execute_result"
    }
   ],
   "source": [
    "#Group by year and month\n",
    "# Set multi-index by grouping\n",
    "goog_grp = goog_df.groupby([goog_df.index.year, goog_df.index.month]).first()\n",
    "goog_grp.head()"
   ]
  },
  {
   "cell_type": "code",
   "execution_count": 10,
   "id": "6b10aec6-2470-49d4-b3d8-ab6a8fb4be7d",
   "metadata": {},
   "outputs": [
    {
     "data": {
      "text/plain": [
       "Close    1132.03\n",
       "Name: (2019, 5), dtype: float64"
      ]
     },
     "execution_count": 10,
     "metadata": {},
     "output_type": "execute_result"
    }
   ],
   "source": [
    "# Select GOOG Close for May 2019\n",
    "goog_may2019 = goog_grp.loc[2019, 5]\n",
    "goog_may2019"
   ]
  },
  {
   "cell_type": "code",
   "execution_count": 14,
   "id": "d4e28174-ff5f-4332-871d-ed3112cbe44f",
   "metadata": {},
   "outputs": [
    {
     "data": {
      "text/plain": [
       "Close    1153.435\n",
       "dtype: float64"
      ]
     },
     "execution_count": 14,
     "metadata": {},
     "output_type": "execute_result"
    }
   ],
   "source": [
    "#Calculate mean Close Price of GOOG for 2019\n",
    "goog_2019avg = goog_grp.loc[2019].mean()\n",
    "goog_2019avg"
   ]
  },
  {
   "cell_type": "code",
   "execution_count": null,
   "id": "0753d967-db99-4563-b5bd-117fc9434e9c",
   "metadata": {},
   "outputs": [],
   "source": []
  }
 ],
 "metadata": {
  "kernelspec": {
   "display_name": "Python 3 (ipykernel)",
   "language": "python",
   "name": "python3"
  },
  "language_info": {
   "codemirror_mode": {
    "name": "ipython",
    "version": 3
   },
   "file_extension": ".py",
   "mimetype": "text/x-python",
   "name": "python",
   "nbconvert_exporter": "python",
   "pygments_lexer": "ipython3",
   "version": "3.7.13"
  }
 },
 "nbformat": 4,
 "nbformat_minor": 5
}
