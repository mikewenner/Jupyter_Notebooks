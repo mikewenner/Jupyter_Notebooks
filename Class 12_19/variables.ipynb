{
 "cells": [
  {
   "cell_type": "code",
   "execution_count": 6,
   "id": "1a8974f0-ee19-4d50-bc0b-5ed9639a2e42",
   "metadata": {},
   "outputs": [
    {
     "name": "stdout",
     "output_type": "stream",
     "text": [
      "Apple's original stock price was $198.87\n",
      "Apples current stock price is $254.32\n",
      "Apples current percent increase is 27.882536330265996%\n"
     ]
    }
   ],
   "source": [
    "# Percent Increase Bonus Activity\n",
    "\n",
    "# Formulas\n",
    "# Increase = Current Price - Original Price\n",
    "# Percent Increase = Increase / Original x 100\n",
    "\n",
    "# Create float variable for original_price\n",
    "original_price = 198.87\n",
    "\n",
    "# Create float variable for current_price\n",
    "current_price = 254.32\n",
    "\n",
    "# Calculate difference between current_price and original_price\n",
    "difference = current_price - original_price\n",
    "\n",
    "# Calculate percent_increase\n",
    "percent_increase = difference / original_price * 100\n",
    "\n",
    "# Print original_price\n",
    "print(f\"Apple's original stock price was ${original_price}\")\n",
    "\n",
    "# Print current_price\n",
    "print(f\"Apples current stock price is ${current_price}\")\n",
    "\n",
    "# Print percent_increase\n",
    "print(f\"Apples current percent increase is {percent_increase}%\")"
   ]
  },
  {
   "cell_type": "code",
   "execution_count": 8,
   "id": "100ff955-ae8d-4d7f-a4e0-f3d5649a18ef",
   "metadata": {},
   "outputs": [
    {
     "name": "stdout",
     "output_type": "stream",
     "text": [
      "Apples current percent increase is 27.88%\n"
     ]
    }
   ],
   "source": [
    "# Print percent_increase to 2 decimal places using string formatting\n",
    "print(f\"Apples current percent increase is {percent_increase:.2f}%\")"
   ]
  },
  {
   "cell_type": "code",
   "execution_count": null,
   "id": "feb0593b-1b58-4543-be83-a469b646814c",
   "metadata": {},
   "outputs": [],
   "source": []
  }
 ],
 "metadata": {
  "kernelspec": {
   "display_name": "Python 3 (ipykernel)",
   "language": "python",
   "name": "python3"
  },
  "language_info": {
   "codemirror_mode": {
    "name": "ipython",
    "version": 3
   },
   "file_extension": ".py",
   "mimetype": "text/x-python",
   "name": "python",
   "nbconvert_exporter": "python",
   "pygments_lexer": "ipython3",
   "version": "3.7.13"
  }
 },
 "nbformat": 4,
 "nbformat_minor": 5
}
