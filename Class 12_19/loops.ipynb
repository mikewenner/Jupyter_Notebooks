{
 "cells": [
  {
   "cell_type": "code",
   "execution_count": 8,
   "id": "b06b8b17-10d4-4dba-9c73-ec953aa5aa22",
   "metadata": {},
   "outputs": [
    {
     "name": "stdout",
     "output_type": "stream",
     "text": [
      "give me a: p !\n",
      "give me a: y !\n",
      "give me a: t !\n",
      "give me a: h !\n",
      "give me a: o !\n",
      "give me a: n !\n",
      "\n",
      "What does that spell?!\n",
      "python!\n",
      "Woohoo! Go python!\n",
      "*\\O/**\\O/**\\O/*\n",
      "ヘ( ^o^)ノ＼(^_^ )\n"
     ]
    }
   ],
   "source": [
    "# Create a variable named cheer and give it a word to cheer (i.e. Python or FinTech)\n",
    "\n",
    "cheer = \"python\"\n",
    "\n",
    "# Below strings can be used to add fun\n",
    "cheer_symbol = \"*\\O/*\"\n",
    "cheer_symbol_2 = \"ヘ( ^o^)ノ＼(^_^ )\"\n",
    "\n",
    "# Loop through string and print each letter with a cheer\n",
    "for letter in cheer:\n",
    "    print (\"give me a:\", letter, \"!\")\n",
    "\n",
    "\n",
    "# Print excitement to screen\n",
    "print(\"\\nWhat does that spell?!\")\n",
    "print(cheer + \"!\\nWoohoo! Go \" + cheer + \"!\")\n",
    "print(cheer_symbol * 3)\n",
    "print(cheer_symbol_2)"
   ]
  },
  {
   "cell_type": "code",
   "execution_count": null,
   "id": "5109b7d8-4406-4ad1-a77d-1a260934ebec",
   "metadata": {},
   "outputs": [],
   "source": []
  }
 ],
 "metadata": {
  "kernelspec": {
   "display_name": "Python 3 (ipykernel)",
   "language": "python",
   "name": "python3"
  },
  "language_info": {
   "codemirror_mode": {
    "name": "ipython",
    "version": 3
   },
   "file_extension": ".py",
   "mimetype": "text/x-python",
   "name": "python",
   "nbconvert_exporter": "python",
   "pygments_lexer": "ipython3",
   "version": "3.7.13"
  }
 },
 "nbformat": 4,
 "nbformat_minor": 5
}
